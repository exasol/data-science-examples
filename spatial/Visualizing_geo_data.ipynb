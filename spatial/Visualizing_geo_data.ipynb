{
 "cells": [
  {
   "cell_type": "markdown",
   "metadata": {},
   "source": [
    "# Spatial demo with Jupyter Notebook and Exasol"
   ]
  },
  {
   "cell_type": "markdown",
   "metadata": {},
   "source": [
    "### Prerequsities"
   ]
  },
  {
   "cell_type": "markdown",
   "metadata": {},
   "source": [
    "Installing all python libraries required for this demo"
   ]
  },
  {
   "cell_type": "code",
   "execution_count": null,
   "metadata": {
    "hide_input": false
   },
   "outputs": [],
   "source": [
    "from IPython import get_ipython\n",
    "if get_ipython() is None:\n",
    "    from IPython.core.interactiveshell import InteractiveShell\n",
    "    InteractiveShell.instance()\n",
    "!pip install ipython-sql sqlalchemy-exasol folium pandas geojson requests jupyter_contrib_nbextensions geopy"
   ]
  },
  {
   "cell_type": "markdown",
   "metadata": {},
   "source": [
    "Importing all required installed libraries to Jupyter Notebook"
   ]
  },
  {
   "cell_type": "code",
   "execution_count": 1,
   "metadata": {
    "hide_input": false
   },
   "outputs": [],
   "source": [
    "import folium\n",
    "import pandas as pd\n",
    "import os\n",
    "import geojson\n",
    "import warnings\n",
    "import requests as r\n",
    "import json\n",
    "import geopy.geocoders\n",
    "from geopy.geocoders import Nominatim\n",
    "warnings.filterwarnings('ignore')"
   ]
  },
  {
   "cell_type": "markdown",
   "metadata": {},
   "source": [
    "Load Jupyter magic functions"
   ]
  },
  {
   "cell_type": "code",
   "execution_count": 2,
   "metadata": {
    "hide_input": false
   },
   "outputs": [],
   "source": [
    "%reload_ext sql"
   ]
  },
  {
   "cell_type": "markdown",
   "metadata": {},
   "source": [
    "Enter user credentials"
   ]
  },
  {
   "cell_type": "code",
   "execution_count": 5,
   "metadata": {},
   "outputs": [],
   "source": [
    "EXA_USER = \"\"\n",
    "EXA_PWD = \"\"\n",
    "DSN = \"exadb\""
   ]
  },
  {
   "cell_type": "markdown",
   "metadata": {},
   "source": [
    "Connect to DSN"
   ]
  },
  {
   "cell_type": "code",
   "execution_count": 6,
   "metadata": {},
   "outputs": [
    {
     "data": {
      "text/plain": [
       "'Connected: @None'"
      ]
     },
     "execution_count": 6,
     "metadata": {},
     "output_type": "execute_result"
    }
   ],
   "source": [
    "%sql exa+pyodbc://{EXA_USER}:{EXA_PWD}@{DSN}"
   ]
  },
  {
   "cell_type": "markdown",
   "metadata": {},
   "source": [
    "Set query cache off"
   ]
  },
  {
   "cell_type": "code",
   "execution_count": null,
   "metadata": {},
   "outputs": [],
   "source": [
    "%sql alter session set query_cache='off';"
   ]
  },
  {
   "cell_type": "markdown",
   "metadata": {},
   "source": [
    "### Datasets"
   ]
  },
  {
   "cell_type": "markdown",
   "metadata": {},
   "source": [
    "#### Open schema NYC_UBER"
   ]
  },
  {
   "cell_type": "code",
   "execution_count": null,
   "metadata": {},
   "outputs": [],
   "source": [
    "%sql open schema NYC_UBER"
   ]
  },
  {
   "cell_type": "markdown",
   "metadata": {},
   "source": [
    "Overview of UBER_TAXI_DATA table"
   ]
  },
  {
   "cell_type": "code",
   "execution_count": null,
   "metadata": {},
   "outputs": [],
   "source": [
    "%sql describe NYC_UBER.UBER_TAXI_DATA"
   ]
  },
  {
   "cell_type": "markdown",
   "metadata": {},
   "source": [
    "Count of uber pickup records in UBER_TAXI_DATA table"
   ]
  },
  {
   "cell_type": "code",
   "execution_count": null,
   "metadata": {},
   "outputs": [],
   "source": [
    "%sql select count(*) from NYC_UBER.UBER_TAXI_DATA"
   ]
  },
  {
   "cell_type": "markdown",
   "metadata": {},
   "source": [
    "Date and time range of uber pickups "
   ]
  },
  {
   "cell_type": "code",
   "execution_count": 7,
   "metadata": {
    "hide_input": false
   },
   "outputs": [
    {
     "name": "stdout",
     "output_type": "stream",
     "text": [
      "1 rows affected.\n"
     ]
    },
    {
     "data": {
      "text/html": [
       "<table>\n",
       "    <tr>\n",
       "        <th>start_date</th>\n",
       "        <th>end_date</th>\n",
       "    </tr>\n",
       "    <tr>\n",
       "        <td>2014-04-01 00:00:00</td>\n",
       "        <td>2014-09-30 22:59:00</td>\n",
       "    </tr>\n",
       "</table>"
      ],
      "text/plain": [
       "[(datetime.datetime(2014, 4, 1, 0, 0), datetime.datetime(2014, 9, 30, 22, 59))]"
      ]
     },
     "execution_count": 7,
     "metadata": {},
     "output_type": "execute_result"
    }
   ],
   "source": [
    "%sql select min(DATETIME) as START_DATE,max(DATETIME) as END_DATE from NYC_UBER.UBER_TAXI_DATA"
   ]
  },
  {
   "cell_type": "markdown",
   "metadata": {},
   "source": [
    "#### Open schema NYC_TAXI"
   ]
  },
  {
   "cell_type": "code",
   "execution_count": null,
   "metadata": {},
   "outputs": [],
   "source": [
    "%sql open schema NYC_TAXI"
   ]
  },
  {
   "cell_type": "markdown",
   "metadata": {},
   "source": [
    "Overview of TRIPS table"
   ]
  },
  {
   "cell_type": "code",
   "execution_count": null,
   "metadata": {},
   "outputs": [],
   "source": [
    "%sql describe NYC_TAXI.TRIPS"
   ]
  },
  {
   "cell_type": "markdown",
   "metadata": {},
   "source": [
    "Count of yellow taxi pickups records in TRIPS table"
   ]
  },
  {
   "cell_type": "code",
   "execution_count": null,
   "metadata": {},
   "outputs": [],
   "source": [
    "%sql select count(*) from NYC_TAXI.TRIPS where CAB_TYPE_ID=1"
   ]
  },
  {
   "cell_type": "markdown",
   "metadata": {},
   "source": [
    "Date and time range of New York City yellow taxi pickups "
   ]
  },
  {
   "cell_type": "code",
   "execution_count": 8,
   "metadata": {
    "hide_input": false
   },
   "outputs": [
    {
     "name": "stdout",
     "output_type": "stream",
     "text": [
      "1 rows affected.\n"
     ]
    },
    {
     "data": {
      "text/html": [
       "<table>\n",
       "    <tr>\n",
       "        <th>start_date</th>\n",
       "        <th>end_date</th>\n",
       "    </tr>\n",
       "    <tr>\n",
       "        <td>2009-01-01 00:00:00</td>\n",
       "        <td>2017-06-30 23:59:59</td>\n",
       "    </tr>\n",
       "</table>"
      ],
      "text/plain": [
       "[(datetime.datetime(2009, 1, 1, 0, 0), datetime.datetime(2017, 6, 30, 23, 59, 59))]"
      ]
     },
     "execution_count": 8,
     "metadata": {},
     "output_type": "execute_result"
    }
   ],
   "source": [
    "%sql select min(PICKUP_DATETIME) as START_DATE,max(PICKUP_DATETIME) as END_DATE from NYC_TAXI.TRIPS"
   ]
  },
  {
   "cell_type": "markdown",
   "metadata": {},
   "source": [
    "## Use Cases\n"
   ]
  },
  {
   "cell_type": "markdown",
   "metadata": {},
   "source": [
    "### Uber pickups grouped by  New York City  boroughs"
   ]
  },
  {
   "cell_type": "markdown",
   "metadata": {},
   "source": [
    "In the first use case, we use `DISJUNCT_NIGHBORHOODS` and `UBER_TAXI_DATA` tables from `NYC_UBER` schema to visualize uber pickups grouped by boroughs. The geometry column in `DISJUNCT_NEIGHBORHOODS` table contains polygons for boroughs while the geometry column in `UBER_TAXI_DATA` table from `NYC_UBER` schema contains pickup points  "
   ]
  },
  {
   "cell_type": "markdown",
   "metadata": {},
   "source": [
    "Geometry column of type `Polygon` in `DISJUNCT_NEIGHBORHOODS`table "
   ]
  },
  {
   "cell_type": "code",
   "execution_count": null,
   "metadata": {
    "hide_input": false,
    "scrolled": false
   },
   "outputs": [],
   "source": [
    "%sql select THE_GEOM from NYC_UBER.DISJUNCT_NEIGHBORHOODS limit 1"
   ]
  },
  {
   "cell_type": "markdown",
   "metadata": {},
   "source": [
    "Geometry column of type `POINT` in `UBER_TAXI_DATA` table"
   ]
  },
  {
   "cell_type": "code",
   "execution_count": null,
   "metadata": {},
   "outputs": [],
   "source": [
    "%sql select THE_GEOM from NYC_UBER.UBER_TAXI_DATA limit 1"
   ]
  },
  {
   "cell_type": "markdown",
   "metadata": {},
   "source": [
    "Exasol automatically creates indices for equality join conditions, even when expressions are used for comparison.\n",
    "Exasol 6.1 introduced indices on geospatial data types for joins using geospatial functions like ST_CONTAINS or ST_INTERSECTS. In this use case we use `ST_CONTAINS` function to join table `DISJUNCT_NEIGHBORHOODS` with `UBER_TAXI_DATA` on geometry columns grouped by New York City boroughs "
   ]
  },
  {
   "cell_type": "markdown",
   "metadata": {},
   "source": [
    "`%%time` is a cell magic function used here to calculate query execution time. `Wall time` gives the total of query runtime and cell rendering time (negligible)"
   ]
  },
  {
   "cell_type": "code",
   "execution_count": 9,
   "metadata": {},
   "outputs": [
    {
     "name": "stdout",
     "output_type": "stream",
     "text": [
      "5 rows affected.\n",
      "Wall time: 56.7 ms\n"
     ]
    },
    {
     "data": {
      "text/html": [
       "<table>\n",
       "    <tr>\n",
       "        <th>borough_id</th>\n",
       "        <th>pickups</th>\n",
       "    </tr>\n",
       "    <tr>\n",
       "        <td>Manhattan</td>\n",
       "        <td>3443402</td>\n",
       "    </tr>\n",
       "    <tr>\n",
       "        <td>Brooklyn</td>\n",
       "        <td>593648</td>\n",
       "    </tr>\n",
       "    <tr>\n",
       "        <td>Queens</td>\n",
       "        <td>342186</td>\n",
       "    </tr>\n",
       "    <tr>\n",
       "        <td>Bronx</td>\n",
       "        <td>31589</td>\n",
       "    </tr>\n",
       "    <tr>\n",
       "        <td>Staten Island</td>\n",
       "        <td>1034</td>\n",
       "    </tr>\n",
       "</table>"
      ],
      "text/plain": [
       "[('Manhattan', 3443402),\n",
       " ('Brooklyn', 593648),\n",
       " ('Queens', 342186),\n",
       " ('Bronx', 31589),\n",
       " ('Staten Island', 1034)]"
      ]
     },
     "execution_count": 9,
     "metadata": {},
     "output_type": "execute_result"
    }
   ],
   "source": [
    "%%time\n",
    "%sql select borough_id, count(*) as pickups FROM NYC_UBER.DISJUNCT_NEIGHBORHOODS n INNER JOIN NYC_UBER.UBER_TAXI_DATA t ON ST_CONTAINS(n.THE_GEOM, t.THE_GEOM) group by borough_id order by pickups desc"
   ]
  },
  {
   "cell_type": "markdown",
   "metadata": {},
   "source": [
    "Visualizing geospatial data of uber pickups grouped by  New York City  boroughs "
   ]
  },
  {
   "cell_type": "code",
   "execution_count": null,
   "metadata": {
    "hide_input": true,
    "scrolled": false
   },
   "outputs": [],
   "source": [
    "#--- to be removed if direct links to http://data.beta.nyc works again---#\n",
    "\n",
    "nyc_boroughs = 'geojsonfiles/nycboroughboundaries.geojson'\n",
    "\n",
    "#nyc_boroughs = \"http://data.beta.nyc//dataset/68c0332f-c3bb-4a78-a0c1-32af515892d6/resource/7c164faa-4458-4ff2-9ef0-09db00b509ef/download/42c737fd496f4d6683bba25fb0e86e1dnycboroughboundaries.geojson\"\n",
    "\n",
    "borough_pickups_sql = %sql select borough_id, count(*) as pickups FROM NYC_UBER.DISJUNCT_NEIGHBORHOODS n INNER JOIN NYC_UBER.UBER_TAXI_DATA t ON ST_CONTAINS(n.THE_GEOM, t.THE_GEOM) group by borough_id order by pickups desc\n",
    "borough_pickups_df = borough_pickups_sql.DataFrame()\n",
    "\n",
    "#base map\n",
    "m1 = folium.Map([40.7586,-73.9706], zoom_start=10)\n",
    "\n",
    "# Choropleth:\n",
    "# geo_data: data of borough polygons\n",
    "# Columns: 1st column is key (Borough) and 2nd column is value(total number of pickups)\n",
    "# Key_on: Variable in the GeoJSON file to bind the data to\n",
    "# bins = width between values\n",
    "choropleth  = folium.Choropleth(geo_data=nyc_boroughs,name = 'choropleth', data = borough_pickups_df, columns = ['borough_id','pickups'],key_on='feature.properties.borough', fill_color='YlGnBu',bins=[1,100,300000,500000,600000,3500000],fill_opacity = 0.5,nan_fill_color='yellow' ,legend_name='Number of pickups', highlight=True).add_to(m1)\n",
    "\n",
    "#hover over to view tooltip with borough name \n",
    "choropleth.geojson.add_child(\n",
    "    folium.features.GeoJsonTooltip(['borough'])\n",
    ")\n",
    "\n",
    "# We can also export this interactive map to results/...html file\n",
    "#m.save(os.path.join('results', 'GeoJSONWithoutTitles_2.html'))\n",
    "\n",
    "# display map \n",
    "display(m1)"
   ]
  },
  {
   "cell_type": "markdown",
   "metadata": {
    "hide_input": true
   },
   "source": [
    "### Uber pickups grouped by New York City Neighborhoods"
   ]
  },
  {
   "cell_type": "markdown",
   "metadata": {
    "hide_input": false
   },
   "source": [
    "In the second use case, we use `DISJUNCT_NIGHBORHOODS` and `UBER_TAXI_DATA` tables from `NYC_UBER` schema to visualize uber pickups grouped by neighborhoods. The geometry column in `DISJUNCT_NEIGHBORHOODS` table contains polygons for neighborhoods while the geometry column in `UBER_TAXI_DATA` table from `NYC_UBER` schema contains pickup points  "
   ]
  },
  {
   "cell_type": "markdown",
   "metadata": {},
   "source": [
    "Similar to the previous use case, we join neighborhood polygons with uber pickup points using `ST_CONTAINS` function to count total uber pickups grouped by New York City neighborhoods"
   ]
  },
  {
   "cell_type": "code",
   "execution_count": null,
   "metadata": {
    "hide_input": false,
    "scrolled": false
   },
   "outputs": [],
   "source": [
    "%%time\n",
    "%sql select neighborhood,count(*) as pickups FROM NYC_UBER.DISJUNCT_NEIGHBORHOODS n INNER JOIN NYC_UBER.UBER_TAXI_DATA t ON ST_CONTAINS(n.THE_GEOM, t.THE_GEOM) group by neighborhood order by pickups desc limit 10"
   ]
  },
  {
   "cell_type": "markdown",
   "metadata": {},
   "source": [
    "Visualizing geospatial data of uber pickups grouped by New York City neighborhoods"
   ]
  },
  {
   "cell_type": "code",
   "execution_count": null,
   "metadata": {
    "hide_input": true,
    "scrolled": false
   },
   "outputs": [],
   "source": [
    "#--- to be removed if direct links to data.beta.nyc works ---#\n",
    "\n",
    "nyc_neighborhoods = 'geojsonfiles/nycneighborhoods.geojson'\n",
    "\n",
    "#nyc_neighborhoods = \"http://data.beta.nyc//dataset/0ff93d2d-90ba-457c-9f7e-39e47bf2ac5f/resource/35dd04fb-81b3-479b-a074-a27a37888ce7/download/d085e2f8d0b54d4590b1e7d1f35594c1pediacitiesnycneighborhoods.geojson\"\n",
    "neighborhood_pickups_sql = %sql select neighborhood,count(*) as pickups FROM NYC_UBER.DISJUNCT_NEIGHBORHOODS n INNER JOIN NYC_UBER.UBER_TAXI_DATA t ON ST_CONTAINS(n.THE_GEOM, t.THE_GEOM) group by neighborhood order by pickups desc \n",
    "neighborhood_pickups_df = neighborhood_pickups_sql.DataFrame()\n",
    "\n",
    "#base map\n",
    "m2 = folium.Map([40.7586,-73.9706], zoom_start=10)\n",
    "\n",
    "# Choropleth:\n",
    "# geo_data: data of borough polygons\n",
    "# Columns: 1st column is key (Neighborhood) and 2nd column is value(total number of pickups). \n",
    "# Key_on: Variable in the GeoJSON file to bind the data to\n",
    "# bins = width between values\n",
    "# nan_fill_colors= yellow for neighborhoods with no pickup data\n",
    "# For a detailed reference see https://python-visualization.github.io/folium/modules.html#Extra_Features\n",
    "\n",
    "choropleth  = folium.Choropleth(geo_data=nyc_neighborhoods,name = 'choropleth', data = neighborhood_pickups_df, columns = ['neighborhood','pickups'],key_on='feature.properties.neighborhood', fill_color='YlOrRd',fill_opacity = 0.5, legend_name='Number of pickups',nan_fill_color='yellow',nan_fill_opacity=0.4,bins=[1,560,114694,181979,349255,666970],highlight=True).add_to(m2)\n",
    "\n",
    "choropleth.geojson.add_child(\n",
    "    folium.features.GeoJsonTooltip(['neighborhood'])\n",
    ")\n",
    "\n",
    "\n",
    "# We can also export this interactive map to results/...html file\n",
    "#m.save(os.path.join('results', 'GeoJSONWithoutTitles_2.html'))\n",
    "\n",
    "# display map with choropleth\n",
    "display(m2)"
   ]
  },
  {
   "cell_type": "markdown",
   "metadata": {
    "hide_input": true
   },
   "source": [
    "### New York City Streets with highest Uber pickups"
   ]
  },
  {
   "cell_type": "markdown",
   "metadata": {},
   "source": [
    "In this use case, we use NYC street data and NYC Uber pickup data to visualize top streets according to number of pickups. Lets have a look at `STREETS` table from `NYC_UBER` schema. `PHYSICALID`, `THE_GEOM` and `ST_NAME` are columns used for this demo"
   ]
  },
  {
   "cell_type": "code",
   "execution_count": null,
   "metadata": {},
   "outputs": [],
   "source": [
    "%sql describe NYC_UBER.STREETS"
   ]
  },
  {
   "cell_type": "markdown",
   "metadata": {},
   "source": [
    "Before querying for New York City streets with highest Uber pickups, we create a view from `STREETS` table and transform the geometry column from a spherical coordinate system(SRID:4326) to a Mercator cordinate system(SRID:3857) using `ST_TRANSFORM` function. The transformation from 4326 WGS84 (spherical coordinates) to 3857 (Google) Mercator has the advantage that for Mercator, distance is measured in meters (in contrast to 4326 where distance is measured in degrees).  Mercator is used by most of the map services including OpenStreetMap (used in this demo). After transformation a buffer of 50 meters is added around the street geometry column using `ST_BUFFER` function to account for positioning inaccuracy. A snapshot of `STREETS_TRANSFORMED` view:"
   ]
  },
  {
   "cell_type": "markdown",
   "metadata": {
    "hide_input": false
   },
   "source": [
    "``` mysql\n",
    "CREATE OR REPLACE VIEW \"NYC_UBER\".\"STREETS_TRANSFORMED\" as select\n",
    "...\n",
    "ST_BUFFER(ST_TRANSFORM(THE_GEOM, 3857),50) as THE_GEOM,\n",
    "...\n",
    "from NYC_UBER.STREETS;\n",
    "```"
   ]
  },
  {
   "cell_type": "markdown",
   "metadata": {},
   "source": [
    "Similary the geometry column from `UBER_TAXI_DATA` is transformed to Mercator using `ST_TRANSFORM` function. A snapshot of the transformed `UBER_TAXI_DATA_TRANSFORMED` view: "
   ]
  },
  {
   "cell_type": "markdown",
   "metadata": {},
   "source": [
    "``` mysql\n",
    "CREATE OR REPLACE VIEW \"NYC_UBER\".\"UBER_TAXI_DATA_TRANSFORMED\"\n",
    "...\n",
    "as select DATETIME,LAT,LON, BASE, ST_TRANSFORM(the_geom,3857) as the_geom \n",
    "...\n",
    "from UBER_TAXI_DATA;\n",
    "```\n"
   ]
  },
  {
   "cell_type": "markdown",
   "metadata": {},
   "source": [
    "Select the number of streets with highest pickups to view on map"
   ]
  },
  {
   "cell_type": "code",
   "execution_count": null,
   "metadata": {},
   "outputs": [],
   "source": [
    "NumberOfStreets = 5"
   ]
  },
  {
   "cell_type": "markdown",
   "metadata": {},
   "source": [
    "EXASOL query joins the views based on the geometry columns using `ST_CONTAINS`"
   ]
  },
  {
   "cell_type": "code",
   "execution_count": null,
   "metadata": {
    "scrolled": false
   },
   "outputs": [],
   "source": [
    "%%time\n",
    "%sql select s.full_stree as street_name,count(*) as pickups from (select * from \"NYC_UBER\".\"STREETS_TRANSFORMED\" order by false) s INNER JOIN (select * from \"NYC_UBER\".\"UBER_TAXI_DATA_TRANSFORMED\" order by false) t ON ST_CONTAINS(s.the_geom,t.the_geom) group by s.full_stree order by pickups desc limit $NumberOfStreets"
   ]
  },
  {
   "cell_type": "markdown",
   "metadata": {},
   "source": [
    "Visualizing geospatial data of uber pickups grouped by New York City streets"
   ]
  },
  {
   "cell_type": "code",
   "execution_count": null,
   "metadata": {
    "hide_input": true,
    "scrolled": false
   },
   "outputs": [],
   "source": [
    "#---- to be removed it API call gets fixed: atm returns only 1000 rows -----#\n",
    "\n",
    "#data = open('C:/Users/smha/GeoSpatialViz/geojsonfiles/nyc_street_data.geojson','r')\n",
    "#jsondata = json.loads(data)\n",
    "path = 'geojsonfiles/nyc_street_data.geojson'\n",
    "with open(path) as f:\n",
    "    data = geojson.load(f)\n",
    "features = data['features'][0]\n",
    "\n",
    "#---------------------------------------------------------------------------#\n",
    "#---------------  Instead use API call to data endpoint --------------------#\n",
    "\n",
    "# url = 'https://data.cityofnewyork.us/resource/gr6w-nsbv.json'\n",
    "\n",
    "# # get json street data by from NYC city data API\n",
    "# req = r.get('https://data.cityofnewyork.us/resource/gr6w-nsbv.json')\n",
    "# jsondata = json.loads(req.text)\n",
    "\n",
    "\n",
    "# # convert json to geojson for folium choropleth\n",
    "# GeoJSON = []\n",
    "# for i in range(0,len(jsondata)-1):\n",
    "#    GeoJSON.append(\n",
    "#    {\n",
    "#          \"type\": \"Feature\", \n",
    "#          \"properties\":\n",
    "#              {\n",
    "#              \"physicalid\": jsondata[i][\"physicalid\"],\n",
    "#              \"full_stree\": jsondata[i][\"full_stree\"],\n",
    "#              },\n",
    "#           \"geometry\": jsondata[i]['the_geom'],\n",
    "#    } )\n",
    "    \n",
    "# GeoJSON[0]\n",
    "# data= {\"type\": \"FeatureCollection\",\"features\": GeoJSON }\n",
    "\n",
    "#top street SQL inline magic + EXASOL query\n",
    "top5streets_sql = %sql select s.full_stree,count(*) as pickups from (select * from \"NYC_UBER\".\"STREETS_TRANSFORMED\" order by false) s INNER JOIN (select * from \"NYC_UBER\".\"UBER_TAXI_DATA_TRANSFORMED\" order by false) t ON ST_CONTAINS(s.the_geom,t.the_geom) group by s.full_stree order by pickups desc limit $NumberOfStreets\n",
    "top5streets_df = top5streets_sql.DataFrame()\n",
    "\n",
    "# taking top x 'physicalid's as a type string\n",
    "top5streets_df['full_stree'] = top5streets_df.full_stree.astype(str)\n",
    "\n",
    "# save column 'physicalid' from top street dataframe for the next steps\n",
    "dfList = list(top5streets_df['full_stree'])\n",
    "\n",
    "# match full street column names with street names from json and save correspoding cordinates to a list  \n",
    "l = list()    \n",
    "for i in range(0,len(data['features'])-1):  \n",
    "  if data['features'][i]['properties']['full_stree'] in dfList:  \n",
    "     l.append(data['features'][i])\n",
    "     \n",
    "\n",
    "# create a new dataframe with only the selected street geometry points\n",
    "data['features'] = l\n",
    "streetdata = json.dumps(data)\n",
    "#base map\n",
    "\n",
    "m3 = folium.Map([40.7586,-73.9706], zoom_start=12)\n",
    "\n",
    "# Choropleth\n",
    "# geo_data: data of borough polygons\n",
    "# Key_on: Variable in the GeoJSON file to bind the data to\n",
    "# bins = width bins between values\n",
    "# For a detailed reference see https://python-visualization.github.io/folium/modules.html#Extra_Features\n",
    "\n",
    "choropleth = folium.Choropleth(geo_data=streetdata,name = 'choropleth',key_on='feature.properties.full_stree', fill_color='YlGnBu',line_color = 'blue', line_weight= 5 , highlight=True).add_to(m3)\n",
    "\n",
    "choropleth.geojson.add_child(\n",
    "   folium.features.GeoJsonTooltip(['full_stree'])\n",
    ")\n",
    "\n",
    "# We can also export this interactive map to results/...html file\n",
    "# m3.save(os.path.join('results', 'GeoJSONWithoutTitles_5.html'))\n",
    "\n",
    "# display map with choropleth\n",
    "display(m3)"
   ]
  },
  {
   "cell_type": "markdown",
   "metadata": {
    "hide_input": true
   },
   "source": [
    "### Comparison of Taxi and Uber pickups within a certain radius of a location in New York City "
   ]
  },
  {
   "cell_type": "markdown",
   "metadata": {
    "hide_input": true
   },
   "source": [
    "The following use case compares the number of Uber and Yellow Taxi pickups. For this example we have selected `Museum of the City of New York` in Manhattan as a pickup point. We have used geocoding to find the latitude and longitude values of a given location. To visualize geospatial data on map for a different location, change the value of `pos` variable. The value of month can be adjusted to visualize different results. Radius defines the radius around the given lat/long point. For speed purposes its recommended to keep radius value small. "
   ]
  },
  {
   "cell_type": "markdown",
   "metadata": {},
   "source": [
    "Assigning query parameters "
   ]
  },
  {
   "cell_type": "code",
   "execution_count": null,
   "metadata": {},
   "outputs": [],
   "source": [
    "pos = \"Museum of the City of New York\"\n",
    "geolocator = Nominatim()\n",
    "geo = geolocator.geocode(pos, timeout=None) \n",
    "location_latitude = geo.latitude\n",
    "location_longitude = geo.longitude\n",
    "month = 6\n",
    "radius = 100\n",
    "geo_point = f\"\\'POINT({location_longitude} {location_latitude})\\'\""
   ]
  },
  {
   "cell_type": "markdown",
   "metadata": {
    "hide_input": true
   },
   "source": [
    "`ST_SETSRID` geospatial function is used to set the SRID(Spatial reference system identifier) of the given `geo_point`"
   ]
  },
  {
   "cell_type": "markdown",
   "metadata": {},
   "source": [
    "``` mysql\n",
    "st_setsrid($geo_point,4326)\n",
    "```"
   ]
  },
  {
   "cell_type": "markdown",
   "metadata": {},
   "source": [
    "After setting the SRID, the given `geopoint` is transformed to Mercator using `ST_TRANSFORM` function. To count the number of pickups within the radius of the given `geopoint` we use `ST_DISTANCE` function. `ST_DISTANCE` function calculates the distance between two geospatial points. "
   ]
  },
  {
   "cell_type": "markdown",
   "metadata": {},
   "source": [
    "``` mysql\n",
    "st_distance(st_transform(st_setsrid($geo_point,4326),3857),the_geom) < 100\n",
    "```"
   ]
  },
  {
   "cell_type": "markdown",
   "metadata": {},
   "source": [
    "Querying EXASOL to list pickup points for New York City yellow taxi given the above parameters"
   ]
  },
  {
   "cell_type": "code",
   "execution_count": null,
   "metadata": {
    "scrolled": false
   },
   "outputs": [],
   "source": [
    "%%time\n",
    "%sql select pickup_latitude, pickup_longitude from nyc_taxi.trips where id in (select id from nyc_uber.nyc_taxi_with_point where st_distance(st_transform(st_setsrid($geo_point,4326),3857),the_geom) < $radius and year(pickup_date)=2014 and month(pickup_date)=$month) and CAB_TYPE_ID=1 "
   ]
  },
  {
   "cell_type": "markdown",
   "metadata": {},
   "source": [
    "Querying EXASOL to list pickup points for Uber given the above parameters"
   ]
  },
  {
   "cell_type": "code",
   "execution_count": null,
   "metadata": {},
   "outputs": [],
   "source": [
    "%%time\n",
    "%sql select lat,lon from nyc_uber.uber_taxi_data_transformed where st_distance(st_transform(st_setsrid($geo_point,4326),3857),the_geom) < $radius and year(datetime)=2014 and month(datetime)=$month"
   ]
  },
  {
   "cell_type": "markdown",
   "metadata": {
    "hide_input": false
   },
   "source": [
    "Visualizing geospatial data comparing Taxi and Uber pickups within a certain radius of a location in New York City"
   ]
  },
  {
   "cell_type": "code",
   "execution_count": null,
   "metadata": {
    "hide_input": true
   },
   "outputs": [],
   "source": [
    "nyc_jfk = %sql select pickup_latitude, pickup_longitude from nyc_taxi.trips where id in (select id from nyc_uber.nyc_taxi_with_point where st_distance(st_transform(st_setsrid($geo_point,4326),3857),the_geom) < $radius and year(pickup_date)=2014 and month(pickup_date)=$month)\n",
    "taxi_df = nyc_jfk.DataFrame()\n",
    "\n",
    "uber_JFK = %sql select * from nyc_uber.uber_taxi_data_transformed where st_distance(st_transform(st_setsrid($geo_point,4326),3857),the_geom) < $radius  and year(datetime)=2014 and month(datetime)=$month\n",
    "uber_df = uber_JFK.DataFrame()\n",
    "\n",
    "#base map\n",
    "emp_m = folium.Map([location_latitude,location_longitude], zoom_start=20)\n",
    "\n",
    "# Add markers to pickup points on the map object \n",
    "for i in range(0,taxi_df.shape[0]-1):\n",
    "    folium.Marker([taxi_df.iloc[i]['pickup_latitude'], taxi_df.iloc[i]['pickup_longitude']],icon=folium.Icon(color='orange', icon='taxi')).add_to(emp_m)\n",
    "for i in range(0,uber_df.shape[0]-1):\n",
    "    folium.Marker([uber_df.iloc[i]['lat'], uber_df.iloc[i]['lon']]).add_to(emp_m)  \n",
    "\n",
    "display(emp_m)"
   ]
  }
 ],
 "metadata": {
  "kernelspec": {
   "display_name": "Python 3",
   "language": "python",
   "name": "python3"
  },
  "language_info": {
   "codemirror_mode": {
    "name": "ipython",
    "version": 3
   },
   "file_extension": ".py",
   "mimetype": "text/x-python",
   "name": "python",
   "nbconvert_exporter": "python",
   "pygments_lexer": "ipython3",
   "version": "3.6.7"
  }
 },
 "nbformat": 4,
 "nbformat_minor": 2
}
