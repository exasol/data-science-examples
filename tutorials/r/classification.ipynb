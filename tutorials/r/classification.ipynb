{
 "cells": [
  {
   "cell_type": "markdown",
   "metadata": {},
   "source": [
    "Machine Learning Classification Example Using Exasol and R\n",
    "================\n",
    "\n",
    "-   [Train locally, predict in Exasol](#train-locally-predict-in-exasol)\n",
    "    -   [Send model to BucketFS](#send-model-to-bucketfs)\n",
    "    -   [Send data to Exasol](#send-data-to-exasol)\n",
    "    -   [Make prediction using UDF](#make-prediction-using-udf)\n",
    "-   [Train and predict in Exasol](#train-and-predict-in-exasol)\n",
    "-   [Bonus: Predict via UDF in SQL](#bonus-predict-via-udf-in-sql)\n",
    "\n",
    "The following demo illustrates how to use R and Exasol, both as standalone tools and combined, to run a machine learning algorithm such as Random Forests (RF) on some data. A central feature is the use of Exasol R package and especially Exasol's user defined functions (UDFs).\n",
    "\n",
    "> UDF scripts provide you with the ability to program your own analyses, processing or generation functions and execute them in parallel inside Exasol's high performance cluster. See [Exasol User Manual](https://www.exasol.com/support/secure/attachment/70209/EXASOL_User_Manual-6.1.0-en.pdf) for more information.\n",
    "\n",
    "UDF scripts play a pivotal role and provide the user with a flexible interface for implementing every requirement by integrating Java, Lua, Python and R language to Exasol native environment. However, Exasol ecosystem is not the only place we can make use of UDFs. Exasol R package also allows for the use of UDFs via `exa.createScript()` function which deploys R code dynamically from any R environment into Exasol database in parallel. See `?exa.createScript` for more information.\n",
    "\n",
    "The typical (supervised) learning process starts with training a model on some sample training data. Then, the trained model can be used to make predictions on separate (unseen) test data. The data in our case consists of housing data from the [Boston Housing](https://archive.ics.uci.edu/ml/machine-learning-databases/housing/) dataset. This will be a regression exercise since the response variable we are trying to predict is a continuous one, the median value of housing `medv`.\n",
    "\n",
    "Requirements:\n",
    "\n",
    "-   [R programming language](https://www.r-project.org/)\n",
    "-   [RStudio](https://www.rstudio.com/)\n",
    "-   [Exasol R package](https://github.com/EXASOL/r-exasol)\n",
    "-   [Exasol Community Edition](https://www.exasol.com/portal/display/DOWNLOAD/Free+Trial)\n",
    "-   SQL development tool\n",
    "-   ODBC and [Exasol ODBC Driver](https://www.exasol.com/portal/display/DOWNLOAD/6.1)\n",
    "-   [BucketFS Explorer](https://github.com/EXASOL/bucketfs-explorer)\n",
    "\n",
    "Conventionally, one would load the data from a local machine into R, RStudio or a Jupyter Server. Then, you would run the analysis by training the model, evaluating and making predictions in such environment. However, we want to make use of Exasol database and this opens up the possibility of two additional scenarios:\n",
    "\n",
    "-   Train locally and make predictions in Exasol\n",
    "-   Train and make predictions in Exasol\n"
   ]
  },
  {
   "cell_type": "markdown",
   "metadata": {},
   "source": [
    "Train locally, predict in Exasol\n",
    "================================\n",
    "\n",
    "First we need to install, load and setup the r-exasol packages."
   ]
  },
  {
   "cell_type": "code",
   "execution_count": 1,
   "metadata": {},
   "outputs": [
    {
     "name": "stderr",
     "output_type": "stream",
     "text": [
      "Updating HTML index of packages in '.Library'\n",
      "Making 'packages.html' ... done\n",
      "Skipping install of 'exasol' from a github remote, the SHA1 (bba5261f) has not changed since last install.\n",
      "  Use `force = TRUE` to force installation\n",
      "Loading required package: DBI\n",
      "EXASOL SDK 5.3.0 loaded.\n"
     ]
    }
   ],
   "source": [
    "# Install devtools if needed\n",
    "install.packages(\"devtools\")\n",
    "\n",
    "# Install package using devtools\n",
    "devtools::install_github(\"EXASOL/r-exasol\")\n",
    "library(exasol)   # Exasol package"
   ]
  },
  {
   "cell_type": "markdown",
   "metadata": {},
   "source": [
    "The setup of exasol defines necessary information for connecting to Exasol and the BucketFS."
   ]
  },
  {
   "cell_type": "code",
   "execution_count": 2,
   "metadata": {},
   "outputs": [],
   "source": [
    "EXASOL_HOST = \"10.10.10.11:8888\"\n",
    "EXASOL_USER = \"sys\"\n",
    "EXASOL_PASSWORD = \"exasol\"\n",
    "EXASOL_BUCKETFS_HOST = \"10.10.10.11:6583\"\n",
    "EXASOL_BUCKETFS_USER = \"w\"\n",
    "EXASOL_BUCKETFS_PASSWORD = \"pw\"\n",
    "EXASOL_BUCKETFS_USE_HTTPS = FALSE\n",
    "EXASOL_BUCKETFS_SERVICE = \"default\"\n",
    "EXASOL_BUCKETFS_BUCKET = \"models\"\n",
    "MODEL_NAME= \"rf_model\"\n",
    "EXASOL_BUCKETFS_URL_PREFIX = if (EXASOL_BUCKETFS_USE_HTTPS) {\"https://\" } else {\"http://\"}\n",
    "EXASOL_BUCKETFS_PROTOCOL <- if(EXASOL_BUCKETFS_USE_HTTPS) \"https\" else \"http\"\n",
    "EXASOL_BUCKETFS_PATH = sprintf(\"/%s/%s\",EXASOL_BUCKETFS_SERVICE,EXASOL_BUCKETFS_BUCKET)\n",
    "UDF_ENV=list(EXASOL_BUCKETFS_PROTOCOL=EXASOL_BUCKETFS_PROTOCOL,\n",
    "             EXASOL_BUCKETFS_HOST=EXASOL_BUCKETFS_HOST,\n",
    "             EXASOL_BUCKETFS_USER=EXASOL_BUCKETFS_USER,\n",
    "             EXASOL_BUCKETFS_PASSWORD=EXASOL_BUCKETFS_PASSWORD,\n",
    "             EXASOL_BUCKETFS_PATH=EXASOL_BUCKETFS_PATH,\n",
    "             MODEL_NAME=MODEL_NAME)"
   ]
  },
  {
   "cell_type": "markdown",
   "metadata": {},
   "source": [
    "After installing the r-exasol package, we need to load all necessary libraries."
   ]
  },
  {
   "cell_type": "code",
   "execution_count": 3,
   "metadata": {},
   "outputs": [
    {
     "name": "stderr",
     "output_type": "stream",
     "text": [
      "randomForest 4.6-14\n",
      "Type rfNews() to see new features/changes/bug fixes.\n",
      "\n",
      "Attaching package: ‘randomForest’\n",
      "\n",
      "The following object is masked from ‘package:ggplot2’:\n",
      "\n",
      "    margin\n",
      "\n",
      "Loading required package: bitops\n"
     ]
    }
   ],
   "source": [
    "# load necassrary libraries for local training\n",
    "library(RODBC)    # ODBC connectivity\n",
    "library(ggplot2)  # Plotting\n",
    "library(randomForest)    # Random forests for regression and classification\n",
    "library(RCurl)           # HTTP communication"
   ]
  },
  {
   "cell_type": "markdown",
   "metadata": {},
   "source": [
    "Next, we start by loading the data in R. The Boston Housing dataset is available through the `mlbench` package. This dataset contains information collected by the U.S Census Service concerning housing in the area of Boston Mass. It was obtained from the StatLib archive (http://lib.stat.cmu.edu/datasets/boston), and has been used extensively throughout the literature to benchmark algorithms. "
   ]
  },
  {
   "cell_type": "code",
   "execution_count": 4,
   "metadata": {},
   "outputs": [
    {
     "name": "stderr",
     "output_type": "stream",
     "text": [
      "Updating HTML index of packages in '.Library'\n",
      "Making 'packages.html' ... done\n"
     ]
    }
   ],
   "source": [
    "install.packages(\"mlbench\")\n",
    "library(mlbench)  # Library containing the Boston Housing dataset"
   ]
  },
  {
   "cell_type": "markdown",
   "metadata": {},
   "source": [
    "After loading the data in our environment we will make a split for training and testing sets. This can be done in many ways but one way is to randomly generate indices that will subset rows from the main set. The ratio of the split is arbitrary and depends on data and application at hand. In this simple case will hold roughly 75% of the data for training and the other 25% for testing purposes."
   ]
  },
  {
   "cell_type": "code",
   "execution_count": 5,
   "metadata": {},
   "outputs": [],
   "source": [
    "# Load data\n",
    "data(\"BostonHousing\")\n",
    "\n",
    "# Generate random indices (75% of the sample size)\n",
    "set.seed(42)\n",
    "indices <- sample(nrow(BostonHousing),size=floor(nrow(BostonHousing) * 0.75))\n",
    "\n",
    "# Add a dummy variable with 2 levels \"Train\" and \"Test\"\n",
    "BostonHousing$split = factor(NA, levels = c(\"Train\", \"Test\"))\n",
    "\n",
    "# Assign predefined rows respectively to \"Train\" and \"Test\" subsets\n",
    "BostonHousing$split[indices]  = \"Train\"\n",
    "BostonHousing$split[-indices] = \"Test\"\n",
    "\n",
    "# Add id variable\n",
    "BostonHousing$id = seq(1:nrow(BostonHousing))"
   ]
  },
  {
   "cell_type": "markdown",
   "metadata": {},
   "source": [
    "Now we can train a basic random forest model on our data and see which variables contribute the most to predicting the median house value."
   ]
  },
  {
   "cell_type": "code",
   "execution_count": 6,
   "metadata": {},
   "outputs": [
    {
     "data": {
      "image/png": "[encoded data removed]",
      "text/plain": [
       "plot without title"
      ]
     },
     "metadata": {},
     "output_type": "display_data"
    }
   ],
   "source": [
    "set.seed(42)\n",
    "# Run model (note that we filter only for the training data (split==\"Train\"))\n",
    "rf_model = randomForest(medv ~ .-split -id,\n",
    "                        data = BostonHousing[BostonHousing$split==\"Train\",],\n",
    "                        importance = TRUE)\n",
    "\n",
    "# See which variables are important in predicting house prices\n",
    "varImpPlot(rf_model)\n",
    "# rm    - number of rooms per house\n",
    "# lstat - % lower status of the population"
   ]
  },
  {
   "cell_type": "markdown",
   "metadata": {},
   "source": [
    "Send model to BucketFS\n",
    "----------------------\n",
    "\n",
    "UDF scripts are executed in parallel on the Exasol cluster and in our case for the prediction such script needs to have access to the model we just trained. While it is possible to use any file service, when considering performance it is more efficient to have a storage space in the local cluster nodes. Keep in mind that the Exasol database cluster stores only tables and we cannot simply upload our model in there. The *Exasol BucketFS* file system has been created to handle such needs.\n",
    "\n",
    "> The Exasol BucketFS file system has been developed for such use cases, where data should be stored synchronously and replicated across the cluster... this concept can be used to extend script languages and even to install completely new script languages on the Exasol cluster. [Exasol User Manual](https://www.exasol.com/support/secure/attachment/70209/EXASOL_User_Manual-6.1.0-en.pdf)\n",
    "\n",
    "Files can be sent and retrieved from BucketFS in the following ways:\n",
    "\n",
    "-   Using packages that allow HTTP communication in R (`httr` or `RCurl`)\n",
    "-   [BucketFS Explorer](https://github.com/EXASOL/bucketfs-explorer) (drag and drop tool provided by Exasol which requires a connection to ExaOperation,)\n",
    "-   Using `curl` commands (will not be shown here)\n",
    "\n",
    "With the first method we will use the `RCurl` package. It is important to note that the model which lives in our R environment now has to be serialized (converted into raw text). When we want to retrieve it we can unserialize it and return it to its original filetype. See `?serialize` for more information."
   ]
  },
  {
   "cell_type": "code",
   "execution_count": 7,
   "metadata": {},
   "outputs": [
    {
     "data": {
      "text/html": [
       "''"
      ],
      "text/latex": [
       "''"
      ],
      "text/markdown": [
       "''"
      ],
      "text/plain": [
       "[1] \"\"\n",
       "attr(,\"Content-Type\")\n",
       "                charset \n",
       "\"text/html\"     \"UTF-8\" "
      ]
     },
     "metadata": {},
     "output_type": "display_data"
    }
   ],
   "source": [
    "# Define options for the authentication\n",
    "curl_opts = curlOptions(userpwd  = sprintf(\"%s:%s\",EXASOL_BUCKETFS_USER,EXASOL_BUCKETFS_PASSWORD),\n",
    "                        verbose  = FALSE,\n",
    "                        httpauth = AUTH_BASIC)\n",
    "\n",
    "# Transfer model to the bucket\n",
    "httpPUT(\n",
    "  # EXABucket URL\n",
    "  url = sprintf(\"%s://%s/%s/%s\",EXASOL_BUCKETFS_PROTOCOL,EXASOL_BUCKETFS_HOST,EXASOL_BUCKETFS_PATH,MODEL_NAME),\n",
    "  # It is important to serialize the model\n",
    "  content = serialize(rf_model, ascii = FALSE, connection = NULL),\n",
    "  # EXABucket: authenticate\n",
    "  curl = getCurlHandle(.opts = curl_opts)\n",
    ")"
   ]
  },
  {
   "cell_type": "markdown",
   "metadata": {},
   "source": [
    "\n",
    "In cases when the size of you model becomes an issue, it is worth checking the [Strip](https://cran.r-project.org/web/packages/strip/strip.pdf) package which allows you to reduce the memory footprint of your models.\n",
    "\n",
    "With the following code, we can check if the model was transfered."
   ]
  },
  {
   "cell_type": "code",
   "execution_count": 8,
   "metadata": {},
   "outputs": [
    {
     "name": "stdout",
     "output_type": "stream",
     "text": [
      "[[1]]\n",
      " [1] \"EXASolution-6.1.1/exaudf.jar\"                  \n",
      " [2] \"rf_model\"                                      \n",
      " [3] \"python3-ds-EXASOL-6.0.0.tar.gz\"                \n",
      " [4] \"EXASolution-6.1.1/exaudfclient\"                \n",
      " [5] \"EXASolution-6.1.1/udfplugin_protegrity_665_ua\" \n",
      " [6] \"production_classifier.pkl\"                     \n",
      " [7] \"models\"                                        \n",
      " [8] \"EXASolution-6.1.1/udfplugin_protegrity_665\"    \n",
      " [9] \"EXASolution-6.1.1/udfplugin_protegrity_ua\"     \n",
      "[10] \"models/rf_model\"                               \n",
      "[11] \"EXASolution-6.1.1/udfplugin_protegrity_664\"    \n",
      "[12] \"EXASolution-6.1.1/udfplugin_protegrity_664_ua\" \n",
      "[13] \"classifier.pkl\"                                \n",
      "[14] \"transform_pipeline.pkl\"                        \n",
      "[15] \"EXAClusterOS/ScriptLanguages-2018-05-07.tar.gz\"\n",
      "[16] \"EXASolution-6.1.1/udfplugin_protegrity\"        \n",
      "\n"
     ]
    }
   ],
   "source": [
    "# Define options for the authentication\n",
    "curl_opts = curlOptions(userpwd  = sprintf(\"%s:%s\",EXASOL_BUCKETFS_USER,EXASOL_BUCKETFS_PASSWORD),\n",
    "                        verbose  = FALSE,\n",
    "                        httpauth = AUTH_BASIC)\n",
    "# Transfer model to the bucket\n",
    "get = getURL(\n",
    "  # EXABucket URL\n",
    "  url = sprintf(\"%s://%s/%s/\",EXASOL_BUCKETFS_PROTOCOL,EXASOL_BUCKETFS_HOST,EXASOL_BUCKETFS_SERVICE),\n",
    "  # EXABucket: authenticate\n",
    "  curl = getCurlHandle(.opts = curl_opts)\n",
    ")\n",
    "print(strsplit(get[[1]], \"\\n\"))"
   ]
  },
  {
   "cell_type": "markdown",
   "metadata": {},
   "source": [
    "Send data to Exasol\n",
    "-------------------\n",
    "\n",
    "In order to run the prediction in Exasol we need to transfer the data into the database. We have seen in the *Exasol R Package Guide* how to write and read data in and from the Exasol cluster."
   ]
  },
  {
   "cell_type": "code",
   "execution_count": 9,
   "metadata": {},
   "outputs": [
    {
     "name": "stdout",
     "output_type": "stream",
     "text": [
      "[1] \"Using the included driver...\"\n",
      "[1] \"EXASOL driver loaded\"\n"
     ]
    },
    {
     "data": {
      "text/html": [
       "1"
      ],
      "text/latex": [
       "1"
      ],
      "text/markdown": [
       "1"
      ],
      "text/plain": [
       "[1] 1"
      ]
     },
     "metadata": {},
     "output_type": "display_data"
    },
    {
     "data": {
      "text/html": [
       "1"
      ],
      "text/latex": [
       "1"
      ],
      "text/markdown": [
       "1"
      ],
      "text/plain": [
       "[1] 1"
      ]
     },
     "metadata": {},
     "output_type": "display_data"
    },
    {
     "data": {
      "text/html": [
       "1"
      ],
      "text/latex": [
       "1"
      ],
      "text/markdown": [
       "1"
      ],
      "text/plain": [
       "[1] 1"
      ]
     },
     "metadata": {},
     "output_type": "display_data"
    },
    {
     "data": {
      "text/html": [
       "TRUE"
      ],
      "text/latex": [
       "TRUE"
      ],
      "text/markdown": [
       "TRUE"
      ],
      "text/plain": [
       "[1] TRUE"
      ]
     },
     "metadata": {},
     "output_type": "display_data"
    }
   ],
   "source": [
    "# Create connection with the EXASOL database\n",
    "exaconn <- dbConnect(\n",
    "    drv     = \"exa\",                  # EXAdriver object\n",
    "    exahost = EXASOL_HOST,  # IP of database cluster\n",
    "    uid     = EXASOL_USER,                  # Username\n",
    "    pwd     = EXASOL_PASSWORD)               # Password\n",
    "\n",
    "# Create database schema (if it does not yet exist) with the name r_demo\n",
    "# (This also opens it, i.e. makes it the default container for all subsequent steps below)\n",
    "odbcQuery(exaconn, \"CREATE SCHEMA IF NOT EXISTS r_demo\")\n",
    "\n",
    "# If the schema already existed, we need to open it to make it the default container for all subsequent steps below\n",
    "odbcQuery(exaconn, \"OPEN SCHEMA r_demo\")\n",
    "\n",
    "# Create an empty table in EXASOL with the name boston_housing\n",
    "odbcQuery(exaconn,\n",
    "    \"CREATE OR REPLACE TABLE boston_housing(\n",
    "         crim    DOUBLE,\n",
    "         zn      DOUBLE,\n",
    "         indus   DOUBLE,\n",
    "         chas    VARCHAR(10),\n",
    "         nox     DOUBLE,\n",
    "         rm      DOUBLE,\n",
    "         age     DOUBLE,\n",
    "         dis     DOUBLE,\n",
    "         rad     DOUBLE,\n",
    "         tax     DOUBLE,\n",
    "         ptratio DOUBLE,\n",
    "         b       DOUBLE,\n",
    "         lstat   DOUBLE,\n",
    "         medv    DOUBLE,\n",
    "         split   VARCHAR(10),\n",
    "         id      INT\n",
    "     )\")\n",
    "\n",
    "# Write the train data into Exasol\n",
    "exa.writeData(exaconn, data = BostonHousing, tableName = \"boston_housing\")"
   ]
  },
  {
   "cell_type": "markdown",
   "metadata": {},
   "source": [
    "We now can retrieve the data from the database and examining it."
   ]
  },
  {
   "cell_type": "code",
   "execution_count": 10,
   "metadata": {},
   "outputs": [
    {
     "name": "stdout",
     "output_type": "stream",
     "text": [
      "[1] \"Using the included driver...\"\n",
      "[1] \"EXASOL driver loaded\"\n"
     ]
    },
    {
     "data": {
      "text/html": [
       "1"
      ],
      "text/latex": [
       "1"
      ],
      "text/markdown": [
       "1"
      ],
      "text/plain": [
       "[1] 1"
      ]
     },
     "metadata": {},
     "output_type": "display_data"
    },
    {
     "data": {
      "text/html": [
       "<table>\n",
       "<thead><tr><th scope=col>CRIM</th><th scope=col>ZN</th><th scope=col>INDUS</th><th scope=col>CHAS</th><th scope=col>NOX</th><th scope=col>RM</th><th scope=col>AGE</th><th scope=col>DIS</th><th scope=col>RAD</th><th scope=col>TAX</th><th scope=col>PTRATIO</th><th scope=col>B</th><th scope=col>LSTAT</th><th scope=col>MEDV</th><th scope=col>SPLIT</th><th scope=col>ID</th></tr></thead>\n",
       "<tbody>\n",
       "\t<tr><td>0.00632</td><td>18.0   </td><td>2.31   </td><td>0      </td><td>0.538  </td><td>6.575  </td><td> 65.2  </td><td>4.0900 </td><td>1      </td><td>296    </td><td>15.3   </td><td>396.90 </td><td> 4.98  </td><td>24.0   </td><td>Train  </td><td> 1     </td></tr>\n",
       "\t<tr><td>0.02731</td><td> 0.0   </td><td>7.07   </td><td>0      </td><td>0.469  </td><td>6.421  </td><td> 78.9  </td><td>4.9671 </td><td>2      </td><td>242    </td><td>17.8   </td><td>396.90 </td><td> 9.14  </td><td>21.6   </td><td>Train  </td><td> 2     </td></tr>\n",
       "\t<tr><td>0.02729</td><td> 0.0   </td><td>7.07   </td><td>0      </td><td>0.469  </td><td>7.185  </td><td> 61.1  </td><td>4.9671 </td><td>2      </td><td>242    </td><td>17.8   </td><td>392.83 </td><td> 4.03  </td><td>34.7   </td><td>Test   </td><td> 3     </td></tr>\n",
       "\t<tr><td>0.03237</td><td> 0.0   </td><td>2.18   </td><td>0      </td><td>0.458  </td><td>6.998  </td><td> 45.8  </td><td>6.0622 </td><td>3      </td><td>222    </td><td>18.7   </td><td>394.63 </td><td> 2.94  </td><td>33.4   </td><td>Train  </td><td> 4     </td></tr>\n",
       "\t<tr><td>0.06905</td><td> 0.0   </td><td>2.18   </td><td>0      </td><td>0.458  </td><td>7.147  </td><td> 54.2  </td><td>6.0622 </td><td>3      </td><td>222    </td><td>18.7   </td><td>396.90 </td><td> 5.33  </td><td>36.2   </td><td>Train  </td><td> 5     </td></tr>\n",
       "\t<tr><td>0.02985</td><td> 0.0   </td><td>2.18   </td><td>0      </td><td>0.458  </td><td>6.430  </td><td> 58.7  </td><td>6.0622 </td><td>3      </td><td>222    </td><td>18.7   </td><td>394.12 </td><td> 5.21  </td><td>28.7   </td><td>Train  </td><td> 6     </td></tr>\n",
       "\t<tr><td>0.08829</td><td>12.5   </td><td>7.87   </td><td>0      </td><td>0.524  </td><td>6.012  </td><td> 66.6  </td><td>5.5605 </td><td>5      </td><td>311    </td><td>15.2   </td><td>395.60 </td><td>12.43  </td><td>22.9   </td><td>Train  </td><td> 7     </td></tr>\n",
       "\t<tr><td>0.14455</td><td>12.5   </td><td>7.87   </td><td>0      </td><td>0.524  </td><td>6.172  </td><td> 96.1  </td><td>5.9505 </td><td>5      </td><td>311    </td><td>15.2   </td><td>396.90 </td><td>19.15  </td><td>27.1   </td><td>Train  </td><td> 8     </td></tr>\n",
       "\t<tr><td>0.21124</td><td>12.5   </td><td>7.87   </td><td>0      </td><td>0.524  </td><td>5.631  </td><td>100.0  </td><td>6.0821 </td><td>5      </td><td>311    </td><td>15.2   </td><td>386.63 </td><td>29.93  </td><td>16.5   </td><td>Test   </td><td> 9     </td></tr>\n",
       "\t<tr><td>0.17004</td><td>12.5   </td><td>7.87   </td><td>0      </td><td>0.524  </td><td>6.004  </td><td> 85.9  </td><td>6.5921 </td><td>5      </td><td>311    </td><td>15.2   </td><td>386.71 </td><td>17.10  </td><td>18.9   </td><td>Test   </td><td>10     </td></tr>\n",
       "</tbody>\n",
       "</table>\n"
      ],
      "text/latex": [
       "\\begin{tabular}{r|llllllllllllllll}\n",
       " CRIM & ZN & INDUS & CHAS & NOX & RM & AGE & DIS & RAD & TAX & PTRATIO & B & LSTAT & MEDV & SPLIT & ID\\\\\n",
       "\\hline\n",
       "\t 0.00632 & 18.0    & 2.31    & 0       & 0.538   & 6.575   &  65.2   & 4.0900  & 1       & 296     & 15.3    & 396.90  &  4.98   & 24.0    & Train   &  1     \\\\\n",
       "\t 0.02731 &  0.0    & 7.07    & 0       & 0.469   & 6.421   &  78.9   & 4.9671  & 2       & 242     & 17.8    & 396.90  &  9.14   & 21.6    & Train   &  2     \\\\\n",
       "\t 0.02729 &  0.0    & 7.07    & 0       & 0.469   & 7.185   &  61.1   & 4.9671  & 2       & 242     & 17.8    & 392.83  &  4.03   & 34.7    & Test    &  3     \\\\\n",
       "\t 0.03237 &  0.0    & 2.18    & 0       & 0.458   & 6.998   &  45.8   & 6.0622  & 3       & 222     & 18.7    & 394.63  &  2.94   & 33.4    & Train   &  4     \\\\\n",
       "\t 0.06905 &  0.0    & 2.18    & 0       & 0.458   & 7.147   &  54.2   & 6.0622  & 3       & 222     & 18.7    & 396.90  &  5.33   & 36.2    & Train   &  5     \\\\\n",
       "\t 0.02985 &  0.0    & 2.18    & 0       & 0.458   & 6.430   &  58.7   & 6.0622  & 3       & 222     & 18.7    & 394.12  &  5.21   & 28.7    & Train   &  6     \\\\\n",
       "\t 0.08829 & 12.5    & 7.87    & 0       & 0.524   & 6.012   &  66.6   & 5.5605  & 5       & 311     & 15.2    & 395.60  & 12.43   & 22.9    & Train   &  7     \\\\\n",
       "\t 0.14455 & 12.5    & 7.87    & 0       & 0.524   & 6.172   &  96.1   & 5.9505  & 5       & 311     & 15.2    & 396.90  & 19.15   & 27.1    & Train   &  8     \\\\\n",
       "\t 0.21124 & 12.5    & 7.87    & 0       & 0.524   & 5.631   & 100.0   & 6.0821  & 5       & 311     & 15.2    & 386.63  & 29.93   & 16.5    & Test    &  9     \\\\\n",
       "\t 0.17004 & 12.5    & 7.87    & 0       & 0.524   & 6.004   &  85.9   & 6.5921  & 5       & 311     & 15.2    & 386.71  & 17.10   & 18.9    & Test    & 10     \\\\\n",
       "\\end{tabular}\n"
      ],
      "text/markdown": [
       "\n",
       "| CRIM | ZN | INDUS | CHAS | NOX | RM | AGE | DIS | RAD | TAX | PTRATIO | B | LSTAT | MEDV | SPLIT | ID |\n",
       "|---|---|---|---|---|---|---|---|---|---|---|---|---|---|---|---|\n",
       "| 0.00632 | 18.0    | 2.31    | 0       | 0.538   | 6.575   |  65.2   | 4.0900  | 1       | 296     | 15.3    | 396.90  |  4.98   | 24.0    | Train   |  1      |\n",
       "| 0.02731 |  0.0    | 7.07    | 0       | 0.469   | 6.421   |  78.9   | 4.9671  | 2       | 242     | 17.8    | 396.90  |  9.14   | 21.6    | Train   |  2      |\n",
       "| 0.02729 |  0.0    | 7.07    | 0       | 0.469   | 7.185   |  61.1   | 4.9671  | 2       | 242     | 17.8    | 392.83  |  4.03   | 34.7    | Test    |  3      |\n",
       "| 0.03237 |  0.0    | 2.18    | 0       | 0.458   | 6.998   |  45.8   | 6.0622  | 3       | 222     | 18.7    | 394.63  |  2.94   | 33.4    | Train   |  4      |\n",
       "| 0.06905 |  0.0    | 2.18    | 0       | 0.458   | 7.147   |  54.2   | 6.0622  | 3       | 222     | 18.7    | 396.90  |  5.33   | 36.2    | Train   |  5      |\n",
       "| 0.02985 |  0.0    | 2.18    | 0       | 0.458   | 6.430   |  58.7   | 6.0622  | 3       | 222     | 18.7    | 394.12  |  5.21   | 28.7    | Train   |  6      |\n",
       "| 0.08829 | 12.5    | 7.87    | 0       | 0.524   | 6.012   |  66.6   | 5.5605  | 5       | 311     | 15.2    | 395.60  | 12.43   | 22.9    | Train   |  7      |\n",
       "| 0.14455 | 12.5    | 7.87    | 0       | 0.524   | 6.172   |  96.1   | 5.9505  | 5       | 311     | 15.2    | 396.90  | 19.15   | 27.1    | Train   |  8      |\n",
       "| 0.21124 | 12.5    | 7.87    | 0       | 0.524   | 5.631   | 100.0   | 6.0821  | 5       | 311     | 15.2    | 386.63  | 29.93   | 16.5    | Test    |  9      |\n",
       "| 0.17004 | 12.5    | 7.87    | 0       | 0.524   | 6.004   |  85.9   | 6.5921  | 5       | 311     | 15.2    | 386.71  | 17.10   | 18.9    | Test    | 10      |\n",
       "\n"
      ],
      "text/plain": [
       "   CRIM    ZN   INDUS CHAS NOX   RM    AGE   DIS    RAD TAX PTRATIO B     \n",
       "1  0.00632 18.0 2.31  0    0.538 6.575  65.2 4.0900 1   296 15.3    396.90\n",
       "2  0.02731  0.0 7.07  0    0.469 6.421  78.9 4.9671 2   242 17.8    396.90\n",
       "3  0.02729  0.0 7.07  0    0.469 7.185  61.1 4.9671 2   242 17.8    392.83\n",
       "4  0.03237  0.0 2.18  0    0.458 6.998  45.8 6.0622 3   222 18.7    394.63\n",
       "5  0.06905  0.0 2.18  0    0.458 7.147  54.2 6.0622 3   222 18.7    396.90\n",
       "6  0.02985  0.0 2.18  0    0.458 6.430  58.7 6.0622 3   222 18.7    394.12\n",
       "7  0.08829 12.5 7.87  0    0.524 6.012  66.6 5.5605 5   311 15.2    395.60\n",
       "8  0.14455 12.5 7.87  0    0.524 6.172  96.1 5.9505 5   311 15.2    396.90\n",
       "9  0.21124 12.5 7.87  0    0.524 5.631 100.0 6.0821 5   311 15.2    386.63\n",
       "10 0.17004 12.5 7.87  0    0.524 6.004  85.9 6.5921 5   311 15.2    386.71\n",
       "   LSTAT MEDV SPLIT ID\n",
       "1   4.98 24.0 Train  1\n",
       "2   9.14 21.6 Train  2\n",
       "3   4.03 34.7 Test   3\n",
       "4   2.94 33.4 Train  4\n",
       "5   5.33 36.2 Train  5\n",
       "6   5.21 28.7 Train  6\n",
       "7  12.43 22.9 Train  7\n",
       "8  19.15 27.1 Train  8\n",
       "9  29.93 16.5 Test   9\n",
       "10 17.10 18.9 Test  10"
      ]
     },
     "metadata": {},
     "output_type": "display_data"
    }
   ],
   "source": [
    "# Create connection with the EXASOL database\n",
    "exaconn <- dbConnect(\n",
    "    drv     = \"exa\",                  # EXAdriver object\n",
    "    exahost = EXASOL_HOST,  # IP of database cluster\n",
    "    uid     = EXASOL_USER,                  # Username\n",
    "    pwd     = EXASOL_PASSWORD)               # Password\n",
    "\n",
    "# If the schema already existed, we need to open it to make it the default container for all subsequent steps below\n",
    "odbcQuery(exaconn, \"OPEN SCHEMA r_demo\")\n",
    "dbGetQuery(exaconn, \"select * from boston_housing limit 10\")"
   ]
  },
  {
   "cell_type": "markdown",
   "metadata": {},
   "source": [
    "Make prediction using UDF\n",
    "-------------------------\n",
    "\n",
    "We are now ready to use the algorithm which is in BucketFS to run a prediction on the data which is in Exasol. For this we will use a UDF and in R this is achieved by `exa.createScript` function."
   ]
  },
  {
   "cell_type": "code",
   "execution_count": 11,
   "metadata": {},
   "outputs": [
    {
     "name": "stdout",
     "output_type": "stream",
     "text": [
      "[1] 3.316145\n"
     ]
    }
   ],
   "source": [
    "PredictInExasol1 <- exa.createScript(\n",
    "  exaconn,\n",
    "  \"r_demo.dt_predict1\",\n",
    "  function(data) {\n",
    "\n",
    "    # Load the required packages\n",
    "    require(RCurl)\n",
    "    require(randomForest)\n",
    "\n",
    "    # Set options for retrieving model from bucket\n",
    "    curl_opts = curlOptions(userpwd = sprintf(\"%s:%s\",env$EXASOL_BUCKETFS_USER,env$EXASOL_BUCKETFS_PASSWORD),\n",
    "                            verbose = TRUE,\n",
    "                            httpauth=AUTH_BASIC)\n",
    "\n",
    "    # Loading the model from the bucket (note that is unserialized)\n",
    "    rf_model = unserialize(httpGET(url  = sprintf(\"%s://%s/%s/%s\",\n",
    "                                                  env$EXASOL_BUCKETFS_PROTOCOL,env$EXASOL_BUCKETFS_HOST,\n",
    "                                                  env$EXASOL_BUCKETFS_PATH,env$MODEL_NAME),\n",
    "                                   curl = getCurlHandle(.opts = curl_opts)))\n",
    "\n",
    "      \n",
    "    # Load data in chuks of 1000 rows at a time (very useful knob with big data!)\n",
    "    repeat {\n",
    "      if (!data$next_row(1000))\n",
    "        break\n",
    "\n",
    "      # put data in a data.frame\n",
    "      df <- data.frame(\n",
    "              id       = data$id,\n",
    "              crim     = data$crim,\n",
    "              zn       = data$zn,\n",
    "              indus    = data$indus,\n",
    "              chas     = data$chas,\n",
    "              nox      = data$nox,\n",
    "              rm       = data$rm,\n",
    "              age      = data$age,\n",
    "              dis      = data$dis,\n",
    "              rad      = data$rad,\n",
    "              tax      = data$tax,\n",
    "              ptratio  = data$ptratio,\n",
    "              b        = data$b,\n",
    "              lstat    = data$lstat,\n",
    "              medv     = data$medv,\n",
    "              split    = data$split\n",
    "            )\n",
    "    }\n",
    "\n",
    "    # Use the loaded model to make the prediction\n",
    "    prediction <- predict(rf_model, newdata = df)\n",
    "\n",
    "    # Return of the forecast\n",
    "    data$emit(df$id, df$medv, prediction)\n",
    "  },\n",
    "  env = UDF_ENV,\n",
    "  # Input arguments\n",
    "  inArgs  = c(\"id         INT\",\n",
    "              \"crim       DOUBLE\",\n",
    "              \"zn         DOUBLE\",\n",
    "              \"indus      DOUBLE\",\n",
    "              \"chas       VARCHAR(10)\",\n",
    "              \"nox        DOUBLE\",\n",
    "              \"rm         DOUBLE\",\n",
    "              \"age        DOUBLE\",\n",
    "              \"dis        DOUBLE\",\n",
    "              \"rad        DOUBLE\",\n",
    "              \"tax        DOUBLE\",\n",
    "              \"ptratio    DOUBLE\",\n",
    "              \"b          DOUBLE\",\n",
    "              \"lstat      DOUBLE\",\n",
    "              \"medv       DOUBLE\",\n",
    "              \"split      VARCHAR(10)\"),\n",
    "\n",
    "  # Output arguments\n",
    "  outArgs = c(\"id         INT\",\n",
    "              \"RealValue  DOUBLE\",\n",
    "              \"Prediction DOUBLE\")\n",
    ")\n",
    "\n",
    "# Create a table with the real values and predicted ones\n",
    "# Note that the prediction is done in test data using 'where' argument\n",
    "prediction_output = PredictInExasol1(\"id\",\"crim\", \"zn\", \"indus\", \"chas\", \"nox\", \"rm\", \"age\", \"dis\",\n",
    "                                     \"rad\", \"tax\", \"ptratio\", \"b\", \"lstat\", \"medv\", \"split\",\n",
    "                                     table = \"r_demo.boston_housing\",\n",
    "                                     groupBy = \"iproc(),mod(iproc(),5)\",\n",
    "                                     where = \"split = 'Test'\")\n",
    "\n",
    "# Check the root mean squared error (RMSE)\n",
    "RMSE = sqrt(mean((prediction_output$PREDICTION - prediction_output$REALVALUE)^2))\n",
    "print(RMSE)\n",
    "# Should be 3.35"
   ]
  },
  {
   "cell_type": "markdown",
   "metadata": {},
   "source": [
    "We can also plot our predicted values and see the fit:"
   ]
  },
  {
   "cell_type": "code",
   "execution_count": 12,
   "metadata": {},
   "outputs": [
    {
     "data": {
      "text/plain": [
       "List of 1\n",
       " $ legend.title: list()\n",
       "  ..- attr(*, \"class\")= chr [1:2] \"element_blank\" \"element\"\n",
       " - attr(*, \"class\")= chr [1:2] \"theme\" \"gg\"\n",
       " - attr(*, \"complete\")= logi FALSE\n",
       " - attr(*, \"validate\")= logi TRUE"
      ]
     },
     "metadata": {},
     "output_type": "display_data"
    },
    {
     "data": {
      "image/png": "[encoded data removed]",
      "text/plain": [
       "plot without title"
      ]
     },
     "metadata": {},
     "output_type": "display_data"
    }
   ],
   "source": [
    "# Plot the predictions against real values\n",
    "library(ggplot2)\n",
    "\n",
    "plot_predictions = ggplot(prediction_output, aes(ID)) +\n",
    "                    geom_line(aes(y = PREDICTION, colour = \"Prediction\")) +\n",
    "                    geom_line(aes(y = REALVALUE, colour = \"True Value\")) +\n",
    "                    xlab(\"\") +\n",
    "                    ylab(\"Results\") +\n",
    "                    ggtitle(\"Predicted vs Real values\")\n",
    "                    theme(legend.title=element_blank())\n",
    "\n",
    "plot(plot_predictions)"
   ]
  },
  {
   "cell_type": "markdown",
   "metadata": {},
   "source": [
    "Train and predict in Exasol\n",
    "===========================\n",
    "\n",
    "We will now make use of the UDF to train our model within the Exasol cluster. Inside the UDF we read the data from the database into a `data.frame` object which we use to run the model. We then send this model to BucketFS for future usage and return some model information (variable importance in this case)."
   ]
  },
  {
   "cell_type": "code",
   "execution_count": 13,
   "metadata": {},
   "outputs": [],
   "source": [
    "TrainInExasol2 <- exa.createScript(\n",
    "  exaconn,\n",
    "  \"r_demo.dt_train2\",\n",
    "  function(data) {\n",
    "\n",
    "    # Load the required packages\n",
    "    library(randomForest)\n",
    "    library(RCurl)\n",
    "\n",
    "    # Load data in chuks of 1000 rows at a time (very useful knob with big data!)\n",
    "    repeat{\n",
    "        if (!data$next_row(1000))\n",
    "            break\n",
    "\n",
    "      # Transform into data frame\n",
    "      df <- data.frame(\n",
    "              id       = data$id,\n",
    "              crim     = data$crim,\n",
    "              zn       = data$zn,\n",
    "              indus    = data$indus,\n",
    "              chas     = data$chas,\n",
    "              nox      = data$nox,\n",
    "              rm       = data$rm,\n",
    "              age      = data$age,\n",
    "              dis      = data$dis,\n",
    "              rad      = data$rad,\n",
    "              tax      = data$tax,\n",
    "              ptratio  = data$ptratio,\n",
    "              b        = data$b,\n",
    "              lstat    = data$lstat,\n",
    "              medv     = data$medv,\n",
    "              split    = data$split\n",
    "            )\n",
    "    }\n",
    "\n",
    "    # Run random forest\n",
    "    set.seed(42)\n",
    "    rf_model2 <- randomForest(medv ~ .-id -split,\n",
    "                              data = df[df$split==\"Train\",],\n",
    "                              importance = TRUE)\n",
    "\n",
    "    curl_opts = curlOptions(userpwd = sprintf(\"%s:%s\",env$EXASOL_BUCKETFS_USER,env$EXASOL_BUCKETFS_PASSWORD),\n",
    "                            verbose = TRUE,\n",
    "                            httpauth=AUTH_BASIC)\n",
    "    RCurl:::httpPUT(\n",
    "      url     = sprintf(\"%s://%s/%s/%s\",\n",
    "                      env$EXASOL_BUCKETFS_PROTOCOL,env$EXASOL_BUCKETFS_HOST,\n",
    "                      env$EXASOL_BUCKETFS_PATH,env$MODEL_NAME),\n",
    "      content = serialize(rf_model2, ascii = FALSE, connection = NULL),\n",
    "      curl    = getCurlHandle(.opts = curl_opts)\n",
    "    )\n",
    "\n",
    "    # Return the line number\n",
    "    data$emit(rownames(rf_model2$importance),\n",
    "              unname(rf_model2$importance[,1]),\n",
    "              unname(rf_model2$importance[,2]))\n",
    "  },\n",
    "  env=UDF_ENV,\n",
    "  # Input arguments\n",
    "  inArgs  = c(\"id         INT\",\n",
    "              \"crim       DOUBLE\",\n",
    "              \"zn         DOUBLE\",\n",
    "              \"indus      DOUBLE\",\n",
    "              \"chas       VARCHAR(10)\",\n",
    "              \"nox        DOUBLE\",\n",
    "              \"rm         DOUBLE\",\n",
    "              \"age        DOUBLE\",\n",
    "              \"dis        DOUBLE\",\n",
    "              \"rad        DOUBLE\",\n",
    "              \"tax        DOUBLE\",\n",
    "              \"ptratio    DOUBLE\",\n",
    "              \"b          DOUBLE\",\n",
    "              \"lstat      DOUBLE\",\n",
    "              \"medv       DOUBLE\",\n",
    "              \"split      VARCHAR(10)\"),\n",
    "\n",
    "  # Output arguments\n",
    "  outArgs = c(\"Variable   CHAR(20)\",\n",
    "              \"MSE        DOUBLE\",\n",
    "              \"NodePurity DOUBLE\")\n",
    ")\n",
    "\n",
    "#Call of the function. The return is stored in an object\n",
    "variable_importance = TrainInExasol2(\"id\",\"crim\", \"zn\", \"indus\", \"chas\", \"nox\", \"rm\", \"age\", \"dis\",\n",
    "                                     \"rad\", \"tax\", \"ptratio\", \"b\", \"lstat\", \"medv\", \"split\",\n",
    "                                     table = \"r_demo.boston_housing\",\n",
    "                                     groupBy = \"iproc(),mod(iproc(),5)\",\n",
    "                                     where = \"split = 'Train'\")"
   ]
  },
  {
   "cell_type": "markdown",
   "metadata": {},
   "source": [
    "Now that we have model, `rf_model2`, stored in BucketFS we will use it to make predictions on our test data which lives in the Exasol database. The testing procedure is the same as in the scenario above."
   ]
  },
  {
   "cell_type": "code",
   "execution_count": 14,
   "metadata": {},
   "outputs": [
    {
     "name": "stdout",
     "output_type": "stream",
     "text": [
      "[1] 3.350155\n"
     ]
    }
   ],
   "source": [
    "# Create UDF for prediction\n",
    "PredictInExasol2 <- exa.createScript(\n",
    "  exaconn,\n",
    "  \"r_demo.dt_predict2\",\n",
    "  function(data) {\n",
    "\n",
    "    # Load the required packages\n",
    "    require(RCurl)\n",
    "    require(randomForest)\n",
    "\n",
    "    # Set options for retrieving model from bucket\n",
    "    curl_opts = curlOptions(userpwd = sprintf(\"%s:%s\",env$EXASOL_BUCKETFS_USER,env$EXASOL_BUCKETFS_PASSWORD),\n",
    "                            verbose = TRUE,\n",
    "                            httpauth=AUTH_BASIC)\n",
    "\n",
    "    # Loading the model from the bucket (note that is unserialized)\n",
    "    rf_model2 = unserialize(httpGET(url  = sprintf(\"%s://%s/%s/%s\",\n",
    "                                                  env$EXASOL_BUCKETFS_PROTOCOL,env$EXASOL_BUCKETFS_HOST,\n",
    "                                                  env$EXASOL_BUCKETFS_PATH,env$MODEL_NAME),\n",
    "                                   curl = getCurlHandle(.opts = curl_opts)))\n",
    "\n",
    "    # Load data in chuks of 1000 rows at a time\n",
    "    repeat{\n",
    "        if (!data$next_row(1000))\n",
    "            break\n",
    "\n",
    "      # Load the data into a data.frame\n",
    "      df <- data.frame(id       = data$id,\n",
    "                       crim     = data$crim,\n",
    "                       zn       = data$zn,\n",
    "                       indus    = data$indus,\n",
    "                       chas     = data$chas,\n",
    "                       nox      = data$nox,\n",
    "                       rm       = data$rm,\n",
    "                       age      = data$age,\n",
    "                       dis      = data$dis,\n",
    "                       rad      = data$rad,\n",
    "                       tax      = data$tax,\n",
    "                       ptratio  = data$ptratio,\n",
    "                       b        = data$b,\n",
    "                       lstat    = data$lstat,\n",
    "                       medv     = data$medv,\n",
    "                       split    = data$split)\n",
    "    }\n",
    "\n",
    "    # Use the loaded model to make the prediction\n",
    "    prediction <- predict(rf_model2, newdata = df)\n",
    "\n",
    "    # Return the forecast\n",
    "    data$emit(df$id, df$medv, prediction)\n",
    "  },\n",
    "  env=UDF_ENV,\n",
    "  # iInput arguments\n",
    "  inArgs  = c(\"id         INT\",\n",
    "              \"crim       DOUBLE\",\n",
    "              \"zn         DOUBLE\",\n",
    "              \"indus      DOUBLE\",\n",
    "              \"chas       VARCHAR(10)\",\n",
    "              \"nox        DOUBLE\",\n",
    "              \"rm         DOUBLE\",\n",
    "              \"age        DOUBLE\",\n",
    "              \"dis        DOUBLE\",\n",
    "              \"rad        DOUBLE\",\n",
    "              \"tax        DOUBLE\",\n",
    "              \"ptratio    DOUBLE\",\n",
    "              \"b          DOUBLE\",\n",
    "              \"lstat      DOUBLE\",\n",
    "              \"medv       DOUBLE\",\n",
    "              \"split      VARCHAR(10)\"),\n",
    "\n",
    "  # Output arguments\n",
    "  outArgs = c(\"id         INT\",\n",
    "              \"RealValue  DOUBLE\",\n",
    "              \"Prediction DOUBLE\")\n",
    ")\n",
    "\n",
    "# Create a table with the real values and predicted ones\n",
    "prediction_output2 = PredictInExasol2(\"id\",\"crim\", \"zn\", \"indus\", \"chas\", \"nox\", \"rm\", \"age\", \"dis\",\n",
    "                                      \"rad\", \"tax\", \"ptratio\", \"b\", \"lstat\", \"medv\", \"split\",\n",
    "                                      table = \"r_demo.boston_housing\",\n",
    "                                      groupBy = \"iproc(),mod(iproc(),5)\",\n",
    "                                      where = \"split = 'Test'\")\n",
    "\n",
    "# Check the root mean squared error (RMSE)\n",
    "RMSE = sqrt(mean((prediction_output2$PREDICTION - prediction_output2$REALVALUE)^2))\n",
    "# 3.35, similar to the one above\n",
    "print(RMSE)"
   ]
  },
  {
   "cell_type": "markdown",
   "metadata": {},
   "source": [
    "Bonus: Predict via UDF in SQL\n",
    "=============================\n",
    "\n",
    "We can run the same exact prediction model from Exasol native environment in the SQL development tool. The model can be deployed using a UDF which dynamically executes R code. Much is the same as above, except for the way we get the data from the database via the context object `ctx`. See detailed information in [Exasol User Manual](https://www.exasol.com/support/secure/attachment/70209/EXASOL_User_Manual-6.1.0-en.pdf).\n",
    "\n",
    "``` sql\n",
    "-- 1. Create prediction function\n",
    "CREATE OR REPLACE R SET SCRIPT r_demo.predict3(...) EMITS (id INT, RealValue DOUBLE, Prediction DOUBLE) AS\n",
    "\n",
    "# Load library\n",
    "library(randomForest)\n",
    "\n",
    "# Get number of columns\n",
    "numCols <- exa$meta$input_column_count\n",
    "\n",
    "# Create empty list with length numCols\n",
    "l = vector(\"list\", numCols)\n",
    "\n",
    "run <- function(ctx) {\n",
    "\n",
    "  # Load the model from the bucket\n",
    "  rf_model = readRDS(\"/buckets/bucketfs1/bucket1/rf_model\")\n",
    "\n",
    "  # ...or depending on the file type\n",
    "  #load(\"/buckets/bucketfs1/bucket1/rf_model.dat\")\n",
    "\n",
    "  # Split input into modest sized chunks, this can be adjusted for memory consumption\n",
    "  repeat{\n",
    "    if (!ctx$next_row(1000000))\n",
    "        break\n",
    "\n",
    "  # Populate list with data columns\n",
    "  for (i in 1:numCols){\n",
    "\n",
    "        l[[i]] <- ctx[[i]]()\n",
    "\n",
    "  }\n",
    "\n",
    "  # Convert to data.frame for modelling\n",
    "  df = as.data.frame(l)\n",
    "\n",
    "  # Set the column names\n",
    "\n",
    "  # From the model object, note: model/scenario specific\n",
    "  # the_colnames <- names(rf_model$forest$xlevels)\n",
    "  # colnames(df) = the_colnames\n",
    "\n",
    "  # Assign manually, note: not dynamic\n",
    "  # Note: case sensitive when using double quotes\n",
    "  colnames(df) <- c(\"id\", \"crim\", \"zn\", \"indus\", \"chas\", \"nox\", \"rm\",\n",
    "  \"age\", \"dis\", \"rad\", \"tax\", \"ptratio\", \"b\", \"lstat\", \"medv\", \"split\")\n",
    "\n",
    "  # Get predictions\n",
    "  prediction   <- predict(rf_model, newdata = df)\n",
    "\n",
    "  # Output ids, real values and predicted ones\n",
    "  ctx$emit(df$id, df$medv, prediction)\n",
    "  }\n",
    "}\n",
    "/\n",
    "\n",
    "-- 2. Run prediction function\n",
    "SELECT r_demo.predict3(id,crim, zn, indus, chas, nox, rm, age, dis, rad, tax, ptratio, b, lstat, medv, split)\n",
    "FROM   r_demo.boston_housing\n",
    "WHERE  split = 'Test'\n",
    "GROUP  BY IPROC()         -- Node number for data locality\n",
    "        , MOD(IPROC(), 5) -- Number of processes per node\n",
    "ORDER  BY id;\n",
    "```"
   ]
  },
  {
   "cell_type": "code",
   "execution_count": null,
   "metadata": {},
   "outputs": [],
   "source": []
  }
 ],
 "metadata": {
  "kernelspec": {
   "display_name": "R",
   "language": "R",
   "name": "ir"
  },
  "language_info": {
   "codemirror_mode": "r",
   "file_extension": ".r",
   "mimetype": "text/x-r-source",
   "name": "R",
   "pygments_lexer": "r",
   "version": "3.5.1"
  }
 },
 "nbformat": 4,
 "nbformat_minor": 2
}
