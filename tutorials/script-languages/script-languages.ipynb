{
 "cells": [
  {
   "cell_type": "markdown",
   "metadata": {},
   "source": [
    "# Using Script-Language Container"
   ]
  },
  {
   "cell_type": "markdown",
   "metadata": {},
   "source": [
    "A Script-Language Container for the Exasol consists of a Linux container with a complete Linux distribution and all required libraries, such as a script client. A script client is responsible for the communication with the database and for executing the script code."
   ]
  },
  {
   "cell_type": "markdown",
   "metadata": {},
   "source": [
    "## Preparing Notebook"
   ]
  },
  {
   "cell_type": "markdown",
   "metadata": {},
   "source": [
    "**Note:** To run this Notebook you need python3.6+ and Docker 17.05+ and your notebooks user needs the permissions to use docker."
   ]
  },
  {
   "cell_type": "code",
   "execution_count": 2,
   "metadata": {},
   "outputs": [
    {
     "name": "stdout",
     "output_type": "stream",
     "text": [
      "Requirement already satisfied: pexpect==4.8.0 in /opt/conda/lib/python3.7/site-packages (from -r requirements.txt (line 1)) (4.8.0)\n",
      "Requirement already satisfied: pyexasol==0.16.1 in /opt/conda/lib/python3.7/site-packages (from -r requirements.txt (line 2)) (0.16.1)\n",
      "Requirement already satisfied: requests==2.25.1 in /opt/conda/lib/python3.7/site-packages (from -r requirements.txt (line 3)) (2.25.1)\n",
      "Requirement already satisfied: ptyprocess>=0.5 in /opt/conda/lib/python3.7/site-packages (from pexpect==4.8.0->-r requirements.txt (line 1)) (0.6.0)\n",
      "Requirement already satisfied: websocket-client>=0.47.0 in /opt/conda/lib/python3.7/site-packages (from pyexasol==0.16.1->-r requirements.txt (line 2)) (0.57.0)\n",
      "Requirement already satisfied: rsa in /opt/conda/lib/python3.7/site-packages (from pyexasol==0.16.1->-r requirements.txt (line 2)) (4.6)\n",
      "Requirement already satisfied: idna<3,>=2.5 in /opt/conda/lib/python3.7/site-packages (from requests==2.25.1->-r requirements.txt (line 3)) (2.10)\n",
      "Requirement already satisfied: certifi>=2017.4.17 in /opt/conda/lib/python3.7/site-packages (from requests==2.25.1->-r requirements.txt (line 3)) (2020.12.5)\n",
      "Requirement already satisfied: chardet<5,>=3.0.2 in /opt/conda/lib/python3.7/site-packages (from requests==2.25.1->-r requirements.txt (line 3)) (3.0.4)\n",
      "Requirement already satisfied: urllib3<1.27,>=1.21.1 in /opt/conda/lib/python3.7/site-packages (from requests==2.25.1->-r requirements.txt (line 3)) (1.26.2)\n",
      "Requirement already satisfied: six in /opt/conda/lib/python3.7/site-packages (from websocket-client>=0.47.0->pyexasol==0.16.1->-r requirements.txt (line 2)) (1.15.0)\n",
      "Requirement already satisfied: pyasn1>=0.1.3 in /opt/conda/lib/python3.7/site-packages (from rsa->pyexasol==0.16.1->-r requirements.txt (line 2)) (0.4.8)\n"
     ]
    }
   ],
   "source": [
    "!pip install -r requirements.txt"
   ]
  },
  {
   "cell_type": "code",
   "execution_count": 3,
   "metadata": {},
   "outputs": [],
   "source": [
    "import bash_runner as bash # A helper to run bash with interactive output from python\n",
    "import importlib\n",
    "from pathlib import Path\n",
    "import pyexasol\n",
    "import requests\n",
    "import textwrap"
   ]
  },
  {
   "cell_type": "markdown",
   "metadata": {},
   "source": [
    "## Cloning the Git Repository"
   ]
  },
  {
   "cell_type": "markdown",
   "metadata": {},
   "source": [
    "To use the Script-Language Container we need to clone their Git Repository with\n",
    "\n",
    "```\n",
    "git clone https://github.com/exasol/script-languages-release --recursive\n",
    "```\n",
    "\n",
    "We need to use `--recursive` because the repoistory has submodules"
   ]
  },
  {
   "cell_type": "code",
   "execution_count": 60,
   "metadata": {},
   "outputs": [
    {
     "name": "stdout",
     "output_type": "stream",
     "text": [
      "HEAD is now at 3bb2b47 Renaming certain things to udf plugins (#171)\n",
      "Entering 'script-languages'\n",
      "HEAD is now at ed13033 Renaming certain things to udf plugins (#168)\n"
     ]
    }
   ],
   "source": [
    "slc_path=\"script-languages-release\"\n",
    "if not Path(slc_path).exists():\n",
    "    bash.run(\"\"\"\n",
    "    git clone https://github.com/exasol/script-languages-release --recursive\n",
    "    \"\"\")\n",
    "else:\n",
    "    bash.run(f\"\"\"\n",
    "    cd {slc_path}\n",
    "    git reset --hard origin/master \n",
    "    git submodule foreach git reset --hard origin/master \n",
    "    \"\"\")"
   ]
  },
  {
   "cell_type": "markdown",
   "metadata": {},
   "source": [
    "## Buiding and Exporting a Container"
   ]
  },
  {
   "cell_type": "markdown",
   "metadata": {},
   "source": [
    "To build and export the container you can use `exaslct`. It first builds a series of docker images and then exports the container as tar.gz package. A container is here by defined as a flavor. For this example, we use `flavors/python3-ds-EXASOL-6.1.0` and export it to the directory `containers`.\n",
    "\n",
    "A container get builds via a series of docker images which then gets exported into a tar file."
   ]
  },
  {
   "cell_type": "code",
   "execution_count": 6,
   "metadata": {},
   "outputs": [
    {
     "name": "stdout",
     "output_type": "stream",
     "text": [
      "~/data-science-examples/tutorials/script-languages/script-languages-release ~/data-science-examples/tutorials/script-languages\n",
      "INFO: Informed scheduler that task   DockerCreateImageTask_dd7bd152a9   has status   PENDING\n",
      "INFO: [pid 8746] Worker Worker(salt=304094110, workers=5, host=test-statsmodels, username=jupyter, pid=8660) running   DockerCreateImageTask_dd7bd152a9(image_name=exasol/script-language-container:python3-ds-EXASOL-6.1.0-release)\n",
      "INFO: DockerCreateImageTask_dd7bd152a9(image_name=exasol/script-language-container:python3-ds-EXASOL-6.1.0-release): Write complete_target\n",
      "INFO: DockerCreateImageTask_dd7bd152a9(image_name=exasol/script-language-container:python3-ds-EXASOL-6.1.0-release): Time since first_run 0.004916 s\n",
      "INFO: DockerCreateImageTask_dd7bd152a9(image_name=exasol/script-language-container:python3-ds-EXASOL-6.1.0-release): Time since creation 0.06935 s\n",
      "INFO: DockerCreateImageTask_dd7bd152a9(image_name=exasol/script-language-container:python3-ds-EXASOL-6.1.0-release): Total runtime of run method 0.00473 s\n",
      "INFO: [pid 8746] Worker Worker(salt=304094110, workers=5, host=test-statsmodels, username=jupyter, pid=8660) done      DockerCreateImageTask_dd7bd152a9(image_name=exasol/script-language-container:python3-ds-EXASOL-6.1.0-release)\n",
      "INFO: Informed scheduler that task   DockerCreateImageTask_dd7bd152a9   has status   DONE\n"
     ]
    }
   ],
   "source": [
    "bash.run(f\"\"\"\n",
    "pushd {slc_path}\n",
    "./exaslct export --flavor-path flavors/python3-ds-EXASOL-6.1.0 --export-path containers 2>&1 | grep -E \"CreateImageTask\"\n",
    "\"\"\")"
   ]
  },
  {
   "cell_type": "markdown",
   "metadata": {},
   "source": [
    "### What to do if something doesn't work?"
   ]
  },
  {
   "cell_type": "markdown",
   "metadata": {},
   "source": [
    "During the build it can happen that external package repositories might be not available or something is wrong on your machine where you run the build. For these cases, `exaslct` stores many logs to identify the problem after a build."
   ]
  },
  {
   "cell_type": "markdown",
   "metadata": {},
   "source": [
    "#### Exaslsct Log"
   ]
  },
  {
   "cell_type": "markdown",
   "metadata": {},
   "source": [
    "The main log for `exaslct` is stored directly in `exaslct.log`. However, it gets overwritten when you start `exaslct` again."
   ]
  },
  {
   "cell_type": "code",
   "execution_count": 7,
   "metadata": {},
   "outputs": [
    {
     "name": "stdout",
     "output_type": "stream",
     "text": [
      "===== Luigi Execution Summary =====\n",
      "\n",
      "The command took 1.9479 s\n",
      "\n",
      "Cached container under /home/jupyter/data-science-examples/tutorials/script-languages/script-languages-release/.build_output/cache/exports/python3-ds-EXASOL-6.1.0-release-EYFRS54NWXPTDZOBU2ZWGIXIID77PTCFMM2LLHPQNWDGQAQUNIAA.tar.gz\n",
      "\n",
      "Copied container to containers/python3-ds-EXASOL-6.1.0_release.tar.gz\n",
      "\n",
      "=================================================\n",
      "\n"
     ]
    }
   ],
   "source": [
    "bash.run(f\"\"\"tail {slc_path}/exaslct.log\"\"\")"
   ]
  },
  {
   "cell_type": "markdown",
   "metadata": {},
   "source": [
    "#### Build Output Directory"
   ]
  },
  {
   "cell_type": "markdown",
   "metadata": {},
   "source": [
    "More detailed information about the build or other operations can be found in the `.build_output/jobs/*/outputs` directory. Here each run of `exaslsct` create its own directory under `.build_output/jobs`. The `outputs` directory stores each executed task of `exaslct` it outputs and log files in case it produces these. Especially, the Docker tasks such as build, pull and push store the logs returned by the Docker API. This can be helpful for finding problems during build."
   ]
  },
  {
   "cell_type": "code",
   "execution_count": 11,
   "metadata": {},
   "outputs": [
    {
     "name": "stdout",
     "output_type": "stream",
     "text": [
      "script-languages-release/.build_output/jobs/2021_02_02_14_35_45_ExportContainers/outputs/ExportContainers_f37a5ea1f2/ExportFlavorContainer_e86e757fc9/DockerCreateImageTask_71d7aa0ee0/DockerPullImageTask_71d7aa0ee0/logs/pull_docker_db_image.log\n",
      "script-languages-release/.build_output/jobs/2021_02_02_14_35_45_ExportContainers/outputs/ExportContainers_f37a5ea1f2/ExportFlavorContainer_e86e757fc9/DockerCreateImageTask_4549ffca71/DockerPullImageTask_4549ffca71/logs/pull_docker_db_image.log\n",
      "script-languages-release/.build_output/jobs/2021_02_02_14_35_45_ExportContainers/outputs/ExportContainers_f37a5ea1f2/ExportFlavorContainer_e86e757fc9/DockerCreateImageTask_526d33ac10/DockerPullImageTask_526d33ac10/logs/pull_docker_db_image.log\n",
      "script-languages-release/.build_output/jobs/2021_02_02_14_35_45_ExportContainers/outputs/ExportContainers_f37a5ea1f2/ExportFlavorContainer_e86e757fc9/DockerCreateImageTaskWithDeps_896a1b9ed7/DockerBuildImageTask_6dd52ef48f/logs/docker-build.log\n",
      "script-languages-release/.build_output/jobs/2021_02_02_14_41_31_ExportContainers/outputs/ExportContainers_ebe27f16ad/ExportFlavorContainer_bf745739c4/DockerCreateImageTask_abea6fae42/DockerPullImageTask_abea6fae42/logs/pull_docker_db_image.log\n",
      "script-languages-release/.build_output/jobs/2021_02_02_14_41_31_ExportContainers/outputs/ExportContainers_ebe27f16ad/ExportFlavorContainer_bf745739c4/DockerCreateImageTaskWithDeps_2afd109f2e/DockerBuildImageTask_f8475e2b98/logs/docker-build.log\n",
      "script-languages-release/.build_output/jobs/2021_02_02_14_41_31_ExportContainers/outputs/ExportContainers_ebe27f16ad/ExportFlavorContainer_bf745739c4/DockerCreateImageTaskWithDeps_9841cdeadf/DockerBuildImageTask_ee1727c8ed/logs/docker-build.log\n",
      "script-languages-release/.build_output/jobs/2021_02_02_14_41_31_ExportContainers/outputs/ExportContainers_ebe27f16ad/ExportFlavorContainer_bf745739c4/DockerCreateImageTask_ccefc49f3f/DockerPullImageTask_ccefc49f3f/logs/pull_docker_db_image.log\n",
      "script-languages-release/.build_output/jobs/2021_02_02_14_41_31_ExportContainers/outputs/ExportContainers_ebe27f16ad/ExportFlavorContainer_bf745739c4/DockerCreateImageTask_e545614e30/DockerPullImageTask_e545614e30/logs/pull_docker_db_image.log\n",
      "script-languages-release/.build_output/jobs/2021_02_04_11_17_41_UploadContainers/outputs/UploadContainers_a3be26a58b/UploadFlavorContainers_f89060d750/DockerCreateImageTask_e2a49a4919/DockerPullImageTask_e2a49a4919/logs/pull_docker_db_image.log\n"
     ]
    }
   ],
   "source": [
    "bash.run(f\"\"\"\n",
    "find {slc_path}/.build_output/jobs/*/outputs -type f -name '*log' | tail\n",
    "\"\"\")"
   ]
  },
  {
   "cell_type": "markdown",
   "metadata": {},
   "source": [
    "## Customizing Script-Language Containers"
   ]
  },
  {
   "cell_type": "markdown",
   "metadata": {},
   "source": [
    "Sometimes you need very specific dependencies or versions of dependencies in the Exasol UDFs. In such a case you can customize a Script-Language Container."
   ]
  },
  {
   "cell_type": "markdown",
   "metadata": {},
   "source": [
    "### Flavors of Containers"
   ]
  },
  {
   "cell_type": "markdown",
   "metadata": {},
   "source": [
    "We provide several flavors of containers as a starting point. They provide different languages and different sets of dependencies."
   ]
  },
  {
   "cell_type": "code",
   "execution_count": 12,
   "metadata": {},
   "outputs": [
    {
     "name": "stdout",
     "output_type": "stream",
     "text": [
      "script-languages-release/flavors/fancyr-EXASOL-6.1.0\n",
      "script-languages-release/flavors/standard-EXASOL-6.1.0\n",
      "script-languages-release/flavors/python3-ds-EXASOL-6.1.0\n",
      "script-languages-release/flavors/standard-EXASOL-7.0.0\n",
      "script-languages-release/flavors/standard-EXASOL-6.2.0\n",
      "script-languages-release/flavors/python3-ds-cuda-preview-EXASOL-6.1.0\n"
     ]
    }
   ],
   "source": [
    "bash.run(f\"\"\"\n",
    "find {slc_path}/flavors/  -maxdepth 1 -name '*EXASOL*'\n",
    "\"\"\")"
   ]
  },
  {
   "cell_type": "markdown",
   "metadata": {},
   "source": [
    "### Flavor Definition"
   ]
  },
  {
   "cell_type": "markdown",
   "metadata": {},
   "source": [
    "Here you can see how a flavor is structured. A flavor consists for several build steps. The build step `flavor_customization` contains everything you need to customize a flavor. The remaining build steps should be only changed with care, but sometimes some dependencies are defined in other build steps because the script client depends on them."
   ]
  },
  {
   "cell_type": "code",
   "execution_count": 13,
   "metadata": {},
   "outputs": [
    {
     "name": "stdout",
     "output_type": "stream",
     "text": [
      "script-languages-release/flavors/python3-ds-EXASOL-6.1.0\n",
      "script-languages-release/flavors/python3-ds-EXASOL-6.1.0/flavor_customization\n",
      "script-languages-release/flavors/python3-ds-EXASOL-6.1.0/flavor_customization/Dockerfile\n",
      "script-languages-release/flavors/python3-ds-EXASOL-6.1.0/flavor_customization/packages\n",
      "script-languages-release/flavors/python3-ds-EXASOL-6.1.0/flavor_base\n",
      "script-languages-release/flavors/python3-ds-EXASOL-6.1.0/flavor_base/base_test_build_run\n",
      "script-languages-release/flavors/python3-ds-EXASOL-6.1.0/flavor_base/release\n",
      "script-languages-release/flavors/python3-ds-EXASOL-6.1.0/flavor_base/testconfig\n",
      "script-languages-release/flavors/python3-ds-EXASOL-6.1.0/flavor_base/flavor_test_build_run\n",
      "script-languages-release/flavors/python3-ds-EXASOL-6.1.0/flavor_base/base_test_deps\n",
      "script-languages-release/flavors/python3-ds-EXASOL-6.1.0/flavor_base/language_definition\n",
      "script-languages-release/flavors/python3-ds-EXASOL-6.1.0/flavor_base/build_run\n",
      "script-languages-release/flavors/python3-ds-EXASOL-6.1.0/flavor_base/flavor_base_deps\n",
      "script-languages-release/flavors/python3-ds-EXASOL-6.1.0/flavor_base/build_deps\n",
      "script-languages-release/flavors/python3-ds-EXASOL-6.1.0/flavor_base/language_deps\n",
      "script-languages-release/flavors/python3-ds-EXASOL-6.1.0/flavor_base/build_steps.py\n",
      "script-languages-release/flavors/python3-ds-EXASOL-6.1.0/flavor_base/udfclient_deps\n",
      "script-languages-release/flavors/python3-ds-EXASOL-6.1.0/FLAVOR_DESCRIPTION.md\n"
     ]
    }
   ],
   "source": [
    "bash.run(f\"\"\" \n",
    "find -L {slc_path}/flavors/python3-ds-EXASOL-6.1.0 -maxdepth 2\n",
    "\"\"\")"
   ]
  },
  {
   "cell_type": "markdown",
   "metadata": {},
   "source": [
    "### Flavor Customization Build Step"
   ]
  },
  {
   "cell_type": "markdown",
   "metadata": {},
   "source": [
    "The build step `flavor_customization` consists of a Dockerfile and several package lists which can be modified."
   ]
  },
  {
   "cell_type": "code",
   "execution_count": 14,
   "metadata": {},
   "outputs": [
    {
     "name": "stdout",
     "output_type": "stream",
     "text": [
      "script-languages-release/flavors/python3-ds-EXASOL-6.1.0/flavor_customization/Dockerfile\n",
      "script-languages-release/flavors/python3-ds-EXASOL-6.1.0/flavor_customization/packages/python3_pip_packages\n",
      "script-languages-release/flavors/python3-ds-EXASOL-6.1.0/flavor_customization/packages/apt_get_packages\n"
     ]
    }
   ],
   "source": [
    "bash.run(f\"\"\" \n",
    "find -L {slc_path}/flavors/python3-ds-EXASOL-6.1.0/flavor_customization -type f\n",
    "\"\"\")"
   ]
  },
  {
   "cell_type": "markdown",
   "metadata": {},
   "source": [
    "#### Dockerfile"
   ]
  },
  {
   "cell_type": "markdown",
   "metadata": {},
   "source": [
    "The Dockefile contains parts which you should only modify with care."
   ]
  },
  {
   "cell_type": "code",
   "execution_count": 15,
   "metadata": {},
   "outputs": [
    {
     "name": "stdout",
     "output_type": "stream",
     "text": [
      "############################################################################################\n",
      "############################################################################################\n",
      "# This Dockerfile allows you to extend this flavor by installing packages or adding files. \n",
      "# IF you didn't change the lines below, you can add packages and their version to the  \n",
      "# files in ./packages and they get automatically installed.                                \n",
      "############################################################################################\n",
      "############################################################################################\n",
      "\n",
      "#######################################################################\n",
      "#######################################################################\n",
      "# Do not change the following lines unless you know what you are doing \n",
      "#######################################################################\n",
      "#######################################################################\n",
      "\n",
      "FROM {{flavor_base_deps}}\n",
      "\n",
      "RUN mkdir -p /build_info/packages/flavor_customization\n",
      "\n",
      "COPY flavor_customization/packages/apt_get_packages /build_info/packages/flavor_customization\n",
      "RUN /scripts/install_scripts/install_via_apt.pl --file /build_info/packages/flavor_customization/apt_get_packages --with-versions --allow-no-version\n",
      "\n",
      "COPY flavor_customization/packages/python3_pip_packages /build_info/packages/flavor_customization\n",
      "RUN /scripts/install_scripts/install_via_pip.pl --file /build_info/packages/flavor_customization/python3_pip_packages --python-binary python3 --with-versions --allow-no-version\n",
      "\n",
      "\n",
      "##########################################################################\n",
      "##########################################################################\n",
      "# Below this text you can add any Dockerfile commands except of FROM.            \n",
      "# However only commands which change the filesystem will be              \n",
      "# reflected to the final script-language container.                      \n",
      "# We recommend to use only RUN, COPY and ADD. For example, WORKDIR, USER \n",
      "# and ENV will be not carried over into the final container. For more \n",
      "# information about Dockerfile commands, please check the reference \n",
      "# https://docs.docker.com/engine/reference/builder/#dockerfile-reference \n",
      "##########################################################################\n",
      "##########################################################################\n",
      "\n",
      "\n",
      "###########\n",
      "###########\n",
      "# Examples:\n",
      "###########\n",
      "###########\n",
      "\n",
      "#################################################\n",
      "# Execute a command during the build of the image\n",
      "#################################################\n",
      "\n",
      "# With RUN you can excute any command you usally would run in a bash shell.\n",
      "# It usually is a good idea to cleanup downloaded files or packages \n",
      "# caches in the same in the same RUN statement to keep the image size\n",
      "# small. You can execute multiple shell commands in one RUN statement\n",
      "# by combine them with \n",
      "# - `&&` (only execute if the previous command was successfull), \n",
      "# - `||` (only execute if the previous command was unsuccesfull)\n",
      "# - `;` (execute regardless of the success of the previous command)\n",
      "# To format multiple command per RUN statement you can add a line break with `\\`.\n",
      "# If you need to execute complex sequences of commands you should execute\n",
      "# scripts which you can copy into the image.\n",
      "# -------------------------------------------------------------------------------\n",
      "\n",
      "# RUN git clone https://github.com/exasol/data-science-examples\n",
      "# RUN curl -o data-science-examples.zip https://codeload.github.com/exasol/data-science-examples/zip/master && \\\n",
      "#     unzip data-science-examples.zip && \\\n",
      "#     rm data-science-examples.zip\n",
      "\n",
      "#####################################\n",
      "# Copy a file from ./ into the image. \n",
      "#####################################\n",
      "\n",
      "# In case of exaslct it is important to prefix source files or directories with `flavor_customization`\n",
      "# if you want to copy files or directories located in the same directory as this Dockerfile\n",
      "# -----------------------------------------------------------------------------------------------------\n",
      "\n",
      "# COPY flavor_customization/packages/pip3_packages /build_info/packages/flavor_base_deps\n",
      "# ADD flavor_customization/code.tar.gz /code\n",
      "\n"
     ]
    }
   ],
   "source": [
    "bash.run(f\"\"\" \n",
    "cat {slc_path}/flavors/python3-ds-EXASOL-6.1.0/flavor_customization/Dockerfile\n",
    "\"\"\")"
   ]
  },
  {
   "cell_type": "markdown",
   "metadata": {},
   "source": [
    "#### Package Lists"
   ]
  },
  {
   "cell_type": "markdown",
   "metadata": {},
   "source": [
    "The package lists have a unified format as you see below. We usually recommand to pin the version, such that there are no suprises."
   ]
  },
  {
   "cell_type": "code",
   "execution_count": 16,
   "metadata": {},
   "outputs": [
    {
     "name": "stdout",
     "output_type": "stream",
     "text": [
      "# This file specifies the package list which gets installed via pip for python3.\n",
      "# You must specify the the package and its version separated by a |.\n",
      "# We recommend here the usage of package versions, to ensure that the container \n",
      "# builds are reproducible. However, we allow also packages without version.\n",
      "# As you can see, this file can contain comments which start with #.\n",
      "# If a line starts with # the whole line is a comment, however you can\n",
      "# also start a comment after the package definition.\n",
      "\n",
      "#tensorflow-probability|0.9.0\n"
     ]
    }
   ],
   "source": [
    "bash.run(f\"\"\" \n",
    "cat {slc_path}/flavors/python3-ds-EXASOL-6.1.0/flavor_customization/packages/python3_pip_packages\n",
    "\"\"\")"
   ]
  },
  {
   "cell_type": "code",
   "execution_count": 61,
   "metadata": {},
   "outputs": [],
   "source": [
    "bash.run(f\"\"\" \n",
    "echo \"xgboost|1.3.3\" >> {slc_path}/flavors/python3-ds-EXASOL-6.1.0/flavor_customization/packages/python3_pip_packages\n",
    "\"\"\")"
   ]
  },
  {
   "cell_type": "code",
   "execution_count": 62,
   "metadata": {},
   "outputs": [
    {
     "name": "stdout",
     "output_type": "stream",
     "text": [
      "# This file specifies the package list which gets installed via pip for python3.\n",
      "# You must specify the the package and its version separated by a |.\n",
      "# We recommend here the usage of package versions, to ensure that the container \n",
      "# builds are reproducible. However, we allow also packages without version.\n",
      "# As you can see, this file can contain comments which start with #.\n",
      "# If a line starts with # the whole line is a comment, however you can\n",
      "# also start a comment after the package definition.\n",
      "\n",
      "#tensorflow-probability|0.9.0\n",
      "xgboost|1.3.3\n"
     ]
    }
   ],
   "source": [
    "bash.run(f\"\"\" \n",
    "cat {slc_path}/flavors/python3-ds-EXASOL-6.1.0/flavor_customization/packages/python3_pip_packages\n",
    "\"\"\")"
   ]
  },
  {
   "cell_type": "markdown",
   "metadata": {},
   "source": [
    "#### Rebuilding the customized Flavor"
   ]
  },
  {
   "cell_type": "markdown",
   "metadata": {},
   "source": [
    "After you changed your flavor you need to rebuild it."
   ]
  },
  {
   "cell_type": "code",
   "execution_count": 63,
   "metadata": {},
   "outputs": [
    {
     "name": "stdout",
     "output_type": "stream",
     "text": [
      "~/data-science-examples/tutorials/script-languages/script-languages-release ~/data-science-examples/tutorials/script-languages\n",
      "INFO: Informed scheduler that task   ExportContainers_b5e7f2ab98   has status   PENDING\n",
      "INFO: Informed scheduler that task   ExportFlavorContainer_26a0b4cd24   has status   PENDING\n",
      "INFO: [pid 2982] Worker Worker(salt=306773414, workers=5, host=test-statsmodels, username=jupyter, pid=2896) running   ExportFlavorContainer_26a0b4cd24(flavor_path=flavors/python3-ds-EXASOL-6.1.0, release_goals=[\"release\"], export_path=containers, release_name=)\n",
      "INFO: [pid 2982] Worker Worker(salt=306773414, workers=5, host=test-statsmodels, username=jupyter, pid=2896) new requirements      ExportFlavorContainer_26a0b4cd24(flavor_path=flavors/python3-ds-EXASOL-6.1.0, release_goals=[\"release\"], export_path=containers, release_name=)\n",
      "INFO: Informed scheduler that task   ExportContainerTask_e02ed616fc   has status   PENDING\n",
      "INFO: Informed scheduler that task   CreateExportDirectory_ef24766472   has status   PENDING\n",
      "INFO: Informed scheduler that task   ExportFlavorContainer_26a0b4cd24   has status   PENDING\n",
      "INFO: [pid 2984] Worker Worker(salt=306773414, workers=5, host=test-statsmodels, username=jupyter, pid=2896) running   CreateExportDirectory_ef24766472()\n",
      "INFO: CreateExportDirectory_ef24766472(): Write complete_target\n",
      "INFO: CreateExportDirectory_ef24766472(): Time since first_run 0.007063 s\n",
      "INFO: CreateExportDirectory_ef24766472(): Time since creation 0.086254 s\n",
      "INFO: CreateExportDirectory_ef24766472(): Total runtime of run method 0.006823 s\n",
      "INFO: [pid 2984] Worker Worker(salt=306773414, workers=5, host=test-statsmodels, username=jupyter, pid=2896) done      CreateExportDirectory_ef24766472()\n",
      "INFO: Informed scheduler that task   CreateExportDirectory_ef24766472   has status   DONE\n",
      "INFO: Informed scheduler that task   DockerBuildImageTask_c86365106c   has status   PENDING\n",
      "INFO: [pid 2994] Worker Worker(salt=306773414, workers=5, host=test-statsmodels, username=jupyter, pid=2896) running   DockerBuildImageTask_c86365106c(image_name=exasol/script-language-container:python3-ds-EXASOL-6.1.0-flavor_customization)\n",
      "INFO: DockerBuildImageTask_c86365106c(image_name=exasol/script-language-container:python3-ds-EXASOL-6.1.0-flavor_customization): Build docker image exasol/script-language-container:python3-ds-EXASOL-6.1.0-flavor_customization_NPXWYZE6EBXAWHDPJVP6GVFSJTLVSG3YCK2GNUKPEOYLJDOW4HPA, log file can be found here .build_output/jobs/2021_02_08_11_32_56_ExportContainers/outputs/ExportContainers_b5e7f2ab98/ExportFlavorContainer_26a0b4cd24/DockerCreateImageTaskWithDeps_bae7286e00/DockerBuildImageTask_c86365106c/logs\n",
      "INFO: DockerBuildImageTask_c86365106c(image_name=exasol/script-language-container:python3-ds-EXASOL-6.1.0-flavor_customization): Write complete_target\n",
      "INFO: DockerBuildImageTask_c86365106c(image_name=exasol/script-language-container:python3-ds-EXASOL-6.1.0-flavor_customization): Time since first_run 50.964236 s\n",
      "INFO: DockerBuildImageTask_c86365106c(image_name=exasol/script-language-container:python3-ds-EXASOL-6.1.0-flavor_customization): Time since creation 50.98887 s\n",
      "INFO: DockerBuildImageTask_c86365106c(image_name=exasol/script-language-container:python3-ds-EXASOL-6.1.0-flavor_customization): Total runtime of run method 50.96285 s\n",
      "INFO: [pid 2994] Worker Worker(salt=306773414, workers=5, host=test-statsmodels, username=jupyter, pid=2896) done      DockerBuildImageTask_c86365106c(image_name=exasol/script-language-container:python3-ds-EXASOL-6.1.0-flavor_customization)\n",
      "INFO: Informed scheduler that task   DockerBuildImageTask_c86365106c   has status   DONE\n",
      "INFO: Informed scheduler that task   DockerBuildImageTask_7b8c282af4   has status   PENDING\n",
      "INFO: [pid 3779] Worker Worker(salt=306773414, workers=5, host=test-statsmodels, username=jupyter, pid=2896) running   DockerBuildImageTask_7b8c282af4(image_name=exasol/script-language-container:python3-ds-EXASOL-6.1.0-release)\n",
      "INFO: DockerBuildImageTask_7b8c282af4(image_name=exasol/script-language-container:python3-ds-EXASOL-6.1.0-release): Build docker image exasol/script-language-container:python3-ds-EXASOL-6.1.0-release_ZU7VCDQ3SQ6SDH2WNNYMWM5PJXM5XBPTKNVQCYTWFTNQZA2RUZ6Q, log file can be found here .build_output/jobs/2021_02_08_11_32_56_ExportContainers/outputs/ExportContainers_b5e7f2ab98/ExportFlavorContainer_26a0b4cd24/DockerCreateImageTaskWithDeps_9b04966467/DockerBuildImageTask_7b8c282af4/logs\n",
      "INFO: DockerBuildImageTask_7b8c282af4(image_name=exasol/script-language-container:python3-ds-EXASOL-6.1.0-release): Still running build image exasol/script-language-container:python3-ds-EXASOL-6.1.0-release_ZU7VCDQ3SQ6SDH2WNNYMWM5PJXM5XBPTKNVQCYTWFTNQZA2RUZ6Q.\n",
      "INFO: DockerBuildImageTask_7b8c282af4(image_name=exasol/script-language-container:python3-ds-EXASOL-6.1.0-release): Write complete_target\n",
      "INFO: DockerBuildImageTask_7b8c282af4(image_name=exasol/script-language-container:python3-ds-EXASOL-6.1.0-release): Time since first_run 194.414972 s\n",
      "INFO: DockerBuildImageTask_7b8c282af4(image_name=exasol/script-language-container:python3-ds-EXASOL-6.1.0-release): Time since creation 194.449541 s\n",
      "INFO: DockerBuildImageTask_7b8c282af4(image_name=exasol/script-language-container:python3-ds-EXASOL-6.1.0-release): Total runtime of run method 194.413328 s\n",
      "INFO: [pid 3779] Worker Worker(salt=306773414, workers=5, host=test-statsmodels, username=jupyter, pid=2896) done      DockerBuildImageTask_7b8c282af4(image_name=exasol/script-language-container:python3-ds-EXASOL-6.1.0-release)\n",
      "INFO: Informed scheduler that task   DockerBuildImageTask_7b8c282af4   has status   DONE\n",
      "INFO: [pid 4962] Worker Worker(salt=306773414, workers=5, host=test-statsmodels, username=jupyter, pid=2896) running   ExportContainerTask_e02ed616fc(flavor_path=flavors/python3-ds-EXASOL-6.1.0, export_path=containers, release_name=, release_goal=release)\n",
      "INFO: ExportContainerTask_e02ed616fc(flavor_path=flavors/python3-ds-EXASOL-6.1.0, export_path=containers, release_name=, release_goal=release): Create container file /home/jupyter/data-science-examples/tutorials/script-languages/script-languages-release/.build_output/cache/exports/python3-ds-EXASOL-6.1.0-release-ZU7VCDQ3SQ6SDH2WNNYMWM5PJXM5XBPTKNVQCYTWFTNQZA2RUZ6Q.tar.gz\n",
      "INFO: ExportContainerTask_e02ed616fc(flavor_path=flavors/python3-ds-EXASOL-6.1.0, export_path=containers, release_name=, release_goal=release): Export container exasol/script-language-container:python3-ds-EXASOL-6.1.0-release_ZU7VCDQ3SQ6SDH2WNNYMWM5PJXM5XBPTKNVQCYTWFTNQZA2RUZ6Q\n",
      "INFO: ExportContainerTask_e02ed616fc(flavor_path=flavors/python3-ds-EXASOL-6.1.0, export_path=containers, release_name=, release_goal=release): Extract exported file /tmp/release_archive_8om20d26/export.tar\n",
      "INFO: ExportContainerTask_e02ed616fc(flavor_path=flavors/python3-ds-EXASOL-6.1.0, export_path=containers, release_name=, release_goal=release): Pack container file /home/jupyter/data-science-examples/tutorials/script-languages/script-languages-release/.build_output/cache/exports/python3-ds-EXASOL-6.1.0-release-ZU7VCDQ3SQ6SDH2WNNYMWM5PJXM5XBPTKNVQCYTWFTNQZA2RUZ6Q.tar.gz\n",
      "INFO: ExportContainerTask_e02ed616fc(flavor_path=flavors/python3-ds-EXASOL-6.1.0, export_path=containers, release_name=, release_goal=release): Still running packing container file /home/jupyter/data-science-examples/tutorials/script-languages/script-languages-release/.build_output/cache/exports/python3-ds-EXASOL-6.1.0-release-ZU7VCDQ3SQ6SDH2WNNYMWM5PJXM5XBPTKNVQCYTWFTNQZA2RUZ6Q.tar.gz.\n",
      "INFO: ExportContainerTask_e02ed616fc(flavor_path=flavors/python3-ds-EXASOL-6.1.0, export_path=containers, release_name=, release_goal=release): Compute checksum for container file /home/jupyter/data-science-examples/tutorials/script-languages/script-languages-release/.build_output/cache/exports/python3-ds-EXASOL-6.1.0-release-ZU7VCDQ3SQ6SDH2WNNYMWM5PJXM5XBPTKNVQCYTWFTNQZA2RUZ6Q.tar.gz\n",
      "INFO: ExportContainerTask_e02ed616fc(flavor_path=flavors/python3-ds-EXASOL-6.1.0, export_path=containers, release_name=, release_goal=release): Write complete_target\n",
      "INFO: ExportContainerTask_e02ed616fc(flavor_path=flavors/python3-ds-EXASOL-6.1.0, export_path=containers, release_name=, release_goal=release): Time since first_run 224.740591 s\n",
      "INFO: ExportContainerTask_e02ed616fc(flavor_path=flavors/python3-ds-EXASOL-6.1.0, export_path=containers, release_name=, release_goal=release): Time since creation 470.520261 s\n",
      "INFO: ExportContainerTask_e02ed616fc(flavor_path=flavors/python3-ds-EXASOL-6.1.0, export_path=containers, release_name=, release_goal=release): Total runtime of run method 224.739034 s\n",
      "INFO: [pid 4962] Worker Worker(salt=306773414, workers=5, host=test-statsmodels, username=jupyter, pid=2896) done      ExportContainerTask_e02ed616fc(flavor_path=flavors/python3-ds-EXASOL-6.1.0, export_path=containers, release_name=, release_goal=release)\n",
      "INFO: Informed scheduler that task   ExportContainerTask_e02ed616fc   has status   DONE\n",
      "INFO: [pid 5476] Worker Worker(salt=306773414, workers=5, host=test-statsmodels, username=jupyter, pid=2896) running   ExportFlavorContainer_26a0b4cd24(flavor_path=flavors/python3-ds-EXASOL-6.1.0, release_goals=[\"release\"], export_path=containers, release_name=)\n",
      "INFO: ExportFlavorContainer_26a0b4cd24(flavor_path=flavors/python3-ds-EXASOL-6.1.0, release_goals=[\"release\"], export_path=containers, release_name=): Write complete_target\n",
      "INFO: ExportFlavorContainer_26a0b4cd24(flavor_path=flavors/python3-ds-EXASOL-6.1.0, release_goals=[\"release\"], export_path=containers, release_name=): Time since first_run 470.763783 s\n",
      "INFO: ExportFlavorContainer_26a0b4cd24(flavor_path=flavors/python3-ds-EXASOL-6.1.0, release_goals=[\"release\"], export_path=containers, release_name=): Time since creation 473.888293 s\n",
      "INFO: ExportFlavorContainer_26a0b4cd24(flavor_path=flavors/python3-ds-EXASOL-6.1.0, release_goals=[\"release\"], export_path=containers, release_name=): Total runtime of run method 0.22383 s\n",
      "INFO: [pid 5476] Worker Worker(salt=306773414, workers=5, host=test-statsmodels, username=jupyter, pid=2896) done      ExportFlavorContainer_26a0b4cd24(flavor_path=flavors/python3-ds-EXASOL-6.1.0, release_goals=[\"release\"], export_path=containers, release_name=)\n",
      "INFO: Informed scheduler that task   ExportFlavorContainer_26a0b4cd24   has status   DONE\n",
      "INFO: [pid 5478] Worker Worker(salt=306773414, workers=5, host=test-statsmodels, username=jupyter, pid=2896) running   ExportContainers_b5e7f2ab98(flavor_paths=[\"flavors/python3-ds-EXASOL-6.1.0\"], release_goals=[\"release\"], export_path=containers, release_name=)\n",
      "INFO: ExportContainers_b5e7f2ab98(flavor_paths=[\"flavors/python3-ds-EXASOL-6.1.0\"], release_goals=[\"release\"], export_path=containers, release_name=): Write complete_target\n",
      "INFO: ExportContainers_b5e7f2ab98(flavor_paths=[\"flavors/python3-ds-EXASOL-6.1.0\"], release_goals=[\"release\"], export_path=containers, release_name=): Time since first_run 0.00654 s\n",
      "INFO: ExportContainers_b5e7f2ab98(flavor_paths=[\"flavors/python3-ds-EXASOL-6.1.0\"], release_goals=[\"release\"], export_path=containers, release_name=): Time since creation 473.918439 s\n",
      "INFO: ExportContainers_b5e7f2ab98(flavor_paths=[\"flavors/python3-ds-EXASOL-6.1.0\"], release_goals=[\"release\"], export_path=containers, release_name=): Total runtime of run method 0.006395 s\n",
      "INFO: [pid 5478] Worker Worker(salt=306773414, workers=5, host=test-statsmodels, username=jupyter, pid=2896) done      ExportContainers_b5e7f2ab98(flavor_paths=[\"flavors/python3-ds-EXASOL-6.1.0\"], release_goals=[\"release\"], export_path=containers, release_name=)\n",
      "INFO: Informed scheduler that task   ExportContainers_b5e7f2ab98   has status   DONE\n"
     ]
    }
   ],
   "source": [
    "bash.run(f\"\"\"\n",
    "pushd {slc_path}\n",
    "./exaslct export --flavor-path flavors/python3-ds-EXASOL-6.1.0 --export-path containers 2>&1 | grep -E \"DockerPullImageTask|DockerBuildImageTask|Export\"\n",
    "\"\"\")"
   ]
  },
  {
   "cell_type": "markdown",
   "metadata": {},
   "source": [
    "Your old container doesn't get lost, because when you change a flavor your container get a new hash code. If you revert your changes the system automatically uses the existing cached container."
   ]
  },
  {
   "cell_type": "code",
   "execution_count": 64,
   "metadata": {},
   "outputs": [
    {
     "name": "stdout",
     "output_type": "stream",
     "text": [
      "total 1.5G\n",
      "451M python3-ds-EXASOL-6.1.0-release-EYFRS54NWXPTDZOBU2ZWGIXIID77PTCFMM2LLHPQNWDGQAQUNIAA.tar.gz\n",
      "4.0K python3-ds-EXASOL-6.1.0-release-EYFRS54NWXPTDZOBU2ZWGIXIID77PTCFMM2LLHPQNWDGQAQUNIAA.tar.gz.sha256sum\n",
      "466M python3-ds-EXASOL-6.1.0-release-RN5HZ72HNOSOJWNBF2M7TWKIOGWZ4U423PAIU7JYFHMRUZM55QNQ.tar.gz\n",
      "4.0K python3-ds-EXASOL-6.1.0-release-RN5HZ72HNOSOJWNBF2M7TWKIOGWZ4U423PAIU7JYFHMRUZM55QNQ.tar.gz.sha256sum\n",
      "612M python3-ds-EXASOL-6.1.0-release-ZU7VCDQ3SQ6SDH2WNNYMWM5PJXM5XBPTKNVQCYTWFTNQZA2RUZ6Q.tar.gz\n",
      "4.0K python3-ds-EXASOL-6.1.0-release-ZU7VCDQ3SQ6SDH2WNNYMWM5PJXM5XBPTKNVQCYTWFTNQZA2RUZ6Q.tar.gz.sha256sum\n"
     ]
    }
   ],
   "source": [
    "bash.run(f\"\"\"\n",
    "ls -sh {slc_path}/.build_output/cache/exports\n",
    "\"\"\")"
   ]
  },
  {
   "cell_type": "markdown",
   "metadata": {},
   "source": [
    "## Testing the new Script-Language Container"
   ]
  },
  {
   "cell_type": "code",
   "execution_count": 21,
   "metadata": {},
   "outputs": [],
   "source": [
    "DATABASE_HOST=\"localhost\"\n",
    "DATABASE_PORT=8888\n",
    "DATABASE_USER=\"sys\"\n",
    "DATABASE_PASSWORD=\"exasol\"\n",
    "BUCKETFS_PORT=6666\n",
    "BUCKETFS_USER=\"w\"\n",
    "BUCKETFS_PASSWORD=\"write\"\n",
    "BUCKETFS_NAME=\"bfsdefault\"\n",
    "BUCKET_NAME=\"default\"\n",
    "PATH_IN_BUCKET=\"container\""
   ]
  },
  {
   "cell_type": "markdown",
   "metadata": {},
   "source": [
    "### Starting a local Docker-DB for Testing"
   ]
  },
  {
   "cell_type": "markdown",
   "metadata": {},
   "source": [
    "#### Cloning the Resporitory of the Exasol Integration-Test-Docker-Environment"
   ]
  },
  {
   "cell_type": "code",
   "execution_count": 22,
   "metadata": {},
   "outputs": [
    {
     "name": "stdout",
     "output_type": "stream",
     "text": [
      "HEAD is now at 3bb2b47 Renaming certain things to udf plugins (#171)\n"
     ]
    }
   ],
   "source": [
    "test_env_path=\"integration-test-docker-environment\"\n",
    "if not Path(test_env_path).exists():\n",
    "    bash.run(\"\"\"\n",
    "    git clone https://github.com/exasol/integration-test-docker-environment\n",
    "    \"\"\")\n",
    "else:\n",
    "    bash.run(f\"\"\"\n",
    "    cd {slc_path}\n",
    "    git reset --hard origin/master \n",
    "    \"\"\")\n",
    "    "
   ]
  },
  {
   "cell_type": "markdown",
   "metadata": {},
   "source": [
    "#### Start the environment and forward the database and bucketfs ports to the specified host ports. \n",
    "\n",
    "**Note:** The Exasol Integration-Test-Docker-Environment requires Docker with privileged mode\n",
    "\n",
    "**Note:** Starting the environment can take between 3-5 min."
   ]
  },
  {
   "cell_type": "code",
   "execution_count": 24,
   "metadata": {},
   "outputs": [
    {
     "name": "stdout",
     "output_type": "stream",
     "text": [
      "~/data-science-examples/tutorials/script-languages/integration-test-docker-environment ~/data-science-examples/tutorials/script-languages\n",
      "    - 1 DockerCreateImageTask_1e54def14a(image_name=exasol/script-language-container:db-test-container)\n",
      "    - 1 DockerTestContainerBuild(caller_output_path=[])\n",
      "    - 1 PopulateEngineSmallTestDataToDatabase(...)\n",
      "    ...\n",
      "\n",
      "This progress looks :) because there were no failed tasks or missing dependencies\n",
      "\n",
      "===== Luigi Execution Summary =====\n",
      "\n",
      "The command took 248.13081 s\n"
     ]
    }
   ],
   "source": [
    "bash.run(f\"\"\"\n",
    "pushd {test_env_path}\n",
    "./start-test-env spawn-test-environment --environment-name test --database-port-forward {DATABASE_PORT} --bucketfs-port-forward {BUCKETFS_PORT} &> integration-test-docker-environment.log\n",
    "tail integration-test-docker-environment.log\n",
    "\"\"\")"
   ]
  },
  {
   "cell_type": "markdown",
   "metadata": {},
   "source": [
    "### Upload the Container to the Database"
   ]
  },
  {
   "cell_type": "markdown",
   "metadata": {},
   "source": [
    "To use our container we need to upload it to the BucketFS of the Database. We can use for this `exaslct upload`, if we have the build machine has access to the BucketFS of the Database, otherwise you need to export the container and transfer it to a machine which has access to the BucketFS of the Database and upload it via curl, as described in our [documentation](https://docs.exasol.com/database_concepts/udf_scripts/adding_new_packages_script_languages.htm)."
   ]
  },
  {
   "cell_type": "code",
   "execution_count": 65,
   "metadata": {},
   "outputs": [
    {
     "name": "stdout",
     "output_type": "stream",
     "text": [
      "~/data-science-examples/tutorials/script-languages/script-languages-release ~/data-science-examples/tutorials/script-languages\n",
      "    - 1 AnalyzeFlavorBaseDeps_daaf2c2494(flavor_path=flavors/python3-ds-EXASOL-6.1.0)\n",
      "    - 1 AnalyzeFlavorCustomization_daaf2c2494(flavor_path=flavors/python3-ds-EXASOL-6.1.0)\n",
      "    - 1 AnalyzeLanguageDeps_daaf2c2494(flavor_path=flavors/python3-ds-EXASOL-6.1.0)\n",
      "    ...\n",
      "\n",
      "This progress looks :) because there were no failed tasks or missing dependencies\n",
      "\n",
      "===== Luigi Execution Summary =====\n",
      "\n",
      "The command took 75.394593 s\n",
      "\n",
      "Uploaded .build_output/cache/exports/python3-ds-EXASOL-6.1.0-release-ZU7VCDQ3SQ6SDH2WNNYMWM5PJXM5XBPTKNVQCYTWFTNQZA2RUZ6Q.tar.gz to\n",
      "http://localhost:6666/default/container/python3-ds-EXASOL-6.1.0-release-current.tar.gz\n",
      "\n",
      "\n",
      "In SQL, you can activate the languages supported by the python3-ds-EXASOL-6.1.0\n",
      "flavor by using the following statements:\n",
      "\n",
      "\n",
      "To activate the flavor only for the current session:\n",
      "\n",
      "ALTER SESSION SET SCRIPT_LANGUAGES='PYTHON3=localzmq+protobuf:///bfsdefault/default/container/python3-ds-EXASOL-6.1.0-release-current?lang=python#buckets/bfsdefault/default/container/python3-ds-EXASOL-6.1.0-release-current/exaudf/exaudfclient_py3';\n",
      "\n",
      "\n",
      "To activate the flavor on the system:\n",
      "\n",
      "ALTER SYSTEM SET SCRIPT_LANGUAGES='PYTHON3=localzmq+protobuf:///bfsdefault/default/container/python3-ds-EXASOL-6.1.0-release-current?lang=python#buckets/bfsdefault/default/container/python3-ds-EXASOL-6.1.0-release-current/exaudf/exaudfclient_py3';\n",
      "\n",
      "=================================================\n",
      "\n"
     ]
    }
   ],
   "source": [
    "bash.run(f\"\"\"\n",
    "pushd {slc_path}\n",
    "./exaslct upload \\\n",
    "    --flavor-path flavors/python3-ds-EXASOL-6.1.0 \\\n",
    "    --database-host {DATABASE_HOST}\\\n",
    "    --bucketfs-port {BUCKETFS_PORT} \\\n",
    "    --bucketfs-username {BUCKETFS_USER} \\\n",
    "    --bucketfs-password {BUCKETFS_PASSWORD} \\\n",
    "    --bucketfs-name {BUCKETFS_NAME} \\\n",
    "    --bucket-name {BUCKET_NAME} \\\n",
    "    --path-in-bucket {PATH_IN_BUCKET} \\\n",
    "    --release-name current &> upload.log\n",
    "tail -n 30 upload.log\n",
    "\"\"\")"
   ]
  },
  {
   "cell_type": "markdown",
   "metadata": {},
   "source": [
    "### Getting the language container activation statement without upload"
   ]
  },
  {
   "cell_type": "markdown",
   "metadata": {},
   "source": [
    "Sometimes you can't use the `upload` command to upload your container to the database. To get regardless of that your language activation statement you can use the commnad `generate-language-activation`."
   ]
  },
  {
   "cell_type": "code",
   "execution_count": 66,
   "metadata": {},
   "outputs": [
    {
     "name": "stdout",
     "output_type": "stream",
     "text": [
      "~/data-science-examples/tutorials/script-languages/script-languages-release ~/data-science-examples/tutorials/script-languages\n",
      "\n",
      "\n",
      "In SQL, you can activate the languages supported by the python3-ds-EXASOL-6.1.0\n",
      "flavor by using the following statements:\n",
      "\n",
      "\n",
      "To activate the flavor only for the current session:\n",
      "\n",
      "ALTER SESSION SET SCRIPT_LANGUAGES='PYTHON3=localzmq+protobuf:///bfsdefault/default/container/current?lang=python#buckets/bfsdefault/default/container/current/exaudf/exaudfclient_py3';\n",
      "\n",
      "\n",
      "To activate the flavor on the system:\n",
      "\n",
      "ALTER SYSTEM SET SCRIPT_LANGUAGES='PYTHON3=localzmq+protobuf:///bfsdefault/default/container/current?lang=python#buckets/bfsdefault/default/container/current/exaudf/exaudfclient_py3';\n",
      "\n"
     ]
    }
   ],
   "source": [
    "bash.run(f\"\"\"\n",
    "pushd {slc_path}\n",
    "./exaslct generate-language-activation \\\n",
    "    --flavor-path flavors/python3-ds-EXASOL-6.1.0 \\\n",
    "    --bucketfs-name {BUCKETFS_NAME} \\\n",
    "    --bucket-name {BUCKET_NAME} \\\n",
    "    --path-in-bucket {PATH_IN_BUCKET} \\\n",
    "    --container-name current  2>&1 | tail -n 15\n",
    "\"\"\")"
   ]
  },
  {
   "cell_type": "markdown",
   "metadata": {},
   "source": [
    "### Connecting to the database and activate the container"
   ]
  },
  {
   "cell_type": "markdown",
   "metadata": {},
   "source": [
    "After we have a connection to the database we run the `ALTER SESSION` statement we got from the upload."
   ]
  },
  {
   "cell_type": "code",
   "execution_count": 30,
   "metadata": {},
   "outputs": [],
   "source": [
    "def connect():\n",
    "    con=pyexasol.connect(dsn=f\"{DATABASE_HOST}:{DATABASE_PORT}\",user=DATABASE_USER,password=DATABASE_PASSWORD)\n",
    "    con.execute(\"ALTER SESSION SET SCRIPT_LANGUAGES='PYTHON3_DS=localzmq+protobuf:///bfsdefault/default/container/python3-ds-EXASOL-6.1.0-release-current?lang=python#buckets/bfsdefault/default/container/python3-ds-EXASOL-6.1.0-release-current/exaudf/exaudfclient_py3';\")\n",
    "    con.execute(\"OPEN SCHEMA TEST\")\n",
    "    return con"
   ]
  },
  {
   "cell_type": "markdown",
   "metadata": {},
   "source": [
    "### Check if your customization did work"
   ]
  },
  {
   "cell_type": "markdown",
   "metadata": {},
   "source": [
    "We first create a helper UDF which allows us to run arbitrary shell commands inside of a UDF Instance. "
   ]
  },
  {
   "cell_type": "code",
   "execution_count": 67,
   "metadata": {},
   "outputs": [
    {
     "data": {
      "text/plain": [
       "<ExaStatement session_id=1691127383964254208 stmt_idx=3>"
      ]
     },
     "execution_count": 67,
     "metadata": {},
     "output_type": "execute_result"
    }
   ],
   "source": [
    "con = connect()\n",
    "\n",
    "con.execute(textwrap.dedent(\"\"\"\n",
    "CREATE OR REPLACE PYTHON3_DS SCALAR SCRIPT execute_shell_command_py3(command VARCHAR(2000000), split_output boolean)\n",
    "EMITS (lines VARCHAR(2000000)) AS\n",
    "import subprocess\n",
    "\n",
    "def run(ctx):\n",
    "    try:\n",
    "        p = subprocess.Popen(ctx.command,\n",
    "                             stdout    = subprocess.PIPE,\n",
    "                             stderr    = subprocess.STDOUT,\n",
    "                             close_fds = True,\n",
    "                             shell     = True)\n",
    "        out, err = p.communicate()\n",
    "        if isinstance(out,bytes):\n",
    "            out=out.decode('utf8')\n",
    "        if ctx.split_output:\n",
    "            for line in out.strip().split('\\\\n'):\n",
    "                ctx.emit(line)\n",
    "        else:\n",
    "            ctx.emit(out)\n",
    "    finally:\n",
    "        if p is not None:\n",
    "            try: p.kill()\n",
    "            except: pass\n",
    "/\n",
    "\"\"\"))"
   ]
  },
  {
   "cell_type": "markdown",
   "metadata": {},
   "source": [
    "#### Check with \"pip list\" if a the package \"dask\" got installed"
   ]
  },
  {
   "cell_type": "code",
   "execution_count": 68,
   "metadata": {},
   "outputs": [
    {
     "name": "stdout",
     "output_type": "stream",
     "text": [
      "Package              Version\n",
      "-------------------- ---------------\n",
      "absl-py              0.11.0\n",
      "astor                0.8.1\n",
      "autograd             1.3\n",
      "autograd-gamma       0.5.0\n",
      "cached-property      1.5.2\n",
      "click                7.1.2\n",
      "cycler               0.10.0\n",
      "formulaic            0.2.1\n",
      "future               0.18.2\n",
      "gast                 0.4.0\n",
      "gensim               3.8.3\n",
      "grpcio               1.35.0\n",
      "h5py                 3.1.0\n",
      "imbalanced-learn     0.7.0\n",
      "importlib-metadata   3.4.0\n",
      "interface-meta       1.2.2\n",
      "joblib               1.0.0\n",
      "Keras                2.3.1\n",
      "Keras-Applications   1.0.8\n",
      "Keras-Preprocessing  1.1.2\n",
      "kiwisolver           1.3.1\n",
      "kmodes               0.10.2\n",
      "lifelines            0.25.8\n",
      "lxml                 4.6.2\n",
      "Markdown             3.3.3\n",
      "matplotlib           3.3.4\n",
      "mock                 4.0.3\n",
      "nltk                 3.5\n",
      "numpy                1.19.5\n",
      "pandas               1.1.5\n",
      "patsy                0.5.1\n",
      "Pillow               8.1.0\n",
      "pip                  20.3.4\n",
      "protobuf             3.14.0\n",
      "pyasn1               0.4.8\n",
      "pycurl               7.43.0.6\n",
      "pyexasol             0.16.1\n",
      "pygobject            3.26.1\n",
      "pyparsing            2.4.7\n",
      "python-apt           1.6.5+ubuntu0.5\n",
      "python-dateutil      2.8.1\n",
      "pytz                 2020.5\n",
      "PyYAML               5.4.1\n",
      "regex                2020.11.13\n",
      "rsa                  4.7\n",
      "scikit-learn         0.24.1\n",
      "scipy                1.5.4\n",
      "seaborn              0.11.1\n",
      "setuptools           52.0.0\n",
      "six                  1.15.0\n",
      "smart-open           4.1.2\n",
      "statsmodels          0.12.1\n",
      "tensorboard          1.13.1\n",
      "tensorflow           1.13.1\n",
      "tensorflow-estimator 1.13.0\n",
      "tensorflow-hub       0.4.0\n",
      "termcolor            1.1.0\n",
      "threadpoolctl        2.1.0\n",
      "tqdm                 4.56.0\n",
      "typing-extensions    3.7.4.3\n",
      "ujson                4.0.2\n",
      "websocket-client     0.57.0\n",
      "Werkzeug             1.0.1\n",
      "wheel                0.36.2\n",
      "wrapt                1.12.1\n",
      "xgboost              1.3.3\n",
      "zipp                 3.4.0\n"
     ]
    }
   ],
   "source": [
    "con = connect()\n",
    "rs=con.execute(\"\"\"select execute_shell_command_py3('python3 -m pip list', true)\"\"\")\n",
    "for r in rs: \n",
    "    print(r[0])"
   ]
  },
  {
   "cell_type": "markdown",
   "metadata": {},
   "source": [
    "#### Embedded Build Information of the Container"
   ]
  },
  {
   "cell_type": "markdown",
   "metadata": {},
   "source": [
    "Here we see an overview about the build information which `exaslct` embedded into the container. `Exaslct` stores all packages lists (as defined in the flavor and what actually got installed), the final Dockerfiles and the image info. The image info describes how the underlying docker images of the container got build."
   ]
  },
  {
   "cell_type": "code",
   "execution_count": 69,
   "metadata": {},
   "outputs": [
    {
     "name": "stdout",
     "output_type": "stream",
     "text": [
      "/build_info\n",
      "/build_info/image_info\n",
      "/build_info/image_info/python3-ds-EXASOL-6.1.0-language_deps\n",
      "/build_info/image_info/python3-ds-EXASOL-6.1.0-build_deps\n",
      "/build_info/image_info/python3-ds-EXASOL-6.1.0-udfclient_deps\n",
      "/build_info/image_info/python3-ds-EXASOL-6.1.0-release\n",
      "/build_info/image_info/python3-ds-EXASOL-6.1.0-flavor_base_deps\n",
      "/build_info/image_info/python3-ds-EXASOL-6.1.0-build_run\n",
      "/build_info/image_info/python3-ds-EXASOL-6.1.0-flavor_customization\n",
      "/build_info/dockerfiles\n",
      "/build_info/dockerfiles/python3-ds-EXASOL-6.1.0-language_deps\n",
      "/build_info/dockerfiles/python3-ds-EXASOL-6.1.0-build_deps\n",
      "/build_info/dockerfiles/python3-ds-EXASOL-6.1.0-udfclient_deps\n",
      "/build_info/dockerfiles/python3-ds-EXASOL-6.1.0-release\n",
      "/build_info/dockerfiles/python3-ds-EXASOL-6.1.0-flavor_base_deps\n",
      "/build_info/dockerfiles/python3-ds-EXASOL-6.1.0-build_run\n",
      "/build_info/dockerfiles/python3-ds-EXASOL-6.1.0-flavor_customization\n",
      "/build_info/actual_installed_packages\n",
      "/build_info/actual_installed_packages/release\n",
      "/build_info/actual_installed_packages/release/apt_get_packages\n",
      "/build_info/actual_installed_packages/release/python3_pip_packages\n",
      "/build_info/packages\n",
      "/build_info/packages/flavor_customization\n",
      "/build_info/packages/flavor_customization/apt_get_packages\n",
      "/build_info/packages/flavor_customization/python3_pip_packages\n",
      "/build_info/packages/udfclient_deps\n",
      "/build_info/packages/udfclient_deps/apt_get_packages\n",
      "/build_info/packages/language_deps\n",
      "/build_info/packages/language_deps/apt_get_packages\n",
      "/build_info/packages/language_deps/pip3_packages\n",
      "/build_info/packages/flavor_base_deps\n",
      "/build_info/packages/flavor_base_deps/apt_get_packages\n",
      "/build_info/packages/flavor_base_deps/pip3_packages\n",
      "/build_info/packages/build_deps\n",
      "/build_info/packages/build_deps/apt_get_packages\n"
     ]
    }
   ],
   "source": [
    "con = connect()\n",
    "rs=con.execute(\"\"\"select execute_shell_command_py3('find /build_info', true)\"\"\")\n",
    "for r in rs: \n",
    "    print(r[0])"
   ]
  },
  {
   "cell_type": "code",
   "execution_count": 70,
   "metadata": {},
   "outputs": [
    {
     "name": "stdout",
     "output_type": "stream",
     "text": [
      "absl-py|0.11.0\n",
      "astor|0.8.1\n",
      "autograd|1.3\n",
      "autograd-gamma|0.5.0\n",
      "cached-property|1.5.2\n",
      "click|7.1.2\n",
      "cycler|0.10.0\n",
      "formulaic|0.2.1\n",
      "future|0.18.2\n",
      "gast|0.4.0\n",
      "gensim|3.8.3\n",
      "grpcio|1.35.0\n",
      "h5py|3.1.0\n",
      "imbalanced-learn|0.7.0\n",
      "importlib-metadata|3.4.0\n",
      "interface-meta|1.2.2\n",
      "joblib|1.0.0\n",
      "Keras|2.3.1\n",
      "Keras-Applications|1.0.8\n",
      "Keras-Preprocessing|1.1.2\n",
      "kiwisolver|1.3.1\n",
      "kmodes|0.10.2\n",
      "lifelines|0.25.8\n",
      "lxml|4.6.2\n",
      "Markdown|3.3.3\n",
      "matplotlib|3.3.4\n",
      "mock|4.0.3\n",
      "nltk|3.5\n",
      "numpy|1.19.5\n",
      "pandas|1.1.5\n",
      "patsy|0.5.1\n",
      "Pillow|8.1.0\n",
      "pip|20.3.4\n",
      "protobuf|3.14.0\n",
      "pyasn1|0.4.8\n",
      "pycurl|7.43.0.6\n",
      "pyexasol|0.16.1\n",
      "pygobject|3.26.1\n",
      "pyparsing|2.4.7\n",
      "python-apt|1.6.5+ubuntu0.5\n",
      "python-dateutil|2.8.1\n",
      "pytz|2020.5\n",
      "PyYAML|5.4.1\n",
      "regex|2020.11.13\n",
      "rsa|4.7\n",
      "scikit-learn|0.24.1\n",
      "scipy|1.5.4\n",
      "seaborn|0.11.1\n",
      "setuptools|52.0.0\n",
      "six|1.15.0\n",
      "smart-open|4.1.2\n",
      "statsmodels|0.12.1\n",
      "tensorboard|1.13.1\n",
      "tensorflow|1.13.1\n",
      "tensorflow-estimator|1.13.0\n",
      "tensorflow-hub|0.4.0\n",
      "termcolor|1.1.0\n",
      "threadpoolctl|2.1.0\n",
      "tqdm|4.56.0\n",
      "typing-extensions|3.7.4.3\n",
      "ujson|4.0.2\n",
      "websocket-client|0.57.0\n",
      "Werkzeug|1.0.1\n",
      "wheel|0.36.2\n",
      "wrapt|1.12.1\n",
      "xgboost|1.3.3\n",
      "zipp|3.4.0\n"
     ]
    }
   ],
   "source": [
    "con = connect()\n",
    "rs=con.execute(\"\"\"select execute_shell_command_py3('cat /build_info/actual_installed_packages/release/python3_pip_packages', true)\"\"\")\n",
    "for r in rs: \n",
    "    print(r[0])"
   ]
  },
  {
   "cell_type": "markdown",
   "metadata": {},
   "source": [
    "### Testing the new package"
   ]
  },
  {
   "cell_type": "code",
   "execution_count": 72,
   "metadata": {},
   "outputs": [
    {
     "data": {
      "text/plain": [
       "[('finish',)]"
      ]
     },
     "execution_count": 72,
     "metadata": {},
     "output_type": "execute_result"
    }
   ],
   "source": [
    "con = connect()\n",
    "\n",
    "con.execute(textwrap.dedent(\"\"\"\n",
    "CREATE OR REPLACE PYTHON3_DS SET SCRIPT test_xgboost(i integer)\n",
    "EMITS (o VARCHAR(2000000)) AS\n",
    "\n",
    "def run(ctx):\n",
    "    import xgboost as xgb\n",
    "    ctx.emit(\"finish\")\n",
    "/\n",
    "\"\"\"))\n",
    "\n",
    "rs = con.execute(\"select test_xgboost(1)\")\n",
    "rs.fetchall()"
   ]
  }
 ],
 "metadata": {
  "environment": {
   "name": "common-cpu.m61",
   "type": "gcloud",
   "uri": "gcr.io/deeplearning-platform-release/base-cpu:m61"
  },
  "kernelspec": {
   "display_name": "Python [conda env:root] *",
   "language": "python",
   "name": "conda-root-py"
  },
  "language_info": {
   "codemirror_mode": {
    "name": "ipython",
    "version": 3
   },
   "file_extension": ".py",
   "mimetype": "text/x-python",
   "name": "python",
   "nbconvert_exporter": "python",
   "pygments_lexer": "ipython3",
   "version": "3.7.9"
  }
 },
 "nbformat": 4,
 "nbformat_minor": 4
}
