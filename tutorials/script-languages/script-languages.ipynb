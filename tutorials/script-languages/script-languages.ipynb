{
 "cells": [
  {
   "cell_type": "markdown",
   "metadata": {},
   "source": [
    "# Using the Script-Language Container"
   ]
  },
  {
   "cell_type": "markdown",
   "metadata": {},
   "source": [
    "A [Script-Language Container](https://github.com/exasol/script-languages-release) for the Exasol database consists of a Linux container with a complete Linux distribution and all required libraries, such as a script client. The script client is responsible for the communication with the database and for executing the script code."
   ]
  },
  {
   "cell_type": "markdown",
   "metadata": {},
   "source": [
    "## Prerequisites"
   ]
  },
  {
   "cell_type": "markdown",
   "metadata": {},
   "source": [
    "To run this Notebook you need:\n",
    "- Jupyter with Python3.6+ Kernel\n",
    "- Docker 17.05+\n",
    "- Your Notebook user needs permissions to run Docker"
   ]
  },
  {
   "cell_type": "markdown",
   "metadata": {},
   "source": [
    "## Preparing the Notebook"
   ]
  },
  {
   "cell_type": "markdown",
   "metadata": {},
   "source": [
    "First we need to install and import a few Python packages required in the course of this Notebook."
   ]
  },
  {
   "cell_type": "code",
   "execution_count": 1,
   "metadata": {},
   "outputs": [
    {
     "name": "stdout",
     "output_type": "stream",
     "text": [
      "Requirement already satisfied: pexpect==4.8.0 in /opt/conda/lib/python3.7/site-packages (from -r requirements.txt (line 1)) (4.8.0)\n",
      "Requirement already satisfied: pyexasol==0.16.1 in /opt/conda/lib/python3.7/site-packages (from -r requirements.txt (line 2)) (0.16.1)\n",
      "Requirement already satisfied: requests==2.25.1 in /opt/conda/lib/python3.7/site-packages (from -r requirements.txt (line 3)) (2.25.1)\n",
      "Requirement already satisfied: ptyprocess>=0.5 in /opt/conda/lib/python3.7/site-packages (from pexpect==4.8.0->-r requirements.txt (line 1)) (0.6.0)\n",
      "Requirement already satisfied: rsa in /opt/conda/lib/python3.7/site-packages (from pyexasol==0.16.1->-r requirements.txt (line 2)) (4.6)\n",
      "Requirement already satisfied: websocket-client>=0.47.0 in /opt/conda/lib/python3.7/site-packages (from pyexasol==0.16.1->-r requirements.txt (line 2)) (0.57.0)\n",
      "Requirement already satisfied: urllib3<1.27,>=1.21.1 in /opt/conda/lib/python3.7/site-packages (from requests==2.25.1->-r requirements.txt (line 3)) (1.26.2)\n",
      "Requirement already satisfied: idna<3,>=2.5 in /opt/conda/lib/python3.7/site-packages (from requests==2.25.1->-r requirements.txt (line 3)) (2.10)\n",
      "Requirement already satisfied: certifi>=2017.4.17 in /opt/conda/lib/python3.7/site-packages (from requests==2.25.1->-r requirements.txt (line 3)) (2020.12.5)\n",
      "Requirement already satisfied: chardet<5,>=3.0.2 in /opt/conda/lib/python3.7/site-packages (from requests==2.25.1->-r requirements.txt (line 3)) (3.0.4)\n",
      "Requirement already satisfied: six in /opt/conda/lib/python3.7/site-packages (from websocket-client>=0.47.0->pyexasol==0.16.1->-r requirements.txt (line 2)) (1.15.0)\n",
      "Requirement already satisfied: pyasn1>=0.1.3 in /opt/conda/lib/python3.7/site-packages (from rsa->pyexasol==0.16.1->-r requirements.txt (line 2)) (0.4.8)\n"
     ]
    }
   ],
   "source": [
    "!pip install -r requirements.txt"
   ]
  },
  {
   "cell_type": "code",
   "execution_count": 2,
   "metadata": {},
   "outputs": [],
   "source": [
    "import bash_runner as bash # A helper to run bash with interactive output from python\n",
    "import importlib\n",
    "from pathlib import Path\n",
    "import pyexasol\n",
    "import requests\n",
    "import textwrap"
   ]
  },
  {
   "cell_type": "markdown",
   "metadata": {},
   "source": [
    "## Cloning the Git Repository"
   ]
  },
  {
   "cell_type": "markdown",
   "metadata": {},
   "source": [
    "To use the [Script-Language Container](https://github.com/exasol/script-languages-release) we need to clone the Git Repository with\n",
    "\n",
    "```\n",
    "git clone https://github.com/exasol/script-languages-release --recursive\n",
    "```\n",
    "\n",
    "We need to use `--recursive` to also clone the sub-modules of the repository.\n",
    "\n",
    "**Note:**You can use the following code snippet, that either clones the repository if it isn't already cloned or resets it to the current origin/master branch, such that we have always a defined state for the remaining Notebook."
   ]
  },
  {
   "cell_type": "code",
   "execution_count": 3,
   "metadata": {},
   "outputs": [
    {
     "name": "stdout",
     "output_type": "stream",
     "text": [
      "Cloning into 'script-languages-release'...\n",
      "remote: Enumerating objects: 1772, done.\u001b[K\n",
      "remote: Counting objects: 100% (229/229), done.\u001b[K\n",
      "remote: Compressing objects: 100% (125/125), done.\u001b[K\n",
      "remote: Total 1772 (delta 116), reused 181 (delta 88), pack-reused 1543\u001b[K\n",
      "Receiving objects: 100% (1772/1772), 323.73 KiB | 17.04 MiB/s, done.\n",
      "Resolving deltas: 100% (812/812), done.\n",
      "Submodule 'script-languages' (https://github.com/exasol/script-languages.git) registered for path 'script-languages'\n",
      "Cloning into '/home/jupyter/data-science-examples_slc/tutorials/script-languages/script-languages-release/script-languages'...\n",
      "remote: Enumerating objects: 5570, done.        \n",
      "remote: Counting objects: 100% (397/397), done.        \n",
      "remote: Compressing objects: 100% (292/292), done.        \n",
      "remote: Total 5570 (delta 164), reused 222 (delta 79), pack-reused 5173        \n",
      "Receiving objects: 100% (5570/5570), 18.53 MiB | 13.94 MiB/s, done.\n",
      "Resolving deltas: 100% (3229/3229), done.\n",
      "Submodule path 'script-languages': checked out 'e353527acd4f617a1ae9b233d1fdba1aed5ed08e'\n"
     ]
    }
   ],
   "source": [
    "slc_path=\"script-languages-release\"\n",
    "if not Path(slc_path).exists():\n",
    "    bash.run(\"\"\"\n",
    "    git clone https://github.com/exasol/script-languages-release --recursive\n",
    "    \"\"\")\n",
    "else:\n",
    "    bash.run(f\"\"\"\n",
    "    cd {slc_path}\n",
    "    git fetch\n",
    "    git reset --hard origin/master \n",
    "    git submodule foreach git reset --hard origin/master \n",
    "    \"\"\")"
   ]
  },
  {
   "cell_type": "markdown",
   "metadata": {},
   "source": [
    "## Buiding and Exporting a Container"
   ]
  },
  {
   "cell_type": "markdown",
   "metadata": {},
   "source": [
    "To build and export the container you can use `exaslct`. It first builds a series of Docker images and then exports the container as a `tar.gz` package. We provide several flavors of containers with different capabilities. You can find out more about the flavors in our [flavor documentation on Github.](https://github.com/exasol/script-languages-release/blob/master/flavors/README.md). Flavors are described by a flavor definition in the directory `flavors/`. Here is an overview of the available flavors:"
   ]
  },
  {
   "cell_type": "code",
   "execution_count": 4,
   "metadata": {},
   "outputs": [
    {
     "name": "stdout",
     "output_type": "stream",
     "text": [
      "script-languages-release/flavors/python-3.6-data-science-EXASOL-6.2.0\n",
      "script-languages-release/flavors/python-3.6-minimal-EXASOL-6.2.0\n",
      "script-languages-release/flavors/standard-EXASOL-7.0.0\n",
      "script-languages-release/flavors/standard-EXASOL-7.1.0\n",
      "script-languages-release/flavors/r-3.5-data-science-EXASOL-6.2.0\n",
      "script-languages-release/flavors/r-4.0-minimal-EXASOL-6.2.0\n",
      "script-languages-release/flavors/standard-EXASOL-6.2.0\n",
      "script-languages-release/flavors/python-3.6-data-science-cuda-EXASOL-6.2.0\n"
     ]
    }
   ],
   "source": [
    "bash.run(f\"\"\"\n",
    "find {slc_path}/flavors/  -maxdepth 1 -name '*EXASOL*'\n",
    "\"\"\")"
   ]
  },
  {
   "cell_type": "markdown",
   "metadata": {},
   "source": [
    "For this example, we use the `flavors/python-3.6-data-science-EXASOL-6.2.0` flavor and export it to the `containers` directory.\n",
    "\n",
    "A container gets built via a series of Docker images, and then it's exported into a `tar` file."
   ]
  },
  {
   "cell_type": "code",
   "execution_count": 5,
   "metadata": {},
   "outputs": [
    {
     "name": "stdout",
     "output_type": "stream",
     "text": [
      "~/data-science-examples_slc/tutorials/script-languages/script-languages-release ~/data-science-examples_slc/tutorials/script-languages\n",
      "INFO: Informed scheduler that task   ExportContainers_58b5c0a2a6   has status   PENDING\n",
      "INFO: Informed scheduler that task   ExportFlavorContainer_5aa0c42863   has status   PENDING\n",
      "INFO: [pid 87] Worker Worker(salt=132959009, workers=5, host=test-statsmodels, username=root, pid=10) running   ExportFlavorContainer_5aa0c42863(flavor_path=flavors/python-3.6-data-science-EXASOL-6.2.0, release_goals=[\"release\"], export_path=containers, release_name=)\n",
      "INFO: [pid 87] Worker Worker(salt=132959009, workers=5, host=test-statsmodels, username=root, pid=10) new requirements      ExportFlavorContainer_5aa0c42863(flavor_path=flavors/python-3.6-data-science-EXASOL-6.2.0, release_goals=[\"release\"], export_path=containers, release_name=)\n",
      "INFO: Informed scheduler that task   ExportContainerTask_a98ce166cd   has status   PENDING\n",
      "INFO: Informed scheduler that task   DockerCreateImageTask_7e28a010ae   has status   PENDING\n",
      "INFO: Informed scheduler that task   CreateExportDirectory_502f730e1b   has status   PENDING\n",
      "INFO: Informed scheduler that task   ExportFlavorContainer_5aa0c42863   has status   PENDING\n",
      "INFO: [pid 89] Worker Worker(salt=132959009, workers=5, host=test-statsmodels, username=root, pid=10) running   DockerCreateImageTask_7e28a010ae(image_name=exasol/script-language-container:python-3.6-data-science-EXASOL-6.2.0-release)\n",
      "INFO: [pid 90] Worker Worker(salt=132959009, workers=5, host=test-statsmodels, username=root, pid=10) running   CreateExportDirectory_502f730e1b()\n",
      "INFO: DockerCreateImageTask_7e28a010ae(image_name=exasol/script-language-container:python-3.6-data-science-EXASOL-6.2.0-release): Write complete_target\n",
      "INFO: CreateExportDirectory_502f730e1b(): Write complete_target\n",
      "INFO: DockerCreateImageTask_7e28a010ae(image_name=exasol/script-language-container:python-3.6-data-science-EXASOL-6.2.0-release): Time since first_run 0.005994 s\n",
      "INFO: CreateExportDirectory_502f730e1b(): Time since first_run 0.00535 s\n",
      "INFO: CreateExportDirectory_502f730e1b(): Time since creation 0.151436 s\n",
      "INFO: DockerCreateImageTask_7e28a010ae(image_name=exasol/script-language-container:python-3.6-data-science-EXASOL-6.2.0-release): Time since creation 0.200682 s\n",
      "INFO: CreateExportDirectory_502f730e1b(): Total runtime of run method 0.005186 s\n",
      "INFO: DockerCreateImageTask_7e28a010ae(image_name=exasol/script-language-container:python-3.6-data-science-EXASOL-6.2.0-release): Total runtime of run method 0.005694 s\n",
      "INFO: [pid 90] Worker Worker(salt=132959009, workers=5, host=test-statsmodels, username=root, pid=10) done      CreateExportDirectory_502f730e1b()\n",
      "INFO: [pid 89] Worker Worker(salt=132959009, workers=5, host=test-statsmodels, username=root, pid=10) done      DockerCreateImageTask_7e28a010ae(image_name=exasol/script-language-container:python-3.6-data-science-EXASOL-6.2.0-release)\n",
      "INFO: Informed scheduler that task   CreateExportDirectory_502f730e1b   has status   DONE\n",
      "INFO: Informed scheduler that task   DockerCreateImageTask_7e28a010ae   has status   DONE\n",
      "INFO: [pid 93] Worker Worker(salt=132959009, workers=5, host=test-statsmodels, username=root, pid=10) running   ExportContainerTask_a98ce166cd(flavor_path=flavors/python-3.6-data-science-EXASOL-6.2.0, export_path=containers, release_name=, release_goal=release)\n",
      "INFO: ExportContainerTask_a98ce166cd(flavor_path=flavors/python-3.6-data-science-EXASOL-6.2.0, export_path=containers, release_name=, release_goal=release): Create container file /home/jupyter/data-science-examples_slc/tutorials/script-languages/script-languages-release/.build_output/cache/exports/python-3.6-data-science-EXASOL-6.2.0-release-LTAV5RUNCBWDSNSCEZWZHU6WJPRV2UGBADMX3GLKUIUOQG6JMA6Q.tar.gz\n",
      "INFO: ExportContainerTask_a98ce166cd(flavor_path=flavors/python-3.6-data-science-EXASOL-6.2.0, export_path=containers, release_name=, release_goal=release): Export container exasol/script-language-container:python-3.6-data-science-EXASOL-6.2.0-release_LTAV5RUNCBWDSNSCEZWZHU6WJPRV2UGBADMX3GLKUIUOQG6JMA6Q\n",
      "INFO: ExportContainerTask_a98ce166cd(flavor_path=flavors/python-3.6-data-science-EXASOL-6.2.0, export_path=containers, release_name=, release_goal=release): Extract exported file /tmp/release_archive_j8d241km/export.tar\n",
      "INFO: ExportContainerTask_a98ce166cd(flavor_path=flavors/python-3.6-data-science-EXASOL-6.2.0, export_path=containers, release_name=, release_goal=release): Pack container file /home/jupyter/data-science-examples_slc/tutorials/script-languages/script-languages-release/.build_output/cache/exports/python-3.6-data-science-EXASOL-6.2.0-release-LTAV5RUNCBWDSNSCEZWZHU6WJPRV2UGBADMX3GLKUIUOQG6JMA6Q.tar.gz\n",
      "INFO: ExportContainerTask_a98ce166cd(flavor_path=flavors/python-3.6-data-science-EXASOL-6.2.0, export_path=containers, release_name=, release_goal=release): Still running packing container file /home/jupyter/data-science-examples_slc/tutorials/script-languages/script-languages-release/.build_output/cache/exports/python-3.6-data-science-EXASOL-6.2.0-release-LTAV5RUNCBWDSNSCEZWZHU6WJPRV2UGBADMX3GLKUIUOQG6JMA6Q.tar.gz.\n",
      "INFO: ExportContainerTask_a98ce166cd(flavor_path=flavors/python-3.6-data-science-EXASOL-6.2.0, export_path=containers, release_name=, release_goal=release): Compute checksum for container file /home/jupyter/data-science-examples_slc/tutorials/script-languages/script-languages-release/.build_output/cache/exports/python-3.6-data-science-EXASOL-6.2.0-release-LTAV5RUNCBWDSNSCEZWZHU6WJPRV2UGBADMX3GLKUIUOQG6JMA6Q.tar.gz\n",
      "INFO: ExportContainerTask_a98ce166cd(flavor_path=flavors/python-3.6-data-science-EXASOL-6.2.0, export_path=containers, release_name=, release_goal=release): Write complete_target\n",
      "INFO: ExportContainerTask_a98ce166cd(flavor_path=flavors/python-3.6-data-science-EXASOL-6.2.0, export_path=containers, release_name=, release_goal=release): Time since first_run 124.797827 s\n",
      "INFO: ExportContainerTask_a98ce166cd(flavor_path=flavors/python-3.6-data-science-EXASOL-6.2.0, export_path=containers, release_name=, release_goal=release): Time since creation 124.974483 s\n",
      "INFO: ExportContainerTask_a98ce166cd(flavor_path=flavors/python-3.6-data-science-EXASOL-6.2.0, export_path=containers, release_name=, release_goal=release): Total runtime of run method 124.79756 s\n",
      "INFO: [pid 93] Worker Worker(salt=132959009, workers=5, host=test-statsmodels, username=root, pid=10) done      ExportContainerTask_a98ce166cd(flavor_path=flavors/python-3.6-data-science-EXASOL-6.2.0, export_path=containers, release_name=, release_goal=release)\n",
      "INFO: Informed scheduler that task   ExportContainerTask_a98ce166cd   has status   DONE\n",
      "INFO: [pid 100] Worker Worker(salt=132959009, workers=5, host=test-statsmodels, username=root, pid=10) running   ExportFlavorContainer_5aa0c42863(flavor_path=flavors/python-3.6-data-science-EXASOL-6.2.0, release_goals=[\"release\"], export_path=containers, release_name=)\n",
      "INFO: ExportFlavorContainer_5aa0c42863(flavor_path=flavors/python-3.6-data-science-EXASOL-6.2.0, release_goals=[\"release\"], export_path=containers, release_name=): Write complete_target\n",
      "INFO: ExportFlavorContainer_5aa0c42863(flavor_path=flavors/python-3.6-data-science-EXASOL-6.2.0, release_goals=[\"release\"], export_path=containers, release_name=): Time since first_run 125.184765 s\n",
      "INFO: ExportFlavorContainer_5aa0c42863(flavor_path=flavors/python-3.6-data-science-EXASOL-6.2.0, release_goals=[\"release\"], export_path=containers, release_name=): Time since creation 127.454449 s\n",
      "INFO: ExportFlavorContainer_5aa0c42863(flavor_path=flavors/python-3.6-data-science-EXASOL-6.2.0, release_goals=[\"release\"], export_path=containers, release_name=): Total runtime of run method 0.195105 s\n",
      "INFO: [pid 100] Worker Worker(salt=132959009, workers=5, host=test-statsmodels, username=root, pid=10) done      ExportFlavorContainer_5aa0c42863(flavor_path=flavors/python-3.6-data-science-EXASOL-6.2.0, release_goals=[\"release\"], export_path=containers, release_name=)\n",
      "INFO: Informed scheduler that task   ExportFlavorContainer_5aa0c42863   has status   DONE\n",
      "INFO: [pid 102] Worker Worker(salt=132959009, workers=5, host=test-statsmodels, username=root, pid=10) running   ExportContainers_58b5c0a2a6(flavor_paths=[\"flavors/python-3.6-data-science-EXASOL-6.2.0\"], release_goals=[\"release\"], export_path=containers, release_name=)\n",
      "INFO: ExportContainers_58b5c0a2a6(flavor_paths=[\"flavors/python-3.6-data-science-EXASOL-6.2.0\"], release_goals=[\"release\"], export_path=containers, release_name=): Write complete_target\n",
      "INFO: ExportContainers_58b5c0a2a6(flavor_paths=[\"flavors/python-3.6-data-science-EXASOL-6.2.0\"], release_goals=[\"release\"], export_path=containers, release_name=): Time since first_run 0.004452 s\n",
      "INFO: ExportContainers_58b5c0a2a6(flavor_paths=[\"flavors/python-3.6-data-science-EXASOL-6.2.0\"], release_goals=[\"release\"], export_path=containers, release_name=): Time since creation 127.476523 s\n",
      "INFO: ExportContainers_58b5c0a2a6(flavor_paths=[\"flavors/python-3.6-data-science-EXASOL-6.2.0\"], release_goals=[\"release\"], export_path=containers, release_name=): Total runtime of run method 0.004294 s\n",
      "INFO: [pid 102] Worker Worker(salt=132959009, workers=5, host=test-statsmodels, username=root, pid=10) done      ExportContainers_58b5c0a2a6(flavor_paths=[\"flavors/python-3.6-data-science-EXASOL-6.2.0\"], release_goals=[\"release\"], export_path=containers, release_name=)\n",
      "INFO: Informed scheduler that task   ExportContainers_58b5c0a2a6   has status   DONE\n"
     ]
    }
   ],
   "source": [
    "bash.run(f\"\"\"\n",
    "pushd {slc_path}\n",
    "./exaslct export --flavor-path flavors/python-3.6-data-science-EXASOL-6.2.0 --export-path containers 2>&1 | grep -E \"CreateImageTask|Export\"\n",
    "\"\"\")"
   ]
  },
  {
   "cell_type": "markdown",
   "metadata": {},
   "source": [
    "### What to do if something doesn't work?"
   ]
  },
  {
   "cell_type": "markdown",
   "metadata": {},
   "source": [
    "During the build it can happen that external package repositories might not be available or something is wrong on your machine where you run the build. For these cases, `exaslct` stores many logs to identify the problem."
   ]
  },
  {
   "cell_type": "markdown",
   "metadata": {},
   "source": [
    "#### Exaslsct Log"
   ]
  },
  {
   "cell_type": "markdown",
   "metadata": {},
   "source": [
    "The main log for `exaslct` is stored directly in `exaslct.log`. However, it gets overwritten when you start `exaslct` again."
   ]
  },
  {
   "cell_type": "code",
   "execution_count": 6,
   "metadata": {},
   "outputs": [
    {
     "name": "stdout",
     "output_type": "stream",
     "text": [
      "===== Luigi Execution Summary =====\n",
      "\n",
      "The command took 129.115951 s\n",
      "\n",
      "Cached container under /home/jupyter/data-science-examples_slc/tutorials/script-languages/script-languages-release/.build_output/cache/exports/python-3.6-data-science-EXASOL-6.2.0-release-LTAV5RUNCBWDSNSCEZWZHU6WJPRV2UGBADMX3GLKUIUOQG6JMA6Q.tar.gz\n",
      "\n",
      "Copied container to containers/python-3.6-data-science-EXASOL-6.2.0_release.tar.gz\n",
      "\n",
      "=================================================\n",
      "\n"
     ]
    }
   ],
   "source": [
    "bash.run(f\"\"\"tail {slc_path}/exaslct.log\"\"\")"
   ]
  },
  {
   "cell_type": "markdown",
   "metadata": {},
   "source": [
    "#### Build Output Directory"
   ]
  },
  {
   "cell_type": "markdown",
   "metadata": {},
   "source": [
    "More detailed information about the build or other operations can be found in the `.build_output/jobs/*/outputs` directory. Here each run of `exaslct` creates its own directory under `.build_output/jobs`. The `outputs` directory stores the outputs and log files (if any) that each executed task of `exaslct` produces. Especially, the Docker tasks such as build, pull and push store the logs returned by the Docker API. This can be helpful for finding problems during the build."
   ]
  },
  {
   "cell_type": "code",
   "execution_count": 7,
   "metadata": {},
   "outputs": [
    {
     "name": "stdout",
     "output_type": "stream",
     "text": [
      "script-languages-release/.build_output/jobs/2021_05_19_11_09_17_ExportContainers/outputs/ExportContainers_58b5c0a2a6/ExportFlavorContainer_5aa0c42863/ExportContainerTask_a98ce166cd/logs/extract_release_file.log\n",
      "script-languages-release/.build_output/jobs/2021_05_19_11_09_17_ExportContainers/outputs/ExportContainers_58b5c0a2a6/ExportFlavorContainer_5aa0c42863/ExportContainerTask_a98ce166cd/logs/pack_release_file.log\n"
     ]
    }
   ],
   "source": [
    "bash.run(f\"\"\"\n",
    "find {slc_path}/.build_output/jobs/*/outputs -type f -name '*log' | tail\n",
    "\"\"\")"
   ]
  },
  {
   "cell_type": "markdown",
   "metadata": {},
   "source": [
    "## Customizing Script-Language Containers"
   ]
  },
  {
   "cell_type": "markdown",
   "metadata": {},
   "source": [
    "Sometimes you need very specific dependencies or versions of dependencies in the Exasol UDFs. In such case you can customize a Script-Language Container."
   ]
  },
  {
   "cell_type": "markdown",
   "metadata": {},
   "source": [
    "### Flavor Definition"
   ]
  },
  {
   "cell_type": "markdown",
   "metadata": {},
   "source": [
    "To customize a flavor, you need to change the flavor definition. A flavor consists of several build steps. The [exaslct documentation](https://github.com/exasol/script-languages/blob/2588f3f80eb5646c88ef412bd57ed468145d5fcc/exaslct_src/README.md#build-steps-and-their-dependencies) gives you an idea about how these build steps are connected with each other.\n",
    "\n",
    "The `flavor_customization` build step contains everything you need to add or update dependencies. The remaining build steps should be only changed with care, but sometimes some dependencies are defined in other build steps because the script client depends on them. Here you see the structure of the flavor definition for our example flavor `flavors/python-3.6-data-science-EXASOL-6.2.0`."
   ]
  },
  {
   "cell_type": "code",
   "execution_count": 8,
   "metadata": {},
   "outputs": [
    {
     "name": "stdout",
     "output_type": "stream",
     "text": [
      "script-languages-release/flavors/python-3.6-data-science-EXASOL-6.2.0\n",
      "script-languages-release/flavors/python-3.6-data-science-EXASOL-6.2.0/flavor_customization\n",
      "script-languages-release/flavors/python-3.6-data-science-EXASOL-6.2.0/flavor_customization/Dockerfile\n",
      "script-languages-release/flavors/python-3.6-data-science-EXASOL-6.2.0/flavor_customization/packages\n",
      "script-languages-release/flavors/python-3.6-data-science-EXASOL-6.2.0/flavor_base\n",
      "script-languages-release/flavors/python-3.6-data-science-EXASOL-6.2.0/flavor_base/base_test_build_run\n",
      "script-languages-release/flavors/python-3.6-data-science-EXASOL-6.2.0/flavor_base/release\n",
      "script-languages-release/flavors/python-3.6-data-science-EXASOL-6.2.0/flavor_base/testconfig\n",
      "script-languages-release/flavors/python-3.6-data-science-EXASOL-6.2.0/flavor_base/flavor_test_build_run\n",
      "script-languages-release/flavors/python-3.6-data-science-EXASOL-6.2.0/flavor_base/base_test_deps\n",
      "script-languages-release/flavors/python-3.6-data-science-EXASOL-6.2.0/flavor_base/language_definition\n",
      "script-languages-release/flavors/python-3.6-data-science-EXASOL-6.2.0/flavor_base/build_run\n",
      "script-languages-release/flavors/python-3.6-data-science-EXASOL-6.2.0/flavor_base/flavor_base_deps\n",
      "script-languages-release/flavors/python-3.6-data-science-EXASOL-6.2.0/flavor_base/__pycache__\n",
      "script-languages-release/flavors/python-3.6-data-science-EXASOL-6.2.0/flavor_base/build_deps\n",
      "script-languages-release/flavors/python-3.6-data-science-EXASOL-6.2.0/flavor_base/language_deps\n",
      "script-languages-release/flavors/python-3.6-data-science-EXASOL-6.2.0/flavor_base/build_steps.py\n",
      "script-languages-release/flavors/python-3.6-data-science-EXASOL-6.2.0/flavor_base/udfclient_deps\n",
      "script-languages-release/flavors/python-3.6-data-science-EXASOL-6.2.0/FLAVOR_DESCRIPTION.md\n"
     ]
    }
   ],
   "source": [
    "bash.run(f\"\"\" \n",
    "find -L {slc_path}/flavors/python-3.6-data-science-EXASOL-6.2.0 -maxdepth 2\n",
    "\"\"\")"
   ]
  },
  {
   "cell_type": "markdown",
   "metadata": {},
   "source": [
    "### Flavor Customization Build Step"
   ]
  },
  {
   "cell_type": "markdown",
   "metadata": {},
   "source": [
    "The `flavor_customization` build step consists of a Dockerfile and several package lists which can be modified. We recommend to use the package lists to add new packages to the flavor and only modify the Dockerfile if you need very specific changes, like adding additional resources."
   ]
  },
  {
   "cell_type": "code",
   "execution_count": 9,
   "metadata": {},
   "outputs": [
    {
     "name": "stdout",
     "output_type": "stream",
     "text": [
      "script-languages-release/flavors/python-3.6-data-science-EXASOL-6.2.0/flavor_customization/Dockerfile\n",
      "script-languages-release/flavors/python-3.6-data-science-EXASOL-6.2.0/flavor_customization/packages/python3_pip_packages\n",
      "script-languages-release/flavors/python-3.6-data-science-EXASOL-6.2.0/flavor_customization/packages/apt_get_packages\n"
     ]
    }
   ],
   "source": [
    "bash.run(f\"\"\" \n",
    "find -L {slc_path}/flavors/python-3.6-data-science-EXASOL-6.2.0/flavor_customization -type f\n",
    "\"\"\")"
   ]
  },
  {
   "cell_type": "markdown",
   "metadata": {},
   "source": [
    "#### Dockerfile"
   ]
  },
  {
   "cell_type": "markdown",
   "metadata": {},
   "source": [
    "The Dockerfile consists of two parts. The first part installs the packages from the package list and should only be change with care. The second part is free for your changes. Read the description in the Dockerfile carefully to find out what you can and shouldn't do."
   ]
  },
  {
   "cell_type": "code",
   "execution_count": 10,
   "metadata": {},
   "outputs": [
    {
     "name": "stdout",
     "output_type": "stream",
     "text": [
      "############################################################################################\n",
      "############################################################################################\n",
      "# This Dockerfile allows you to extend this flavor by installing packages or adding files. \n",
      "# IF you didn't change the lines below, you can add packages and their version to the  \n",
      "# files in ./packages and they get automatically installed.                                \n",
      "############################################################################################\n",
      "############################################################################################\n",
      "\n",
      "#######################################################################\n",
      "#######################################################################\n",
      "# Do not change the following lines unless you know what you are doing \n",
      "#######################################################################\n",
      "#######################################################################\n",
      "\n",
      "FROM {{flavor_base_deps}}\n",
      "\n",
      "RUN mkdir -p /build_info/packages/flavor_customization\n",
      "\n",
      "COPY flavor_customization/packages/apt_get_packages /build_info/packages/flavor_customization\n",
      "RUN /scripts/install_scripts/install_via_apt.pl --file /build_info/packages/flavor_customization/apt_get_packages --with-versions --allow-no-version\n",
      "\n",
      "COPY flavor_customization/packages/python3_pip_packages /build_info/packages/flavor_customization\n",
      "RUN /scripts/install_scripts/install_via_pip.pl --file /build_info/packages/flavor_customization/python3_pip_packages --python-binary python3 --with-versions --allow-no-version\n",
      "\n",
      "\n",
      "##########################################################################\n",
      "##########################################################################\n",
      "# Below this text you can add any Dockerfile commands except of FROM.            \n",
      "# However only commands which change the filesystem will be              \n",
      "# reflected to the final script-language container.                      \n",
      "# We recommend to use only RUN, COPY and ADD. For example, WORKDIR, USER \n",
      "# and ENV will be not carried over into the final container. For more \n",
      "# information about Dockerfile commands, please check the reference \n",
      "# https://docs.docker.com/engine/reference/builder/#dockerfile-reference \n",
      "##########################################################################\n",
      "##########################################################################\n",
      "\n",
      "\n",
      "###########\n",
      "###########\n",
      "# Examples:\n",
      "###########\n",
      "###########\n",
      "\n",
      "#################################################\n",
      "# Execute a command during the build of the image\n",
      "#################################################\n",
      "\n",
      "# With RUN you can excute any command you usally would run in a bash shell.\n",
      "# It usually is a good idea to cleanup downloaded files or packages \n",
      "# caches in the same in the same RUN statement to keep the image size\n",
      "# small. You can execute multiple shell commands in one RUN statement\n",
      "# by combine them with \n",
      "# - `&&` (only execute if the previous command was successfull), \n",
      "# - `||` (only execute if the previous command was unsuccesfull)\n",
      "# - `;` (execute regardless of the success of the previous command)\n",
      "# To format multiple command per RUN statement you can add a line break with `\\`.\n",
      "# If you need to execute complex sequences of commands you should execute\n",
      "# scripts which you can copy into the image.\n",
      "# -------------------------------------------------------------------------------\n",
      "\n",
      "# RUN git clone https://github.com/exasol/data-science-examples\n",
      "# RUN curl -o data-science-examples.zip https://codeload.github.com/exasol/data-science-examples/zip/master && \\\n",
      "#     unzip data-science-examples.zip && \\\n",
      "#     rm data-science-examples.zip\n",
      "\n",
      "#####################################\n",
      "# Copy a file from ./ into the image. \n",
      "#####################################\n",
      "\n",
      "# In case of exaslct it is important to prefix source files or directories with `flavor_customization`\n",
      "# if you want to copy files or directories located in the same directory as this Dockerfile\n",
      "# -----------------------------------------------------------------------------------------------------\n",
      "\n",
      "# COPY flavor_customization/packages/pip3_packages /build_info/packages/flavor_base_deps\n",
      "# ADD flavor_customization/code.tar.gz /code\n",
      "\n"
     ]
    }
   ],
   "source": [
    "bash.run(f\"\"\" \n",
    "cat {slc_path}/flavors/python-3.6-data-science-EXASOL-6.2.0/flavor_customization/Dockerfile\n",
    "\"\"\")"
   ]
  },
  {
   "cell_type": "markdown",
   "metadata": {},
   "source": [
    "#### Package Lists"
   ]
  },
  {
   "cell_type": "markdown",
   "metadata": {},
   "source": [
    "The package lists have a unified format. Each line consists of the package name and the package version separated by \"|\", e.g `xgboost|1.3.3`. You can comment out a whole line by adding\"#\" at the beginning. You can also add a trailing comment to a package definition by adding a \"#\" after the package definition. We usually recommend to pin the version, such that there are no surprises for which version gets installed."
   ]
  },
  {
   "cell_type": "code",
   "execution_count": 11,
   "metadata": {},
   "outputs": [
    {
     "name": "stdout",
     "output_type": "stream",
     "text": [
      "# This file specifies the package list which gets installed via pip for python3.\n",
      "# You must specify the the package and its version separated by a |.\n",
      "# We recommend here the usage of package versions, to ensure that the container \n",
      "# builds are reproducible. However, we allow also packages without version.\n",
      "# As you can see, this file can contain comments which start with #.\n",
      "# If a line starts with # the whole line is a comment, however you can\n",
      "# also start a comment after the package definition.\n",
      "\n",
      "#tensorflow-probability|0.9.0\n"
     ]
    }
   ],
   "source": [
    "bash.run(f\"\"\" \n",
    "cat {slc_path}/flavors/python-3.6-data-science-EXASOL-6.2.0/flavor_customization/packages/python3_pip_packages\n",
    "\"\"\")"
   ]
  },
  {
   "cell_type": "markdown",
   "metadata": {},
   "source": [
    "We are now going to append the new \"xgboost\" Python package to one of the package lists by adding `\"xgboost|1.3.3\"` to the `flavor_customization/packages/python3_pip_packages` file."
   ]
  },
  {
   "cell_type": "code",
   "execution_count": 12,
   "metadata": {},
   "outputs": [],
   "source": [
    "bash.run(f\"\"\" \n",
    "echo \"xgboost|1.3.3\" >> {slc_path}/flavors/python-3.6-data-science-EXASOL-6.2.0/flavor_customization/packages/python3_pip_packages\n",
    "\"\"\")"
   ]
  },
  {
   "cell_type": "markdown",
   "metadata": {},
   "source": [
    "As you can see below, we now added a new line to our package list."
   ]
  },
  {
   "cell_type": "code",
   "execution_count": 13,
   "metadata": {},
   "outputs": [
    {
     "name": "stdout",
     "output_type": "stream",
     "text": [
      "# This file specifies the package list which gets installed via pip for python3.\n",
      "# You must specify the the package and its version separated by a |.\n",
      "# We recommend here the usage of package versions, to ensure that the container \n",
      "# builds are reproducible. However, we allow also packages without version.\n",
      "# As you can see, this file can contain comments which start with #.\n",
      "# If a line starts with # the whole line is a comment, however you can\n",
      "# also start a comment after the package definition.\n",
      "\n",
      "#tensorflow-probability|0.9.0\n",
      "xgboost|1.3.3\n"
     ]
    }
   ],
   "source": [
    "bash.run(f\"\"\" \n",
    "cat {slc_path}/flavors/python-3.6-data-science-EXASOL-6.2.0/flavor_customization/packages/python3_pip_packages\n",
    "\"\"\")"
   ]
  },
  {
   "cell_type": "markdown",
   "metadata": {},
   "source": [
    "#### Rebuilding the customized Flavor"
   ]
  },
  {
   "cell_type": "markdown",
   "metadata": {},
   "source": [
    "After changing the flavor you need to rebuild it. You can do it by running `./exaslsct export --flavor-path <flavor-path>` again. Exaslct automatically recognizes that the flavor has changed and builds a new version of the container."
   ]
  },
  {
   "cell_type": "code",
   "execution_count": 14,
   "metadata": {},
   "outputs": [
    {
     "name": "stdout",
     "output_type": "stream",
     "text": [
      "~/data-science-examples_slc/tutorials/script-languages/script-languages-release ~/data-science-examples_slc/tutorials/script-languages\n",
      "INFO: Informed scheduler that task   ExportContainers_1cc3cc4403   has status   PENDING\n",
      "INFO: Informed scheduler that task   ExportFlavorContainer_51f5cbaf48   has status   PENDING\n",
      "INFO: [pid 86] Worker Worker(salt=434362349, workers=5, host=test-statsmodels, username=root, pid=11) running   ExportFlavorContainer_51f5cbaf48(flavor_path=flavors/python-3.6-data-science-EXASOL-6.2.0, release_goals=[\"release\"], export_path=containers, release_name=)\n",
      "INFO: [pid 86] Worker Worker(salt=434362349, workers=5, host=test-statsmodels, username=root, pid=11) new requirements      ExportFlavorContainer_51f5cbaf48(flavor_path=flavors/python-3.6-data-science-EXASOL-6.2.0, release_goals=[\"release\"], export_path=containers, release_name=)\n",
      "INFO: Informed scheduler that task   ExportContainerTask_d60636ccf3   has status   PENDING\n",
      "INFO: Informed scheduler that task   DockerCreateImageTaskWithDeps_55b3725c4c   has status   PENDING\n",
      "INFO: Informed scheduler that task   DockerCreateImageTaskWithDeps_f94ce87d93   has status   PENDING\n",
      "INFO: Informed scheduler that task   DockerCreateImageTask_4b65d29137   has status   PENDING\n",
      "INFO: Informed scheduler that task   DockerCreateImageTaskWithDeps_131292483a   has status   PENDING\n",
      "INFO: Informed scheduler that task   DockerCreateImageTaskWithDeps_79c076372a   has status   PENDING\n",
      "INFO: Informed scheduler that task   DockerCreateImageTaskWithDeps_ff42991f2d   has status   PENDING\n",
      "INFO: Informed scheduler that task   DockerCreateImageTask_e35788b663   has status   PENDING\n",
      "INFO: Informed scheduler that task   CreateExportDirectory_0200e50d0f   has status   PENDING\n",
      "INFO: Informed scheduler that task   ExportFlavorContainer_51f5cbaf48   has status   PENDING\n",
      "INFO: [pid 88] Worker Worker(salt=434362349, workers=5, host=test-statsmodels, username=root, pid=11) running   CreateExportDirectory_0200e50d0f()\n",
      "INFO: [pid 89] Worker Worker(salt=434362349, workers=5, host=test-statsmodels, username=root, pid=11) running   DockerCreateImageTask_4b65d29137(image_name=exasol/script-language-container:python-3.6-data-science-EXASOL-6.2.0-udfclient_deps)\n",
      "INFO: CreateExportDirectory_0200e50d0f(): Write complete_target\n",
      "INFO: [pid 90] Worker Worker(salt=434362349, workers=5, host=test-statsmodels, username=root, pid=11) running   DockerCreateImageTask_e35788b663(image_name=exasol/script-language-container:python-3.6-data-science-EXASOL-6.2.0-build_deps)\n",
      "INFO: DockerCreateImageTask_4b65d29137(image_name=exasol/script-language-container:python-3.6-data-science-EXASOL-6.2.0-udfclient_deps): Write complete_target\n",
      "INFO: CreateExportDirectory_0200e50d0f(): Time since first_run 0.007409 s\n",
      "INFO: DockerCreateImageTask_4b65d29137(image_name=exasol/script-language-container:python-3.6-data-science-EXASOL-6.2.0-udfclient_deps): Time since first_run 0.00497 s\n",
      "INFO: DockerCreateImageTask_4b65d29137(image_name=exasol/script-language-container:python-3.6-data-science-EXASOL-6.2.0-udfclient_deps): Time since creation 0.939225 s\n",
      "INFO: DockerCreateImageTask_e35788b663(image_name=exasol/script-language-container:python-3.6-data-science-EXASOL-6.2.0-build_deps): Write complete_target\n",
      "INFO: CreateExportDirectory_0200e50d0f(): Time since creation 0.516611 s\n",
      "INFO: DockerCreateImageTask_4b65d29137(image_name=exasol/script-language-container:python-3.6-data-science-EXASOL-6.2.0-udfclient_deps): Total runtime of run method 0.004803 s\n",
      "INFO: CreateExportDirectory_0200e50d0f(): Total runtime of run method 0.007178 s\n",
      "INFO: [pid 89] Worker Worker(salt=434362349, workers=5, host=test-statsmodels, username=root, pid=11) done      DockerCreateImageTask_4b65d29137(image_name=exasol/script-language-container:python-3.6-data-science-EXASOL-6.2.0-udfclient_deps)\n",
      "INFO: [pid 88] Worker Worker(salt=434362349, workers=5, host=test-statsmodels, username=root, pid=11) done      CreateExportDirectory_0200e50d0f()\n",
      "INFO: DockerCreateImageTask_e35788b663(image_name=exasol/script-language-container:python-3.6-data-science-EXASOL-6.2.0-build_deps): Time since first_run 0.006661 s\n",
      "INFO: DockerCreateImageTask_e35788b663(image_name=exasol/script-language-container:python-3.6-data-science-EXASOL-6.2.0-build_deps): Time since creation 0.800043 s\n",
      "INFO: Informed scheduler that task   DockerCreateImageTask_4b65d29137   has status   DONE\n",
      "INFO: DockerCreateImageTask_e35788b663(image_name=exasol/script-language-container:python-3.6-data-science-EXASOL-6.2.0-build_deps): Total runtime of run method 0.00644 s\n",
      "INFO: [pid 90] Worker Worker(salt=434362349, workers=5, host=test-statsmodels, username=root, pid=11) done      DockerCreateImageTask_e35788b663(image_name=exasol/script-language-container:python-3.6-data-science-EXASOL-6.2.0-build_deps)\n",
      "INFO: [pid 93] Worker Worker(salt=434362349, workers=5, host=test-statsmodels, username=root, pid=11) running   DockerCreateImageTaskWithDeps_f94ce87d93(image_name=exasol/script-language-container:python-3.6-data-science-EXASOL-6.2.0-language_deps)\n",
      "INFO: Informed scheduler that task   CreateExportDirectory_0200e50d0f   has status   DONE\n",
      "INFO: Informed scheduler that task   DockerCreateImageTask_e35788b663   has status   DONE\n",
      "INFO: DockerCreateImageTaskWithDeps_f94ce87d93(image_name=exasol/script-language-container:python-3.6-data-science-EXASOL-6.2.0-language_deps): Write complete_target\n",
      "INFO: DockerCreateImageTaskWithDeps_f94ce87d93(image_name=exasol/script-language-container:python-3.6-data-science-EXASOL-6.2.0-language_deps): Time since first_run 0.006263 s\n",
      "INFO: DockerCreateImageTaskWithDeps_f94ce87d93(image_name=exasol/script-language-container:python-3.6-data-science-EXASOL-6.2.0-language_deps): Time since creation 0.935085 s\n",
      "INFO: DockerCreateImageTaskWithDeps_f94ce87d93(image_name=exasol/script-language-container:python-3.6-data-science-EXASOL-6.2.0-language_deps): Total runtime of run method 0.00607 s\n",
      "INFO: [pid 93] Worker Worker(salt=434362349, workers=5, host=test-statsmodels, username=root, pid=11) done      DockerCreateImageTaskWithDeps_f94ce87d93(image_name=exasol/script-language-container:python-3.6-data-science-EXASOL-6.2.0-language_deps)\n",
      "INFO: Informed scheduler that task   DockerCreateImageTaskWithDeps_f94ce87d93   has status   DONE\n",
      "INFO: [pid 96] Worker Worker(salt=434362349, workers=5, host=test-statsmodels, username=root, pid=11) running   DockerCreateImageTaskWithDeps_ff42991f2d(image_name=exasol/script-language-container:python-3.6-data-science-EXASOL-6.2.0-build_run)\n",
      "INFO: [pid 97] Worker Worker(salt=434362349, workers=5, host=test-statsmodels, username=root, pid=11) running   DockerCreateImageTaskWithDeps_79c076372a(image_name=exasol/script-language-container:python-3.6-data-science-EXASOL-6.2.0-flavor_base_deps)\n",
      "INFO: DockerCreateImageTaskWithDeps_ff42991f2d(image_name=exasol/script-language-container:python-3.6-data-science-EXASOL-6.2.0-build_run): Write complete_target\n",
      "INFO: DockerCreateImageTaskWithDeps_79c076372a(image_name=exasol/script-language-container:python-3.6-data-science-EXASOL-6.2.0-flavor_base_deps): Write complete_target\n",
      "INFO: DockerCreateImageTaskWithDeps_79c076372a(image_name=exasol/script-language-container:python-3.6-data-science-EXASOL-6.2.0-flavor_base_deps): Time since first_run 0.00601 s\n",
      "INFO: DockerCreateImageTaskWithDeps_ff42991f2d(image_name=exasol/script-language-container:python-3.6-data-science-EXASOL-6.2.0-build_run): Time since first_run 0.007664 s\n",
      "INFO: DockerCreateImageTaskWithDeps_79c076372a(image_name=exasol/script-language-container:python-3.6-data-science-EXASOL-6.2.0-flavor_base_deps): Time since creation 0.926633 s\n",
      "INFO: DockerCreateImageTaskWithDeps_ff42991f2d(image_name=exasol/script-language-container:python-3.6-data-science-EXASOL-6.2.0-build_run): Time since creation 0.738201 s\n",
      "INFO: DockerCreateImageTaskWithDeps_79c076372a(image_name=exasol/script-language-container:python-3.6-data-science-EXASOL-6.2.0-flavor_base_deps): Total runtime of run method 0.005824 s\n",
      "INFO: DockerCreateImageTaskWithDeps_ff42991f2d(image_name=exasol/script-language-container:python-3.6-data-science-EXASOL-6.2.0-build_run): Total runtime of run method 0.007381 s\n",
      "INFO: [pid 97] Worker Worker(salt=434362349, workers=5, host=test-statsmodels, username=root, pid=11) done      DockerCreateImageTaskWithDeps_79c076372a(image_name=exasol/script-language-container:python-3.6-data-science-EXASOL-6.2.0-flavor_base_deps)\n",
      "INFO: [pid 96] Worker Worker(salt=434362349, workers=5, host=test-statsmodels, username=root, pid=11) done      DockerCreateImageTaskWithDeps_ff42991f2d(image_name=exasol/script-language-container:python-3.6-data-science-EXASOL-6.2.0-build_run)\n",
      "INFO: Informed scheduler that task   DockerCreateImageTaskWithDeps_79c076372a   has status   DONE\n",
      "INFO: [pid 100] Worker Worker(salt=434362349, workers=5, host=test-statsmodels, username=root, pid=11) running   DockerCreateImageTaskWithDeps_131292483a(image_name=exasol/script-language-container:python-3.6-data-science-EXASOL-6.2.0-flavor_customization)\n",
      "INFO: Informed scheduler that task   DockerCreateImageTaskWithDeps_ff42991f2d   has status   DONE\n",
      "INFO: [pid 100] Worker Worker(salt=434362349, workers=5, host=test-statsmodels, username=root, pid=11) new requirements      DockerCreateImageTaskWithDeps_131292483a(image_name=exasol/script-language-container:python-3.6-data-science-EXASOL-6.2.0-flavor_customization)\n",
      "INFO: Informed scheduler that task   DockerCreateImageTaskWithDeps_131292483a   has status   PENDING\n",
      "INFO: DockerBuildImageTask_29aef89c47(image_name=exasol/script-language-container:python-3.6-data-science-EXASOL-6.2.0-flavor_customization): Build docker image exasol/script-language-container:python-3.6-data-science-EXASOL-6.2.0-flavor_customization_XPNT4SE3WKXREGQHMWWBI37RYKWH2NTKK5QNGJUJB6CBV7K45JIA, log file can be found here .build_output/jobs/2021_05_19_11_11_31_ExportContainers/outputs/ExportContainers_1cc3cc4403/ExportFlavorContainer_51f5cbaf48/DockerCreateImageTaskWithDeps_131292483a/DockerBuildImageTask_29aef89c47/logs\n",
      "INFO: [pid 104] Worker Worker(salt=434362349, workers=5, host=test-statsmodels, username=root, pid=11) running   DockerCreateImageTaskWithDeps_131292483a(image_name=exasol/script-language-container:python-3.6-data-science-EXASOL-6.2.0-flavor_customization)\n",
      "INFO: DockerCreateImageTaskWithDeps_131292483a(image_name=exasol/script-language-container:python-3.6-data-science-EXASOL-6.2.0-flavor_customization): Write complete_target\n",
      "INFO: DockerCreateImageTaskWithDeps_131292483a(image_name=exasol/script-language-container:python-3.6-data-science-EXASOL-6.2.0-flavor_customization): Time since first_run 43.545756 s\n",
      "INFO: DockerCreateImageTaskWithDeps_131292483a(image_name=exasol/script-language-container:python-3.6-data-science-EXASOL-6.2.0-flavor_customization): Time since creation 44.461691 s\n",
      "INFO: DockerCreateImageTaskWithDeps_131292483a(image_name=exasol/script-language-container:python-3.6-data-science-EXASOL-6.2.0-flavor_customization): Total runtime of run method 0.090142 s\n",
      "INFO: [pid 104] Worker Worker(salt=434362349, workers=5, host=test-statsmodels, username=root, pid=11) done      DockerCreateImageTaskWithDeps_131292483a(image_name=exasol/script-language-container:python-3.6-data-science-EXASOL-6.2.0-flavor_customization)\n",
      "INFO: Informed scheduler that task   DockerCreateImageTaskWithDeps_131292483a   has status   DONE\n",
      "INFO: [pid 106] Worker Worker(salt=434362349, workers=5, host=test-statsmodels, username=root, pid=11) running   DockerCreateImageTaskWithDeps_55b3725c4c(image_name=exasol/script-language-container:python-3.6-data-science-EXASOL-6.2.0-release)\n",
      "INFO: DockerCreateImageTaskWithDeps_55b3725c4c(image_name=exasol/script-language-container:python-3.6-data-science-EXASOL-6.2.0-release): Write complete_target\n",
      "INFO: DockerCreateImageTaskWithDeps_55b3725c4c(image_name=exasol/script-language-container:python-3.6-data-science-EXASOL-6.2.0-release): Time since first_run 0.007786 s\n",
      "INFO: DockerCreateImageTaskWithDeps_55b3725c4c(image_name=exasol/script-language-container:python-3.6-data-science-EXASOL-6.2.0-release): Time since creation 44.223504 s\n",
      "INFO: DockerCreateImageTaskWithDeps_55b3725c4c(image_name=exasol/script-language-container:python-3.6-data-science-EXASOL-6.2.0-release): Total runtime of run method 0.007615 s\n",
      "INFO: [pid 106] Worker Worker(salt=434362349, workers=5, host=test-statsmodels, username=root, pid=11) done      DockerCreateImageTaskWithDeps_55b3725c4c(image_name=exasol/script-language-container:python-3.6-data-science-EXASOL-6.2.0-release)\n",
      "INFO: Informed scheduler that task   DockerCreateImageTaskWithDeps_55b3725c4c   has status   DONE\n",
      "INFO: [pid 108] Worker Worker(salt=434362349, workers=5, host=test-statsmodels, username=root, pid=11) running   ExportContainerTask_d60636ccf3(flavor_path=flavors/python-3.6-data-science-EXASOL-6.2.0, export_path=containers, release_name=, release_goal=release)\n",
      "INFO: ExportContainerTask_d60636ccf3(flavor_path=flavors/python-3.6-data-science-EXASOL-6.2.0, export_path=containers, release_name=, release_goal=release): Create container file /home/jupyter/data-science-examples_slc/tutorials/script-languages/script-languages-release/.build_output/cache/exports/python-3.6-data-science-EXASOL-6.2.0-release-VRKYAHFUYBFCCPYBEPQMJUMQ5HRSEO7A23H7ZAUBLFOUQU4VG4WA.tar.gz\n",
      "INFO: ExportContainerTask_d60636ccf3(flavor_path=flavors/python-3.6-data-science-EXASOL-6.2.0, export_path=containers, release_name=, release_goal=release): Export container exasol/script-language-container:python-3.6-data-science-EXASOL-6.2.0-release_VRKYAHFUYBFCCPYBEPQMJUMQ5HRSEO7A23H7ZAUBLFOUQU4VG4WA\n",
      "INFO: ExportContainerTask_d60636ccf3(flavor_path=flavors/python-3.6-data-science-EXASOL-6.2.0, export_path=containers, release_name=, release_goal=release): Extract exported file /tmp/release_archive_2wg1j7hs/export.tar\n",
      "INFO: ExportContainerTask_d60636ccf3(flavor_path=flavors/python-3.6-data-science-EXASOL-6.2.0, export_path=containers, release_name=, release_goal=release): Pack container file /home/jupyter/data-science-examples_slc/tutorials/script-languages/script-languages-release/.build_output/cache/exports/python-3.6-data-science-EXASOL-6.2.0-release-VRKYAHFUYBFCCPYBEPQMJUMQ5HRSEO7A23H7ZAUBLFOUQU4VG4WA.tar.gz\n",
      "INFO: ExportContainerTask_d60636ccf3(flavor_path=flavors/python-3.6-data-science-EXASOL-6.2.0, export_path=containers, release_name=, release_goal=release): Still running packing container file /home/jupyter/data-science-examples_slc/tutorials/script-languages/script-languages-release/.build_output/cache/exports/python-3.6-data-science-EXASOL-6.2.0-release-VRKYAHFUYBFCCPYBEPQMJUMQ5HRSEO7A23H7ZAUBLFOUQU4VG4WA.tar.gz.\n",
      "INFO: ExportContainerTask_d60636ccf3(flavor_path=flavors/python-3.6-data-science-EXASOL-6.2.0, export_path=containers, release_name=, release_goal=release): Compute checksum for container file /home/jupyter/data-science-examples_slc/tutorials/script-languages/script-languages-release/.build_output/cache/exports/python-3.6-data-science-EXASOL-6.2.0-release-VRKYAHFUYBFCCPYBEPQMJUMQ5HRSEO7A23H7ZAUBLFOUQU4VG4WA.tar.gz\n",
      "INFO: ExportContainerTask_d60636ccf3(flavor_path=flavors/python-3.6-data-science-EXASOL-6.2.0, export_path=containers, release_name=, release_goal=release): Write complete_target\n",
      "INFO: ExportContainerTask_d60636ccf3(flavor_path=flavors/python-3.6-data-science-EXASOL-6.2.0, export_path=containers, release_name=, release_goal=release): Time since first_run 159.553381 s\n",
      "INFO: ExportContainerTask_d60636ccf3(flavor_path=flavors/python-3.6-data-science-EXASOL-6.2.0, export_path=containers, release_name=, release_goal=release): Time since creation 203.758052 s\n",
      "INFO: ExportContainerTask_d60636ccf3(flavor_path=flavors/python-3.6-data-science-EXASOL-6.2.0, export_path=containers, release_name=, release_goal=release): Total runtime of run method 159.553083 s\n",
      "INFO: [pid 108] Worker Worker(salt=434362349, workers=5, host=test-statsmodels, username=root, pid=11) done      ExportContainerTask_d60636ccf3(flavor_path=flavors/python-3.6-data-science-EXASOL-6.2.0, export_path=containers, release_name=, release_goal=release)\n",
      "INFO: Informed scheduler that task   ExportContainerTask_d60636ccf3   has status   DONE\n",
      "INFO: [pid 115] Worker Worker(salt=434362349, workers=5, host=test-statsmodels, username=root, pid=11) running   ExportFlavorContainer_51f5cbaf48(flavor_path=flavors/python-3.6-data-science-EXASOL-6.2.0, release_goals=[\"release\"], export_path=containers, release_name=)\n",
      "INFO: ExportFlavorContainer_51f5cbaf48(flavor_path=flavors/python-3.6-data-science-EXASOL-6.2.0, release_goals=[\"release\"], export_path=containers, release_name=): Write complete_target\n",
      "INFO: ExportFlavorContainer_51f5cbaf48(flavor_path=flavors/python-3.6-data-science-EXASOL-6.2.0, release_goals=[\"release\"], export_path=containers, release_name=): Time since first_run 204.709481 s\n",
      "INFO: ExportFlavorContainer_51f5cbaf48(flavor_path=flavors/python-3.6-data-science-EXASOL-6.2.0, release_goals=[\"release\"], export_path=containers, release_name=): Time since creation 205.293944 s\n",
      "INFO: ExportFlavorContainer_51f5cbaf48(flavor_path=flavors/python-3.6-data-science-EXASOL-6.2.0, release_goals=[\"release\"], export_path=containers, release_name=): Total runtime of run method 0.932058 s\n",
      "INFO: [pid 115] Worker Worker(salt=434362349, workers=5, host=test-statsmodels, username=root, pid=11) done      ExportFlavorContainer_51f5cbaf48(flavor_path=flavors/python-3.6-data-science-EXASOL-6.2.0, release_goals=[\"release\"], export_path=containers, release_name=)\n",
      "INFO: Informed scheduler that task   ExportFlavorContainer_51f5cbaf48   has status   DONE\n",
      "INFO: [pid 117] Worker Worker(salt=434362349, workers=5, host=test-statsmodels, username=root, pid=11) running   ExportContainers_1cc3cc4403(flavor_paths=[\"flavors/python-3.6-data-science-EXASOL-6.2.0\"], release_goals=[\"release\"], export_path=containers, release_name=)\n",
      "INFO: ExportContainers_1cc3cc4403(flavor_paths=[\"flavors/python-3.6-data-science-EXASOL-6.2.0\"], release_goals=[\"release\"], export_path=containers, release_name=): Write complete_target\n",
      "INFO: ExportContainers_1cc3cc4403(flavor_paths=[\"flavors/python-3.6-data-science-EXASOL-6.2.0\"], release_goals=[\"release\"], export_path=containers, release_name=): Time since first_run 0.005303 s\n",
      "INFO: ExportContainers_1cc3cc4403(flavor_paths=[\"flavors/python-3.6-data-science-EXASOL-6.2.0\"], release_goals=[\"release\"], export_path=containers, release_name=): Time since creation 205.317703 s\n",
      "INFO: ExportContainers_1cc3cc4403(flavor_paths=[\"flavors/python-3.6-data-science-EXASOL-6.2.0\"], release_goals=[\"release\"], export_path=containers, release_name=): Total runtime of run method 0.005123 s\n",
      "INFO: [pid 117] Worker Worker(salt=434362349, workers=5, host=test-statsmodels, username=root, pid=11) done      ExportContainers_1cc3cc4403(flavor_paths=[\"flavors/python-3.6-data-science-EXASOL-6.2.0\"], release_goals=[\"release\"], export_path=containers, release_name=)\n",
      "INFO: Informed scheduler that task   ExportContainers_1cc3cc4403   has status   DONE\n"
     ]
    }
   ],
   "source": [
    "bash.run(f\"\"\"\n",
    "pushd {slc_path}\n",
    "./exaslct export --flavor-path flavors/python-3.6-data-science-EXASOL-6.2.0 --export-path containers --force-rebuild --force-rebuild-from flavor_customization | grep -E \"CreateImageTask|Export\"\n",
    "\"\"\")"
   ]
  },
  {
   "cell_type": "code",
   "execution_count": 15,
   "metadata": {},
   "outputs": [
    {
     "name": "stdout",
     "output_type": "stream",
     "text": [
      "===== Luigi Execution Summary =====\n",
      "\n",
      "The command took 206.992188 s\n",
      "\n",
      "Cached container under /home/jupyter/data-science-examples_slc/tutorials/script-languages/script-languages-release/.build_output/cache/exports/python-3.6-data-science-EXASOL-6.2.0-release-VRKYAHFUYBFCCPYBEPQMJUMQ5HRSEO7A23H7ZAUBLFOUQU4VG4WA.tar.gz\n",
      "\n",
      "Copied container to containers/python-3.6-data-science-EXASOL-6.2.0_release.tar.gz\n",
      "\n",
      "=================================================\n",
      "\n"
     ]
    }
   ],
   "source": [
    "!tail {slc_path}/exaslct.log"
   ]
  },
  {
   "cell_type": "markdown",
   "metadata": {},
   "source": [
    "**Node:** Your old container doesn't get lost, because when you change a flavor your container gets a new hash code. If you revert your changes the system automatically uses the existing cached container. Below you can see the content of the cache directory for the containers."
   ]
  },
  {
   "cell_type": "code",
   "execution_count": 16,
   "metadata": {},
   "outputs": [
    {
     "name": "stdout",
     "output_type": "stream",
     "text": [
      "total 1.1G\n",
      "452M python-3.6-data-science-EXASOL-6.2.0-release-LTAV5RUNCBWDSNSCEZWZHU6WJPRV2UGBADMX3GLKUIUOQG6JMA6Q.tar.gz\n",
      "4.0K python-3.6-data-science-EXASOL-6.2.0-release-LTAV5RUNCBWDSNSCEZWZHU6WJPRV2UGBADMX3GLKUIUOQG6JMA6Q.tar.gz.sha512sum\n",
      "613M python-3.6-data-science-EXASOL-6.2.0-release-VRKYAHFUYBFCCPYBEPQMJUMQ5HRSEO7A23H7ZAUBLFOUQU4VG4WA.tar.gz\n",
      "4.0K python-3.6-data-science-EXASOL-6.2.0-release-VRKYAHFUYBFCCPYBEPQMJUMQ5HRSEO7A23H7ZAUBLFOUQU4VG4WA.tar.gz.sha512sum\n"
     ]
    }
   ],
   "source": [
    "bash.run(f\"\"\"\n",
    "ls -sh {slc_path}/.build_output/cache/exports\n",
    "\"\"\")"
   ]
  },
  {
   "cell_type": "markdown",
   "metadata": {},
   "source": [
    "## Testing the new Script-Language Container"
   ]
  },
  {
   "cell_type": "markdown",
   "metadata": {},
   "source": [
    "Now, that we have an updated container, we need to check if our changes were successful. For that we are going to upload the container to an Exasol Database and have a look into it. In this example, we are going to use a local Docker-DB started by `exaslct`, which uses our [integration-test-docker-environment](https://github.com/exasol/integration-test-docker-environment) in the background. \n",
    "\n",
    "**Note:** You could also use your own Exasol Database by changing the variables below. However, this Notebook must be able to access the BucketFS of your Exasol Database or you need to manually upload the container. "
   ]
  },
  {
   "cell_type": "code",
   "execution_count": 17,
   "metadata": {},
   "outputs": [],
   "source": [
    "DATABASE_HOST=\"localhost\"\n",
    "DATABASE_PORT=8888\n",
    "DATABASE_USER=\"sys\"\n",
    "DATABASE_PASSWORD=\"exasol\"\n",
    "BUCKETFS_PORT=6666\n",
    "BUCKETFS_USER=\"w\"\n",
    "BUCKETFS_PASSWORD=\"write\"\n",
    "BUCKETFS_NAME=\"bfsdefault\"\n",
    "BUCKET_NAME=\"default\"\n",
    "PATH_IN_BUCKET=\"container\""
   ]
  },
  {
   "cell_type": "markdown",
   "metadata": {},
   "source": [
    "### Starting a local Docker-DB for Testing"
   ]
  },
  {
   "cell_type": "markdown",
   "metadata": {},
   "source": [
    "#### Start the environment and forward the database and bucketfs ports to the specified host ports. \n",
    "\n",
    "**Note:** The Exasol Integration-Test-Docker-Environment requires Docker with privileged mode\n",
    "\n",
    "**Note:** Starting the environment can take between 3-5 min."
   ]
  },
  {
   "cell_type": "code",
   "execution_count": 18,
   "metadata": {},
   "outputs": [
    {
     "name": "stdout",
     "output_type": "stream",
     "text": [
      "~/data-science-examples_slc/tutorials/script-languages/script-languages-release ~/data-science-examples_slc/tutorials/script-languages\n",
      "    - 1 DockerCreateImageTask_49e7caf778(image_name=exasol/script-language-container:db-test-container)\n",
      "    - 1 DockerTestContainerBuild(caller_output_path=[])\n",
      "    - 1 PopulateEngineSmallTestDataToDatabase(...)\n",
      "    ...\n",
      "\n",
      "This progress looks :) because there were no failed tasks or missing dependencies\n",
      "\n",
      "===== Luigi Execution Summary =====\n",
      "\n",
      "The command took 168.063945 s\n"
     ]
    }
   ],
   "source": [
    "bash.run(f\"\"\"\n",
    "pushd {slc_path}\n",
    "./exaslct spawn-test-environment --environment-name test --database-port-forward {DATABASE_PORT} --bucketfs-port-forward {BUCKETFS_PORT} &> integration-test-docker-environment.log\n",
    "tail integration-test-docker-environment.log\n",
    "\"\"\")"
   ]
  },
  {
   "cell_type": "markdown",
   "metadata": {},
   "source": [
    "### Upload the Container to the Database"
   ]
  },
  {
   "cell_type": "markdown",
   "metadata": {},
   "source": [
    "To use our container we need to upload it to the BucketFS . If the build machine has access to the BucketFS we can do it with the `exaslct upload` command, otherwise you need to export the container and transfer it to a machine that has access to the BucketFS and upload it via `curl`, as described in our [documentation](https://docs.exasol.com/database_concepts/udf_scripts/adding_new_packages_script_languages.htm)."
   ]
  },
  {
   "cell_type": "code",
   "execution_count": 19,
   "metadata": {},
   "outputs": [
    {
     "name": "stdout",
     "output_type": "stream",
     "text": [
      "~/data-science-examples_slc/tutorials/script-languages/script-languages-release ~/data-science-examples_slc/tutorials/script-languages\n",
      "    - 1 AnalyzeFlavorBaseDeps_c6297a8288(flavor_path=flavors/python-3.6-data-science-EXASOL-6.2.0)\n",
      "    - 1 AnalyzeFlavorCustomization_c6297a8288(flavor_path=flavors/python-3.6-data-science-EXASOL-6.2.0)\n",
      "    - 1 AnalyzeLanguageDeps_c6297a8288(flavor_path=flavors/python-3.6-data-science-EXASOL-6.2.0)\n",
      "    ...\n",
      "\n",
      "This progress looks :) because there were no failed tasks or missing dependencies\n",
      "\n",
      "===== Luigi Execution Summary =====\n",
      "\n",
      "The command took 74.932298 s\n",
      "\n",
      "Uploaded .build_output/cache/exports/python-3.6-data-science-EXASOL-6.2.0-release-VRKYAHFUYBFCCPYBEPQMJUMQ5HRSEO7A23H7ZAUBLFOUQU4VG4WA.tar.gz to\n",
      "http://localhost:6666/default/container/python-3.6-data-science-EXASOL-6.2.0-release-current.tar.gz\n",
      "\n",
      "\n",
      "In SQL, you can activate the languages supported by the python-3.6-data-science-EXASOL-6.2.0\n",
      "flavor by using the following statements:\n",
      "\n",
      "\n",
      "To activate the flavor only for the current session:\n",
      "\n",
      "ALTER SESSION SET SCRIPT_LANGUAGES='PYTHON3=localzmq+protobuf:///bfsdefault/default/container/python-3.6-data-science-EXASOL-6.2.0-release-current?lang=python#buckets/bfsdefault/default/container/python-3.6-data-science-EXASOL-6.2.0-release-current/exaudf/exaudfclient_py3';\n",
      "\n",
      "\n",
      "To activate the flavor on the system:\n",
      "\n",
      "ALTER SYSTEM SET SCRIPT_LANGUAGES='PYTHON3=localzmq+protobuf:///bfsdefault/default/container/python-3.6-data-science-EXASOL-6.2.0-release-current?lang=python#buckets/bfsdefault/default/container/python-3.6-data-science-EXASOL-6.2.0-release-current/exaudf/exaudfclient_py3';\n",
      "\n",
      "=================================================\n",
      "\n"
     ]
    }
   ],
   "source": [
    "bash.run(f\"\"\"\n",
    "pushd {slc_path}\n",
    "./exaslct upload \\\n",
    "    --flavor-path flavors/python-3.6-data-science-EXASOL-6.2.0 \\\n",
    "    --database-host {DATABASE_HOST}\\\n",
    "    --bucketfs-port {BUCKETFS_PORT} \\\n",
    "    --bucketfs-username {BUCKETFS_USER} \\\n",
    "    --bucketfs-password {BUCKETFS_PASSWORD} \\\n",
    "    --bucketfs-name {BUCKETFS_NAME} \\\n",
    "    --bucket-name {BUCKET_NAME} \\\n",
    "    --path-in-bucket {PATH_IN_BUCKET} \\\n",
    "    --release-name current &> upload.log\n",
    "tail -n 30 upload.log\n",
    "\"\"\")"
   ]
  },
  {
   "cell_type": "markdown",
   "metadata": {},
   "source": [
    "### Getting the language container activation statement without upload"
   ]
  },
  {
   "cell_type": "markdown",
   "metadata": {},
   "source": [
    "Sometimes you can't use the `upload` command to upload your container to the BucketFS. To get the language activation statement regardless of that, you can use the `generate-language-activation` command."
   ]
  },
  {
   "cell_type": "code",
   "execution_count": 20,
   "metadata": {},
   "outputs": [
    {
     "name": "stdout",
     "output_type": "stream",
     "text": [
      "~/data-science-examples_slc/tutorials/script-languages/script-languages-release ~/data-science-examples_slc/tutorials/script-languages\n",
      "\n",
      "\n",
      "In SQL, you can activate the languages supported by the python-3.6-data-science-EXASOL-6.2.0\n",
      "flavor by using the following statements:\n",
      "\n",
      "\n",
      "To activate the flavor only for the current session:\n",
      "\n",
      "ALTER SESSION SET SCRIPT_LANGUAGES='PYTHON3=localzmq+protobuf:///bfsdefault/default/container/python-3.6-data-science-EXASOL-6.2.0-current?lang=python#buckets/bfsdefault/default/container/python-3.6-data-science-EXASOL-6.2.0-current/exaudf/exaudfclient_py3';\n",
      "\n",
      "\n",
      "To activate the flavor on the system:\n",
      "\n",
      "ALTER SYSTEM SET SCRIPT_LANGUAGES='PYTHON3=localzmq+protobuf:///bfsdefault/default/container/python-3.6-data-science-EXASOL-6.2.0-current?lang=python#buckets/bfsdefault/default/container/python-3.6-data-science-EXASOL-6.2.0-current/exaudf/exaudfclient_py3';\n",
      "\n"
     ]
    }
   ],
   "source": [
    "bash.run(f\"\"\"\n",
    "pushd {slc_path}\n",
    "./exaslct generate-language-activation \\\n",
    "    --flavor-path flavors/python-3.6-data-science-EXASOL-6.2.0 \\\n",
    "    --bucketfs-name {BUCKETFS_NAME} \\\n",
    "    --bucket-name {BUCKET_NAME} \\\n",
    "    --path-in-bucket {PATH_IN_BUCKET} \\\n",
    "    --container-name python-3.6-data-science-EXASOL-6.2.0-current  2>&1 | tail -n 15\n",
    "\"\"\")"
   ]
  },
  {
   "cell_type": "markdown",
   "metadata": {},
   "source": [
    "### Connecting to the database and activate the container"
   ]
  },
  {
   "cell_type": "markdown",
   "metadata": {},
   "source": [
    "Once we have a connection to the database we run the `ALTER SESSION` statement or `ALTER SYSTEM` statement (if you want to activate the container permanently and globally) we got from the upload."
   ]
  },
  {
   "cell_type": "code",
   "execution_count": 21,
   "metadata": {},
   "outputs": [],
   "source": [
    "def connect():\n",
    "    con=pyexasol.connect(dsn=f\"{DATABASE_HOST}:{DATABASE_PORT}\",user=DATABASE_USER,password=DATABASE_PASSWORD)\n",
    "    con.execute(\"ALTER SESSION SET SCRIPT_LANGUAGES='PYTHON3=builtin_python3 PYTHON3_DS=localzmq+protobuf:///bfsdefault/default/container/python-3.6-data-science-EXASOL-6.2.0-release-current?lang=python#buckets/bfsdefault/default/container/python-3.6-data-science-EXASOL-6.2.0-release-current/exaudf/exaudfclient_py3';\")\n",
    "    con.execute(\"OPEN SCHEMA TEST\")\n",
    "    return con"
   ]
  },
  {
   "cell_type": "markdown",
   "metadata": {},
   "source": [
    "### Check if your customization did work"
   ]
  },
  {
   "cell_type": "markdown",
   "metadata": {},
   "source": [
    "We first create a helper UDF which allows us to run arbitrary shell commands inside of a UDF instance. With that we can easily inspect the container."
   ]
  },
  {
   "cell_type": "code",
   "execution_count": 22,
   "metadata": {},
   "outputs": [
    {
     "data": {
      "text/plain": [
       "<ExaStatement session_id=1700185423561228288 stmt_idx=3>"
      ]
     },
     "execution_count": 22,
     "metadata": {},
     "output_type": "execute_result"
    }
   ],
   "source": [
    "con = connect()\n",
    "\n",
    "con.execute(textwrap.dedent(\"\"\"\n",
    "CREATE OR REPLACE PYTHON3_DS SCALAR SCRIPT execute_shell_command_py3(command VARCHAR(2000000), split_output boolean)\n",
    "EMITS (lines VARCHAR(2000000)) AS\n",
    "import subprocess\n",
    "\n",
    "def run(ctx):\n",
    "    try:\n",
    "        p = subprocess.Popen(ctx.command,\n",
    "                             stdout    = subprocess.PIPE,\n",
    "                             stderr    = subprocess.STDOUT,\n",
    "                             close_fds = True,\n",
    "                             shell     = True)\n",
    "        out, err = p.communicate()\n",
    "        if isinstance(out,bytes):\n",
    "            out=out.decode('utf8')\n",
    "        if ctx.split_output:\n",
    "            for line in out.strip().split('\\\\n'):\n",
    "                ctx.emit(line)\n",
    "        else:\n",
    "            ctx.emit(out)\n",
    "    finally:\n",
    "        if p is not None:\n",
    "            try: p.kill()\n",
    "            except: pass\n",
    "/\n",
    "\"\"\"))"
   ]
  },
  {
   "cell_type": "markdown",
   "metadata": {},
   "source": [
    "#### Check with \"pip list\" if the  \"xgboost\" package is installed"
   ]
  },
  {
   "cell_type": "markdown",
   "metadata": {},
   "source": [
    "We use our helper UDF to run `python3 -m pip list` directly in the container and get the list of currently avaiable python3 packages."
   ]
  },
  {
   "cell_type": "code",
   "execution_count": 23,
   "metadata": {},
   "outputs": [
    {
     "name": "stdout",
     "output_type": "stream",
     "text": [
      "Package              Version\n",
      "-------------------- ---------------\n",
      "absl-py              0.12.0\n",
      "astor                0.8.1\n",
      "autograd             1.3\n",
      "autograd-gamma       0.5.0\n",
      "cached-property      1.5.2\n",
      "click                8.0.0\n",
      "cycler               0.10.0\n",
      "dataclasses          0.8\n",
      "formulaic            0.2.3\n",
      "future               0.18.2\n",
      "gast                 0.4.0\n",
      "gensim               4.0.1\n",
      "grpcio               1.37.1\n",
      "h5py                 3.1.0\n",
      "imbalanced-learn     0.8.0\n",
      "importlib-metadata   4.0.1\n",
      "interface-meta       1.2.3\n",
      "joblib               1.0.1\n",
      "Keras                2.3.1\n",
      "Keras-Applications   1.0.8\n",
      "Keras-Preprocessing  1.1.2\n",
      "kiwisolver           1.3.1\n",
      "kmodes               0.11.0\n",
      "lifelines            0.25.11\n",
      "lxml                 4.6.3\n",
      "Markdown             3.3.4\n",
      "matplotlib           3.3.4\n",
      "mock                 4.0.3\n",
      "nltk                 3.6.2\n",
      "numpy                1.19.5\n",
      "pandas               1.1.5\n",
      "patsy                0.5.1\n",
      "Pillow               8.2.0\n",
      "pip                  20.3.4\n",
      "protobuf             3.17.0\n",
      "pyasn1               0.4.8\n",
      "pycurl               7.43.0.6\n",
      "pyexasol             0.18.1\n",
      "pygobject            3.26.1\n",
      "pyparsing            2.4.7\n",
      "python-apt           1.6.5+ubuntu0.5\n",
      "python-dateutil      2.8.1\n",
      "pytz                 2021.1\n",
      "PyYAML               5.4.1\n",
      "regex                2021.4.4\n",
      "rsa                  4.7.2\n",
      "scikit-learn         0.24.2\n",
      "scipy                1.5.4\n",
      "seaborn              0.11.1\n",
      "setuptools           56.2.0\n",
      "six                  1.16.0\n",
      "smart-open           5.0.0\n",
      "statsmodels          0.12.2\n",
      "tensorboard          1.13.1\n",
      "tensorflow           1.13.1\n",
      "tensorflow-estimator 1.13.0\n",
      "tensorflow-hub       0.4.0\n",
      "termcolor            1.1.0\n",
      "threadpoolctl        2.1.0\n",
      "tqdm                 4.60.0\n",
      "typing-extensions    3.10.0.0\n",
      "ujson                4.0.2\n",
      "websocket-client     1.0.0\n",
      "Werkzeug             2.0.1\n",
      "wheel                0.36.2\n",
      "wrapt                1.12.1\n",
      "xgboost              1.3.3\n",
      "zipp                 3.4.1\n"
     ]
    }
   ],
   "source": [
    "con = connect()\n",
    "rs=con.execute(\"\"\"select execute_shell_command_py3('python3 -m pip list', true)\"\"\")\n",
    "for r in rs: \n",
    "    print(r[0])"
   ]
  },
  {
   "cell_type": "markdown",
   "metadata": {},
   "source": [
    "By running `pip list` directly in the container, we see what is currently available in the container. However, sometimes this might not be what we expected. For these cases, `exaslct` stores information about the flavor the container was build from within the container."
   ]
  },
  {
   "cell_type": "markdown",
   "metadata": {},
   "source": [
    "#### Embedded Build Information of the Container"
   ]
  },
  {
   "cell_type": "markdown",
   "metadata": {},
   "source": [
    "Here we see an overview about the build information which `exaslct` embedded into the container. `Exaslct` stores all packages lists (as defined in the flavor and what actually got installed), the final Dockerfiles and the image info. The image info describes how the underlying Docker images of the container got built. The build information is stored in the `/build_info` directory in the container. We can use again our helper UDF to inspect the build information."
   ]
  },
  {
   "cell_type": "code",
   "execution_count": 24,
   "metadata": {},
   "outputs": [
    {
     "name": "stdout",
     "output_type": "stream",
     "text": [
      "/build_info\n",
      "/build_info/image_info\n",
      "/build_info/image_info/python-3.6-data-science-EXASOL-6.2.0-language_deps\n",
      "/build_info/image_info/python-3.6-data-science-EXASOL-6.2.0-flavor_customization\n",
      "/build_info/image_info/python-3.6-data-science-EXASOL-6.2.0-build_run\n",
      "/build_info/image_info/python-3.6-data-science-EXASOL-6.2.0-build_deps\n",
      "/build_info/image_info/python-3.6-data-science-EXASOL-6.2.0-udfclient_deps\n",
      "/build_info/image_info/python-3.6-data-science-EXASOL-6.2.0-release\n",
      "/build_info/image_info/python-3.6-data-science-EXASOL-6.2.0-flavor_base_deps\n",
      "/build_info/dockerfiles\n",
      "/build_info/dockerfiles/python-3.6-data-science-EXASOL-6.2.0-language_deps\n",
      "/build_info/dockerfiles/python-3.6-data-science-EXASOL-6.2.0-flavor_customization\n",
      "/build_info/dockerfiles/python-3.6-data-science-EXASOL-6.2.0-build_run\n",
      "/build_info/dockerfiles/python-3.6-data-science-EXASOL-6.2.0-build_deps\n",
      "/build_info/dockerfiles/python-3.6-data-science-EXASOL-6.2.0-udfclient_deps\n",
      "/build_info/dockerfiles/python-3.6-data-science-EXASOL-6.2.0-release\n",
      "/build_info/dockerfiles/python-3.6-data-science-EXASOL-6.2.0-flavor_base_deps\n",
      "/build_info/actual_installed_packages\n",
      "/build_info/actual_installed_packages/release\n",
      "/build_info/actual_installed_packages/release/apt_get_packages\n",
      "/build_info/actual_installed_packages/release/python3_pip_packages\n",
      "/build_info/packages\n",
      "/build_info/packages/flavor_customization\n",
      "/build_info/packages/flavor_customization/apt_get_packages\n",
      "/build_info/packages/flavor_customization/python3_pip_packages\n",
      "/build_info/packages/udfclient_deps\n",
      "/build_info/packages/udfclient_deps/apt_get_packages\n",
      "/build_info/packages/language_deps\n",
      "/build_info/packages/language_deps/apt_get_packages\n",
      "/build_info/packages/language_deps/pip3_packages\n",
      "/build_info/packages/flavor_base_deps\n",
      "/build_info/packages/flavor_base_deps/apt_get_packages\n",
      "/build_info/packages/flavor_base_deps/pip3_packages\n",
      "/build_info/packages/build_deps\n",
      "/build_info/packages/build_deps/apt_get_packages\n"
     ]
    }
   ],
   "source": [
    "con = connect()\n",
    "rs=con.execute(\"\"\"select execute_shell_command_py3('find /build_info', true)\"\"\")\n",
    "for r in rs: \n",
    "    print(r[0])"
   ]
  },
  {
   "cell_type": "markdown",
   "metadata": {},
   "source": [
    "The following command shows for example, which python3 package pip found directly after the build of the container image."
   ]
  },
  {
   "cell_type": "code",
   "execution_count": 25,
   "metadata": {},
   "outputs": [
    {
     "name": "stdout",
     "output_type": "stream",
     "text": [
      "absl-py|0.12.0\n",
      "astor|0.8.1\n",
      "autograd|1.3\n",
      "autograd-gamma|0.5.0\n",
      "cached-property|1.5.2\n",
      "click|8.0.0\n",
      "cycler|0.10.0\n",
      "dataclasses|0.8\n",
      "formulaic|0.2.3\n",
      "future|0.18.2\n",
      "gast|0.4.0\n",
      "gensim|4.0.1\n",
      "grpcio|1.37.1\n",
      "h5py|3.1.0\n",
      "imbalanced-learn|0.8.0\n",
      "importlib-metadata|4.0.1\n",
      "interface-meta|1.2.3\n",
      "joblib|1.0.1\n",
      "Keras|2.3.1\n",
      "Keras-Applications|1.0.8\n",
      "Keras-Preprocessing|1.1.2\n",
      "kiwisolver|1.3.1\n",
      "kmodes|0.11.0\n",
      "lifelines|0.25.11\n",
      "lxml|4.6.3\n",
      "Markdown|3.3.4\n",
      "matplotlib|3.3.4\n",
      "mock|4.0.3\n",
      "nltk|3.6.2\n",
      "numpy|1.19.5\n",
      "pandas|1.1.5\n",
      "patsy|0.5.1\n",
      "Pillow|8.2.0\n",
      "pip|20.3.4\n",
      "protobuf|3.17.0\n",
      "pyasn1|0.4.8\n",
      "pycurl|7.43.0.6\n",
      "pyexasol|0.18.1\n",
      "pygobject|3.26.1\n",
      "pyparsing|2.4.7\n",
      "python-apt|1.6.5+ubuntu0.5\n",
      "python-dateutil|2.8.1\n",
      "pytz|2021.1\n",
      "PyYAML|5.4.1\n",
      "regex|2021.4.4\n",
      "rsa|4.7.2\n",
      "scikit-learn|0.24.2\n",
      "scipy|1.5.4\n",
      "seaborn|0.11.1\n",
      "setuptools|56.2.0\n",
      "six|1.16.0\n",
      "smart-open|5.0.0\n",
      "statsmodels|0.12.2\n",
      "tensorboard|1.13.1\n",
      "tensorflow|1.13.1\n",
      "tensorflow-estimator|1.13.0\n",
      "tensorflow-hub|0.4.0\n",
      "termcolor|1.1.0\n",
      "threadpoolctl|2.1.0\n",
      "tqdm|4.60.0\n",
      "typing-extensions|3.10.0.0\n",
      "ujson|4.0.2\n",
      "websocket-client|1.0.0\n",
      "Werkzeug|2.0.1\n",
      "wheel|0.36.2\n",
      "wrapt|1.12.1\n",
      "xgboost|1.3.3\n",
      "zipp|3.4.1\n"
     ]
    }
   ],
   "source": [
    "con = connect()\n",
    "rs=con.execute(\"\"\"select execute_shell_command_py3('cat /build_info/actual_installed_packages/release/python3_pip_packages', true)\"\"\")\n",
    "for r in rs: \n",
    "    print(r[0])"
   ]
  },
  {
   "cell_type": "markdown",
   "metadata": {},
   "source": [
    "You could for example compare this to the package list of the `flavor-customization` build step and check if all your requested packages got installed."
   ]
  },
  {
   "cell_type": "code",
   "execution_count": 26,
   "metadata": {},
   "outputs": [
    {
     "name": "stdout",
     "output_type": "stream",
     "text": [
      "# This file specifies the package list which gets installed via pip for python3.\n",
      "# You must specify the the package and its version separated by a |.\n",
      "# We recommend here the usage of package versions, to ensure that the container \n",
      "# builds are reproducible. However, we allow also packages without version.\n",
      "# As you can see, this file can contain comments which start with #.\n",
      "# If a line starts with # the whole line is a comment, however you can\n",
      "# also start a comment after the package definition.\n",
      "\n",
      "#tensorflow-probability|0.9.0\n",
      "xgboost|1.3.3\n"
     ]
    }
   ],
   "source": [
    "con = connect()\n",
    "rs=con.execute(\"\"\"select execute_shell_command_py3('cat /build_info/packages/flavor_customization/python3_pip_packages', true)\"\"\")\n",
    "for r in rs:\n",
    "    if r[0] is None:\n",
    "        print()\n",
    "    else:\n",
    "        print(r[0])"
   ]
  },
  {
   "cell_type": "markdown",
   "metadata": {},
   "source": [
    "### Testing the new package"
   ]
  },
  {
   "cell_type": "markdown",
   "metadata": {},
   "source": [
    "After we made sure that the required packages are installed, we need to try importing and using it. Importing is usually a good first test if a package got successfully installed, because often you might already get errors at this step. However, sometimes you only will recognize errors when using the package. We recommend to have a test suite for each new package to check if it works properly before you start your UDF development. It is usually easier to debug problems if you have very narrow tests."
   ]
  },
  {
   "cell_type": "code",
   "execution_count": 27,
   "metadata": {},
   "outputs": [
    {
     "data": {
      "text/plain": [
       "[('success',)]"
      ]
     },
     "execution_count": 27,
     "metadata": {},
     "output_type": "execute_result"
    }
   ],
   "source": [
    "con = connect()\n",
    "\n",
    "con.execute(textwrap.dedent(\"\"\"\n",
    "CREATE OR REPLACE PYTHON3_DS SET SCRIPT test_xgboost(i integer)\n",
    "EMITS (o VARCHAR(2000000)) AS\n",
    "\n",
    "def run(ctx):\n",
    "    import xgboost as xgb\n",
    "    \n",
    "    ctx.emit(\"success\")\n",
    "/\n",
    "\"\"\"))\n",
    "\n",
    "rs = con.execute(\"select test_xgboost(1)\")\n",
    "rs.fetchall()"
   ]
  },
  {
   "cell_type": "code",
   "execution_count": 28,
   "metadata": {},
   "outputs": [
    {
     "data": {
      "text/html": [
       "<div>\n",
       "<style scoped>\n",
       "    .dataframe tbody tr th:only-of-type {\n",
       "        vertical-align: middle;\n",
       "    }\n",
       "\n",
       "    .dataframe tbody tr th {\n",
       "        vertical-align: top;\n",
       "    }\n",
       "\n",
       "    .dataframe thead th {\n",
       "        text-align: right;\n",
       "    }\n",
       "</style>\n",
       "<table border=\"1\" class=\"dataframe\">\n",
       "  <thead>\n",
       "    <tr style=\"text-align: right;\">\n",
       "      <th></th>\n",
       "      <th>O1</th>\n",
       "      <th>O2</th>\n",
       "      <th>O3</th>\n",
       "    </tr>\n",
       "  </thead>\n",
       "  <tbody>\n",
       "    <tr>\n",
       "      <th>0</th>\n",
       "      <td>6.721661e-03</td>\n",
       "      <td>8.975322e-18</td>\n",
       "      <td>1.392795e-22</td>\n",
       "    </tr>\n",
       "    <tr>\n",
       "      <th>1</th>\n",
       "      <td>2.010840e-22</td>\n",
       "      <td>1.084088e-20</td>\n",
       "      <td>7.200644e-03</td>\n",
       "    </tr>\n",
       "    <tr>\n",
       "      <th>2</th>\n",
       "      <td>5.305263e-21</td>\n",
       "      <td>6.510653e-03</td>\n",
       "      <td>2.146300e-17</td>\n",
       "    </tr>\n",
       "    <tr>\n",
       "      <th>3</th>\n",
       "      <td>3.593958e-21</td>\n",
       "      <td>3.872168e-03</td>\n",
       "      <td>8.624799e-13</td>\n",
       "    </tr>\n",
       "    <tr>\n",
       "      <th>4</th>\n",
       "      <td>6.942478e-03</td>\n",
       "      <td>7.210853e-19</td>\n",
       "      <td>1.447298e-22</td>\n",
       "    </tr>\n",
       "    <tr>\n",
       "      <th>5</th>\n",
       "      <td>8.427893e-22</td>\n",
       "      <td>7.213292e-03</td>\n",
       "      <td>2.786567e-21</td>\n",
       "    </tr>\n",
       "    <tr>\n",
       "      <th>6</th>\n",
       "      <td>2.875466e-17</td>\n",
       "      <td>2.757441e-12</td>\n",
       "      <td>3.289814e-03</td>\n",
       "    </tr>\n",
       "    <tr>\n",
       "      <th>7</th>\n",
       "      <td>1.341574e-20</td>\n",
       "      <td>4.610729e-03</td>\n",
       "      <td>8.480951e-14</td>\n",
       "    </tr>\n",
       "    <tr>\n",
       "      <th>8</th>\n",
       "      <td>8.427893e-22</td>\n",
       "      <td>7.213292e-03</td>\n",
       "      <td>2.786567e-21</td>\n",
       "    </tr>\n",
       "    <tr>\n",
       "      <th>9</th>\n",
       "      <td>6.325119e-17</td>\n",
       "      <td>6.130920e-12</td>\n",
       "      <td>2.936984e-03</td>\n",
       "    </tr>\n",
       "    <tr>\n",
       "      <th>10</th>\n",
       "      <td>7.221353e-03</td>\n",
       "      <td>5.105986e-21</td>\n",
       "      <td>3.658231e-22</td>\n",
       "    </tr>\n",
       "    <tr>\n",
       "      <th>11</th>\n",
       "      <td>6.721661e-03</td>\n",
       "      <td>8.975321e-18</td>\n",
       "      <td>1.392795e-22</td>\n",
       "    </tr>\n",
       "    <tr>\n",
       "      <th>12</th>\n",
       "      <td>7.240937e-03</td>\n",
       "      <td>5.118320e-21</td>\n",
       "      <td>1.520963e-22</td>\n",
       "    </tr>\n",
       "    <tr>\n",
       "      <th>13</th>\n",
       "      <td>7.240937e-03</td>\n",
       "      <td>5.118320e-21</td>\n",
       "      <td>1.520963e-22</td>\n",
       "    </tr>\n",
       "    <tr>\n",
       "      <th>14</th>\n",
       "      <td>8.142677e-22</td>\n",
       "      <td>6.961343e-03</td>\n",
       "      <td>3.217985e-19</td>\n",
       "    </tr>\n",
       "    <tr>\n",
       "      <th>15</th>\n",
       "      <td>2.134236e-23</td>\n",
       "      <td>3.983832e-21</td>\n",
       "      <td>7.294250e-03</td>\n",
       "    </tr>\n",
       "    <tr>\n",
       "      <th>16</th>\n",
       "      <td>2.341235e-21</td>\n",
       "      <td>7.033278e-03</td>\n",
       "      <td>6.243131e-20</td>\n",
       "    </tr>\n",
       "    <tr>\n",
       "      <th>17</th>\n",
       "      <td>8.129841e-22</td>\n",
       "      <td>6.728717e-03</td>\n",
       "      <td>4.499605e-18</td>\n",
       "    </tr>\n",
       "    <tr>\n",
       "      <th>18</th>\n",
       "      <td>2.143646e-23</td>\n",
       "      <td>1.633560e-21</td>\n",
       "      <td>7.332199e-03</td>\n",
       "    </tr>\n",
       "    <tr>\n",
       "      <th>19</th>\n",
       "      <td>7.240937e-03</td>\n",
       "      <td>5.118320e-21</td>\n",
       "      <td>1.520963e-22</td>\n",
       "    </tr>\n",
       "    <tr>\n",
       "      <th>20</th>\n",
       "      <td>1.835455e-18</td>\n",
       "      <td>1.411023e-11</td>\n",
       "      <td>2.820667e-03</td>\n",
       "    </tr>\n",
       "    <tr>\n",
       "      <th>21</th>\n",
       "      <td>7.240937e-03</td>\n",
       "      <td>5.118320e-21</td>\n",
       "      <td>1.520963e-22</td>\n",
       "    </tr>\n",
       "    <tr>\n",
       "      <th>22</th>\n",
       "      <td>2.143646e-23</td>\n",
       "      <td>1.633560e-21</td>\n",
       "      <td>7.332199e-03</td>\n",
       "    </tr>\n",
       "    <tr>\n",
       "      <th>23</th>\n",
       "      <td>5.097766e-21</td>\n",
       "      <td>9.297198e-19</td>\n",
       "      <td>6.785636e-03</td>\n",
       "    </tr>\n",
       "    <tr>\n",
       "      <th>24</th>\n",
       "      <td>1.997455e-22</td>\n",
       "      <td>3.595889e-20</td>\n",
       "      <td>7.148133e-03</td>\n",
       "    </tr>\n",
       "    <tr>\n",
       "      <th>25</th>\n",
       "      <td>2.010840e-22</td>\n",
       "      <td>1.084088e-20</td>\n",
       "      <td>7.200644e-03</td>\n",
       "    </tr>\n",
       "    <tr>\n",
       "      <th>26</th>\n",
       "      <td>5.097766e-21</td>\n",
       "      <td>9.297198e-19</td>\n",
       "      <td>6.785636e-03</td>\n",
       "    </tr>\n",
       "    <tr>\n",
       "      <th>27</th>\n",
       "      <td>7.221353e-03</td>\n",
       "      <td>5.105986e-21</td>\n",
       "      <td>3.658231e-22</td>\n",
       "    </tr>\n",
       "    <tr>\n",
       "      <th>28</th>\n",
       "      <td>7.240937e-03</td>\n",
       "      <td>5.118320e-21</td>\n",
       "      <td>1.520963e-22</td>\n",
       "    </tr>\n",
       "    <tr>\n",
       "      <th>29</th>\n",
       "      <td>2.742637e-312</td>\n",
       "      <td>1.292790e-311</td>\n",
       "      <td>7.051825e-313</td>\n",
       "    </tr>\n",
       "  </tbody>\n",
       "</table>\n",
       "</div>"
      ],
      "text/plain": [
       "               O1             O2             O3\n",
       "0    6.721661e-03   8.975322e-18   1.392795e-22\n",
       "1    2.010840e-22   1.084088e-20   7.200644e-03\n",
       "2    5.305263e-21   6.510653e-03   2.146300e-17\n",
       "3    3.593958e-21   3.872168e-03   8.624799e-13\n",
       "4    6.942478e-03   7.210853e-19   1.447298e-22\n",
       "5    8.427893e-22   7.213292e-03   2.786567e-21\n",
       "6    2.875466e-17   2.757441e-12   3.289814e-03\n",
       "7    1.341574e-20   4.610729e-03   8.480951e-14\n",
       "8    8.427893e-22   7.213292e-03   2.786567e-21\n",
       "9    6.325119e-17   6.130920e-12   2.936984e-03\n",
       "10   7.221353e-03   5.105986e-21   3.658231e-22\n",
       "11   6.721661e-03   8.975321e-18   1.392795e-22\n",
       "12   7.240937e-03   5.118320e-21   1.520963e-22\n",
       "13   7.240937e-03   5.118320e-21   1.520963e-22\n",
       "14   8.142677e-22   6.961343e-03   3.217985e-19\n",
       "15   2.134236e-23   3.983832e-21   7.294250e-03\n",
       "16   2.341235e-21   7.033278e-03   6.243131e-20\n",
       "17   8.129841e-22   6.728717e-03   4.499605e-18\n",
       "18   2.143646e-23   1.633560e-21   7.332199e-03\n",
       "19   7.240937e-03   5.118320e-21   1.520963e-22\n",
       "20   1.835455e-18   1.411023e-11   2.820667e-03\n",
       "21   7.240937e-03   5.118320e-21   1.520963e-22\n",
       "22   2.143646e-23   1.633560e-21   7.332199e-03\n",
       "23   5.097766e-21   9.297198e-19   6.785636e-03\n",
       "24   1.997455e-22   3.595889e-20   7.148133e-03\n",
       "25   2.010840e-22   1.084088e-20   7.200644e-03\n",
       "26   5.097766e-21   9.297198e-19   6.785636e-03\n",
       "27   7.221353e-03   5.105986e-21   3.658231e-22\n",
       "28   7.240937e-03   5.118320e-21   1.520963e-22\n",
       "29  2.742637e-312  1.292790e-311  7.051825e-313"
      ]
     },
     "execution_count": 28,
     "metadata": {},
     "output_type": "execute_result"
    }
   ],
   "source": [
    "con = connect()\n",
    "\n",
    "con.execute(textwrap.dedent(\"\"\"\n",
    "CREATE OR REPLACE PYTHON3_DS SET SCRIPT test_xgboost(i integer)\n",
    "EMITS (o1 DOUbLE, o2 DOUbLE, o3 DOUbLE) AS\n",
    "\n",
    "def run(ctx):\n",
    "    import pandas as pd\n",
    "    import xgboost as xgb\n",
    "    from sklearn import datasets\n",
    "    from sklearn.model_selection import train_test_split\n",
    "    \n",
    "    iris = datasets.load_iris()\n",
    "    X = iris.data\n",
    "    y = iris.target\n",
    "    \n",
    "    X_train, X_test, y_train, y_test = train_test_split(X, y, test_size=0.2, random_state=42)\n",
    "    \n",
    "    dtrain = xgb.DMatrix(X_train, label=y_train)\n",
    "    dtest = xgb.DMatrix(X_test, label=y_test)\n",
    "    param = {\n",
    "        'max_depth': 3,  # the maximum depth of each tree\n",
    "        'eta': 0.3,  # the training step for each iteration\n",
    "        'silent': 1,  # logging mode - quiet\n",
    "        'objective': 'multi:softprob',  # error evaluation for multiclass training\n",
    "        'num_class': 3  # the number of classes that exist in this datset\n",
    "        }\n",
    "    num_round = 20  # the number of training iterations\n",
    "    bst = xgb.train(param, dtrain, num_round)\n",
    "    preds = bst.predict(dtest)\n",
    "    \n",
    "    ctx.emit(pd.DataFrame(preds))\n",
    "/\n",
    "\"\"\"))\n",
    "\n",
    "con.export_to_pandas(\"select test_xgboost(1)\")"
   ]
  }
 ],
 "metadata": {
  "environment": {
   "name": "common-cpu.m61",
   "type": "gcloud",
   "uri": "gcr.io/deeplearning-platform-release/base-cpu:m61"
  },
  "kernelspec": {
   "display_name": "Python [conda env:root] *",
   "language": "python",
   "name": "conda-root-py"
  },
  "language_info": {
   "codemirror_mode": {
    "name": "ipython",
    "version": 3
   },
   "file_extension": ".py",
   "mimetype": "text/x-python",
   "name": "python",
   "nbconvert_exporter": "python",
   "pygments_lexer": "ipython3",
   "version": "3.7.9"
  }
 },
 "nbformat": 4,
 "nbformat_minor": 4
}
