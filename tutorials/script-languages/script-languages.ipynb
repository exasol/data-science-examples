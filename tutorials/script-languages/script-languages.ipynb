{
 "cells": [
  {
   "cell_type": "markdown",
   "metadata": {},
   "source": [
    "# Using the Script-Language Container"
   ]
  },
  {
   "cell_type": "markdown",
   "metadata": {},
   "source": [
    "A [Script-Language Container](https://github.com/exasol/script-languages-release) for the Exasol database consists of a Linux container with a complete Linux distribution and all required libraries, such as a script client. The script client is responsible for the communication with the database and for executing the script code."
   ]
  },
  {
   "cell_type": "markdown",
   "metadata": {},
   "source": [
    "## Prerequisites"
   ]
  },
  {
   "cell_type": "markdown",
   "metadata": {},
   "source": [
    "To run this Notebook you need:\n",
    "- Jupyter with Python3.6+ Kernel\n",
    "- Docker 17.05+\n",
    "- Your Notebook user needs permissions to run Docker"
   ]
  },
  {
   "cell_type": "markdown",
   "metadata": {},
   "source": [
    "## Preparing the Notebook"
   ]
  },
  {
   "cell_type": "markdown",
   "metadata": {},
   "source": [
    "First we need to install and import a few Python packages required in the course of this Notebook."
   ]
  },
  {
   "cell_type": "code",
   "execution_count": 1,
   "metadata": {},
   "outputs": [
    {
     "name": "stdout",
     "output_type": "stream",
     "text": [
      "Requirement already satisfied: pexpect==4.8.0 in /opt/conda/lib/python3.7/site-packages (from -r requirements.txt (line 1)) (4.8.0)\n",
      "Requirement already satisfied: pyexasol==0.16.1 in /opt/conda/lib/python3.7/site-packages (from -r requirements.txt (line 2)) (0.16.1)\n",
      "Requirement already satisfied: requests==2.25.1 in /opt/conda/lib/python3.7/site-packages (from -r requirements.txt (line 3)) (2.25.1)\n",
      "Requirement already satisfied: ptyprocess>=0.5 in /opt/conda/lib/python3.7/site-packages (from pexpect==4.8.0->-r requirements.txt (line 1)) (0.6.0)\n",
      "Requirement already satisfied: websocket-client>=0.47.0 in /opt/conda/lib/python3.7/site-packages (from pyexasol==0.16.1->-r requirements.txt (line 2)) (0.57.0)\n",
      "Requirement already satisfied: rsa in /opt/conda/lib/python3.7/site-packages (from pyexasol==0.16.1->-r requirements.txt (line 2)) (4.6)\n",
      "Requirement already satisfied: chardet<5,>=3.0.2 in /opt/conda/lib/python3.7/site-packages (from requests==2.25.1->-r requirements.txt (line 3)) (3.0.4)\n",
      "Requirement already satisfied: urllib3<1.27,>=1.21.1 in /opt/conda/lib/python3.7/site-packages (from requests==2.25.1->-r requirements.txt (line 3)) (1.26.2)\n",
      "Requirement already satisfied: idna<3,>=2.5 in /opt/conda/lib/python3.7/site-packages (from requests==2.25.1->-r requirements.txt (line 3)) (2.10)\n",
      "Requirement already satisfied: certifi>=2017.4.17 in /opt/conda/lib/python3.7/site-packages (from requests==2.25.1->-r requirements.txt (line 3)) (2020.12.5)\n",
      "Requirement already satisfied: six in /opt/conda/lib/python3.7/site-packages (from websocket-client>=0.47.0->pyexasol==0.16.1->-r requirements.txt (line 2)) (1.15.0)\n",
      "Requirement already satisfied: pyasn1>=0.1.3 in /opt/conda/lib/python3.7/site-packages (from rsa->pyexasol==0.16.1->-r requirements.txt (line 2)) (0.4.8)\n"
     ]
    }
   ],
   "source": [
    "!pip install -r requirements.txt"
   ]
  },
  {
   "cell_type": "code",
   "execution_count": 2,
   "metadata": {},
   "outputs": [],
   "source": [
    "import bash_runner as bash # A helper to run bash with interactive output from python\n",
    "import importlib\n",
    "from pathlib import Path\n",
    "import pyexasol\n",
    "import requests\n",
    "import textwrap"
   ]
  },
  {
   "cell_type": "markdown",
   "metadata": {},
   "source": [
    "## Cloning the Git Repository"
   ]
  },
  {
   "cell_type": "markdown",
   "metadata": {},
   "source": [
    "To use the [Script-Language Container](https://github.com/exasol/script-languages-release) we need to clone the Git Repository with\n",
    "\n",
    "```\n",
    "git clone https://github.com/exasol/script-languages-release --recursive\n",
    "```\n",
    "\n",
    "We need to use `--recursive` to also clone the sub-modules of the repository.\n",
    "\n",
    "**Note:**You can use the following code snippet, that either clones the repository if it isn't already cloned or resets it to the current origin/master branch, such that we have always a defined state for the remaining Notebook."
   ]
  },
  {
   "cell_type": "code",
   "execution_count": 3,
   "metadata": {},
   "outputs": [
    {
     "name": "stdout",
     "output_type": "stream",
     "text": [
      "HEAD is now at f9da602 Fix flavor documentation (#180)\n",
      "Entering 'script-languages'\n",
      "HEAD is now at 2588f3f Fix comparision in find_images_by_tag in docker_utils.py (#172)\n"
     ]
    }
   ],
   "source": [
    "slc_path=\"script-languages-release\"\n",
    "if not Path(slc_path).exists():\n",
    "    bash.run(\"\"\"\n",
    "    git clone https://github.com/exasol/script-languages-release --recursive\n",
    "    \"\"\")\n",
    "else:\n",
    "    bash.run(f\"\"\"\n",
    "    cd {slc_path}\n",
    "    git fetch\n",
    "    git reset --hard origin/master \n",
    "    git submodule foreach git reset --hard origin/master \n",
    "    \"\"\")"
   ]
  },
  {
   "cell_type": "markdown",
   "metadata": {},
   "source": [
    "## Buiding and Exporting a Container"
   ]
  },
  {
   "cell_type": "markdown",
   "metadata": {},
   "source": [
    "To build and export the container you can use `exaslct`. It first builds a series of Docker images and then exports the container as a `tar.gz` package. We provide several flavors of containers with different capabilities. You can find out more about the flavors in our [flavor documentation on Github.](https://github.com/exasol/script-languages-release/blob/master/flavors/README.md). Flavors are described by a flavor definition in the directory `flavors/`. Here is an overview of the available flavors:"
   ]
  },
  {
   "cell_type": "code",
   "execution_count": 4,
   "metadata": {},
   "outputs": [
    {
     "name": "stdout",
     "output_type": "stream",
     "text": [
      "script-languages-release/flavors/fancyr-EXASOL-6.1.0\n",
      "script-languages-release/flavors/standard-EXASOL-6.1.0\n",
      "script-languages-release/flavors/python3-ds-EXASOL-6.1.0\n",
      "script-languages-release/flavors/standard-EXASOL-7.0.0\n",
      "script-languages-release/flavors/standard-EXASOL-6.2.0\n",
      "script-languages-release/flavors/python3-ds-cuda-preview-EXASOL-6.1.0\n"
     ]
    }
   ],
   "source": [
    "bash.run(f\"\"\"\n",
    "find {slc_path}/flavors/  -maxdepth 1 -name '*EXASOL*'\n",
    "\"\"\")"
   ]
  },
  {
   "cell_type": "markdown",
   "metadata": {},
   "source": [
    "For this example, we use the `flavors/python3-ds-EXASOL-6.1.0` flavor and export it to the `containers` directory.\n",
    "\n",
    "A container gets built via a series of Docker images, and then it's exported into a `tar` file."
   ]
  },
  {
   "cell_type": "code",
   "execution_count": 5,
   "metadata": {},
   "outputs": [
    {
     "name": "stdout",
     "output_type": "stream",
     "text": [
      "~/data-science-examples/tutorials/script-languages/script-languages-release ~/data-science-examples/tutorials/script-languages\n",
      "INFO: Informed scheduler that task   ExportContainers_106f7bc9e6   has status   PENDING\n",
      "INFO: Informed scheduler that task   ExportFlavorContainer_80efd81c62   has status   PENDING\n",
      "INFO: [pid 11665] Worker Worker(salt=646627775, workers=5, host=test-statsmodels, username=jupyter, pid=11549) running   ExportFlavorContainer_80efd81c62(flavor_path=flavors/python3-ds-EXASOL-6.1.0, release_goals=[\"release\"], export_path=containers, release_name=)\n",
      "INFO: [pid 11665] Worker Worker(salt=646627775, workers=5, host=test-statsmodels, username=jupyter, pid=11549) new requirements      ExportFlavorContainer_80efd81c62(flavor_path=flavors/python3-ds-EXASOL-6.1.0, release_goals=[\"release\"], export_path=containers, release_name=)\n",
      "INFO: Informed scheduler that task   ExportContainerTask_4a949a6869   has status   PENDING\n",
      "INFO: Informed scheduler that task   DockerCreateImageTask_fbae585fd0   has status   PENDING\n",
      "INFO: Informed scheduler that task   CreateExportDirectory_05c5372614   has status   PENDING\n",
      "INFO: Informed scheduler that task   ExportFlavorContainer_80efd81c62   has status   PENDING\n",
      "INFO: [pid 11667] Worker Worker(salt=646627775, workers=5, host=test-statsmodels, username=jupyter, pid=11549) running   DockerCreateImageTask_fbae585fd0(image_name=exasol/script-language-container:python3-ds-EXASOL-6.1.0-release)\n",
      "INFO: [pid 11668] Worker Worker(salt=646627775, workers=5, host=test-statsmodels, username=jupyter, pid=11549) running   CreateExportDirectory_05c5372614()\n",
      "INFO: CreateExportDirectory_05c5372614(): Write complete_target\n",
      "INFO: CreateExportDirectory_05c5372614(): Time since first_run 0.004434 s\n",
      "INFO: CreateExportDirectory_05c5372614(): Time since creation 0.060319 s\n",
      "INFO: CreateExportDirectory_05c5372614(): Total runtime of run method 0.004262 s\n",
      "INFO: [pid 11668] Worker Worker(salt=646627775, workers=5, host=test-statsmodels, username=jupyter, pid=11549) done      CreateExportDirectory_05c5372614()\n",
      "INFO: Informed scheduler that task   CreateExportDirectory_05c5372614   has status   DONE\n",
      "INFO: [pid 11667] Worker Worker(salt=646627775, workers=5, host=test-statsmodels, username=jupyter, pid=11549) new requirements      DockerCreateImageTask_fbae585fd0(image_name=exasol/script-language-container:python3-ds-EXASOL-6.1.0-release)\n",
      "INFO: Informed scheduler that task   DockerCreateImageTask_fbae585fd0   has status   PENDING\n",
      "INFO: [pid 12097] Worker Worker(salt=646627775, workers=5, host=test-statsmodels, username=jupyter, pid=11549) running   DockerCreateImageTask_fbae585fd0(image_name=exasol/script-language-container:python3-ds-EXASOL-6.1.0-release)\n",
      "INFO: DockerCreateImageTask_fbae585fd0(image_name=exasol/script-language-container:python3-ds-EXASOL-6.1.0-release): Write complete_target\n",
      "INFO: DockerCreateImageTask_fbae585fd0(image_name=exasol/script-language-container:python3-ds-EXASOL-6.1.0-release): Time since first_run 79.098575 s\n",
      "INFO: DockerCreateImageTask_fbae585fd0(image_name=exasol/script-language-container:python3-ds-EXASOL-6.1.0-release): Time since creation 79.161841 s\n",
      "INFO: DockerCreateImageTask_fbae585fd0(image_name=exasol/script-language-container:python3-ds-EXASOL-6.1.0-release): Total runtime of run method 0.039126999999999995 s\n",
      "INFO: [pid 12097] Worker Worker(salt=646627775, workers=5, host=test-statsmodels, username=jupyter, pid=11549) done      DockerCreateImageTask_fbae585fd0(image_name=exasol/script-language-container:python3-ds-EXASOL-6.1.0-release)\n",
      "INFO: Informed scheduler that task   DockerCreateImageTask_fbae585fd0   has status   DONE\n",
      "INFO: [pid 12099] Worker Worker(salt=646627775, workers=5, host=test-statsmodels, username=jupyter, pid=11549) running   ExportContainerTask_4a949a6869(flavor_path=flavors/python3-ds-EXASOL-6.1.0, export_path=containers, release_name=, release_goal=release)\n",
      "INFO: ExportContainerTask_4a949a6869(flavor_path=flavors/python3-ds-EXASOL-6.1.0, export_path=containers, release_name=, release_goal=release): Create container file /home/jupyter/data-science-examples/tutorials/script-languages/script-languages-release/.build_output/cache/exports/python3-ds-EXASOL-6.1.0-release-EYFRS54NWXPTDZOBU2ZWGIXIID77PTCFMM2LLHPQNWDGQAQUNIAA.tar.gz\n",
      "INFO: ExportContainerTask_4a949a6869(flavor_path=flavors/python3-ds-EXASOL-6.1.0, export_path=containers, release_name=, release_goal=release): Export container exasol/script-language-container:python3-ds-EXASOL-6.1.0-release_EYFRS54NWXPTDZOBU2ZWGIXIID77PTCFMM2LLHPQNWDGQAQUNIAA\n",
      "INFO: ExportContainerTask_4a949a6869(flavor_path=flavors/python3-ds-EXASOL-6.1.0, export_path=containers, release_name=, release_goal=release): Still running Export image exasol/script-language-container:python3-ds-EXASOL-6.1.0-release_EYFRS54NWXPTDZOBU2ZWGIXIID77PTCFMM2LLHPQNWDGQAQUNIAA.\n",
      "INFO: ExportContainerTask_4a949a6869(flavor_path=flavors/python3-ds-EXASOL-6.1.0, export_path=containers, release_name=, release_goal=release): Extract exported file /tmp/release_archive_zwximpcy/export.tar\n",
      "INFO: ExportContainerTask_4a949a6869(flavor_path=flavors/python3-ds-EXASOL-6.1.0, export_path=containers, release_name=, release_goal=release): Still running extracting exported container /tmp/release_archive_zwximpcy/export.tar.\n",
      "INFO: ExportContainerTask_4a949a6869(flavor_path=flavors/python3-ds-EXASOL-6.1.0, export_path=containers, release_name=, release_goal=release): Pack container file /home/jupyter/data-science-examples/tutorials/script-languages/script-languages-release/.build_output/cache/exports/python3-ds-EXASOL-6.1.0-release-EYFRS54NWXPTDZOBU2ZWGIXIID77PTCFMM2LLHPQNWDGQAQUNIAA.tar.gz\n",
      "INFO: ExportContainerTask_4a949a6869(flavor_path=flavors/python3-ds-EXASOL-6.1.0, export_path=containers, release_name=, release_goal=release): Still running packing container file /home/jupyter/data-science-examples/tutorials/script-languages/script-languages-release/.build_output/cache/exports/python3-ds-EXASOL-6.1.0-release-EYFRS54NWXPTDZOBU2ZWGIXIID77PTCFMM2LLHPQNWDGQAQUNIAA.tar.gz.\n",
      "INFO: ExportContainerTask_4a949a6869(flavor_path=flavors/python3-ds-EXASOL-6.1.0, export_path=containers, release_name=, release_goal=release): Compute checksum for container file /home/jupyter/data-science-examples/tutorials/script-languages/script-languages-release/.build_output/cache/exports/python3-ds-EXASOL-6.1.0-release-EYFRS54NWXPTDZOBU2ZWGIXIID77PTCFMM2LLHPQNWDGQAQUNIAA.tar.gz\n",
      "INFO: ExportContainerTask_4a949a6869(flavor_path=flavors/python3-ds-EXASOL-6.1.0, export_path=containers, release_name=, release_goal=release): Write complete_target\n",
      "INFO: ExportContainerTask_4a949a6869(flavor_path=flavors/python3-ds-EXASOL-6.1.0, export_path=containers, release_name=, release_goal=release): Time since first_run 378.164441 s\n",
      "INFO: ExportContainerTask_4a949a6869(flavor_path=flavors/python3-ds-EXASOL-6.1.0, export_path=containers, release_name=, release_goal=release): Time since creation 457.340194 s\n",
      "INFO: ExportContainerTask_4a949a6869(flavor_path=flavors/python3-ds-EXASOL-6.1.0, export_path=containers, release_name=, release_goal=release): Total runtime of run method 378.15832 s\n",
      "INFO: [pid 12099] Worker Worker(salt=646627775, workers=5, host=test-statsmodels, username=jupyter, pid=11549) done      ExportContainerTask_4a949a6869(flavor_path=flavors/python3-ds-EXASOL-6.1.0, export_path=containers, release_name=, release_goal=release)\n",
      "INFO: Informed scheduler that task   ExportContainerTask_4a949a6869   has status   DONE\n",
      "INFO: [pid 12639] Worker Worker(salt=646627775, workers=5, host=test-statsmodels, username=jupyter, pid=11549) running   ExportFlavorContainer_80efd81c62(flavor_path=flavors/python3-ds-EXASOL-6.1.0, release_goals=[\"release\"], export_path=containers, release_name=)\n",
      "INFO: ExportFlavorContainer_80efd81c62(flavor_path=flavors/python3-ds-EXASOL-6.1.0, release_goals=[\"release\"], export_path=containers, release_name=): Write complete_target\n",
      "INFO: ExportFlavorContainer_80efd81c62(flavor_path=flavors/python3-ds-EXASOL-6.1.0, release_goals=[\"release\"], export_path=containers, release_name=): Time since first_run 457.769381 s\n",
      "INFO: ExportFlavorContainer_80efd81c62(flavor_path=flavors/python3-ds-EXASOL-6.1.0, release_goals=[\"release\"], export_path=containers, release_name=): Time since creation 464.40625 s\n",
      "INFO: ExportFlavorContainer_80efd81c62(flavor_path=flavors/python3-ds-EXASOL-6.1.0, release_goals=[\"release\"], export_path=containers, release_name=): Total runtime of run method 0.316463 s\n",
      "INFO: [pid 12639] Worker Worker(salt=646627775, workers=5, host=test-statsmodels, username=jupyter, pid=11549) done      ExportFlavorContainer_80efd81c62(flavor_path=flavors/python3-ds-EXASOL-6.1.0, release_goals=[\"release\"], export_path=containers, release_name=)\n",
      "INFO: Informed scheduler that task   ExportFlavorContainer_80efd81c62   has status   DONE\n",
      "INFO: [pid 12641] Worker Worker(salt=646627775, workers=5, host=test-statsmodels, username=jupyter, pid=11549) running   ExportContainers_106f7bc9e6(flavor_paths=[\"flavors/python3-ds-EXASOL-6.1.0\"], release_goals=[\"release\"], export_path=containers, release_name=)\n",
      "INFO: ExportContainers_106f7bc9e6(flavor_paths=[\"flavors/python3-ds-EXASOL-6.1.0\"], release_goals=[\"release\"], export_path=containers, release_name=): Write complete_target\n",
      "INFO: ExportContainers_106f7bc9e6(flavor_paths=[\"flavors/python3-ds-EXASOL-6.1.0\"], release_goals=[\"release\"], export_path=containers, release_name=): Time since first_run 0.046891 s\n",
      "INFO: ExportContainers_106f7bc9e6(flavor_paths=[\"flavors/python3-ds-EXASOL-6.1.0\"], release_goals=[\"release\"], export_path=containers, release_name=): Time since creation 464.487714 s\n",
      "INFO: ExportContainers_106f7bc9e6(flavor_paths=[\"flavors/python3-ds-EXASOL-6.1.0\"], release_goals=[\"release\"], export_path=containers, release_name=): Total runtime of run method 0.046653 s\n",
      "INFO: [pid 12641] Worker Worker(salt=646627775, workers=5, host=test-statsmodels, username=jupyter, pid=11549) done      ExportContainers_106f7bc9e6(flavor_paths=[\"flavors/python3-ds-EXASOL-6.1.0\"], release_goals=[\"release\"], export_path=containers, release_name=)\n",
      "INFO: Informed scheduler that task   ExportContainers_106f7bc9e6   has status   DONE\n"
     ]
    }
   ],
   "source": [
    "bash.run(f\"\"\"\n",
    "pushd {slc_path}\n",
    "./exaslct export --flavor-path flavors/python3-ds-EXASOL-6.1.0 --export-path containers 2>&1 | grep -E \"CreateImageTask|Export\"\n",
    "\"\"\")"
   ]
  },
  {
   "cell_type": "markdown",
   "metadata": {},
   "source": [
    "### What to do if something doesn't work?"
   ]
  },
  {
   "cell_type": "markdown",
   "metadata": {},
   "source": [
    "During the build it can happen that external package repositories might not be available or something is wrong on your machine where you run the build. For these cases, `exaslct` stores many logs to identify the problem."
   ]
  },
  {
   "cell_type": "markdown",
   "metadata": {},
   "source": [
    "#### Exaslsct Log"
   ]
  },
  {
   "cell_type": "markdown",
   "metadata": {},
   "source": [
    "The main log for `exaslct` is stored directly in `exaslct.log`. However, it gets overwritten when you start `exaslct` again."
   ]
  },
  {
   "cell_type": "code",
   "execution_count": 6,
   "metadata": {},
   "outputs": [
    {
     "name": "stdout",
     "output_type": "stream",
     "text": [
      "===== Luigi Execution Summary =====\n",
      "\n",
      "The command took 464.790952 s\n",
      "\n",
      "Cached container under /home/jupyter/data-science-examples/tutorials/script-languages/script-languages-release/.build_output/cache/exports/python3-ds-EXASOL-6.1.0-release-EYFRS54NWXPTDZOBU2ZWGIXIID77PTCFMM2LLHPQNWDGQAQUNIAA.tar.gz\n",
      "\n",
      "Copied container to containers/python3-ds-EXASOL-6.1.0_release.tar.gz\n",
      "\n",
      "=================================================\n",
      "\n"
     ]
    }
   ],
   "source": [
    "bash.run(f\"\"\"tail {slc_path}/exaslct.log\"\"\")"
   ]
  },
  {
   "cell_type": "markdown",
   "metadata": {},
   "source": [
    "#### Build Output Directory"
   ]
  },
  {
   "cell_type": "markdown",
   "metadata": {},
   "source": [
    "More detailed information about the build or other operations can be found in the `.build_output/jobs/*/outputs` directory. Here each run of `exaslct` creates its own directory under `.build_output/jobs`. The `outputs` directory stores the outputs and log files (if any) that each executed task of `exaslct` produces. Especially, the Docker tasks such as build, pull and push store the logs returned by the Docker API. This can be helpful for finding problems during the build."
   ]
  },
  {
   "cell_type": "code",
   "execution_count": 7,
   "metadata": {},
   "outputs": [
    {
     "name": "stdout",
     "output_type": "stream",
     "text": [
      "script-languages-release/.build_output/jobs/2021_02_15_12_54_32_ExportContainers/outputs/ExportContainers_106f7bc9e6/ExportFlavorContainer_80efd81c62/DockerCreateImageTask_fbae585fd0/DockerPullImageTask_fbae585fd0/logs/pull_docker_db_image.log\n",
      "script-languages-release/.build_output/jobs/2021_02_15_12_54_32_ExportContainers/outputs/ExportContainers_106f7bc9e6/ExportFlavorContainer_80efd81c62/ExportContainerTask_4a949a6869/logs/extract_release_file.log\n",
      "script-languages-release/.build_output/jobs/2021_02_15_12_54_32_ExportContainers/outputs/ExportContainers_106f7bc9e6/ExportFlavorContainer_80efd81c62/ExportContainerTask_4a949a6869/logs/pack_release_file.log\n"
     ]
    }
   ],
   "source": [
    "bash.run(f\"\"\"\n",
    "find {slc_path}/.build_output/jobs/*/outputs -type f -name '*log' | tail\n",
    "\"\"\")"
   ]
  },
  {
   "cell_type": "markdown",
   "metadata": {},
   "source": [
    "## Customizing Script-Language Containers"
   ]
  },
  {
   "cell_type": "markdown",
   "metadata": {},
   "source": [
    "Sometimes you need very specific dependencies or versions of dependencies in the Exasol UDFs. In such case you can customize a Script-Language Container."
   ]
  },
  {
   "cell_type": "markdown",
   "metadata": {},
   "source": [
    "### Flavor Definition"
   ]
  },
  {
   "cell_type": "markdown",
   "metadata": {},
   "source": [
    "To customize a flavor, you need to change the flavor definition. A flavor consists of several build steps. The [exaslct documentation](https://github.com/exasol/script-languages/blob/2588f3f80eb5646c88ef412bd57ed468145d5fcc/exaslct_src/README.md#build-steps-and-their-dependencies) gives you an idea about how these build steps are connected with each other.\n",
    "\n",
    "The `flavor_customization` build step contains everything you need to add or update dependencies. The remaining build steps should be only changed with care, but sometimes some dependencies are defined in other build steps because the script client depends on them. Here you see the structure of the flavor definition for our example flavor `flavors/python3-ds-EXASOL-6.1.0`."
   ]
  },
  {
   "cell_type": "code",
   "execution_count": 8,
   "metadata": {},
   "outputs": [
    {
     "name": "stdout",
     "output_type": "stream",
     "text": [
      "script-languages-release/flavors/python3-ds-EXASOL-6.1.0\n",
      "script-languages-release/flavors/python3-ds-EXASOL-6.1.0/flavor_customization\n",
      "script-languages-release/flavors/python3-ds-EXASOL-6.1.0/flavor_customization/Dockerfile\n",
      "script-languages-release/flavors/python3-ds-EXASOL-6.1.0/flavor_customization/packages\n",
      "script-languages-release/flavors/python3-ds-EXASOL-6.1.0/flavor_base\n",
      "script-languages-release/flavors/python3-ds-EXASOL-6.1.0/flavor_base/base_test_build_run\n",
      "script-languages-release/flavors/python3-ds-EXASOL-6.1.0/flavor_base/release\n",
      "script-languages-release/flavors/python3-ds-EXASOL-6.1.0/flavor_base/testconfig\n",
      "script-languages-release/flavors/python3-ds-EXASOL-6.1.0/flavor_base/flavor_test_build_run\n",
      "script-languages-release/flavors/python3-ds-EXASOL-6.1.0/flavor_base/base_test_deps\n",
      "script-languages-release/flavors/python3-ds-EXASOL-6.1.0/flavor_base/language_definition\n",
      "script-languages-release/flavors/python3-ds-EXASOL-6.1.0/flavor_base/build_run\n",
      "script-languages-release/flavors/python3-ds-EXASOL-6.1.0/flavor_base/flavor_base_deps\n",
      "script-languages-release/flavors/python3-ds-EXASOL-6.1.0/flavor_base/build_deps\n",
      "script-languages-release/flavors/python3-ds-EXASOL-6.1.0/flavor_base/language_deps\n",
      "script-languages-release/flavors/python3-ds-EXASOL-6.1.0/flavor_base/build_steps.py\n",
      "script-languages-release/flavors/python3-ds-EXASOL-6.1.0/flavor_base/udfclient_deps\n",
      "script-languages-release/flavors/python3-ds-EXASOL-6.1.0/FLAVOR_DESCRIPTION.md\n"
     ]
    }
   ],
   "source": [
    "bash.run(f\"\"\" \n",
    "find -L {slc_path}/flavors/python3-ds-EXASOL-6.1.0 -maxdepth 2\n",
    "\"\"\")"
   ]
  },
  {
   "cell_type": "markdown",
   "metadata": {},
   "source": [
    "### Flavor Customization Build Step"
   ]
  },
  {
   "cell_type": "markdown",
   "metadata": {},
   "source": [
    "The `flavor_customization` build step consists of a Dockerfile and several package lists which can be modified. We recommend to use the package lists to add new packages to the flavor and only modify the Dockerfile if you need very specific changes, like adding additional resources."
   ]
  },
  {
   "cell_type": "code",
   "execution_count": 9,
   "metadata": {},
   "outputs": [
    {
     "name": "stdout",
     "output_type": "stream",
     "text": [
      "script-languages-release/flavors/python3-ds-EXASOL-6.1.0/flavor_customization/Dockerfile\n",
      "script-languages-release/flavors/python3-ds-EXASOL-6.1.0/flavor_customization/packages/python3_pip_packages\n",
      "script-languages-release/flavors/python3-ds-EXASOL-6.1.0/flavor_customization/packages/apt_get_packages\n"
     ]
    }
   ],
   "source": [
    "bash.run(f\"\"\" \n",
    "find -L {slc_path}/flavors/python3-ds-EXASOL-6.1.0/flavor_customization -type f\n",
    "\"\"\")"
   ]
  },
  {
   "cell_type": "markdown",
   "metadata": {},
   "source": [
    "#### Dockerfile"
   ]
  },
  {
   "cell_type": "markdown",
   "metadata": {},
   "source": [
    "The Dockerfile consists of two parts. The first part installs the packages from the package list and should only be change with care. The second part is free for your changes. Read the description in the Dockerfile carefully to find out what you can and shouldn't do."
   ]
  },
  {
   "cell_type": "code",
   "execution_count": 10,
   "metadata": {},
   "outputs": [
    {
     "name": "stdout",
     "output_type": "stream",
     "text": [
      "############################################################################################\n",
      "############################################################################################\n",
      "# This Dockerfile allows you to extend this flavor by installing packages or adding files. \n",
      "# IF you didn't change the lines below, you can add packages and their version to the  \n",
      "# files in ./packages and they get automatically installed.                                \n",
      "############################################################################################\n",
      "############################################################################################\n",
      "\n",
      "#######################################################################\n",
      "#######################################################################\n",
      "# Do not change the following lines unless you know what you are doing \n",
      "#######################################################################\n",
      "#######################################################################\n",
      "\n",
      "FROM {{flavor_base_deps}}\n",
      "\n",
      "RUN mkdir -p /build_info/packages/flavor_customization\n",
      "\n",
      "COPY flavor_customization/packages/apt_get_packages /build_info/packages/flavor_customization\n",
      "RUN /scripts/install_scripts/install_via_apt.pl --file /build_info/packages/flavor_customization/apt_get_packages --with-versions --allow-no-version\n",
      "\n",
      "COPY flavor_customization/packages/python3_pip_packages /build_info/packages/flavor_customization\n",
      "RUN /scripts/install_scripts/install_via_pip.pl --file /build_info/packages/flavor_customization/python3_pip_packages --python-binary python3 --with-versions --allow-no-version\n",
      "\n",
      "\n",
      "##########################################################################\n",
      "##########################################################################\n",
      "# Below this text you can add any Dockerfile commands except of FROM.            \n",
      "# However only commands which change the filesystem will be              \n",
      "# reflected to the final script-language container.                      \n",
      "# We recommend to use only RUN, COPY and ADD. For example, WORKDIR, USER \n",
      "# and ENV will be not carried over into the final container. For more \n",
      "# information about Dockerfile commands, please check the reference \n",
      "# https://docs.docker.com/engine/reference/builder/#dockerfile-reference \n",
      "##########################################################################\n",
      "##########################################################################\n",
      "\n",
      "\n",
      "###########\n",
      "###########\n",
      "# Examples:\n",
      "###########\n",
      "###########\n",
      "\n",
      "#################################################\n",
      "# Execute a command during the build of the image\n",
      "#################################################\n",
      "\n",
      "# With RUN you can excute any command you usally would run in a bash shell.\n",
      "# It usually is a good idea to cleanup downloaded files or packages \n",
      "# caches in the same in the same RUN statement to keep the image size\n",
      "# small. You can execute multiple shell commands in one RUN statement\n",
      "# by combine them with \n",
      "# - `&&` (only execute if the previous command was successfull), \n",
      "# - `||` (only execute if the previous command was unsuccesfull)\n",
      "# - `;` (execute regardless of the success of the previous command)\n",
      "# To format multiple command per RUN statement you can add a line break with `\\`.\n",
      "# If you need to execute complex sequences of commands you should execute\n",
      "# scripts which you can copy into the image.\n",
      "# -------------------------------------------------------------------------------\n",
      "\n",
      "# RUN git clone https://github.com/exasol/data-science-examples\n",
      "# RUN curl -o data-science-examples.zip https://codeload.github.com/exasol/data-science-examples/zip/master && \\\n",
      "#     unzip data-science-examples.zip && \\\n",
      "#     rm data-science-examples.zip\n",
      "\n",
      "#####################################\n",
      "# Copy a file from ./ into the image. \n",
      "#####################################\n",
      "\n",
      "# In case of exaslct it is important to prefix source files or directories with `flavor_customization`\n",
      "# if you want to copy files or directories located in the same directory as this Dockerfile\n",
      "# -----------------------------------------------------------------------------------------------------\n",
      "\n",
      "# COPY flavor_customization/packages/pip3_packages /build_info/packages/flavor_base_deps\n",
      "# ADD flavor_customization/code.tar.gz /code\n",
      "\n"
     ]
    }
   ],
   "source": [
    "bash.run(f\"\"\" \n",
    "cat {slc_path}/flavors/python3-ds-EXASOL-6.1.0/flavor_customization/Dockerfile\n",
    "\"\"\")"
   ]
  },
  {
   "cell_type": "markdown",
   "metadata": {},
   "source": [
    "#### Package Lists"
   ]
  },
  {
   "cell_type": "markdown",
   "metadata": {},
   "source": [
    "The package lists have a unified format. Each line consists of the package name and the package version separated by \"|\", e.g `xgboost|1.3.3`. You can comment out a whole line by adding\"#\" at the beginning. You can also add a trailing comment to a package definition by adding a \"#\" after the package definition. We usually recommend to pin the version, such that there are no surprises for which version gets installed."
   ]
  },
  {
   "cell_type": "code",
   "execution_count": 11,
   "metadata": {},
   "outputs": [
    {
     "name": "stdout",
     "output_type": "stream",
     "text": [
      "# This file specifies the package list which gets installed via pip for python3.\n",
      "# You must specify the the package and its version separated by a |.\n",
      "# We recommend here the usage of package versions, to ensure that the container \n",
      "# builds are reproducible. However, we allow also packages without version.\n",
      "# As you can see, this file can contain comments which start with #.\n",
      "# If a line starts with # the whole line is a comment, however you can\n",
      "# also start a comment after the package definition.\n",
      "\n",
      "#tensorflow-probability|0.9.0\n"
     ]
    }
   ],
   "source": [
    "bash.run(f\"\"\" \n",
    "cat {slc_path}/flavors/python3-ds-EXASOL-6.1.0/flavor_customization/packages/python3_pip_packages\n",
    "\"\"\")"
   ]
  },
  {
   "cell_type": "markdown",
   "metadata": {},
   "source": [
    "We are now going to append the new \"xgboost\" Python package to one of the package lists by adding `\"xgboost|1.3.3\"` to the `flavor_customization/packages/python3_pip_packages` file."
   ]
  },
  {
   "cell_type": "code",
   "execution_count": 12,
   "metadata": {},
   "outputs": [],
   "source": [
    "bash.run(f\"\"\" \n",
    "echo \"xgboost|1.3.3\" >> {slc_path}/flavors/python3-ds-EXASOL-6.1.0/flavor_customization/packages/python3_pip_packages\n",
    "\"\"\")"
   ]
  },
  {
   "cell_type": "markdown",
   "metadata": {},
   "source": [
    "As you can see below, we now added a new line to our package list."
   ]
  },
  {
   "cell_type": "code",
   "execution_count": 13,
   "metadata": {},
   "outputs": [
    {
     "name": "stdout",
     "output_type": "stream",
     "text": [
      "# This file specifies the package list which gets installed via pip for python3.\n",
      "# You must specify the the package and its version separated by a |.\n",
      "# We recommend here the usage of package versions, to ensure that the container \n",
      "# builds are reproducible. However, we allow also packages without version.\n",
      "# As you can see, this file can contain comments which start with #.\n",
      "# If a line starts with # the whole line is a comment, however you can\n",
      "# also start a comment after the package definition.\n",
      "\n",
      "#tensorflow-probability|0.9.0\n",
      "xgboost|1.3.3\n"
     ]
    }
   ],
   "source": [
    "bash.run(f\"\"\" \n",
    "cat {slc_path}/flavors/python3-ds-EXASOL-6.1.0/flavor_customization/packages/python3_pip_packages\n",
    "\"\"\")"
   ]
  },
  {
   "cell_type": "markdown",
   "metadata": {},
   "source": [
    "#### Rebuilding the customized Flavor"
   ]
  },
  {
   "cell_type": "markdown",
   "metadata": {},
   "source": [
    "After changing the flavor you need to rebuild it. You can do it by running `./exaslsct export --flavor-path <flavor-path>` again. Exaslct automatically recognizes that the flavor has changed and builds a new version of the container."
   ]
  },
  {
   "cell_type": "code",
   "execution_count": 14,
   "metadata": {},
   "outputs": [
    {
     "name": "stdout",
     "output_type": "stream",
     "text": [
      "~/data-science-examples/tutorials/script-languages/script-languages-release ~/data-science-examples/tutorials/script-languages\n",
      "INFO: Informed scheduler that task   ExportContainers_d04de8d193   has status   PENDING\n",
      "INFO: Informed scheduler that task   ExportFlavorContainer_78265c6e31   has status   PENDING\n",
      "INFO: [pid 13093] Worker Worker(salt=466595293, workers=5, host=test-statsmodels, username=jupyter, pid=12967) running   ExportFlavorContainer_78265c6e31(flavor_path=flavors/python3-ds-EXASOL-6.1.0, release_goals=[\"release\"], export_path=containers, release_name=)\n",
      "INFO: [pid 13093] Worker Worker(salt=466595293, workers=5, host=test-statsmodels, username=jupyter, pid=12967) new requirements      ExportFlavorContainer_78265c6e31(flavor_path=flavors/python3-ds-EXASOL-6.1.0, release_goals=[\"release\"], export_path=containers, release_name=)\n",
      "INFO: Informed scheduler that task   ExportContainerTask_a3f603cbb2   has status   PENDING\n",
      "INFO: Informed scheduler that task   CreateExportDirectory_90723aa230   has status   PENDING\n",
      "INFO: Informed scheduler that task   ExportFlavorContainer_78265c6e31   has status   PENDING\n",
      "INFO: [pid 13095] Worker Worker(salt=466595293, workers=5, host=test-statsmodels, username=jupyter, pid=12967) running   CreateExportDirectory_90723aa230()\n",
      "INFO: CreateExportDirectory_90723aa230(): Write complete_target\n",
      "INFO: CreateExportDirectory_90723aa230(): Time since first_run 0.008332 s\n",
      "INFO: CreateExportDirectory_90723aa230(): Time since creation 0.096228 s\n",
      "INFO: CreateExportDirectory_90723aa230(): Total runtime of run method 0.008114 s\n",
      "INFO: [pid 13095] Worker Worker(salt=466595293, workers=5, host=test-statsmodels, username=jupyter, pid=12967) done      CreateExportDirectory_90723aa230()\n",
      "INFO: Informed scheduler that task   CreateExportDirectory_90723aa230   has status   DONE\n",
      "INFO: Informed scheduler that task   DockerPullImageTask_734e4170fe   has status   PENDING\n",
      "INFO: [pid 13106] Worker Worker(salt=466595293, workers=5, host=test-statsmodels, username=jupyter, pid=12967) running   DockerPullImageTask_734e4170fe(image_name=exasol/script-language-container:python3-ds-EXASOL-6.1.0-language_deps)\n",
      "INFO: DockerPullImageTask_734e4170fe(image_name=exasol/script-language-container:python3-ds-EXASOL-6.1.0-language_deps): Try to pull docker image exasol/script-language-container:python3-ds-EXASOL-6.1.0-language_deps_V7LLQGCX2VSG23GDTORDNSEN5QNAJSRGNNATLP6NF636GK4TDFOQ\n",
      "INFO: Informed scheduler that task   DockerPullImageTask_b6095dcd7a   has status   PENDING\n",
      "INFO: [pid 13108] Worker Worker(salt=466595293, workers=5, host=test-statsmodels, username=jupyter, pid=12967) running   DockerPullImageTask_b6095dcd7a(image_name=exasol/script-language-container:python3-ds-EXASOL-6.1.0-build_run)\n",
      "INFO: DockerPullImageTask_b6095dcd7a(image_name=exasol/script-language-container:python3-ds-EXASOL-6.1.0-build_run): Try to pull docker image exasol/script-language-container:python3-ds-EXASOL-6.1.0-build_run_VI6LRAWZQUQC73QQOS5QBBY2PLILK6UBRHXBB4XJFZNHONSE5EWQ\n",
      "INFO: Informed scheduler that task   DockerPullImageTask_e40a992f4a   has status   PENDING\n",
      "INFO: [pid 13109] Worker Worker(salt=466595293, workers=5, host=test-statsmodels, username=jupyter, pid=12967) running   DockerPullImageTask_e40a992f4a(image_name=exasol/script-language-container:python3-ds-EXASOL-6.1.0-flavor_base_deps)\n",
      "INFO: DockerPullImageTask_e40a992f4a(image_name=exasol/script-language-container:python3-ds-EXASOL-6.1.0-flavor_base_deps): Try to pull docker image exasol/script-language-container:python3-ds-EXASOL-6.1.0-flavor_base_deps_4UFNNDDHYYPX5MUSETNH2XGJ4DAK2GNUCAOR5TFGTKB5KXOV4DQA\n",
      "INFO: DockerPullImageTask_734e4170fe(image_name=exasol/script-language-container:python3-ds-EXASOL-6.1.0-language_deps): Write complete_target\n",
      "INFO: DockerPullImageTask_734e4170fe(image_name=exasol/script-language-container:python3-ds-EXASOL-6.1.0-language_deps): Time since first_run 41.105984 s\n",
      "INFO: DockerPullImageTask_734e4170fe(image_name=exasol/script-language-container:python3-ds-EXASOL-6.1.0-language_deps): Time since creation 41.141213 s\n",
      "INFO: DockerPullImageTask_734e4170fe(image_name=exasol/script-language-container:python3-ds-EXASOL-6.1.0-language_deps): Total runtime of run method 41.104708 s\n",
      "INFO: [pid 13106] Worker Worker(salt=466595293, workers=5, host=test-statsmodels, username=jupyter, pid=12967) done      DockerPullImageTask_734e4170fe(image_name=exasol/script-language-container:python3-ds-EXASOL-6.1.0-language_deps)\n",
      "INFO: Informed scheduler that task   DockerPullImageTask_734e4170fe   has status   DONE\n",
      "INFO: DockerPullImageTask_b6095dcd7a(image_name=exasol/script-language-container:python3-ds-EXASOL-6.1.0-build_run): Still running pull image exasol/script-language-container:python3-ds-EXASOL-6.1.0-build_run_VI6LRAWZQUQC73QQOS5QBBY2PLILK6UBRHXBB4XJFZNHONSE5EWQ.\n",
      "INFO: DockerPullImageTask_e40a992f4a(image_name=exasol/script-language-container:python3-ds-EXASOL-6.1.0-flavor_base_deps): Still running pull image exasol/script-language-container:python3-ds-EXASOL-6.1.0-flavor_base_deps_4UFNNDDHYYPX5MUSETNH2XGJ4DAK2GNUCAOR5TFGTKB5KXOV4DQA.\n",
      "INFO: DockerPullImageTask_e40a992f4a(image_name=exasol/script-language-container:python3-ds-EXASOL-6.1.0-flavor_base_deps): Still running pull image exasol/script-language-container:python3-ds-EXASOL-6.1.0-flavor_base_deps_4UFNNDDHYYPX5MUSETNH2XGJ4DAK2GNUCAOR5TFGTKB5KXOV4DQA.\n",
      "INFO: DockerPullImageTask_b6095dcd7a(image_name=exasol/script-language-container:python3-ds-EXASOL-6.1.0-build_run): Still running pull image exasol/script-language-container:python3-ds-EXASOL-6.1.0-build_run_VI6LRAWZQUQC73QQOS5QBBY2PLILK6UBRHXBB4XJFZNHONSE5EWQ.\n",
      "INFO: DockerPullImageTask_e40a992f4a(image_name=exasol/script-language-container:python3-ds-EXASOL-6.1.0-flavor_base_deps): Write complete_target\n",
      "INFO: DockerPullImageTask_e40a992f4a(image_name=exasol/script-language-container:python3-ds-EXASOL-6.1.0-flavor_base_deps): Time since first_run 168.740428 s\n",
      "INFO: DockerPullImageTask_e40a992f4a(image_name=exasol/script-language-container:python3-ds-EXASOL-6.1.0-flavor_base_deps): Time since creation 168.803579 s\n",
      "INFO: DockerPullImageTask_e40a992f4a(image_name=exasol/script-language-container:python3-ds-EXASOL-6.1.0-flavor_base_deps): Total runtime of run method 168.739182 s\n",
      "INFO: [pid 13109] Worker Worker(salt=466595293, workers=5, host=test-statsmodels, username=jupyter, pid=12967) done      DockerPullImageTask_e40a992f4a(image_name=exasol/script-language-container:python3-ds-EXASOL-6.1.0-flavor_base_deps)\n",
      "INFO: Informed scheduler that task   DockerPullImageTask_e40a992f4a   has status   DONE\n",
      "INFO: Informed scheduler that task   DockerBuildImageTask_5c1f4c468a   has status   PENDING\n",
      "INFO: [pid 13727] Worker Worker(salt=466595293, workers=5, host=test-statsmodels, username=jupyter, pid=12967) running   DockerBuildImageTask_5c1f4c468a(image_name=exasol/script-language-container:python3-ds-EXASOL-6.1.0-flavor_customization)\n",
      "INFO: DockerBuildImageTask_5c1f4c468a(image_name=exasol/script-language-container:python3-ds-EXASOL-6.1.0-flavor_customization): Build docker image exasol/script-language-container:python3-ds-EXASOL-6.1.0-flavor_customization_NPXWYZE6EBXAWHDPJVP6GVFSJTLVSG3YCK2GNUKPEOYLJDOW4HPA, log file can be found here .build_output/jobs/2021_02_15_13_02_54_ExportContainers/outputs/ExportContainers_d04de8d193/ExportFlavorContainer_78265c6e31/DockerCreateImageTaskWithDeps_5e35d33248/DockerBuildImageTask_5c1f4c468a/logs\n",
      "INFO: DockerPullImageTask_b6095dcd7a(image_name=exasol/script-language-container:python3-ds-EXASOL-6.1.0-build_run): Write complete_target\n",
      "INFO: DockerPullImageTask_b6095dcd7a(image_name=exasol/script-language-container:python3-ds-EXASOL-6.1.0-build_run): Time since first_run 173.909084 s\n",
      "INFO: DockerPullImageTask_b6095dcd7a(image_name=exasol/script-language-container:python3-ds-EXASOL-6.1.0-build_run): Time since creation 173.96806 s\n",
      "INFO: DockerPullImageTask_b6095dcd7a(image_name=exasol/script-language-container:python3-ds-EXASOL-6.1.0-build_run): Total runtime of run method 173.907867 s\n",
      "INFO: [pid 13108] Worker Worker(salt=466595293, workers=5, host=test-statsmodels, username=jupyter, pid=12967) done      DockerPullImageTask_b6095dcd7a(image_name=exasol/script-language-container:python3-ds-EXASOL-6.1.0-build_run)\n",
      "INFO: Informed scheduler that task   DockerPullImageTask_b6095dcd7a   has status   DONE\n",
      "INFO: DockerBuildImageTask_5c1f4c468a(image_name=exasol/script-language-container:python3-ds-EXASOL-6.1.0-flavor_customization): Still running build image exasol/script-language-container:python3-ds-EXASOL-6.1.0-flavor_customization_NPXWYZE6EBXAWHDPJVP6GVFSJTLVSG3YCK2GNUKPEOYLJDOW4HPA.\n",
      "INFO: DockerBuildImageTask_5c1f4c468a(image_name=exasol/script-language-container:python3-ds-EXASOL-6.1.0-flavor_customization): Write complete_target\n",
      "INFO: DockerBuildImageTask_5c1f4c468a(image_name=exasol/script-language-container:python3-ds-EXASOL-6.1.0-flavor_customization): Time since first_run 129.993617 s\n",
      "INFO: DockerBuildImageTask_5c1f4c468a(image_name=exasol/script-language-container:python3-ds-EXASOL-6.1.0-flavor_customization): Time since creation 130.031458 s\n",
      "INFO: DockerBuildImageTask_5c1f4c468a(image_name=exasol/script-language-container:python3-ds-EXASOL-6.1.0-flavor_customization): Total runtime of run method 129.992765 s\n",
      "INFO: [pid 13727] Worker Worker(salt=466595293, workers=5, host=test-statsmodels, username=jupyter, pid=12967) done      DockerBuildImageTask_5c1f4c468a(image_name=exasol/script-language-container:python3-ds-EXASOL-6.1.0-flavor_customization)\n",
      "INFO: Informed scheduler that task   DockerBuildImageTask_5c1f4c468a   has status   DONE\n",
      "INFO: Informed scheduler that task   DockerBuildImageTask_3e313a1c01   has status   PENDING\n",
      "INFO: [pid 14652] Worker Worker(salt=466595293, workers=5, host=test-statsmodels, username=jupyter, pid=12967) running   DockerBuildImageTask_3e313a1c01(image_name=exasol/script-language-container:python3-ds-EXASOL-6.1.0-release)\n",
      "INFO: DockerBuildImageTask_3e313a1c01(image_name=exasol/script-language-container:python3-ds-EXASOL-6.1.0-release): Build docker image exasol/script-language-container:python3-ds-EXASOL-6.1.0-release_ZU7VCDQ3SQ6SDH2WNNYMWM5PJXM5XBPTKNVQCYTWFTNQZA2RUZ6Q, log file can be found here .build_output/jobs/2021_02_15_13_02_54_ExportContainers/outputs/ExportContainers_d04de8d193/ExportFlavorContainer_78265c6e31/DockerCreateImageTaskWithDeps_86c97a032e/DockerBuildImageTask_3e313a1c01/logs\n",
      "INFO: DockerBuildImageTask_3e313a1c01(image_name=exasol/script-language-container:python3-ds-EXASOL-6.1.0-release): Still running build image exasol/script-language-container:python3-ds-EXASOL-6.1.0-release_ZU7VCDQ3SQ6SDH2WNNYMWM5PJXM5XBPTKNVQCYTWFTNQZA2RUZ6Q.\n",
      "INFO: DockerBuildImageTask_3e313a1c01(image_name=exasol/script-language-container:python3-ds-EXASOL-6.1.0-release): Still running build image exasol/script-language-container:python3-ds-EXASOL-6.1.0-release_ZU7VCDQ3SQ6SDH2WNNYMWM5PJXM5XBPTKNVQCYTWFTNQZA2RUZ6Q.\n",
      "INFO: DockerBuildImageTask_3e313a1c01(image_name=exasol/script-language-container:python3-ds-EXASOL-6.1.0-release): Write complete_target\n",
      "INFO: DockerBuildImageTask_3e313a1c01(image_name=exasol/script-language-container:python3-ds-EXASOL-6.1.0-release): Time since first_run 557.753077 s\n",
      "INFO: DockerBuildImageTask_3e313a1c01(image_name=exasol/script-language-container:python3-ds-EXASOL-6.1.0-release): Time since creation 557.78731 s\n",
      "INFO: DockerBuildImageTask_3e313a1c01(image_name=exasol/script-language-container:python3-ds-EXASOL-6.1.0-release): Total runtime of run method 557.750223 s\n",
      "INFO: [pid 14652] Worker Worker(salt=466595293, workers=5, host=test-statsmodels, username=jupyter, pid=12967) done      DockerBuildImageTask_3e313a1c01(image_name=exasol/script-language-container:python3-ds-EXASOL-6.1.0-release)\n",
      "INFO: Informed scheduler that task   DockerBuildImageTask_3e313a1c01   has status   DONE\n",
      "INFO: [pid 16381] Worker Worker(salt=466595293, workers=5, host=test-statsmodels, username=jupyter, pid=12967) running   ExportContainerTask_a3f603cbb2(flavor_path=flavors/python3-ds-EXASOL-6.1.0, export_path=containers, release_name=, release_goal=release)\n",
      "INFO: ExportContainerTask_a3f603cbb2(flavor_path=flavors/python3-ds-EXASOL-6.1.0, export_path=containers, release_name=, release_goal=release): Create container file /home/jupyter/data-science-examples/tutorials/script-languages/script-languages-release/.build_output/cache/exports/python3-ds-EXASOL-6.1.0-release-ZU7VCDQ3SQ6SDH2WNNYMWM5PJXM5XBPTKNVQCYTWFTNQZA2RUZ6Q.tar.gz\n",
      "INFO: ExportContainerTask_a3f603cbb2(flavor_path=flavors/python3-ds-EXASOL-6.1.0, export_path=containers, release_name=, release_goal=release): Export container exasol/script-language-container:python3-ds-EXASOL-6.1.0-release_ZU7VCDQ3SQ6SDH2WNNYMWM5PJXM5XBPTKNVQCYTWFTNQZA2RUZ6Q\n",
      "INFO: ExportContainerTask_a3f603cbb2(flavor_path=flavors/python3-ds-EXASOL-6.1.0, export_path=containers, release_name=, release_goal=release): Still running Export image exasol/script-language-container:python3-ds-EXASOL-6.1.0-release_ZU7VCDQ3SQ6SDH2WNNYMWM5PJXM5XBPTKNVQCYTWFTNQZA2RUZ6Q.\n",
      "INFO: ExportContainerTask_a3f603cbb2(flavor_path=flavors/python3-ds-EXASOL-6.1.0, export_path=containers, release_name=, release_goal=release): Still running Export image exasol/script-language-container:python3-ds-EXASOL-6.1.0-release_ZU7VCDQ3SQ6SDH2WNNYMWM5PJXM5XBPTKNVQCYTWFTNQZA2RUZ6Q.\n",
      "INFO: ExportContainerTask_a3f603cbb2(flavor_path=flavors/python3-ds-EXASOL-6.1.0, export_path=containers, release_name=, release_goal=release): Extract exported file /tmp/release_archive_ypd6u4cr/export.tar\n",
      "INFO: ExportContainerTask_a3f603cbb2(flavor_path=flavors/python3-ds-EXASOL-6.1.0, export_path=containers, release_name=, release_goal=release): Still running extracting exported container /tmp/release_archive_ypd6u4cr/export.tar.\n",
      "INFO: ExportContainerTask_a3f603cbb2(flavor_path=flavors/python3-ds-EXASOL-6.1.0, export_path=containers, release_name=, release_goal=release): Still running extracting exported container /tmp/release_archive_ypd6u4cr/export.tar.\n",
      "INFO: ExportContainerTask_a3f603cbb2(flavor_path=flavors/python3-ds-EXASOL-6.1.0, export_path=containers, release_name=, release_goal=release): Pack container file /home/jupyter/data-science-examples/tutorials/script-languages/script-languages-release/.build_output/cache/exports/python3-ds-EXASOL-6.1.0-release-ZU7VCDQ3SQ6SDH2WNNYMWM5PJXM5XBPTKNVQCYTWFTNQZA2RUZ6Q.tar.gz\n",
      "INFO: ExportContainerTask_a3f603cbb2(flavor_path=flavors/python3-ds-EXASOL-6.1.0, export_path=containers, release_name=, release_goal=release): Still running packing container file /home/jupyter/data-science-examples/tutorials/script-languages/script-languages-release/.build_output/cache/exports/python3-ds-EXASOL-6.1.0-release-ZU7VCDQ3SQ6SDH2WNNYMWM5PJXM5XBPTKNVQCYTWFTNQZA2RUZ6Q.tar.gz.\n",
      "INFO: ExportContainerTask_a3f603cbb2(flavor_path=flavors/python3-ds-EXASOL-6.1.0, export_path=containers, release_name=, release_goal=release): Still running packing container file /home/jupyter/data-science-examples/tutorials/script-languages/script-languages-release/.build_output/cache/exports/python3-ds-EXASOL-6.1.0-release-ZU7VCDQ3SQ6SDH2WNNYMWM5PJXM5XBPTKNVQCYTWFTNQZA2RUZ6Q.tar.gz.\n",
      "INFO: ExportContainerTask_a3f603cbb2(flavor_path=flavors/python3-ds-EXASOL-6.1.0, export_path=containers, release_name=, release_goal=release): Compute checksum for container file /home/jupyter/data-science-examples/tutorials/script-languages/script-languages-release/.build_output/cache/exports/python3-ds-EXASOL-6.1.0-release-ZU7VCDQ3SQ6SDH2WNNYMWM5PJXM5XBPTKNVQCYTWFTNQZA2RUZ6Q.tar.gz\n",
      "INFO: ExportContainerTask_a3f603cbb2(flavor_path=flavors/python3-ds-EXASOL-6.1.0, export_path=containers, release_name=, release_goal=release): Write complete_target\n",
      "INFO: ExportContainerTask_a3f603cbb2(flavor_path=flavors/python3-ds-EXASOL-6.1.0, export_path=containers, release_name=, release_goal=release): Time since first_run 476.89324 s\n",
      "INFO: ExportContainerTask_a3f603cbb2(flavor_path=flavors/python3-ds-EXASOL-6.1.0, export_path=containers, release_name=, release_goal=release): Time since creation 1334.073886 s\n",
      "INFO: ExportContainerTask_a3f603cbb2(flavor_path=flavors/python3-ds-EXASOL-6.1.0, export_path=containers, release_name=, release_goal=release): Total runtime of run method 476.884397 s\n",
      "INFO: [pid 16381] Worker Worker(salt=466595293, workers=5, host=test-statsmodels, username=jupyter, pid=12967) done      ExportContainerTask_a3f603cbb2(flavor_path=flavors/python3-ds-EXASOL-6.1.0, export_path=containers, release_name=, release_goal=release)\n",
      "INFO: Informed scheduler that task   ExportContainerTask_a3f603cbb2   has status   DONE\n",
      "INFO: [pid 16862] Worker Worker(salt=466595293, workers=5, host=test-statsmodels, username=jupyter, pid=12967) running   ExportFlavorContainer_78265c6e31(flavor_path=flavors/python3-ds-EXASOL-6.1.0, release_goals=[\"release\"], export_path=containers, release_name=)\n",
      "INFO: ExportFlavorContainer_78265c6e31(flavor_path=flavors/python3-ds-EXASOL-6.1.0, release_goals=[\"release\"], export_path=containers, release_name=): Write complete_target\n",
      "INFO: ExportFlavorContainer_78265c6e31(flavor_path=flavors/python3-ds-EXASOL-6.1.0, release_goals=[\"release\"], export_path=containers, release_name=): Time since first_run 1335.092023 s\n",
      "INFO: ExportFlavorContainer_78265c6e31(flavor_path=flavors/python3-ds-EXASOL-6.1.0, release_goals=[\"release\"], export_path=containers, release_name=): Time since creation 1341.566377 s\n",
      "INFO: ExportFlavorContainer_78265c6e31(flavor_path=flavors/python3-ds-EXASOL-6.1.0, release_goals=[\"release\"], export_path=containers, release_name=): Total runtime of run method 0.878424 s\n",
      "INFO: [pid 16862] Worker Worker(salt=466595293, workers=5, host=test-statsmodels, username=jupyter, pid=12967) done      ExportFlavorContainer_78265c6e31(flavor_path=flavors/python3-ds-EXASOL-6.1.0, release_goals=[\"release\"], export_path=containers, release_name=)\n",
      "INFO: Informed scheduler that task   ExportFlavorContainer_78265c6e31   has status   DONE\n",
      "INFO: [pid 16867] Worker Worker(salt=466595293, workers=5, host=test-statsmodels, username=jupyter, pid=12967) running   ExportContainers_d04de8d193(flavor_paths=[\"flavors/python3-ds-EXASOL-6.1.0\"], release_goals=[\"release\"], export_path=containers, release_name=)\n",
      "INFO: ExportContainers_d04de8d193(flavor_paths=[\"flavors/python3-ds-EXASOL-6.1.0\"], release_goals=[\"release\"], export_path=containers, release_name=): Write complete_target\n",
      "INFO: ExportContainers_d04de8d193(flavor_paths=[\"flavors/python3-ds-EXASOL-6.1.0\"], release_goals=[\"release\"], export_path=containers, release_name=): Time since first_run 0.07066 s\n",
      "INFO: ExportContainers_d04de8d193(flavor_paths=[\"flavors/python3-ds-EXASOL-6.1.0\"], release_goals=[\"release\"], export_path=containers, release_name=): Time since creation 1341.745881 s\n",
      "INFO: ExportContainers_d04de8d193(flavor_paths=[\"flavors/python3-ds-EXASOL-6.1.0\"], release_goals=[\"release\"], export_path=containers, release_name=): Total runtime of run method 0.07047 s\n",
      "INFO: [pid 16867] Worker Worker(salt=466595293, workers=5, host=test-statsmodels, username=jupyter, pid=12967) done      ExportContainers_d04de8d193(flavor_paths=[\"flavors/python3-ds-EXASOL-6.1.0\"], release_goals=[\"release\"], export_path=containers, release_name=)\n",
      "INFO: Informed scheduler that task   ExportContainers_d04de8d193   has status   DONE\n"
     ]
    }
   ],
   "source": [
    "bash.run(f\"\"\"\n",
    "pushd {slc_path}\n",
    "./exaslct export --flavor-path flavors/python3-ds-EXASOL-6.1.0 --export-path containers 2>&1 | grep -E \"DockerPullImageTask|DockerBuildImageTask|Export\"\n",
    "\"\"\")"
   ]
  },
  {
   "cell_type": "markdown",
   "metadata": {},
   "source": [
    "**Node:** Your old container doesn't get lost, because when you change a flavor your container gets a new hash code. If you revert your changes the system automatically uses the existing cached container. Below you can see the content of the cache directory for the containers."
   ]
  },
  {
   "cell_type": "code",
   "execution_count": 15,
   "metadata": {},
   "outputs": [
    {
     "name": "stdout",
     "output_type": "stream",
     "text": [
      "total 1.1G\n",
      "451M python3-ds-EXASOL-6.1.0-release-EYFRS54NWXPTDZOBU2ZWGIXIID77PTCFMM2LLHPQNWDGQAQUNIAA.tar.gz\n",
      "4.0K python3-ds-EXASOL-6.1.0-release-EYFRS54NWXPTDZOBU2ZWGIXIID77PTCFMM2LLHPQNWDGQAQUNIAA.tar.gz.sha512sum\n",
      "612M python3-ds-EXASOL-6.1.0-release-ZU7VCDQ3SQ6SDH2WNNYMWM5PJXM5XBPTKNVQCYTWFTNQZA2RUZ6Q.tar.gz\n",
      "4.0K python3-ds-EXASOL-6.1.0-release-ZU7VCDQ3SQ6SDH2WNNYMWM5PJXM5XBPTKNVQCYTWFTNQZA2RUZ6Q.tar.gz.sha512sum\n"
     ]
    }
   ],
   "source": [
    "bash.run(f\"\"\"\n",
    "ls -sh {slc_path}/.build_output/cache/exports\n",
    "\"\"\")"
   ]
  },
  {
   "cell_type": "markdown",
   "metadata": {},
   "source": [
    "## Testing the new Script-Language Container"
   ]
  },
  {
   "cell_type": "markdown",
   "metadata": {},
   "source": [
    "Now, that we have an updated container, we need to check if our changes were successful. For that we are going to upload the container to an Exasol Database and have a look into it. In this example, we are going to use a local Docker-DB started by `exaslct`, which uses our [integration-test-docker-environment](https://github.com/exasol/integration-test-docker-environment) in the background. \n",
    "\n",
    "**Note:** You could also use your own Exasol Database by changing the variables below. However, this Notebook must be able to access the BucketFS of your Exasol Database or you need to manually upload the container. "
   ]
  },
  {
   "cell_type": "code",
   "execution_count": 16,
   "metadata": {},
   "outputs": [],
   "source": [
    "DATABASE_HOST=\"localhost\"\n",
    "DATABASE_PORT=8888\n",
    "DATABASE_USER=\"sys\"\n",
    "DATABASE_PASSWORD=\"exasol\"\n",
    "BUCKETFS_PORT=6666\n",
    "BUCKETFS_USER=\"w\"\n",
    "BUCKETFS_PASSWORD=\"write\"\n",
    "BUCKETFS_NAME=\"bfsdefault\"\n",
    "BUCKET_NAME=\"default\"\n",
    "PATH_IN_BUCKET=\"container\""
   ]
  },
  {
   "cell_type": "markdown",
   "metadata": {},
   "source": [
    "### Starting a local Docker-DB for Testing"
   ]
  },
  {
   "cell_type": "markdown",
   "metadata": {},
   "source": [
    "#### Start the environment and forward the database and bucketfs ports to the specified host ports. \n",
    "\n",
    "**Note:** The Exasol Integration-Test-Docker-Environment requires Docker with privileged mode\n",
    "\n",
    "**Note:** Starting the environment can take between 3-5 min."
   ]
  },
  {
   "cell_type": "code",
   "execution_count": 17,
   "metadata": {},
   "outputs": [
    {
     "name": "stdout",
     "output_type": "stream",
     "text": [
      "~/data-science-examples/tutorials/script-languages/script-languages-release ~/data-science-examples/tutorials/script-languages\n",
      "    - 1 DockerCreateImageTask_31998132d8(image_name=exasol/script-language-container:db-test-container)\n",
      "    - 1 DockerTestContainerBuild(caller_output_path=[])\n",
      "    - 1 PopulateEngineSmallTestDataToDatabase(...)\n",
      "    ...\n",
      "\n",
      "This progress looks :) because there were no failed tasks or missing dependencies\n",
      "\n",
      "===== Luigi Execution Summary =====\n",
      "\n",
      "The command took 294.206249 s\n"
     ]
    }
   ],
   "source": [
    "bash.run(f\"\"\"\n",
    "pushd {slc_path}\n",
    "./exaslct spawn-test-environment --environment-name test --database-port-forward {DATABASE_PORT} --bucketfs-port-forward {BUCKETFS_PORT} &> integration-test-docker-environment.log\n",
    "tail integration-test-docker-environment.log\n",
    "\"\"\")"
   ]
  },
  {
   "cell_type": "markdown",
   "metadata": {},
   "source": [
    "### Upload the Container to the Database"
   ]
  },
  {
   "cell_type": "markdown",
   "metadata": {},
   "source": [
    "To use our container we need to upload it to the BucketFS . If the build machine has access to the BucketFS we can do it with the `exaslct upload` command, otherwise you need to export the container and transfer it to a machine that has access to the BucketFS and upload it via `curl`, as described in our [documentation](https://docs.exasol.com/database_concepts/udf_scripts/adding_new_packages_script_languages.htm)."
   ]
  },
  {
   "cell_type": "code",
   "execution_count": 18,
   "metadata": {},
   "outputs": [
    {
     "name": "stdout",
     "output_type": "stream",
     "text": [
      "~/data-science-examples/tutorials/script-languages/script-languages-release ~/data-science-examples/tutorials/script-languages\n",
      "    - 1 AnalyzeFlavorBaseDeps_7b12459d81(flavor_path=flavors/python3-ds-EXASOL-6.1.0)\n",
      "    - 1 AnalyzeFlavorCustomization_7b12459d81(flavor_path=flavors/python3-ds-EXASOL-6.1.0)\n",
      "    - 1 AnalyzeLanguageDeps_7b12459d81(flavor_path=flavors/python3-ds-EXASOL-6.1.0)\n",
      "    ...\n",
      "\n",
      "This progress looks :) because there were no failed tasks or missing dependencies\n",
      "\n",
      "===== Luigi Execution Summary =====\n",
      "\n",
      "The command took 114.929276 s\n",
      "\n",
      "Uploaded .build_output/cache/exports/python3-ds-EXASOL-6.1.0-release-ZU7VCDQ3SQ6SDH2WNNYMWM5PJXM5XBPTKNVQCYTWFTNQZA2RUZ6Q.tar.gz to\n",
      "http://localhost:6666/default/container/python3-ds-EXASOL-6.1.0-release-current.tar.gz\n",
      "\n",
      "\n",
      "In SQL, you can activate the languages supported by the python3-ds-EXASOL-6.1.0\n",
      "flavor by using the following statements:\n",
      "\n",
      "\n",
      "To activate the flavor only for the current session:\n",
      "\n",
      "ALTER SESSION SET SCRIPT_LANGUAGES='PYTHON3=localzmq+protobuf:///bfsdefault/default/container/python3-ds-EXASOL-6.1.0-release-current?lang=python#buckets/bfsdefault/default/container/python3-ds-EXASOL-6.1.0-release-current/exaudf/exaudfclient_py3';\n",
      "\n",
      "\n",
      "To activate the flavor on the system:\n",
      "\n",
      "ALTER SYSTEM SET SCRIPT_LANGUAGES='PYTHON3=localzmq+protobuf:///bfsdefault/default/container/python3-ds-EXASOL-6.1.0-release-current?lang=python#buckets/bfsdefault/default/container/python3-ds-EXASOL-6.1.0-release-current/exaudf/exaudfclient_py3';\n",
      "\n",
      "=================================================\n",
      "\n"
     ]
    }
   ],
   "source": [
    "bash.run(f\"\"\"\n",
    "pushd {slc_path}\n",
    "./exaslct upload \\\n",
    "    --flavor-path flavors/python3-ds-EXASOL-6.1.0 \\\n",
    "    --database-host {DATABASE_HOST}\\\n",
    "    --bucketfs-port {BUCKETFS_PORT} \\\n",
    "    --bucketfs-username {BUCKETFS_USER} \\\n",
    "    --bucketfs-password {BUCKETFS_PASSWORD} \\\n",
    "    --bucketfs-name {BUCKETFS_NAME} \\\n",
    "    --bucket-name {BUCKET_NAME} \\\n",
    "    --path-in-bucket {PATH_IN_BUCKET} \\\n",
    "    --release-name current &> upload.log\n",
    "tail -n 30 upload.log\n",
    "\"\"\")"
   ]
  },
  {
   "cell_type": "markdown",
   "metadata": {},
   "source": [
    "### Getting the language container activation statement without upload"
   ]
  },
  {
   "cell_type": "markdown",
   "metadata": {},
   "source": [
    "Sometimes you can't use the `upload` command to upload your container to the BucketFS. To get the language activation statement regardless of that, you can use the `generate-language-activation` command."
   ]
  },
  {
   "cell_type": "code",
   "execution_count": 19,
   "metadata": {},
   "outputs": [
    {
     "name": "stdout",
     "output_type": "stream",
     "text": [
      "~/data-science-examples/tutorials/script-languages/script-languages-release ~/data-science-examples/tutorials/script-languages\n",
      "\n",
      "\n",
      "In SQL, you can activate the languages supported by the python3-ds-EXASOL-6.1.0\n",
      "flavor by using the following statements:\n",
      "\n",
      "\n",
      "To activate the flavor only for the current session:\n",
      "\n",
      "ALTER SESSION SET SCRIPT_LANGUAGES='PYTHON3=localzmq+protobuf:///bfsdefault/default/container/current?lang=python#buckets/bfsdefault/default/container/current/exaudf/exaudfclient_py3';\n",
      "\n",
      "\n",
      "To activate the flavor on the system:\n",
      "\n",
      "ALTER SYSTEM SET SCRIPT_LANGUAGES='PYTHON3=localzmq+protobuf:///bfsdefault/default/container/current?lang=python#buckets/bfsdefault/default/container/current/exaudf/exaudfclient_py3';\n",
      "\n"
     ]
    }
   ],
   "source": [
    "bash.run(f\"\"\"\n",
    "pushd {slc_path}\n",
    "./exaslct generate-language-activation \\\n",
    "    --flavor-path flavors/python3-ds-EXASOL-6.1.0 \\\n",
    "    --bucketfs-name {BUCKETFS_NAME} \\\n",
    "    --bucket-name {BUCKET_NAME} \\\n",
    "    --path-in-bucket {PATH_IN_BUCKET} \\\n",
    "    --container-name current  2>&1 | tail -n 15\n",
    "\"\"\")"
   ]
  },
  {
   "cell_type": "markdown",
   "metadata": {},
   "source": [
    "### Connecting to the database and activate the container"
   ]
  },
  {
   "cell_type": "markdown",
   "metadata": {},
   "source": [
    "Once we have a connection to the database we run the `ALTER SESSION` statement or `ALTER SYSTEM` statement (if you want to activate the container permanently and globally) we got from the upload."
   ]
  },
  {
   "cell_type": "code",
   "execution_count": 20,
   "metadata": {},
   "outputs": [],
   "source": [
    "def connect():\n",
    "    con=pyexasol.connect(dsn=f\"{DATABASE_HOST}:{DATABASE_PORT}\",user=DATABASE_USER,password=DATABASE_PASSWORD)\n",
    "    con.execute(\"ALTER SESSION SET SCRIPT_LANGUAGES='PYTHON3=builtin_python3 PYTHON3_DS=localzmq+protobuf:///bfsdefault/default/container/python3-ds-EXASOL-6.1.0-release-current?lang=python#buckets/bfsdefault/default/container/python3-ds-EXASOL-6.1.0-release-current/exaudf/exaudfclient_py3';\")\n",
    "    con.execute(\"OPEN SCHEMA TEST\")\n",
    "    return con"
   ]
  },
  {
   "cell_type": "markdown",
   "metadata": {},
   "source": [
    "### Check if your customization did work"
   ]
  },
  {
   "cell_type": "markdown",
   "metadata": {},
   "source": [
    "We first create a helper UDF which allows us to run arbitrary shell commands inside of a UDF instance. With that we can easily inspect the container."
   ]
  },
  {
   "cell_type": "code",
   "execution_count": 21,
   "metadata": {},
   "outputs": [
    {
     "data": {
      "text/plain": [
       "<ExaStatement session_id=1691768376820563968 stmt_idx=3>"
      ]
     },
     "execution_count": 21,
     "metadata": {},
     "output_type": "execute_result"
    }
   ],
   "source": [
    "con = connect()\n",
    "\n",
    "con.execute(textwrap.dedent(\"\"\"\n",
    "CREATE OR REPLACE PYTHON3_DS SCALAR SCRIPT execute_shell_command_py3(command VARCHAR(2000000), split_output boolean)\n",
    "EMITS (lines VARCHAR(2000000)) AS\n",
    "import subprocess\n",
    "\n",
    "def run(ctx):\n",
    "    try:\n",
    "        p = subprocess.Popen(ctx.command,\n",
    "                             stdout    = subprocess.PIPE,\n",
    "                             stderr    = subprocess.STDOUT,\n",
    "                             close_fds = True,\n",
    "                             shell     = True)\n",
    "        out, err = p.communicate()\n",
    "        if isinstance(out,bytes):\n",
    "            out=out.decode('utf8')\n",
    "        if ctx.split_output:\n",
    "            for line in out.strip().split('\\\\n'):\n",
    "                ctx.emit(line)\n",
    "        else:\n",
    "            ctx.emit(out)\n",
    "    finally:\n",
    "        if p is not None:\n",
    "            try: p.kill()\n",
    "            except: pass\n",
    "/\n",
    "\"\"\"))"
   ]
  },
  {
   "cell_type": "markdown",
   "metadata": {},
   "source": [
    "#### Check with \"pip list\" if the  \"xgboost\" package is installed"
   ]
  },
  {
   "cell_type": "markdown",
   "metadata": {},
   "source": [
    "We use our helper UDF to run `python3 -m pip list` directly in the container and get the list of currently avaiable python3 packages."
   ]
  },
  {
   "cell_type": "code",
   "execution_count": 22,
   "metadata": {},
   "outputs": [
    {
     "name": "stdout",
     "output_type": "stream",
     "text": [
      "Package              Version\n",
      "-------------------- ---------------\n",
      "absl-py              0.11.0\n",
      "astor                0.8.1\n",
      "autograd             1.3\n",
      "autograd-gamma       0.5.0\n",
      "cached-property      1.5.2\n",
      "click                7.1.2\n",
      "cycler               0.10.0\n",
      "formulaic            0.2.3\n",
      "future               0.18.2\n",
      "gast                 0.4.0\n",
      "gensim               3.8.3\n",
      "grpcio               1.35.0\n",
      "h5py                 3.1.0\n",
      "imbalanced-learn     0.7.0\n",
      "importlib-metadata   3.4.0\n",
      "interface-meta       1.2.2\n",
      "joblib               1.0.1\n",
      "Keras                2.3.1\n",
      "Keras-Applications   1.0.8\n",
      "Keras-Preprocessing  1.1.2\n",
      "kiwisolver           1.3.1\n",
      "kmodes               0.10.2\n",
      "lifelines            0.25.9\n",
      "lxml                 4.6.2\n",
      "Markdown             3.3.3\n",
      "matplotlib           3.3.4\n",
      "mock                 4.0.3\n",
      "nltk                 3.5\n",
      "numpy                1.19.5\n",
      "pandas               1.1.5\n",
      "patsy                0.5.1\n",
      "Pillow               8.1.0\n",
      "pip                  20.3.4\n",
      "protobuf             3.14.0\n",
      "pyasn1               0.4.8\n",
      "pycurl               7.43.0.6\n",
      "pyexasol             0.17.0\n",
      "pygobject            3.26.1\n",
      "pyparsing            2.4.7\n",
      "python-apt           1.6.5+ubuntu0.5\n",
      "python-dateutil      2.8.1\n",
      "pytz                 2021.1\n",
      "PyYAML               5.4.1\n",
      "regex                2020.11.13\n",
      "rsa                  4.7\n",
      "scikit-learn         0.24.1\n",
      "scipy                1.5.4\n",
      "seaborn              0.11.1\n",
      "setuptools           53.0.0\n",
      "six                  1.15.0\n",
      "smart-open           4.1.2\n",
      "statsmodels          0.12.2\n",
      "tensorboard          1.13.1\n",
      "tensorflow           1.13.1\n",
      "tensorflow-estimator 1.13.0\n",
      "tensorflow-hub       0.4.0\n",
      "termcolor            1.1.0\n",
      "threadpoolctl        2.1.0\n",
      "tqdm                 4.56.1\n",
      "typing-extensions    3.7.4.3\n",
      "ujson                4.0.2\n",
      "websocket-client     0.57.0\n",
      "Werkzeug             1.0.1\n",
      "wheel                0.36.2\n",
      "wrapt                1.12.1\n",
      "xgboost              1.3.3\n",
      "zipp                 3.4.0\n"
     ]
    }
   ],
   "source": [
    "con = connect()\n",
    "rs=con.execute(\"\"\"select execute_shell_command_py3('python3 -m pip list', true)\"\"\")\n",
    "for r in rs: \n",
    "    print(r[0])"
   ]
  },
  {
   "cell_type": "markdown",
   "metadata": {},
   "source": [
    "By running `pip list` directly in the container, we see what is currently available in the container. However, sometimes this might not be what we expected. For these cases, `exaslct` stores information about the flavor the container was build from within the container."
   ]
  },
  {
   "cell_type": "markdown",
   "metadata": {},
   "source": [
    "#### Embedded Build Information of the Container"
   ]
  },
  {
   "cell_type": "markdown",
   "metadata": {},
   "source": [
    "Here we see an overview about the build information which `exaslct` embedded into the container. `Exaslct` stores all packages lists (as defined in the flavor and what actually got installed), the final Dockerfiles and the image info. The image info describes how the underlying docker images of the container got build. The build informations are store in the directory `/build_info` within the container. We again use our helper UDF to inspect the build information."
   ]
  },
  {
   "cell_type": "code",
   "execution_count": 23,
   "metadata": {},
   "outputs": [
    {
     "name": "stdout",
     "output_type": "stream",
     "text": [
      "/build_info\n",
      "/build_info/image_info\n",
      "/build_info/image_info/python3-ds-EXASOL-6.1.0-language_deps\n",
      "/build_info/image_info/python3-ds-EXASOL-6.1.0-build_deps\n",
      "/build_info/image_info/python3-ds-EXASOL-6.1.0-udfclient_deps\n",
      "/build_info/image_info/python3-ds-EXASOL-6.1.0-release\n",
      "/build_info/image_info/python3-ds-EXASOL-6.1.0-flavor_base_deps\n",
      "/build_info/image_info/python3-ds-EXASOL-6.1.0-build_run\n",
      "/build_info/image_info/python3-ds-EXASOL-6.1.0-flavor_customization\n",
      "/build_info/dockerfiles\n",
      "/build_info/dockerfiles/python3-ds-EXASOL-6.1.0-language_deps\n",
      "/build_info/dockerfiles/python3-ds-EXASOL-6.1.0-build_deps\n",
      "/build_info/dockerfiles/python3-ds-EXASOL-6.1.0-udfclient_deps\n",
      "/build_info/dockerfiles/python3-ds-EXASOL-6.1.0-release\n",
      "/build_info/dockerfiles/python3-ds-EXASOL-6.1.0-flavor_base_deps\n",
      "/build_info/dockerfiles/python3-ds-EXASOL-6.1.0-build_run\n",
      "/build_info/dockerfiles/python3-ds-EXASOL-6.1.0-flavor_customization\n",
      "/build_info/actual_installed_packages\n",
      "/build_info/actual_installed_packages/release\n",
      "/build_info/actual_installed_packages/release/apt_get_packages\n",
      "/build_info/actual_installed_packages/release/python3_pip_packages\n",
      "/build_info/packages\n",
      "/build_info/packages/flavor_customization\n",
      "/build_info/packages/flavor_customization/apt_get_packages\n",
      "/build_info/packages/flavor_customization/python3_pip_packages\n",
      "/build_info/packages/udfclient_deps\n",
      "/build_info/packages/udfclient_deps/apt_get_packages\n",
      "/build_info/packages/language_deps\n",
      "/build_info/packages/language_deps/apt_get_packages\n",
      "/build_info/packages/language_deps/pip3_packages\n",
      "/build_info/packages/flavor_base_deps\n",
      "/build_info/packages/flavor_base_deps/apt_get_packages\n",
      "/build_info/packages/flavor_base_deps/pip3_packages\n",
      "/build_info/packages/build_deps\n",
      "/build_info/packages/build_deps/apt_get_packages\n"
     ]
    }
   ],
   "source": [
    "con = connect()\n",
    "rs=con.execute(\"\"\"select execute_shell_command_py3('find /build_info', true)\"\"\")\n",
    "for r in rs: \n",
    "    print(r[0])"
   ]
  },
  {
   "cell_type": "markdown",
   "metadata": {},
   "source": [
    "The following command shows for example, which python3 package pip found directly after the build of the container image."
   ]
  },
  {
   "cell_type": "code",
   "execution_count": 24,
   "metadata": {},
   "outputs": [
    {
     "name": "stdout",
     "output_type": "stream",
     "text": [
      "absl-py|0.11.0\n",
      "astor|0.8.1\n",
      "autograd|1.3\n",
      "autograd-gamma|0.5.0\n",
      "cached-property|1.5.2\n",
      "click|7.1.2\n",
      "cycler|0.10.0\n",
      "formulaic|0.2.3\n",
      "future|0.18.2\n",
      "gast|0.4.0\n",
      "gensim|3.8.3\n",
      "grpcio|1.35.0\n",
      "h5py|3.1.0\n",
      "imbalanced-learn|0.7.0\n",
      "importlib-metadata|3.4.0\n",
      "interface-meta|1.2.2\n",
      "joblib|1.0.1\n",
      "Keras|2.3.1\n",
      "Keras-Applications|1.0.8\n",
      "Keras-Preprocessing|1.1.2\n",
      "kiwisolver|1.3.1\n",
      "kmodes|0.10.2\n",
      "lifelines|0.25.9\n",
      "lxml|4.6.2\n",
      "Markdown|3.3.3\n",
      "matplotlib|3.3.4\n",
      "mock|4.0.3\n",
      "nltk|3.5\n",
      "numpy|1.19.5\n",
      "pandas|1.1.5\n",
      "patsy|0.5.1\n",
      "Pillow|8.1.0\n",
      "pip|20.3.4\n",
      "protobuf|3.14.0\n",
      "pyasn1|0.4.8\n",
      "pycurl|7.43.0.6\n",
      "pyexasol|0.17.0\n",
      "pygobject|3.26.1\n",
      "pyparsing|2.4.7\n",
      "python-apt|1.6.5+ubuntu0.5\n",
      "python-dateutil|2.8.1\n",
      "pytz|2021.1\n",
      "PyYAML|5.4.1\n",
      "regex|2020.11.13\n",
      "rsa|4.7\n",
      "scikit-learn|0.24.1\n",
      "scipy|1.5.4\n",
      "seaborn|0.11.1\n",
      "setuptools|53.0.0\n",
      "six|1.15.0\n",
      "smart-open|4.1.2\n",
      "statsmodels|0.12.2\n",
      "tensorboard|1.13.1\n",
      "tensorflow|1.13.1\n",
      "tensorflow-estimator|1.13.0\n",
      "tensorflow-hub|0.4.0\n",
      "termcolor|1.1.0\n",
      "threadpoolctl|2.1.0\n",
      "tqdm|4.56.1\n",
      "typing-extensions|3.7.4.3\n",
      "ujson|4.0.2\n",
      "websocket-client|0.57.0\n",
      "Werkzeug|1.0.1\n",
      "wheel|0.36.2\n",
      "wrapt|1.12.1\n",
      "xgboost|1.3.3\n",
      "zipp|3.4.0\n"
     ]
    }
   ],
   "source": [
    "con = connect()\n",
    "rs=con.execute(\"\"\"select execute_shell_command_py3('cat /build_info/actual_installed_packages/release/python3_pip_packages', true)\"\"\")\n",
    "for r in rs: \n",
    "    print(r[0])"
   ]
  },
  {
   "cell_type": "markdown",
   "metadata": {},
   "source": [
    "You could for example compare this to the package list of the flavor-customization build step and check if all your requested packages got installed."
   ]
  },
  {
   "cell_type": "code",
   "execution_count": 25,
   "metadata": {},
   "outputs": [
    {
     "name": "stdout",
     "output_type": "stream",
     "text": [
      "# This file specifies the package list which gets installed via pip for python3.\n",
      "# You must specify the the package and its version separated by a |.\n",
      "# We recommend here the usage of package versions, to ensure that the container \n",
      "# builds are reproducible. However, we allow also packages without version.\n",
      "# As you can see, this file can contain comments which start with #.\n",
      "# If a line starts with # the whole line is a comment, however you can\n",
      "# also start a comment after the package definition.\n",
      "None\n",
      "#tensorflow-probability|0.9.0\n",
      "xgboost|1.3.3\n"
     ]
    }
   ],
   "source": [
    "con = connect()\n",
    "rs=con.execute(\"\"\"select execute_shell_command_py3('cat /build_info/packages/flavor_customization/python3_pip_packages', true)\"\"\")\n",
    "for r in rs: \n",
    "    print(r[0])"
   ]
  },
  {
   "cell_type": "markdown",
   "metadata": {},
   "source": [
    "### Testing the new package"
   ]
  },
  {
   "cell_type": "markdown",
   "metadata": {},
   "source": [
    "After we made sure that the required packages are installed, we need to try importing and using it. Importing is usually a good first test if a package got successfully installed, because often you might already get errors at this step. However, sometimes you only will recognize errors when using the package. We recommend to have a test suite for each new package to check if it works properly before you start your UDF development. It is usually easier to debug problems if you have very narrow tests."
   ]
  },
  {
   "cell_type": "code",
   "execution_count": 26,
   "metadata": {},
   "outputs": [
    {
     "data": {
      "text/plain": [
       "[('finish',)]"
      ]
     },
     "execution_count": 26,
     "metadata": {},
     "output_type": "execute_result"
    }
   ],
   "source": [
    "con = connect()\n",
    "\n",
    "con.execute(textwrap.dedent(\"\"\"\n",
    "CREATE OR REPLACE PYTHON3_DS SET SCRIPT test_xgboost(i integer)\n",
    "EMITS (o VARCHAR(2000000)) AS\n",
    "\n",
    "def run(ctx):\n",
    "    import xgboost as xgb\n",
    "    \n",
    "    ctx.emit(\"finish\")\n",
    "/\n",
    "\"\"\"))\n",
    "\n",
    "rs = con.execute(\"select test_xgboost(1)\")\n",
    "rs.fetchall()"
   ]
  }
 ],
 "metadata": {
  "environment": {
   "name": "common-cpu.m61",
   "type": "gcloud",
   "uri": "gcr.io/deeplearning-platform-release/base-cpu:m61"
  },
  "kernelspec": {
   "display_name": "Python [conda env:root] *",
   "language": "python",
   "name": "conda-root-py"
  },
  "language_info": {
   "codemirror_mode": {
    "name": "ipython",
    "version": 3
   },
   "file_extension": ".py",
   "mimetype": "text/x-python",
   "name": "python",
   "nbconvert_exporter": "python",
   "pygments_lexer": "ipython3",
   "version": "3.7.9"
  }
 },
 "nbformat": 4,
 "nbformat_minor": 4
}
