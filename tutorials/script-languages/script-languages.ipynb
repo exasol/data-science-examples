{
 "cells": [
  {
   "cell_type": "code",
   "execution_count": 1,
   "metadata": {},
   "outputs": [
    {
     "name": "stdout",
     "output_type": "stream",
     "text": [
      "Requirement already satisfied: pexpect==4.8.0 in /opt/conda/lib/python3.7/site-packages (from -r requirements.txt (line 1)) (4.8.0)\n",
      "Requirement already satisfied: ptyprocess>=0.5 in /opt/conda/lib/python3.7/site-packages (from pexpect==4.8.0->-r requirements.txt (line 1)) (0.6.0)\n"
     ]
    }
   ],
   "source": [
    "!pip install -r requirements.txt"
   ]
  },
  {
   "cell_type": "code",
   "execution_count": 15,
   "metadata": {},
   "outputs": [
    {
     "data": {
      "text/plain": [
       "<module 'bash_runner' from '/home/jupyter/data-science-examples/tutorials/script-languages/bash_runner.py'>"
      ]
     },
     "execution_count": 15,
     "metadata": {},
     "output_type": "execute_result"
    }
   ],
   "source": [
    "import bash_runner as bash\n",
    "import importlib\n",
    "from pathlib import Path\n",
    "importlib.reload(bash)"
   ]
  },
  {
   "cell_type": "code",
   "execution_count": 69,
   "metadata": {},
   "outputs": [
    {
     "name": "stdout",
     "output_type": "stream",
     "text": [
      "HEAD is now at 3bb2b47 Renaming certain things to udf plugins (#171)\n",
      "Entering 'script-languages'\n",
      "HEAD is now at ed13033 Renaming certain things to udf plugins (#168)\n"
     ]
    }
   ],
   "source": [
    "slc_path=\"script-languages-release\"\n",
    "if not Path(\"script-languages-release\").exists():\n",
    "    bash.run(\"\"\"\n",
    "    git clone https://github.com/exasol/script-languages-release --recursive\n",
    "    \"\"\")\n",
    "else:\n",
    "    bash.run(f\"\"\"\n",
    "    cd {slc_path}\n",
    "    git reset --hard origin/master \n",
    "    git submodule foreach git reset --hard origin/master \n",
    "    \"\"\")\n",
    "    \n"
   ]
  },
  {
   "cell_type": "code",
   "execution_count": 24,
   "metadata": {},
   "outputs": [
    {
     "name": "stdout",
     "output_type": "stream",
     "text": [
      "~/data-science-examples/tutorials/script-languages/script-languages-release ~/data-science-examples/tutorials/script-languages\n",
      "Using following pipenv executable: /opt/conda/bin/pipenv\n",
      "Using existing virtual environment\n",
      "Installing dependencies\n",
      "\u001b[31m\u001b[22mVirtualenv already exists!\u001b[39m\u001b[22m\n",
      "\u001b[39m\u001b[1mRemoving existing virtualenv...\u001b[39m\u001b[22m\n",
      "\u001b[39m\u001b[1mCreating a virtualenv for this project...\u001b[39m\u001b[22m\n",
      "Pipfile: \u001b[33m\u001b[1m/home/jupyter/data-science-examples/tutorials/script-languages/script-languages-release/script-languages/Pipfile\u001b[39m\u001b[22m\n",
      "\u001b[39m\u001b[1mUsing\u001b[39m\u001b[22m \u001b[33m\u001b[1m/opt/conda/bin/python3.7m\u001b[39m\u001b[22m \u001b[32m\u001b[22m(3.7.9)\u001b[39m\u001b[22m \u001b[39m\u001b[1mto create virtualenv...\u001b[39m\u001b[22m\n",
      "⠼\u001b[0m Creating virtual environment...\u001b[K\u001b[36m\u001b[22mcreated virtual environment CPython3.7.9.final.0-64 in 205ms\n",
      "  creator CPython3Posix(dest=/home/jupyter/.local/share/virtualenvs/script-languages-VP1Xj6ma, clear=False, no_vcs_ignore=False, global=False)\n",
      "  seeder FromAppData(download=False, pip=bundle, setuptools=bundle, wheel=bundle, via=copy, app_data_dir=/home/jupyter/.local/share/virtualenv)\n",
      "    added seed packages: pip==20.3.1, setuptools==51.0.0, wheel==0.36.2\n",
      "  activators BashActivator,CShellActivator,FishActivator,PowerShellActivator,PythonActivator,XonshActivator\n",
      "\u001b[39m\u001b[22m\n",
      "\u001b[K\u001b[?25h\u001b[32m\u001b[22m✔ Successfully created virtual environment!\u001b[39m\u001b[22m\u001b[0m \n",
      "Virtualenv location: \u001b[32m\u001b[22m/home/jupyter/.local/share/virtualenvs/script-languages-VP1Xj6ma\u001b[39m\u001b[22m\n",
      "\u001b[39m\u001b[1mInstalling dependencies from Pipfile.lock (cde3dd)...\u001b[39m\u001b[22m\n",
      "  🐍   \u001b[32m\u001b[1m▉\u001b[39m\u001b[22m\u001b[32m\u001b[1m▉\u001b[39m\u001b[22m\u001b[32m\u001b[1m▉\u001b[39m\u001b[22m\u001b[32m\u001b[1m▉\u001b[39m\u001b[22m\u001b[32m\u001b[1m▉\u001b[39m\u001b[22m\u001b[32m\u001b[1m▉\u001b[39m\u001b[22m\u001b[32m\u001b[1m▉\u001b[39m\u001b[22m\u001b[32m\u001b[1m▉\u001b[39m\u001b[22m\u001b[32m\u001b[1m▉\u001b[39m\u001b[22m\u001b[32m\u001b[1m▉\u001b[39m\u001b[22m\u001b[32m\u001b[1m▉\u001b[39m\u001b[22m\u001b[32m\u001b[1m▉\u001b[39m\u001b[22m\u001b[32m\u001b[1m▉\u001b[39m\u001b[22m\u001b[32m\u001b[1m▉\u001b[39m\u001b[22m\u001b[32m\u001b[1m▉\u001b[39m\u001b[22m\u001b[32m\u001b[1m▉\u001b[39m\u001b[22m\u001b[32m\u001b[1m▉\u001b[39m\u001b[22m\u001b[32m\u001b[1m▉\u001b[39m\u001b[22m\u001b[32m\u001b[1m▉\u001b[39m\u001b[22m\u001b[32m\u001b[1m▉\u001b[39m\u001b[22m\u001b[32m\u001b[1m▉\u001b[39m\u001b[22m\u001b[32m\u001b[1m▉\u001b[39m\u001b[22m\u001b[32m\u001b[1m▉\u001b[39m\u001b[22m\u001b[32m\u001b[1m▉\u001b[39m\u001b[22m\u001b[32m\u001b[1m▉\u001b[39m\u001b[22m\u001b[32m\u001b[1m▉\u001b[39m\u001b[22m\u001b[32m\u001b[1m▉\u001b[39m\u001b[22m\u001b[32m\u001b[1m▉\u001b[39m\u001b[22m\u001b[32m\u001b[1m▉\u001b[39m\u001b[22m\u001b[32m\u001b[1m▉\u001b[39m\u001b[22m\u001b[32m\u001b[1m▉\u001b[39m\u001b[22m\u001b[32m\u001b[1m▉\u001b[39m\u001b[22m 30/30 — \u001b[30m\u001b[22m00:00:16\u001b[39m\u001b[22m2mmmmmmmmmmmmmmm2mmmmmmmmmmmmmm\n",
      "To activate this project's virtualenv, run \u001b[33m\u001b[22mpipenv shell\u001b[39m\u001b[22m.\n",
      "Alternatively, run a command inside the virtualenv with \u001b[33m\u001b[22mpipenv run\u001b[39m\u001b[22m.\n",
      "\u001b[0mINFO: Informed scheduler that task   ExportContainers_b73ac2ac38   has status   PENDING\n",
      "INFO: Informed scheduler that task   ExportFlavorContainer_648da548ac   has status   PENDING\n",
      "INFO: Informed scheduler that task   AnalyzeRelease_f38847f791   has status   PENDING\n",
      "INFO: Informed scheduler that task   AnalyzeLanguageDeps_f38847f791   has status   PENDING\n",
      "INFO: Informed scheduler that task   AnalyzeUDFClientDeps_f38847f791   has status   PENDING\n",
      "INFO: Informed scheduler that task   AnalyzeBuildRun_f38847f791   has status   PENDING\n",
      "INFO: Informed scheduler that task   AnalyzeBuildDeps_f38847f791   has status   PENDING\n",
      "INFO: Informed scheduler that task   AnalyzeFlavorCustomization_f38847f791   has status   PENDING\n",
      "INFO: Informed scheduler that task   AnalyzeFlavorBaseDeps_f38847f791   has status   PENDING\n",
      "INFO: Done scheduling tasks\n",
      "INFO: Running Worker with 5 processes\n",
      "INFO: [pid 11696] Worker Worker(salt=869914482, workers=5, host=test-statsmodels, username=jupyter, pid=11683) running   AnalyzeUDFClientDeps_f38847f791(flavor_path=flavors/python3-ds-EXASOL-6.1.0)\n",
      "INFO: [pid 11697] Worker Worker(salt=869914482, workers=5, host=test-statsmodels, username=jupyter, pid=11683) running   AnalyzeBuildDeps_f38847f791(flavor_path=flavors/python3-ds-EXASOL-6.1.0)\n",
      "INFO: AnalyzeUDFClientDeps_f38847f791(flavor_path=flavors/python3-ds-EXASOL-6.1.0): Checking if image exasol/script-language-container:python3-ds-EXASOL-6.1.0-udfclient_deps_AA3ZGUH2VZVHXHJY73CTJJHI7XHBSN5HLHLMKCEWNWV3UVB7A2WA is locally available, result False\n",
      "INFO: AnalyzeUDFClientDeps_f38847f791(flavor_path=flavors/python3-ds-EXASOL-6.1.0): Checking if image exasol/script-language-container:python3-ds-EXASOL-6.1.0-udfclient_deps_AA3ZGUH2VZVHXHJY73CTJJHI7XHBSN5HLHLMKCEWNWV3UVB7A2WA is locally available, result False\n",
      "INFO: AnalyzeUDFClientDeps_f38847f791(flavor_path=flavors/python3-ds-EXASOL-6.1.0): Checking if image archive exasol/script-language-container:python3-ds-EXASOL-6.1.0-udfclient_deps_AA3ZGUH2VZVHXHJY73CTJJHI7XHBSN5HLHLMKCEWNWV3UVB7A2WA.tar is available in cache directory, result False\n",
      "INFO: AnalyzeUDFClientDeps_f38847f791(flavor_path=flavors/python3-ds-EXASOL-6.1.0): Try to find image exasol/script-language-container:python3-ds-EXASOL-6.1.0-udfclient_deps_AA3ZGUH2VZVHXHJY73CTJJHI7XHBSN5HLHLMKCEWNWV3UVB7A2WA in registry\n",
      "INFO: AnalyzeBuildDeps_f38847f791(flavor_path=flavors/python3-ds-EXASOL-6.1.0): Checking if image exasol/script-language-container:python3-ds-EXASOL-6.1.0-build_deps_263N57RDYTKWQUHZ7EM7PUGVZQKJP3C25PC3UYCYZ2AZM7DIAD7Q is locally available, result False\n",
      "INFO: AnalyzeBuildDeps_f38847f791(flavor_path=flavors/python3-ds-EXASOL-6.1.0): Checking if image exasol/script-language-container:python3-ds-EXASOL-6.1.0-build_deps_263N57RDYTKWQUHZ7EM7PUGVZQKJP3C25PC3UYCYZ2AZM7DIAD7Q is locally available, result False\n",
      "INFO: AnalyzeBuildDeps_f38847f791(flavor_path=flavors/python3-ds-EXASOL-6.1.0): Checking if image archive exasol/script-language-container:python3-ds-EXASOL-6.1.0-build_deps_263N57RDYTKWQUHZ7EM7PUGVZQKJP3C25PC3UYCYZ2AZM7DIAD7Q.tar is available in cache directory, result False\n",
      "INFO: AnalyzeBuildDeps_f38847f791(flavor_path=flavors/python3-ds-EXASOL-6.1.0): Try to find image exasol/script-language-container:python3-ds-EXASOL-6.1.0-build_deps_263N57RDYTKWQUHZ7EM7PUGVZQKJP3C25PC3UYCYZ2AZM7DIAD7Q in registry\n",
      "INFO: AnalyzeUDFClientDeps_f38847f791(flavor_path=flavors/python3-ds-EXASOL-6.1.0): Found image exasol/script-language-container:python3-ds-EXASOL-6.1.0-udfclient_deps_AA3ZGUH2VZVHXHJY73CTJJHI7XHBSN5HLHLMKCEWNWV3UVB7A2WA in registry\n",
      "INFO: AnalyzeUDFClientDeps_f38847f791(flavor_path=flavors/python3-ds-EXASOL-6.1.0): Write complete_target\n",
      "INFO: AnalyzeBuildDeps_f38847f791(flavor_path=flavors/python3-ds-EXASOL-6.1.0): Found image exasol/script-language-container:python3-ds-EXASOL-6.1.0-build_deps_263N57RDYTKWQUHZ7EM7PUGVZQKJP3C25PC3UYCYZ2AZM7DIAD7Q in registry\n",
      "INFO: AnalyzeUDFClientDeps_f38847f791(flavor_path=flavors/python3-ds-EXASOL-6.1.0): Time since first_run 1.233417 s\n",
      "INFO: AnalyzeBuildDeps_f38847f791(flavor_path=flavors/python3-ds-EXASOL-6.1.0): Write complete_target\n",
      "INFO: AnalyzeUDFClientDeps_f38847f791(flavor_path=flavors/python3-ds-EXASOL-6.1.0): Time since creation 1.526996 s\n",
      "INFO: AnalyzeUDFClientDeps_f38847f791(flavor_path=flavors/python3-ds-EXASOL-6.1.0): Total runtime of run method 1.233007 s\n",
      "INFO: AnalyzeBuildDeps_f38847f791(flavor_path=flavors/python3-ds-EXASOL-6.1.0): Time since first_run 1.235823 s\n",
      "INFO: [pid 11696] Worker Worker(salt=869914482, workers=5, host=test-statsmodels, username=jupyter, pid=11683) done      AnalyzeUDFClientDeps_f38847f791(flavor_path=flavors/python3-ds-EXASOL-6.1.0)\n",
      "INFO: AnalyzeBuildDeps_f38847f791(flavor_path=flavors/python3-ds-EXASOL-6.1.0): Time since creation 1.513624 s\n",
      "INFO: AnalyzeBuildDeps_f38847f791(flavor_path=flavors/python3-ds-EXASOL-6.1.0): Total runtime of run method 1.235432 s\n",
      "INFO: Informed scheduler that task   AnalyzeUDFClientDeps_f38847f791   has status   DONE\n",
      "INFO: [pid 11697] Worker Worker(salt=869914482, workers=5, host=test-statsmodels, username=jupyter, pid=11683) done      AnalyzeBuildDeps_f38847f791(flavor_path=flavors/python3-ds-EXASOL-6.1.0)\n",
      "INFO: [pid 11720] Worker Worker(salt=869914482, workers=5, host=test-statsmodels, username=jupyter, pid=11683) running   AnalyzeLanguageDeps_f38847f791(flavor_path=flavors/python3-ds-EXASOL-6.1.0)\n",
      "INFO: Informed scheduler that task   AnalyzeBuildDeps_f38847f791   has status   DONE\n",
      "INFO: AnalyzeLanguageDeps_f38847f791(flavor_path=flavors/python3-ds-EXASOL-6.1.0): Checking if image exasol/script-language-container:python3-ds-EXASOL-6.1.0-language_deps_V7LLQGCX2VSG23GDTORDNSEN5QNAJSRGNNATLP6NF636GK4TDFOQ is locally available, result False\n",
      "INFO: AnalyzeLanguageDeps_f38847f791(flavor_path=flavors/python3-ds-EXASOL-6.1.0): Checking if image exasol/script-language-container:python3-ds-EXASOL-6.1.0-language_deps_V7LLQGCX2VSG23GDTORDNSEN5QNAJSRGNNATLP6NF636GK4TDFOQ is locally available, result False\n",
      "INFO: AnalyzeLanguageDeps_f38847f791(flavor_path=flavors/python3-ds-EXASOL-6.1.0): Checking if image archive exasol/script-language-container:python3-ds-EXASOL-6.1.0-language_deps_V7LLQGCX2VSG23GDTORDNSEN5QNAJSRGNNATLP6NF636GK4TDFOQ.tar is available in cache directory, result False\n",
      "INFO: AnalyzeLanguageDeps_f38847f791(flavor_path=flavors/python3-ds-EXASOL-6.1.0): Try to find image exasol/script-language-container:python3-ds-EXASOL-6.1.0-language_deps_V7LLQGCX2VSG23GDTORDNSEN5QNAJSRGNNATLP6NF636GK4TDFOQ in registry\n",
      "INFO: AnalyzeLanguageDeps_f38847f791(flavor_path=flavors/python3-ds-EXASOL-6.1.0): Found image exasol/script-language-container:python3-ds-EXASOL-6.1.0-language_deps_V7LLQGCX2VSG23GDTORDNSEN5QNAJSRGNNATLP6NF636GK4TDFOQ in registry\n",
      "INFO: AnalyzeLanguageDeps_f38847f791(flavor_path=flavors/python3-ds-EXASOL-6.1.0): Write complete_target\n",
      "INFO: AnalyzeLanguageDeps_f38847f791(flavor_path=flavors/python3-ds-EXASOL-6.1.0): Time since first_run 1.221207 s\n",
      "INFO: AnalyzeLanguageDeps_f38847f791(flavor_path=flavors/python3-ds-EXASOL-6.1.0): Time since creation 2.757042 s\n",
      "INFO: AnalyzeLanguageDeps_f38847f791(flavor_path=flavors/python3-ds-EXASOL-6.1.0): Total runtime of run method 1.220791 s\n",
      "INFO: [pid 11720] Worker Worker(salt=869914482, workers=5, host=test-statsmodels, username=jupyter, pid=11683) done      AnalyzeLanguageDeps_f38847f791(flavor_path=flavors/python3-ds-EXASOL-6.1.0)\n",
      "INFO: Informed scheduler that task   AnalyzeLanguageDeps_f38847f791   has status   DONE\n",
      "INFO: [pid 11742] Worker Worker(salt=869914482, workers=5, host=test-statsmodels, username=jupyter, pid=11683) running   AnalyzeBuildRun_f38847f791(flavor_path=flavors/python3-ds-EXASOL-6.1.0)\n",
      "INFO: [pid 11743] Worker Worker(salt=869914482, workers=5, host=test-statsmodels, username=jupyter, pid=11683) running   AnalyzeFlavorBaseDeps_f38847f791(flavor_path=flavors/python3-ds-EXASOL-6.1.0)\n",
      "INFO: AnalyzeFlavorBaseDeps_f38847f791(flavor_path=flavors/python3-ds-EXASOL-6.1.0): Checking if image exasol/script-language-container:python3-ds-EXASOL-6.1.0-flavor_base_deps_4UFNNDDHYYPX5MUSETNH2XGJ4DAK2GNUCAOR5TFGTKB5KXOV4DQA is locally available, result False\n",
      "INFO: AnalyzeBuildRun_f38847f791(flavor_path=flavors/python3-ds-EXASOL-6.1.0): Checking if image exasol/script-language-container:python3-ds-EXASOL-6.1.0-build_run_VI6LRAWZQUQC73QQOS5QBBY2PLILK6UBRHXBB4XJFZNHONSE5EWQ is locally available, result False\n",
      "INFO: AnalyzeFlavorBaseDeps_f38847f791(flavor_path=flavors/python3-ds-EXASOL-6.1.0): Checking if image exasol/script-language-container:python3-ds-EXASOL-6.1.0-flavor_base_deps_4UFNNDDHYYPX5MUSETNH2XGJ4DAK2GNUCAOR5TFGTKB5KXOV4DQA is locally available, result False\n",
      "INFO: AnalyzeBuildRun_f38847f791(flavor_path=flavors/python3-ds-EXASOL-6.1.0): Checking if image exasol/script-language-container:python3-ds-EXASOL-6.1.0-build_run_VI6LRAWZQUQC73QQOS5QBBY2PLILK6UBRHXBB4XJFZNHONSE5EWQ is locally available, result False\n",
      "INFO: AnalyzeFlavorBaseDeps_f38847f791(flavor_path=flavors/python3-ds-EXASOL-6.1.0): Checking if image archive exasol/script-language-container:python3-ds-EXASOL-6.1.0-flavor_base_deps_4UFNNDDHYYPX5MUSETNH2XGJ4DAK2GNUCAOR5TFGTKB5KXOV4DQA.tar is available in cache directory, result False\n",
      "INFO: AnalyzeFlavorBaseDeps_f38847f791(flavor_path=flavors/python3-ds-EXASOL-6.1.0): Try to find image exasol/script-language-container:python3-ds-EXASOL-6.1.0-flavor_base_deps_4UFNNDDHYYPX5MUSETNH2XGJ4DAK2GNUCAOR5TFGTKB5KXOV4DQA in registry\n",
      "INFO: AnalyzeBuildRun_f38847f791(flavor_path=flavors/python3-ds-EXASOL-6.1.0): Checking if image archive exasol/script-language-container:python3-ds-EXASOL-6.1.0-build_run_VI6LRAWZQUQC73QQOS5QBBY2PLILK6UBRHXBB4XJFZNHONSE5EWQ.tar is available in cache directory, result False\n",
      "INFO: AnalyzeBuildRun_f38847f791(flavor_path=flavors/python3-ds-EXASOL-6.1.0): Try to find image exasol/script-language-container:python3-ds-EXASOL-6.1.0-build_run_VI6LRAWZQUQC73QQOS5QBBY2PLILK6UBRHXBB4XJFZNHONSE5EWQ in registry\n",
      "INFO: AnalyzeBuildRun_f38847f791(flavor_path=flavors/python3-ds-EXASOL-6.1.0): Found image exasol/script-language-container:python3-ds-EXASOL-6.1.0-build_run_VI6LRAWZQUQC73QQOS5QBBY2PLILK6UBRHXBB4XJFZNHONSE5EWQ in registry\n",
      "INFO: AnalyzeBuildRun_f38847f791(flavor_path=flavors/python3-ds-EXASOL-6.1.0): Write complete_target\n",
      "INFO: AnalyzeBuildRun_f38847f791(flavor_path=flavors/python3-ds-EXASOL-6.1.0): Time since first_run 1.251464 s\n",
      "INFO: AnalyzeBuildRun_f38847f791(flavor_path=flavors/python3-ds-EXASOL-6.1.0): Time since creation 3.997166 s\n",
      "INFO: AnalyzeFlavorBaseDeps_f38847f791(flavor_path=flavors/python3-ds-EXASOL-6.1.0): Found image exasol/script-language-container:python3-ds-EXASOL-6.1.0-flavor_base_deps_4UFNNDDHYYPX5MUSETNH2XGJ4DAK2GNUCAOR5TFGTKB5KXOV4DQA in registry\n",
      "INFO: AnalyzeBuildRun_f38847f791(flavor_path=flavors/python3-ds-EXASOL-6.1.0): Total runtime of run method 1.251025 s\n",
      "INFO: [pid 11742] Worker Worker(salt=869914482, workers=5, host=test-statsmodels, username=jupyter, pid=11683) done      AnalyzeBuildRun_f38847f791(flavor_path=flavors/python3-ds-EXASOL-6.1.0)\n",
      "INFO: AnalyzeFlavorBaseDeps_f38847f791(flavor_path=flavors/python3-ds-EXASOL-6.1.0): Write complete_target\n",
      "INFO: Informed scheduler that task   AnalyzeBuildRun_f38847f791   has status   DONE\n",
      "INFO: AnalyzeFlavorBaseDeps_f38847f791(flavor_path=flavors/python3-ds-EXASOL-6.1.0): Time since first_run 1.254419 s\n",
      "INFO: AnalyzeFlavorBaseDeps_f38847f791(flavor_path=flavors/python3-ds-EXASOL-6.1.0): Time since creation 3.944971 s\n",
      "INFO: AnalyzeFlavorBaseDeps_f38847f791(flavor_path=flavors/python3-ds-EXASOL-6.1.0): Total runtime of run method 1.254046 s\n",
      "INFO: [pid 11743] Worker Worker(salt=869914482, workers=5, host=test-statsmodels, username=jupyter, pid=11683) done      AnalyzeFlavorBaseDeps_f38847f791(flavor_path=flavors/python3-ds-EXASOL-6.1.0)\n",
      "INFO: Informed scheduler that task   AnalyzeFlavorBaseDeps_f38847f791   has status   DONE\n",
      "INFO: [pid 11771] Worker Worker(salt=869914482, workers=5, host=test-statsmodels, username=jupyter, pid=11683) running   AnalyzeFlavorCustomization_f38847f791(flavor_path=flavors/python3-ds-EXASOL-6.1.0)\n",
      "INFO: AnalyzeFlavorCustomization_f38847f791(flavor_path=flavors/python3-ds-EXASOL-6.1.0): Checking if image exasol/script-language-container:python3-ds-EXASOL-6.1.0-flavor_customization_QNDXAZC57OV4V2WIMZM7NCLQIEYVPCEPIKIBKOIE3ECKJJ5EJ3QQ is locally available, result False\n",
      "INFO: AnalyzeFlavorCustomization_f38847f791(flavor_path=flavors/python3-ds-EXASOL-6.1.0): Checking if image exasol/script-language-container:python3-ds-EXASOL-6.1.0-flavor_customization_QNDXAZC57OV4V2WIMZM7NCLQIEYVPCEPIKIBKOIE3ECKJJ5EJ3QQ is locally available, result False\n",
      "INFO: AnalyzeFlavorCustomization_f38847f791(flavor_path=flavors/python3-ds-EXASOL-6.1.0): Checking if image archive exasol/script-language-container:python3-ds-EXASOL-6.1.0-flavor_customization_QNDXAZC57OV4V2WIMZM7NCLQIEYVPCEPIKIBKOIE3ECKJJ5EJ3QQ.tar is available in cache directory, result False\n",
      "INFO: AnalyzeFlavorCustomization_f38847f791(flavor_path=flavors/python3-ds-EXASOL-6.1.0): Try to find image exasol/script-language-container:python3-ds-EXASOL-6.1.0-flavor_customization_QNDXAZC57OV4V2WIMZM7NCLQIEYVPCEPIKIBKOIE3ECKJJ5EJ3QQ in registry\n",
      "INFO: AnalyzeFlavorCustomization_f38847f791(flavor_path=flavors/python3-ds-EXASOL-6.1.0): Found image exasol/script-language-container:python3-ds-EXASOL-6.1.0-flavor_customization_QNDXAZC57OV4V2WIMZM7NCLQIEYVPCEPIKIBKOIE3ECKJJ5EJ3QQ in registry\n",
      "INFO: AnalyzeFlavorCustomization_f38847f791(flavor_path=flavors/python3-ds-EXASOL-6.1.0): Write complete_target\n",
      "INFO: AnalyzeFlavorCustomization_f38847f791(flavor_path=flavors/python3-ds-EXASOL-6.1.0): Time since first_run 1.202873 s\n",
      "INFO: AnalyzeFlavorCustomization_f38847f791(flavor_path=flavors/python3-ds-EXASOL-6.1.0): Time since creation 5.141472 s\n",
      "INFO: AnalyzeFlavorCustomization_f38847f791(flavor_path=flavors/python3-ds-EXASOL-6.1.0): Total runtime of run method 1.202482 s\n",
      "INFO: [pid 11771] Worker Worker(salt=869914482, workers=5, host=test-statsmodels, username=jupyter, pid=11683) done      AnalyzeFlavorCustomization_f38847f791(flavor_path=flavors/python3-ds-EXASOL-6.1.0)\n",
      "INFO: Informed scheduler that task   AnalyzeFlavorCustomization_f38847f791   has status   DONE\n",
      "INFO: [pid 11783] Worker Worker(salt=869914482, workers=5, host=test-statsmodels, username=jupyter, pid=11683) running   AnalyzeRelease_f38847f791(flavor_path=flavors/python3-ds-EXASOL-6.1.0)\n",
      "INFO: AnalyzeRelease_f38847f791(flavor_path=flavors/python3-ds-EXASOL-6.1.0): Checking if image exasol/script-language-container:python3-ds-EXASOL-6.1.0-release_EYFRS54NWXPTDZOBU2ZWGIXIID77PTCFMM2LLHPQNWDGQAQUNIAA is locally available, result True\n",
      "INFO: AnalyzeRelease_f38847f791(flavor_path=flavors/python3-ds-EXASOL-6.1.0): Write complete_target\n",
      "INFO: AnalyzeRelease_f38847f791(flavor_path=flavors/python3-ds-EXASOL-6.1.0): Time since first_run 0.042282 s\n",
      "INFO: AnalyzeRelease_f38847f791(flavor_path=flavors/python3-ds-EXASOL-6.1.0): Time since creation 5.08209 s\n",
      "INFO: AnalyzeRelease_f38847f791(flavor_path=flavors/python3-ds-EXASOL-6.1.0): Total runtime of run method 0.041886 s\n",
      "INFO: [pid 11783] Worker Worker(salt=869914482, workers=5, host=test-statsmodels, username=jupyter, pid=11683) done      AnalyzeRelease_f38847f791(flavor_path=flavors/python3-ds-EXASOL-6.1.0)\n",
      "INFO: Informed scheduler that task   AnalyzeRelease_f38847f791   has status   DONE\n",
      "INFO: [pid 11793] Worker Worker(salt=869914482, workers=5, host=test-statsmodels, username=jupyter, pid=11683) running   ExportFlavorContainer_648da548ac(flavor_path=flavors/python3-ds-EXASOL-6.1.0, release_goals=[\"release\"], export_path=containers, release_name=)\n",
      "INFO: [pid 11793] Worker Worker(salt=869914482, workers=5, host=test-statsmodels, username=jupyter, pid=11683) new requirements      ExportFlavorContainer_648da548ac(flavor_path=flavors/python3-ds-EXASOL-6.1.0, release_goals=[\"release\"], export_path=containers, release_name=)\n",
      "INFO: Informed scheduler that task   ExportContainerTask_e5b6cf057f   has status   PENDING\n",
      "INFO: Informed scheduler that task   DockerCreateImageTask_89b7306a7e   has status   PENDING\n",
      "INFO: Informed scheduler that task   CreateExportDirectory_9b821499ab   has status   PENDING\n",
      "INFO: Informed scheduler that task   ExportFlavorContainer_648da548ac   has status   PENDING\n",
      "INFO: [pid 11795] Worker Worker(salt=869914482, workers=5, host=test-statsmodels, username=jupyter, pid=11683) running   CreateExportDirectory_9b821499ab()\n",
      "INFO: [pid 11796] Worker Worker(salt=869914482, workers=5, host=test-statsmodels, username=jupyter, pid=11683) running   DockerCreateImageTask_89b7306a7e(image_name=exasol/script-language-container:python3-ds-EXASOL-6.1.0-release)\n",
      "INFO: CreateExportDirectory_9b821499ab(): Write complete_target\n",
      "INFO: CreateExportDirectory_9b821499ab(): Time since first_run 0.004061 s\n",
      "INFO: DockerCreateImageTask_89b7306a7e(image_name=exasol/script-language-container:python3-ds-EXASOL-6.1.0-release): Write complete_target\n",
      "INFO: CreateExportDirectory_9b821499ab(): Time since creation 0.057608 s\n",
      "INFO: DockerCreateImageTask_89b7306a7e(image_name=exasol/script-language-container:python3-ds-EXASOL-6.1.0-release): Time since first_run 0.004078 s\n",
      "INFO: CreateExportDirectory_9b821499ab(): Total runtime of run method 0.003878 s\n",
      "INFO: [pid 11795] Worker Worker(salt=869914482, workers=5, host=test-statsmodels, username=jupyter, pid=11683) done      CreateExportDirectory_9b821499ab()\n",
      "INFO: DockerCreateImageTask_89b7306a7e(image_name=exasol/script-language-container:python3-ds-EXASOL-6.1.0-release): Time since creation 0.070325 s\n",
      "INFO: Informed scheduler that task   CreateExportDirectory_9b821499ab   has status   DONE\n",
      "INFO: DockerCreateImageTask_89b7306a7e(image_name=exasol/script-language-container:python3-ds-EXASOL-6.1.0-release): Total runtime of run method 0.003865 s\n",
      "INFO: [pid 11796] Worker Worker(salt=869914482, workers=5, host=test-statsmodels, username=jupyter, pid=11683) done      DockerCreateImageTask_89b7306a7e(image_name=exasol/script-language-container:python3-ds-EXASOL-6.1.0-release)\n",
      "INFO: Informed scheduler that task   DockerCreateImageTask_89b7306a7e   has status   DONE\n",
      "INFO: [pid 11799] Worker Worker(salt=869914482, workers=5, host=test-statsmodels, username=jupyter, pid=11683) running   ExportContainerTask_e5b6cf057f(flavor_path=flavors/python3-ds-EXASOL-6.1.0, export_path=containers, release_name=, release_goal=release)\n",
      "INFO: ExportContainerTask_e5b6cf057f(flavor_path=flavors/python3-ds-EXASOL-6.1.0, export_path=containers, release_name=, release_goal=release): Write complete_target\n",
      "INFO: ExportContainerTask_e5b6cf057f(flavor_path=flavors/python3-ds-EXASOL-6.1.0, export_path=containers, release_name=, release_goal=release): Time since first_run 0.00627 s\n",
      "INFO: ExportContainerTask_e5b6cf057f(flavor_path=flavors/python3-ds-EXASOL-6.1.0, export_path=containers, release_name=, release_goal=release): Time since creation 0.085187 s\n",
      "INFO: ExportContainerTask_e5b6cf057f(flavor_path=flavors/python3-ds-EXASOL-6.1.0, export_path=containers, release_name=, release_goal=release): Total runtime of run method 0.006027 s\n",
      "INFO: [pid 11799] Worker Worker(salt=869914482, workers=5, host=test-statsmodels, username=jupyter, pid=11683) done      ExportContainerTask_e5b6cf057f(flavor_path=flavors/python3-ds-EXASOL-6.1.0, export_path=containers, release_name=, release_goal=release)\n",
      "INFO: Informed scheduler that task   ExportContainerTask_e5b6cf057f   has status   DONE\n",
      "INFO: [pid 11801] Worker Worker(salt=869914482, workers=5, host=test-statsmodels, username=jupyter, pid=11683) running   ExportFlavorContainer_648da548ac(flavor_path=flavors/python3-ds-EXASOL-6.1.0, release_goals=[\"release\"], export_path=containers, release_name=)\n",
      "INFO: ExportFlavorContainer_648da548ac(flavor_path=flavors/python3-ds-EXASOL-6.1.0, release_goals=[\"release\"], export_path=containers, release_name=): Write complete_target\n",
      "INFO: ExportFlavorContainer_648da548ac(flavor_path=flavors/python3-ds-EXASOL-6.1.0, release_goals=[\"release\"], export_path=containers, release_name=): Time since first_run 0.151942 s\n",
      "INFO: ExportFlavorContainer_648da548ac(flavor_path=flavors/python3-ds-EXASOL-6.1.0, release_goals=[\"release\"], export_path=containers, release_name=): Time since creation 5.247702 s\n",
      "INFO: ExportFlavorContainer_648da548ac(flavor_path=flavors/python3-ds-EXASOL-6.1.0, release_goals=[\"release\"], export_path=containers, release_name=): Total runtime of run method 0.05194 s\n",
      "INFO: [pid 11801] Worker Worker(salt=869914482, workers=5, host=test-statsmodels, username=jupyter, pid=11683) done      ExportFlavorContainer_648da548ac(flavor_path=flavors/python3-ds-EXASOL-6.1.0, release_goals=[\"release\"], export_path=containers, release_name=)\n",
      "INFO: Informed scheduler that task   ExportFlavorContainer_648da548ac   has status   DONE\n",
      "INFO: [pid 11803] Worker Worker(salt=869914482, workers=5, host=test-statsmodels, username=jupyter, pid=11683) running   ExportContainers_b73ac2ac38(flavor_paths=[\"flavors/python3-ds-EXASOL-6.1.0\"], release_goals=[\"release\"], export_path=containers, release_name=)\n",
      "INFO: ExportContainers_b73ac2ac38(flavor_paths=[\"flavors/python3-ds-EXASOL-6.1.0\"], release_goals=[\"release\"], export_path=containers, release_name=): Write complete_target\n",
      "INFO: ExportContainers_b73ac2ac38(flavor_paths=[\"flavors/python3-ds-EXASOL-6.1.0\"], release_goals=[\"release\"], export_path=containers, release_name=): Time since first_run 0.004292 s\n",
      "INFO: ExportContainers_b73ac2ac38(flavor_paths=[\"flavors/python3-ds-EXASOL-6.1.0\"], release_goals=[\"release\"], export_path=containers, release_name=): Time since creation 5.268472 s\n",
      "INFO: ExportContainers_b73ac2ac38(flavor_paths=[\"flavors/python3-ds-EXASOL-6.1.0\"], release_goals=[\"release\"], export_path=containers, release_name=): Total runtime of run method 0.004032 s\n",
      "INFO: [pid 11803] Worker Worker(salt=869914482, workers=5, host=test-statsmodels, username=jupyter, pid=11683) done      ExportContainers_b73ac2ac38(flavor_paths=[\"flavors/python3-ds-EXASOL-6.1.0\"], release_goals=[\"release\"], export_path=containers, release_name=)\n",
      "INFO: Informed scheduler that task   ExportContainers_b73ac2ac38   has status   DONE\n",
      "INFO: Worker Worker(salt=869914482, workers=5, host=test-statsmodels, username=jupyter, pid=11683) was stopped. Shutting down Keep-Alive thread\n",
      "INFO: \n",
      "===== Luigi Execution Summary =====\n",
      "\n",
      "Scheduled 12 tasks of which:\n",
      "* 12 ran successfully:\n",
      "    - 1 AnalyzeBuildDeps_f38847f791(flavor_path=flavors/python3-ds-EXASOL-6.1.0)\n",
      "    - 1 AnalyzeBuildRun_f38847f791(flavor_path=flavors/python3-ds-EXASOL-6.1.0)\n",
      "    - 1 AnalyzeFlavorBaseDeps_f38847f791(flavor_path=flavors/python3-ds-EXASOL-6.1.0)\n",
      "    - 1 AnalyzeFlavorCustomization_f38847f791(flavor_path=flavors/python3-ds-EXASOL-6.1.0)\n",
      "    - 1 AnalyzeLanguageDeps_f38847f791(flavor_path=flavors/python3-ds-EXASOL-6.1.0)\n",
      "    ...\n",
      "\n",
      "This progress looks :) because there were no failed tasks or missing dependencies\n",
      "\n",
      "===== Luigi Execution Summary =====\n",
      "\n",
      "The command took 5.551279 s\n",
      "\n",
      "Cached container under /home/jupyter/data-science-examples/tutorials/script-languages/script-languages-release/.build_output/cache/exports/python3-ds-EXASOL-6.1.0-release-EYFRS54NWXPTDZOBU2ZWGIXIID77PTCFMM2LLHPQNWDGQAQUNIAA.tar.gz\n",
      "\n",
      "Copied container to containers/python3-ds-EXASOL-6.1.0_release.tar.gz\n",
      "\n",
      "=================================================\n",
      "\n"
     ]
    }
   ],
   "source": [
    "bash.run(f\"\"\"\n",
    "pushd {slc_path}\n",
    "./exaslct export --flavor-path flavors/python3-ds-EXASOL-6.1.0 --export-path containers\n",
    "\"\"\")"
   ]
  },
  {
   "cell_type": "code",
   "execution_count": 25,
   "metadata": {},
   "outputs": [
    {
     "name": "stdout",
     "output_type": "stream",
     "text": [
      "===== Luigi Execution Summary =====\n",
      "\n",
      "The command took 5.551279 s\n",
      "\n",
      "Cached container under /home/jupyter/data-science-examples/tutorials/script-languages/script-languages-release/.build_output/cache/exports/python3-ds-EXASOL-6.1.0-release-EYFRS54NWXPTDZOBU2ZWGIXIID77PTCFMM2LLHPQNWDGQAQUNIAA.tar.gz\n",
      "\n",
      "Copied container to containers/python3-ds-EXASOL-6.1.0_release.tar.gz\n",
      "\n",
      "=================================================\n",
      "\n"
     ]
    }
   ],
   "source": [
    "bash.run(f\"\"\"tail {slc_path}/exaslct.log\"\"\")"
   ]
  },
  {
   "cell_type": "code",
   "execution_count": 40,
   "metadata": {},
   "outputs": [
    {
     "name": "stdout",
     "output_type": "stream",
     "text": [
      "script-languages-release/.build_output/jobs/2021_02_02_11_00_53_ExportContainers/outputs/ExportContainers_b032926fcd/ExportFlavorContainer_8eba5879f8/ExportContainerTask_a69810acba/logs/extract_release_file.log\n",
      "script-languages-release/.build_output/jobs/2021_02_02_11_00_53_ExportContainers/outputs/ExportContainers_b032926fcd/ExportFlavorContainer_8eba5879f8/ExportContainerTask_a69810acba/logs/pack_release_file.log\n",
      "script-languages-release/.build_output/jobs/2021_02_02_11_00_53_ExportContainers/outputs/ExportContainers_b032926fcd/ExportFlavorContainer_8eba5879f8/DockerCreateImageTask_f2e68ce3b8/DockerPullImageTask_f2e68ce3b8/logs/pull_docker_db_image.log\n",
      "script-languages-release/.build_output/jobs/2021_02_02_11_00_53_ExportContainers/outputs/ExportContainers_b032926fcd/command_line_output\n",
      "script-languages-release/.build_output/jobs/2021_02_02_11_15_40_ExportContainers/outputs/ExportContainers_b73ac2ac38/command_line_output\n"
     ]
    }
   ],
   "source": [
    "bash.run(f\"\"\"\n",
    "find {slc_path}/.build_output/jobs/*/outputs -type f\n",
    "\"\"\")"
   ]
  },
  {
   "cell_type": "code",
   "execution_count": 38,
   "metadata": {},
   "outputs": [
    {
     "name": "stdout",
     "output_type": "stream",
     "text": [
      "script-languages-release/flavors/\n",
      "script-languages-release/flavors/fancyr-EXASOL-6.1.0\n",
      "script-languages-release/flavors/standard-EXASOL-6.1.0\n",
      "script-languages-release/flavors/python3-ds-EXASOL-6.1.0\n",
      "script-languages-release/flavors/docs\n",
      "script-languages-release/flavors/standard-EXASOL-7.0.0\n",
      "script-languages-release/flavors/README.md\n",
      "script-languages-release/flavors/standard-EXASOL-6.2.0\n",
      "script-languages-release/flavors/FLAVORS_DOCUMENTATION.md\n",
      "script-languages-release/flavors/python3-ds-cuda-preview-EXASOL-6.1.0\n"
     ]
    }
   ],
   "source": [
    "bash.run(f\"\"\"\n",
    "find {slc_path}/flavors/  -maxdepth 1\n",
    "\"\"\")"
   ]
  },
  {
   "cell_type": "code",
   "execution_count": 48,
   "metadata": {},
   "outputs": [
    {
     "name": "stdout",
     "output_type": "stream",
     "text": [
      "script-languages-release/flavors/python3-ds-EXASOL-6.1.0\n",
      "script-languages-release/flavors/python3-ds-EXASOL-6.1.0/flavor_customization\n",
      "script-languages-release/flavors/python3-ds-EXASOL-6.1.0/flavor_customization/Dockerfile\n",
      "script-languages-release/flavors/python3-ds-EXASOL-6.1.0/flavor_customization/packages\n",
      "script-languages-release/flavors/python3-ds-EXASOL-6.1.0/flavor_base\n",
      "script-languages-release/flavors/python3-ds-EXASOL-6.1.0/flavor_base/base_test_build_run\n",
      "script-languages-release/flavors/python3-ds-EXASOL-6.1.0/flavor_base/release\n",
      "script-languages-release/flavors/python3-ds-EXASOL-6.1.0/flavor_base/testconfig\n",
      "script-languages-release/flavors/python3-ds-EXASOL-6.1.0/flavor_base/flavor_test_build_run\n",
      "script-languages-release/flavors/python3-ds-EXASOL-6.1.0/flavor_base/base_test_deps\n",
      "script-languages-release/flavors/python3-ds-EXASOL-6.1.0/flavor_base/language_definition\n",
      "script-languages-release/flavors/python3-ds-EXASOL-6.1.0/flavor_base/build_run\n",
      "script-languages-release/flavors/python3-ds-EXASOL-6.1.0/flavor_base/flavor_base_deps\n",
      "script-languages-release/flavors/python3-ds-EXASOL-6.1.0/flavor_base/build_deps\n",
      "script-languages-release/flavors/python3-ds-EXASOL-6.1.0/flavor_base/language_deps\n",
      "script-languages-release/flavors/python3-ds-EXASOL-6.1.0/flavor_base/build_steps.py\n",
      "script-languages-release/flavors/python3-ds-EXASOL-6.1.0/flavor_base/udfclient_deps\n",
      "script-languages-release/flavors/python3-ds-EXASOL-6.1.0/FLAVOR_DESCRIPTION.md\n"
     ]
    }
   ],
   "source": [
    "bash.run(f\"\"\" \n",
    "find -L {slc_path}/flavors/python3-ds-EXASOL-6.1.0 -maxdepth 2\n",
    "\"\"\")"
   ]
  },
  {
   "cell_type": "code",
   "execution_count": 49,
   "metadata": {},
   "outputs": [
    {
     "name": "stdout",
     "output_type": "stream",
     "text": [
      "script-languages-release/flavors/python3-ds-EXASOL-6.1.0/flavor_customization\n",
      "script-languages-release/flavors/python3-ds-EXASOL-6.1.0/flavor_customization/Dockerfile\n",
      "script-languages-release/flavors/python3-ds-EXASOL-6.1.0/flavor_customization/packages\n",
      "script-languages-release/flavors/python3-ds-EXASOL-6.1.0/flavor_customization/packages/python3_pip_packages\n",
      "script-languages-release/flavors/python3-ds-EXASOL-6.1.0/flavor_customization/packages/apt_get_packages\n"
     ]
    }
   ],
   "source": [
    "bash.run(f\"\"\" \n",
    "find -L {slc_path}/flavors/python3-ds-EXASOL-6.1.0/flavor_customization -type f\n",
    "\"\"\")"
   ]
  },
  {
   "cell_type": "code",
   "execution_count": 50,
   "metadata": {},
   "outputs": [
    {
     "name": "stdout",
     "output_type": "stream",
     "text": [
      "############################################################################################\n",
      "############################################################################################\n",
      "# This Dockerfile allows you to extend this flavor by installing packages or adding files. \n",
      "# IF you didn't change the lines below, you can add packages and their version to the  \n",
      "# files in ./packages and they get automatically installed.                                \n",
      "############################################################################################\n",
      "############################################################################################\n",
      "\n",
      "#######################################################################\n",
      "#######################################################################\n",
      "# Do not change the following lines unless you know what you are doing \n",
      "#######################################################################\n",
      "#######################################################################\n",
      "\n",
      "FROM {{flavor_base_deps}}\n",
      "\n",
      "RUN mkdir -p /build_info/packages/flavor_customization\n",
      "\n",
      "COPY flavor_customization/packages/apt_get_packages /build_info/packages/flavor_customization\n",
      "RUN /scripts/install_scripts/install_via_apt.pl --file /build_info/packages/flavor_customization/apt_get_packages --with-versions --allow-no-version\n",
      "\n",
      "COPY flavor_customization/packages/python3_pip_packages /build_info/packages/flavor_customization\n",
      "RUN /scripts/install_scripts/install_via_pip.pl --file /build_info/packages/flavor_customization/python3_pip_packages --python-binary python3 --with-versions --allow-no-version\n",
      "\n",
      "\n",
      "##########################################################################\n",
      "##########################################################################\n",
      "# Below this text you can add any Dockerfile commands except of FROM.            \n",
      "# However only commands which change the filesystem will be              \n",
      "# reflected to the final script-language container.                      \n",
      "# We recommend to use only RUN, COPY and ADD. For example, WORKDIR, USER \n",
      "# and ENV will be not carried over into the final container. For more \n",
      "# information about Dockerfile commands, please check the reference \n",
      "# https://docs.docker.com/engine/reference/builder/#dockerfile-reference \n",
      "##########################################################################\n",
      "##########################################################################\n",
      "\n",
      "\n",
      "###########\n",
      "###########\n",
      "# Examples:\n",
      "###########\n",
      "###########\n",
      "\n",
      "#################################################\n",
      "# Execute a command during the build of the image\n",
      "#################################################\n",
      "\n",
      "# With RUN you can excute any command you usally would run in a bash shell.\n",
      "# It usually is a good idea to cleanup downloaded files or packages \n",
      "# caches in the same in the same RUN statement to keep the image size\n",
      "# small. You can execute multiple shell commands in one RUN statement\n",
      "# by combine them with \n",
      "# - `&&` (only execute if the previous command was successfull), \n",
      "# - `||` (only execute if the previous command was unsuccesfull)\n",
      "# - `;` (execute regardless of the success of the previous command)\n",
      "# To format multiple command per RUN statement you can add a line break with `\\`.\n",
      "# If you need to execute complex sequences of commands you should execute\n",
      "# scripts which you can copy into the image.\n",
      "# -------------------------------------------------------------------------------\n",
      "\n",
      "# RUN git clone https://github.com/exasol/data-science-examples\n",
      "# RUN curl -o data-science-examples.zip https://codeload.github.com/exasol/data-science-examples/zip/master && \\\n",
      "#     unzip data-science-examples.zip && \\\n",
      "#     rm data-science-examples.zip\n",
      "\n",
      "#####################################\n",
      "# Copy a file from ./ into the image. \n",
      "#####################################\n",
      "\n",
      "# In case of exaslct it is important to prefix source files or directories with `flavor_customization`\n",
      "# if you want to copy files or directories located in the same directory as this Dockerfile\n",
      "# -----------------------------------------------------------------------------------------------------\n",
      "\n",
      "# COPY flavor_customization/packages/pip3_packages /build_info/packages/flavor_base_deps\n",
      "# ADD flavor_customization/code.tar.gz /code\n",
      "\n"
     ]
    }
   ],
   "source": [
    "bash.run(f\"\"\" \n",
    "cat {slc_path}/flavors/python3-ds-EXASOL-6.1.0/flavor_customization/Dockerfile\n",
    "\"\"\")"
   ]
  },
  {
   "cell_type": "code",
   "execution_count": 70,
   "metadata": {},
   "outputs": [
    {
     "name": "stdout",
     "output_type": "stream",
     "text": [
      "# This file specifies the package list which gets installed via pip for python3.\n",
      "# You must specify the the package and its version separated by a |.\n",
      "# We recommend here the usage of package versions, to ensure that the container \n",
      "# builds are reproducible. However, we allow also packages without version.\n",
      "# As you can see, this file can contain comments which start with #.\n",
      "# If a line starts with # the whole line is a comment, however you can\n",
      "# also start a comment after the package definition.\n",
      "\n",
      "#tensorflow-probability|0.9.0\n"
     ]
    }
   ],
   "source": [
    "bash.run(f\"\"\" \n",
    "cat {slc_path}/flavors/python3-ds-EXASOL-6.1.0/flavor_customization/packages/python3_pip_packages\n",
    "\"\"\")"
   ]
  },
  {
   "cell_type": "code",
   "execution_count": 71,
   "metadata": {},
   "outputs": [],
   "source": [
    "bash.run(f\"\"\" \n",
    "echo \"dask[complete]|2021.1.1 \" >> {slc_path}/flavors/python3-ds-EXASOL-6.1.0/flavor_customization/packages/python3_pip_packages\n",
    "\"\"\")"
   ]
  },
  {
   "cell_type": "code",
   "execution_count": 72,
   "metadata": {},
   "outputs": [
    {
     "name": "stdout",
     "output_type": "stream",
     "text": [
      "# This file specifies the package list which gets installed via pip for python3.\n",
      "# You must specify the the package and its version separated by a |.\n",
      "# We recommend here the usage of package versions, to ensure that the container \n",
      "# builds are reproducible. However, we allow also packages without version.\n",
      "# As you can see, this file can contain comments which start with #.\n",
      "# If a line starts with # the whole line is a comment, however you can\n",
      "# also start a comment after the package definition.\n",
      "\n",
      "#tensorflow-probability|0.9.0\n",
      "dask[complete]|2021.1.1 \n"
     ]
    }
   ],
   "source": [
    "bash.run(f\"\"\" \n",
    "cat {slc_path}/flavors/python3-ds-EXASOL-6.1.0/flavor_customization/packages/python3_pip_packages\n",
    "\"\"\")"
   ]
  },
  {
   "cell_type": "code",
   "execution_count": 76,
   "metadata": {},
   "outputs": [
    {
     "name": "stdout",
     "output_type": "stream",
     "text": [
      "~/data-science-examples/tutorials/script-languages/script-languages-release ~/data-science-examples/tutorials/script-languages\n",
      "Virtualenv already exists!\n",
      "Removing existing virtualenv...\n",
      "Creating a virtualenv for this project...\n",
      "Pipfile: /home/jupyter/data-science-examples/tutorials/script-languages/script-languages-release/script-languages/Pipfile\n",
      "Using /opt/conda/bin/python3.7m (3.7.9) to create virtualenv...\n",
      "⠼\u001b[0m Creating virtual environment...\u001b[Kcreated virtual environment CPython3.7.9.final.0-64 in 195ms\n",
      "  creator CPython3Posix(dest=/home/jupyter/.local/share/virtualenvs/script-languages-VP1Xj6ma, clear=False, no_vcs_ignore=False, global=False)\n",
      "  seeder FromAppData(download=False, pip=bundle, setuptools=bundle, wheel=bundle, via=copy, app_data_dir=/home/jupyter/.local/share/virtualenv)\n",
      "    added seed packages: pip==20.3.1, setuptools==51.0.0, wheel==0.36.2\n",
      "  activators BashActivator,CShellActivator,FishActivator,PowerShellActivator,PythonActivator,XonshActivator\n",
      "\n",
      "\u001b[K\u001b[?25h\u001b[32m\u001b[22m✔ Successfully created virtual environment!\u001b[39m\u001b[22m\u001b[0m \n",
      "Virtualenv location: /home/jupyter/.local/share/virtualenvs/script-languages-VP1Xj6ma\n",
      "  🐍   ▉▉▉▉▉▉▉▉▉▉▉▉▉▉▉▉▉▉▉▉▉▉▉▉▉▉▉▉▉▉▉▉ 30/30 — 00:00:16\n",
      "INFO: Informed scheduler that task   DockerPullImageTask_abea6fae42   has status   PENDING\n",
      "INFO: [pid 5835] Worker Worker(salt=010945344, workers=5, host=test-statsmodels, username=jupyter, pid=5712) running   DockerPullImageTask_abea6fae42(image_name=exasol/script-language-container:python3-ds-EXASOL-6.1.0-language_deps)\n",
      "INFO: DockerPullImageTask_abea6fae42(image_name=exasol/script-language-container:python3-ds-EXASOL-6.1.0-language_deps): Try to pull docker image exasol/script-language-container:python3-ds-EXASOL-6.1.0-language_deps_V7LLQGCX2VSG23GDTORDNSEN5QNAJSRGNNATLP6NF636GK4TDFOQ\n",
      "INFO: Informed scheduler that task   DockerPullImageTask_ccefc49f3f   has status   PENDING\n",
      "INFO: [pid 5836] Worker Worker(salt=010945344, workers=5, host=test-statsmodels, username=jupyter, pid=5712) running   DockerPullImageTask_ccefc49f3f(image_name=exasol/script-language-container:python3-ds-EXASOL-6.1.0-build_run)\n",
      "INFO: DockerPullImageTask_ccefc49f3f(image_name=exasol/script-language-container:python3-ds-EXASOL-6.1.0-build_run): Try to pull docker image exasol/script-language-container:python3-ds-EXASOL-6.1.0-build_run_VI6LRAWZQUQC73QQOS5QBBY2PLILK6UBRHXBB4XJFZNHONSE5EWQ\n",
      "INFO: Informed scheduler that task   DockerPullImageTask_e545614e30   has status   PENDING\n",
      "INFO: [pid 5837] Worker Worker(salt=010945344, workers=5, host=test-statsmodels, username=jupyter, pid=5712) running   DockerPullImageTask_e545614e30(image_name=exasol/script-language-container:python3-ds-EXASOL-6.1.0-flavor_base_deps)\n",
      "INFO: DockerPullImageTask_e545614e30(image_name=exasol/script-language-container:python3-ds-EXASOL-6.1.0-flavor_base_deps): Try to pull docker image exasol/script-language-container:python3-ds-EXASOL-6.1.0-flavor_base_deps_4UFNNDDHYYPX5MUSETNH2XGJ4DAK2GNUCAOR5TFGTKB5KXOV4DQA\n",
      "INFO: DockerPullImageTask_abea6fae42(image_name=exasol/script-language-container:python3-ds-EXASOL-6.1.0-language_deps): Write complete_target\n",
      "INFO: DockerPullImageTask_abea6fae42(image_name=exasol/script-language-container:python3-ds-EXASOL-6.1.0-language_deps): Time since first_run 12.580562 s\n",
      "INFO: DockerPullImageTask_abea6fae42(image_name=exasol/script-language-container:python3-ds-EXASOL-6.1.0-language_deps): Time since creation 12.604581 s\n",
      "INFO: DockerPullImageTask_abea6fae42(image_name=exasol/script-language-container:python3-ds-EXASOL-6.1.0-language_deps): Total runtime of run method 12.580325 s\n",
      "INFO: [pid 5835] Worker Worker(salt=010945344, workers=5, host=test-statsmodels, username=jupyter, pid=5712) done      DockerPullImageTask_abea6fae42(image_name=exasol/script-language-container:python3-ds-EXASOL-6.1.0-language_deps)\n",
      "INFO: Informed scheduler that task   DockerPullImageTask_abea6fae42   has status   DONE\n",
      "INFO: DockerPullImageTask_ccefc49f3f(image_name=exasol/script-language-container:python3-ds-EXASOL-6.1.0-build_run): Write complete_target\n",
      "INFO: DockerPullImageTask_ccefc49f3f(image_name=exasol/script-language-container:python3-ds-EXASOL-6.1.0-build_run): Time since first_run 30.924679 s\n",
      "INFO: DockerPullImageTask_ccefc49f3f(image_name=exasol/script-language-container:python3-ds-EXASOL-6.1.0-build_run): Time since creation 30.968837 s\n",
      "INFO: DockerPullImageTask_ccefc49f3f(image_name=exasol/script-language-container:python3-ds-EXASOL-6.1.0-build_run): Total runtime of run method 30.924455 s\n",
      "INFO: [pid 5836] Worker Worker(salt=010945344, workers=5, host=test-statsmodels, username=jupyter, pid=5712) done      DockerPullImageTask_ccefc49f3f(image_name=exasol/script-language-container:python3-ds-EXASOL-6.1.0-build_run)\n",
      "INFO: Informed scheduler that task   DockerPullImageTask_ccefc49f3f   has status   DONE\n",
      "INFO: DockerPullImageTask_e545614e30(image_name=exasol/script-language-container:python3-ds-EXASOL-6.1.0-flavor_base_deps): Write complete_target\n",
      "INFO: DockerPullImageTask_e545614e30(image_name=exasol/script-language-container:python3-ds-EXASOL-6.1.0-flavor_base_deps): Time since first_run 33.043701 s\n",
      "INFO: DockerPullImageTask_e545614e30(image_name=exasol/script-language-container:python3-ds-EXASOL-6.1.0-flavor_base_deps): Time since creation 33.09965 s\n",
      "INFO: DockerPullImageTask_e545614e30(image_name=exasol/script-language-container:python3-ds-EXASOL-6.1.0-flavor_base_deps): Total runtime of run method 33.043444 s\n",
      "INFO: [pid 5837] Worker Worker(salt=010945344, workers=5, host=test-statsmodels, username=jupyter, pid=5712) done      DockerPullImageTask_e545614e30(image_name=exasol/script-language-container:python3-ds-EXASOL-6.1.0-flavor_base_deps)\n",
      "INFO: Informed scheduler that task   DockerPullImageTask_e545614e30   has status   DONE\n",
      "INFO: Informed scheduler that task   DockerBuildImageTask_ee1727c8ed   has status   PENDING\n",
      "INFO: [pid 6547] Worker Worker(salt=010945344, workers=5, host=test-statsmodels, username=jupyter, pid=5712) running   DockerBuildImageTask_ee1727c8ed(image_name=exasol/script-language-container:python3-ds-EXASOL-6.1.0-flavor_customization)\n",
      "INFO: DockerBuildImageTask_ee1727c8ed(image_name=exasol/script-language-container:python3-ds-EXASOL-6.1.0-flavor_customization): Build docker image exasol/script-language-container:python3-ds-EXASOL-6.1.0-flavor_customization_6EGQZZ2UK7QFM5OV7BHJM7VFP2Y56XKUHLHFV46NDCJJSN5CJFNQ, log file can be found here .build_output/jobs/2021_02_02_14_41_31_ExportContainers/outputs/ExportContainers_ebe27f16ad/ExportFlavorContainer_bf745739c4/DockerCreateImageTaskWithDeps_9841cdeadf/DockerBuildImageTask_ee1727c8ed/logs\n",
      "INFO: DockerBuildImageTask_ee1727c8ed(image_name=exasol/script-language-container:python3-ds-EXASOL-6.1.0-flavor_customization): Write complete_target\n",
      "INFO: DockerBuildImageTask_ee1727c8ed(image_name=exasol/script-language-container:python3-ds-EXASOL-6.1.0-flavor_customization): Time since first_run 59.643686 s\n",
      "INFO: DockerBuildImageTask_ee1727c8ed(image_name=exasol/script-language-container:python3-ds-EXASOL-6.1.0-flavor_customization): Time since creation 59.672192 s\n",
      "INFO: DockerBuildImageTask_ee1727c8ed(image_name=exasol/script-language-container:python3-ds-EXASOL-6.1.0-flavor_customization): Total runtime of run method 59.643424 s\n",
      "INFO: [pid 6547] Worker Worker(salt=010945344, workers=5, host=test-statsmodels, username=jupyter, pid=5712) done      DockerBuildImageTask_ee1727c8ed(image_name=exasol/script-language-container:python3-ds-EXASOL-6.1.0-flavor_customization)\n",
      "INFO: Informed scheduler that task   DockerBuildImageTask_ee1727c8ed   has status   DONE\n",
      "INFO: Informed scheduler that task   DockerBuildImageTask_f8475e2b98   has status   PENDING\n",
      "INFO: [pid 7351] Worker Worker(salt=010945344, workers=5, host=test-statsmodels, username=jupyter, pid=5712) running   DockerBuildImageTask_f8475e2b98(image_name=exasol/script-language-container:python3-ds-EXASOL-6.1.0-release)\n",
      "INFO: DockerBuildImageTask_f8475e2b98(image_name=exasol/script-language-container:python3-ds-EXASOL-6.1.0-release): Build docker image exasol/script-language-container:python3-ds-EXASOL-6.1.0-release_RN5HZ72HNOSOJWNBF2M7TWKIOGWZ4U423PAIU7JYFHMRUZM55QNQ, log file can be found here .build_output/jobs/2021_02_02_14_41_31_ExportContainers/outputs/ExportContainers_ebe27f16ad/ExportFlavorContainer_bf745739c4/DockerCreateImageTaskWithDeps_2afd109f2e/DockerBuildImageTask_f8475e2b98/logs\n",
      "INFO: DockerBuildImageTask_f8475e2b98(image_name=exasol/script-language-container:python3-ds-EXASOL-6.1.0-release): Still running build image exasol/script-language-container:python3-ds-EXASOL-6.1.0-release_RN5HZ72HNOSOJWNBF2M7TWKIOGWZ4U423PAIU7JYFHMRUZM55QNQ.\n",
      "INFO: DockerBuildImageTask_f8475e2b98(image_name=exasol/script-language-container:python3-ds-EXASOL-6.1.0-release): Write complete_target\n",
      "INFO: DockerBuildImageTask_f8475e2b98(image_name=exasol/script-language-container:python3-ds-EXASOL-6.1.0-release): Time since first_run 85.104482 s\n",
      "INFO: DockerBuildImageTask_f8475e2b98(image_name=exasol/script-language-container:python3-ds-EXASOL-6.1.0-release): Time since creation 85.137279 s\n",
      "INFO: DockerBuildImageTask_f8475e2b98(image_name=exasol/script-language-container:python3-ds-EXASOL-6.1.0-release): Total runtime of run method 85.104189 s\n",
      "INFO: [pid 7351] Worker Worker(salt=010945344, workers=5, host=test-statsmodels, username=jupyter, pid=5712) done      DockerBuildImageTask_f8475e2b98(image_name=exasol/script-language-container:python3-ds-EXASOL-6.1.0-release)\n",
      "INFO: Informed scheduler that task   DockerBuildImageTask_f8475e2b98   has status   DONE\n"
     ]
    }
   ],
   "source": [
    "bash.run(f\"\"\"\n",
    "pushd {slc_path}\n",
    "./exaslct export --flavor-path flavors/python3-ds-EXASOL-6.1.0 --export-path containers | grep -E \"DockerPullImageTask|DockerBuildImageTask\"\n",
    "\"\"\")"
   ]
  }
 ],
 "metadata": {
  "environment": {
   "name": "common-cpu.m61",
   "type": "gcloud",
   "uri": "gcr.io/deeplearning-platform-release/base-cpu:m61"
  },
  "kernelspec": {
   "display_name": "Python 3",
   "language": "python",
   "name": "python3"
  },
  "language_info": {
   "codemirror_mode": {
    "name": "ipython",
    "version": 3
   },
   "file_extension": ".py",
   "mimetype": "text/x-python",
   "name": "python",
   "nbconvert_exporter": "python",
   "pygments_lexer": "ipython3",
   "version": "3.7.9"
  }
 },
 "nbformat": 4,
 "nbformat_minor": 4
}
