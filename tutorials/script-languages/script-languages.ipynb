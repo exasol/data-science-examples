{
 "cells": [
  {
   "cell_type": "markdown",
   "metadata": {},
   "source": [
    "# Using the Script-Language Container"
   ]
  },
  {
   "cell_type": "markdown",
   "metadata": {},
   "source": [
    "A [Script-Language Container](https://github.com/exasol/script-languages-release) for the Exasol database consists of a Linux container with a complete Linux distribution and all required libraries, such as a script client. The script client is responsible for the communication with the database and for executing the script code."
   ]
  },
  {
   "cell_type": "markdown",
   "metadata": {},
   "source": [
    "## Prerequisites"
   ]
  },
  {
   "cell_type": "markdown",
   "metadata": {},
   "source": [
    "To run this Notebook you need:\n",
    "- Jupyter with Python3.6+ Kernel\n",
    "- Docker 17.05+\n",
    "- Your Notebook user needs permissions to run Docker"
   ]
  },
  {
   "cell_type": "markdown",
   "metadata": {},
   "source": [
    "## Preparing the Notebook"
   ]
  },
  {
   "cell_type": "markdown",
   "metadata": {},
   "source": [
    "First we need to install and import a few Python packages required in the course of this Notebook."
   ]
  },
  {
   "cell_type": "code",
   "execution_count": 1,
   "metadata": {},
   "outputs": [
    {
     "name": "stdout",
     "output_type": "stream",
     "text": [
      "Requirement already satisfied: pexpect==4.8.0 in /opt/conda/lib/python3.7/site-packages (from -r requirements.txt (line 1)) (4.8.0)\n",
      "Requirement already satisfied: requests==2.25.1 in /opt/conda/lib/python3.7/site-packages (from -r requirements.txt (line 3)) (2.25.1)\n",
      "Requirement already satisfied: ptyprocess>=0.5 in /opt/conda/lib/python3.7/site-packages (from pexpect==4.8.0->-r requirements.txt (line 1)) (0.6.0)\n",
      "Collecting pyexasol==0.16.1\n",
      "  Using cached pyexasol-0.16.1-py3-none-any.whl (43 kB)\n",
      "Requirement already satisfied: rsa in /opt/conda/lib/python3.7/site-packages (from pyexasol==0.16.1->-r requirements.txt (line 2)) (4.6)\n",
      "Requirement already satisfied: websocket-client>=0.47.0 in /opt/conda/lib/python3.7/site-packages (from pyexasol==0.16.1->-r requirements.txt (line 2)) (0.57.0)\n",
      "Requirement already satisfied: certifi>=2017.4.17 in /opt/conda/lib/python3.7/site-packages (from requests==2.25.1->-r requirements.txt (line 3)) (2020.12.5)\n",
      "Requirement already satisfied: chardet<5,>=3.0.2 in /opt/conda/lib/python3.7/site-packages (from requests==2.25.1->-r requirements.txt (line 3)) (3.0.4)\n",
      "Requirement already satisfied: urllib3<1.27,>=1.21.1 in /opt/conda/lib/python3.7/site-packages (from requests==2.25.1->-r requirements.txt (line 3)) (1.26.2)\n",
      "Requirement already satisfied: idna<3,>=2.5 in /opt/conda/lib/python3.7/site-packages (from requests==2.25.1->-r requirements.txt (line 3)) (2.10)\n",
      "Requirement already satisfied: six in /opt/conda/lib/python3.7/site-packages (from websocket-client>=0.47.0->pyexasol==0.16.1->-r requirements.txt (line 2)) (1.15.0)\n",
      "Requirement already satisfied: pyasn1>=0.1.3 in /opt/conda/lib/python3.7/site-packages (from rsa->pyexasol==0.16.1->-r requirements.txt (line 2)) (0.4.8)\n",
      "Installing collected packages: pyexasol\n",
      "  Attempting uninstall: pyexasol\n",
      "    Found existing installation: pyexasol 0.17.0\n",
      "    Uninstalling pyexasol-0.17.0:\n",
      "      Successfully uninstalled pyexasol-0.17.0\n",
      "\u001b[31mERROR: pip's dependency resolver does not currently take into account all the packages that are installed. This behaviour is the source of the following dependency conflicts.\n",
      "exasol-data-science-utils-python 0.1.0 requires pyexasol<0.18.0,>=0.17.0, but you have pyexasol 0.16.1 which is incompatible.\u001b[0m\n",
      "Successfully installed pyexasol-0.16.1\n"
     ]
    }
   ],
   "source": [
    "!pip install -r requirements.txt"
   ]
  },
  {
   "cell_type": "code",
   "execution_count": 2,
   "metadata": {},
   "outputs": [],
   "source": [
    "import bash_runner as bash # A helper to run bash with interactive output from python\n",
    "import importlib\n",
    "from pathlib import Path\n",
    "import pyexasol\n",
    "import requests\n",
    "import textwrap"
   ]
  },
  {
   "cell_type": "markdown",
   "metadata": {},
   "source": [
    "## Cloning the Git Repository"
   ]
  },
  {
   "cell_type": "markdown",
   "metadata": {},
   "source": [
    "To use the [Script-Language Container](https://github.com/exasol/script-languages-release) we need to clone the Git Repository with\n",
    "\n",
    "```\n",
    "git clone https://github.com/exasol/script-languages-release --recursive\n",
    "```\n",
    "\n",
    "We need to use `--recursive` to also clone the sub-modules of the repository.\n",
    "\n",
    "**Note:**You can use the following code snippet, that either clones the repository if it isn't already cloned or resets it to the current origin/master branch, such that we have always a defined state for the remaining Notebook."
   ]
  },
  {
   "cell_type": "code",
   "execution_count": 3,
   "metadata": {},
   "outputs": [
    {
     "name": "stdout",
     "output_type": "stream",
     "text": [
      "remote: Enumerating objects: 172, done.\u001b[K\n",
      "remote: Counting objects: 100% (172/172), done.\u001b[K\n",
      "remote: Compressing objects: 100% (62/62), done.\u001b[K\n",
      "remote: Total 305 (delta 129), reused 129 (delta 108), pack-reused 133\u001b[K\n",
      "Receiving objects: 100% (305/305), 47.41 KiB | 15.80 MiB/s, done.\n",
      "Resolving deltas: 100% (151/151), completed with 33 local objects.\n",
      "From https://github.com/exasol/script-languages-release\n",
      "   f9da602..dfd5009  master              -> origin/master\n",
      " * [new branch]      bug/update_packages -> origin/bug/update_packages\n",
      " * [new branch]      feature/test_vagrant_test_env -> origin/feature/test_vagrant_test_env\n",
      " * [new branch]      rebuild/nightly_2021_03_28_01_27_26 -> origin/rebuild/nightly_2021_03_28_01_27_26\n",
      " * [new branch]      rebuild/nightly_2021_03_29_01_28_21 -> origin/rebuild/nightly_2021_03_29_01_28_21\n",
      " * [new branch]      rebuild/nightly_2021_03_30_01_27_05 -> origin/rebuild/nightly_2021_03_30_01_27_05\n",
      " * [new branch]      rebuild/nightly_2021_03_31_01_26_31 -> origin/rebuild/nightly_2021_03_31_01_26_31\n",
      "Fetching submodule script-languages\n",
      "From https://github.com/exasol/script-languages\n",
      " * [new branch]      bug/200_update_packages -> origin/bug/200_update_packages\n",
      " * [new branch]      bug/dependabot/pip/jinja2-2.11.3 -> origin/bug/dependabot/pip/jinja2-2.11.3\n",
      " * [new branch]      feature/207_cloud_sdk_python_packages -> origin/feature/207_cloud_sdk_python_packages\n",
      "   2588f3f..d280b6d  master                  -> origin/master\n",
      " * [new branch]      package_version_diff    -> origin/package_version_diff\n",
      " * [new branch]      refactoring/138_remove_duplicate_line -> origin/refactoring/138_remove_duplicate_line\n",
      " * [new branch]      refactoring/209_rename_python3_ds_flavor -> origin/refactoring/209_rename_python3_ds_flavor\n",
      "HEAD is now at dfd5009 Prepare Release of Version 1.1.0 (#222)\n",
      "Entering 'script-languages'\n",
      "HEAD is now at d280b6d Add selected cloud sdk python packages to standard-EXASOL-7.1.0 flavor (#181)\n"
     ]
    }
   ],
   "source": [
    "slc_path=\"script-languages-release\"\n",
    "if not Path(slc_path).exists():\n",
    "    bash.run(\"\"\"\n",
    "    git clone https://github.com/exasol/script-languages-release --recursive\n",
    "    \"\"\")\n",
    "else:\n",
    "    bash.run(f\"\"\"\n",
    "    cd {slc_path}\n",
    "    git fetch\n",
    "    git reset --hard origin/master \n",
    "    git submodule foreach git reset --hard origin/master \n",
    "    \"\"\")"
   ]
  },
  {
   "cell_type": "markdown",
   "metadata": {},
   "source": [
    "## Buiding and Exporting a Container"
   ]
  },
  {
   "cell_type": "markdown",
   "metadata": {},
   "source": [
    "To build and export the container you can use `exaslct`. It first builds a series of Docker images and then exports the container as a `tar.gz` package. We provide several flavors of containers with different capabilities. You can find out more about the flavors in our [flavor documentation on Github.](https://github.com/exasol/script-languages-release/blob/master/flavors/README.md). Flavors are described by a flavor definition in the directory `flavors/`. Here is an overview of the available flavors:"
   ]
  },
  {
   "cell_type": "code",
   "execution_count": 4,
   "metadata": {},
   "outputs": [
    {
     "name": "stdout",
     "output_type": "stream",
     "text": [
      "script-languages-release/flavors/fancyr-EXASOL-6.1.0\n",
      "script-languages-release/flavors/standard-EXASOL-6.1.0\n",
      "script-languages-release/flavors/python3-ds-EXASOL-6.1.0\n",
      "script-languages-release/flavors/standard-EXASOL-7.0.0\n",
      "script-languages-release/flavors/standard-EXASOL-6.2.0\n",
      "script-languages-release/flavors/python3-ds-cuda-preview-EXASOL-6.1.0\n"
     ]
    }
   ],
   "source": [
    "bash.run(f\"\"\"\n",
    "find {slc_path}/flavors/  -maxdepth 1 -name '*EXASOL*'\n",
    "\"\"\")"
   ]
  },
  {
   "cell_type": "markdown",
   "metadata": {},
   "source": [
    "For this example, we use the `flavors/python3-ds-EXASOL-6.1.0` flavor and export it to the `containers` directory.\n",
    "\n",
    "A container gets built via a series of Docker images, and then it's exported into a `tar` file."
   ]
  },
  {
   "cell_type": "code",
   "execution_count": 5,
   "metadata": {},
   "outputs": [
    {
     "name": "stdout",
     "output_type": "stream",
     "text": [
      "~/data-science-examples/tutorials/script-languages/script-languages-release ~/data-science-examples/tutorials/script-languages\n",
      "INFO: Informed scheduler that task   ExportContainers_106f7bc9e6   has status   PENDING\n",
      "INFO: Informed scheduler that task   ExportFlavorContainer_80efd81c62   has status   PENDING\n",
      "INFO: [pid 11665] Worker Worker(salt=646627775, workers=5, host=test-statsmodels, username=jupyter, pid=11549) running   ExportFlavorContainer_80efd81c62(flavor_path=flavors/python3-ds-EXASOL-6.1.0, release_goals=[\"release\"], export_path=containers, release_name=)\n",
      "INFO: [pid 11665] Worker Worker(salt=646627775, workers=5, host=test-statsmodels, username=jupyter, pid=11549) new requirements      ExportFlavorContainer_80efd81c62(flavor_path=flavors/python3-ds-EXASOL-6.1.0, release_goals=[\"release\"], export_path=containers, release_name=)\n",
      "INFO: Informed scheduler that task   ExportContainerTask_4a949a6869   has status   PENDING\n",
      "INFO: Informed scheduler that task   DockerCreateImageTask_fbae585fd0   has status   PENDING\n",
      "INFO: Informed scheduler that task   CreateExportDirectory_05c5372614   has status   PENDING\n",
      "INFO: Informed scheduler that task   ExportFlavorContainer_80efd81c62   has status   PENDING\n",
      "INFO: [pid 11667] Worker Worker(salt=646627775, workers=5, host=test-statsmodels, username=jupyter, pid=11549) running   DockerCreateImageTask_fbae585fd0(image_name=exasol/script-language-container:python3-ds-EXASOL-6.1.0-release)\n",
      "INFO: [pid 11668] Worker Worker(salt=646627775, workers=5, host=test-statsmodels, username=jupyter, pid=11549) running   CreateExportDirectory_05c5372614()\n",
      "INFO: CreateExportDirectory_05c5372614(): Write complete_target\n",
      "INFO: CreateExportDirectory_05c5372614(): Time since first_run 0.004434 s\n",
      "INFO: CreateExportDirectory_05c5372614(): Time since creation 0.060319 s\n",
      "INFO: CreateExportDirectory_05c5372614(): Total runtime of run method 0.004262 s\n",
      "INFO: [pid 11668] Worker Worker(salt=646627775, workers=5, host=test-statsmodels, username=jupyter, pid=11549) done      CreateExportDirectory_05c5372614()\n",
      "INFO: Informed scheduler that task   CreateExportDirectory_05c5372614   has status   DONE\n",
      "INFO: [pid 11667] Worker Worker(salt=646627775, workers=5, host=test-statsmodels, username=jupyter, pid=11549) new requirements      DockerCreateImageTask_fbae585fd0(image_name=exasol/script-language-container:python3-ds-EXASOL-6.1.0-release)\n",
      "INFO: Informed scheduler that task   DockerCreateImageTask_fbae585fd0   has status   PENDING\n",
      "INFO: [pid 12097] Worker Worker(salt=646627775, workers=5, host=test-statsmodels, username=jupyter, pid=11549) running   DockerCreateImageTask_fbae585fd0(image_name=exasol/script-language-container:python3-ds-EXASOL-6.1.0-release)\n",
      "INFO: DockerCreateImageTask_fbae585fd0(image_name=exasol/script-language-container:python3-ds-EXASOL-6.1.0-release): Write complete_target\n",
      "INFO: DockerCreateImageTask_fbae585fd0(image_name=exasol/script-language-container:python3-ds-EXASOL-6.1.0-release): Time since first_run 79.098575 s\n",
      "INFO: DockerCreateImageTask_fbae585fd0(image_name=exasol/script-language-container:python3-ds-EXASOL-6.1.0-release): Time since creation 79.161841 s\n",
      "INFO: DockerCreateImageTask_fbae585fd0(image_name=exasol/script-language-container:python3-ds-EXASOL-6.1.0-release): Total runtime of run method 0.039126999999999995 s\n",
      "INFO: [pid 12097] Worker Worker(salt=646627775, workers=5, host=test-statsmodels, username=jupyter, pid=11549) done      DockerCreateImageTask_fbae585fd0(image_name=exasol/script-language-container:python3-ds-EXASOL-6.1.0-release)\n",
      "INFO: Informed scheduler that task   DockerCreateImageTask_fbae585fd0   has status   DONE\n",
      "INFO: [pid 12099] Worker Worker(salt=646627775, workers=5, host=test-statsmodels, username=jupyter, pid=11549) running   ExportContainerTask_4a949a6869(flavor_path=flavors/python3-ds-EXASOL-6.1.0, export_path=containers, release_name=, release_goal=release)\n",
      "INFO: ExportContainerTask_4a949a6869(flavor_path=flavors/python3-ds-EXASOL-6.1.0, export_path=containers, release_name=, release_goal=release): Create container file /home/jupyter/data-science-examples/tutorials/script-languages/script-languages-release/.build_output/cache/exports/python3-ds-EXASOL-6.1.0-release-EYFRS54NWXPTDZOBU2ZWGIXIID77PTCFMM2LLHPQNWDGQAQUNIAA.tar.gz\n",
      "INFO: ExportContainerTask_4a949a6869(flavor_path=flavors/python3-ds-EXASOL-6.1.0, export_path=containers, release_name=, release_goal=release): Export container exasol/script-language-container:python3-ds-EXASOL-6.1.0-release_EYFRS54NWXPTDZOBU2ZWGIXIID77PTCFMM2LLHPQNWDGQAQUNIAA\n",
      "INFO: ExportContainerTask_4a949a6869(flavor_path=flavors/python3-ds-EXASOL-6.1.0, export_path=containers, release_name=, release_goal=release): Still running Export image exasol/script-language-container:python3-ds-EXASOL-6.1.0-release_EYFRS54NWXPTDZOBU2ZWGIXIID77PTCFMM2LLHPQNWDGQAQUNIAA.\n",
      "INFO: ExportContainerTask_4a949a6869(flavor_path=flavors/python3-ds-EXASOL-6.1.0, export_path=containers, release_name=, release_goal=release): Extract exported file /tmp/release_archive_zwximpcy/export.tar\n",
      "INFO: ExportContainerTask_4a949a6869(flavor_path=flavors/python3-ds-EXASOL-6.1.0, export_path=containers, release_name=, release_goal=release): Still running extracting exported container /tmp/release_archive_zwximpcy/export.tar.\n",
      "INFO: ExportContainerTask_4a949a6869(flavor_path=flavors/python3-ds-EXASOL-6.1.0, export_path=containers, release_name=, release_goal=release): Pack container file /home/jupyter/data-science-examples/tutorials/script-languages/script-languages-release/.build_output/cache/exports/python3-ds-EXASOL-6.1.0-release-EYFRS54NWXPTDZOBU2ZWGIXIID77PTCFMM2LLHPQNWDGQAQUNIAA.tar.gz\n",
      "INFO: ExportContainerTask_4a949a6869(flavor_path=flavors/python3-ds-EXASOL-6.1.0, export_path=containers, release_name=, release_goal=release): Still running packing container file /home/jupyter/data-science-examples/tutorials/script-languages/script-languages-release/.build_output/cache/exports/python3-ds-EXASOL-6.1.0-release-EYFRS54NWXPTDZOBU2ZWGIXIID77PTCFMM2LLHPQNWDGQAQUNIAA.tar.gz.\n",
      "INFO: ExportContainerTask_4a949a6869(flavor_path=flavors/python3-ds-EXASOL-6.1.0, export_path=containers, release_name=, release_goal=release): Compute checksum for container file /home/jupyter/data-science-examples/tutorials/script-languages/script-languages-release/.build_output/cache/exports/python3-ds-EXASOL-6.1.0-release-EYFRS54NWXPTDZOBU2ZWGIXIID77PTCFMM2LLHPQNWDGQAQUNIAA.tar.gz\n",
      "INFO: ExportContainerTask_4a949a6869(flavor_path=flavors/python3-ds-EXASOL-6.1.0, export_path=containers, release_name=, release_goal=release): Write complete_target\n",
      "INFO: ExportContainerTask_4a949a6869(flavor_path=flavors/python3-ds-EXASOL-6.1.0, export_path=containers, release_name=, release_goal=release): Time since first_run 378.164441 s\n",
      "INFO: ExportContainerTask_4a949a6869(flavor_path=flavors/python3-ds-EXASOL-6.1.0, export_path=containers, release_name=, release_goal=release): Time since creation 457.340194 s\n",
      "INFO: ExportContainerTask_4a949a6869(flavor_path=flavors/python3-ds-EXASOL-6.1.0, export_path=containers, release_name=, release_goal=release): Total runtime of run method 378.15832 s\n",
      "INFO: [pid 12099] Worker Worker(salt=646627775, workers=5, host=test-statsmodels, username=jupyter, pid=11549) done      ExportContainerTask_4a949a6869(flavor_path=flavors/python3-ds-EXASOL-6.1.0, export_path=containers, release_name=, release_goal=release)\n",
      "INFO: Informed scheduler that task   ExportContainerTask_4a949a6869   has status   DONE\n",
      "INFO: [pid 12639] Worker Worker(salt=646627775, workers=5, host=test-statsmodels, username=jupyter, pid=11549) running   ExportFlavorContainer_80efd81c62(flavor_path=flavors/python3-ds-EXASOL-6.1.0, release_goals=[\"release\"], export_path=containers, release_name=)\n",
      "INFO: ExportFlavorContainer_80efd81c62(flavor_path=flavors/python3-ds-EXASOL-6.1.0, release_goals=[\"release\"], export_path=containers, release_name=): Write complete_target\n",
      "INFO: ExportFlavorContainer_80efd81c62(flavor_path=flavors/python3-ds-EXASOL-6.1.0, release_goals=[\"release\"], export_path=containers, release_name=): Time since first_run 457.769381 s\n",
      "INFO: ExportFlavorContainer_80efd81c62(flavor_path=flavors/python3-ds-EXASOL-6.1.0, release_goals=[\"release\"], export_path=containers, release_name=): Time since creation 464.40625 s\n",
      "INFO: ExportFlavorContainer_80efd81c62(flavor_path=flavors/python3-ds-EXASOL-6.1.0, release_goals=[\"release\"], export_path=containers, release_name=): Total runtime of run method 0.316463 s\n",
      "INFO: [pid 12639] Worker Worker(salt=646627775, workers=5, host=test-statsmodels, username=jupyter, pid=11549) done      ExportFlavorContainer_80efd81c62(flavor_path=flavors/python3-ds-EXASOL-6.1.0, release_goals=[\"release\"], export_path=containers, release_name=)\n",
      "INFO: Informed scheduler that task   ExportFlavorContainer_80efd81c62   has status   DONE\n",
      "INFO: [pid 12641] Worker Worker(salt=646627775, workers=5, host=test-statsmodels, username=jupyter, pid=11549) running   ExportContainers_106f7bc9e6(flavor_paths=[\"flavors/python3-ds-EXASOL-6.1.0\"], release_goals=[\"release\"], export_path=containers, release_name=)\n",
      "INFO: ExportContainers_106f7bc9e6(flavor_paths=[\"flavors/python3-ds-EXASOL-6.1.0\"], release_goals=[\"release\"], export_path=containers, release_name=): Write complete_target\n",
      "INFO: ExportContainers_106f7bc9e6(flavor_paths=[\"flavors/python3-ds-EXASOL-6.1.0\"], release_goals=[\"release\"], export_path=containers, release_name=): Time since first_run 0.046891 s\n",
      "INFO: ExportContainers_106f7bc9e6(flavor_paths=[\"flavors/python3-ds-EXASOL-6.1.0\"], release_goals=[\"release\"], export_path=containers, release_name=): Time since creation 464.487714 s\n",
      "INFO: ExportContainers_106f7bc9e6(flavor_paths=[\"flavors/python3-ds-EXASOL-6.1.0\"], release_goals=[\"release\"], export_path=containers, release_name=): Total runtime of run method 0.046653 s\n",
      "INFO: [pid 12641] Worker Worker(salt=646627775, workers=5, host=test-statsmodels, username=jupyter, pid=11549) done      ExportContainers_106f7bc9e6(flavor_paths=[\"flavors/python3-ds-EXASOL-6.1.0\"], release_goals=[\"release\"], export_path=containers, release_name=)\n",
      "INFO: Informed scheduler that task   ExportContainers_106f7bc9e6   has status   DONE\n"
     ]
    }
   ],
   "source": [
    "bash.run(f\"\"\"\n",
    "pushd {slc_path}\n",
    "./exaslct export --flavor-path flavors/python3-ds-EXASOL-6.1.0 --export-path containers 2>&1 | grep -E \"CreateImageTask|Export\"\n",
    "\"\"\")"
   ]
  },
  {
   "cell_type": "markdown",
   "metadata": {},
   "source": [
    "### What to do if something doesn't work?"
   ]
  },
  {
   "cell_type": "markdown",
   "metadata": {},
   "source": [
    "During the build it can happen that external package repositories might not be available or something is wrong on your machine where you run the build. For these cases, `exaslct` stores many logs to identify the problem."
   ]
  },
  {
   "cell_type": "markdown",
   "metadata": {},
   "source": [
    "#### Exaslsct Log"
   ]
  },
  {
   "cell_type": "markdown",
   "metadata": {},
   "source": [
    "The main log for `exaslct` is stored directly in `exaslct.log`. However, it gets overwritten when you start `exaslct` again."
   ]
  },
  {
   "cell_type": "code",
   "execution_count": 6,
   "metadata": {},
   "outputs": [
    {
     "name": "stdout",
     "output_type": "stream",
     "text": [
      "===== Luigi Execution Summary =====\n",
      "\n",
      "The command took 464.790952 s\n",
      "\n",
      "Cached container under /home/jupyter/data-science-examples/tutorials/script-languages/script-languages-release/.build_output/cache/exports/python3-ds-EXASOL-6.1.0-release-EYFRS54NWXPTDZOBU2ZWGIXIID77PTCFMM2LLHPQNWDGQAQUNIAA.tar.gz\n",
      "\n",
      "Copied container to containers/python3-ds-EXASOL-6.1.0_release.tar.gz\n",
      "\n",
      "=================================================\n",
      "\n"
     ]
    }
   ],
   "source": [
    "bash.run(f\"\"\"tail {slc_path}/exaslct.log\"\"\")"
   ]
  },
  {
   "cell_type": "markdown",
   "metadata": {},
   "source": [
    "#### Build Output Directory"
   ]
  },
  {
   "cell_type": "markdown",
   "metadata": {},
   "source": [
    "More detailed information about the build or other operations can be found in the `.build_output/jobs/*/outputs` directory. Here each run of `exaslct` creates its own directory under `.build_output/jobs`. The `outputs` directory stores the outputs and log files (if any) that each executed task of `exaslct` produces. Especially, the Docker tasks such as build, pull and push store the logs returned by the Docker API. This can be helpful for finding problems during the build."
   ]
  },
  {
   "cell_type": "code",
   "execution_count": 7,
   "metadata": {},
   "outputs": [
    {
     "name": "stdout",
     "output_type": "stream",
     "text": [
      "script-languages-release/.build_output/jobs/2021_02_15_12_54_32_ExportContainers/outputs/ExportContainers_106f7bc9e6/ExportFlavorContainer_80efd81c62/DockerCreateImageTask_fbae585fd0/DockerPullImageTask_fbae585fd0/logs/pull_docker_db_image.log\n",
      "script-languages-release/.build_output/jobs/2021_02_15_12_54_32_ExportContainers/outputs/ExportContainers_106f7bc9e6/ExportFlavorContainer_80efd81c62/ExportContainerTask_4a949a6869/logs/extract_release_file.log\n",
      "script-languages-release/.build_output/jobs/2021_02_15_12_54_32_ExportContainers/outputs/ExportContainers_106f7bc9e6/ExportFlavorContainer_80efd81c62/ExportContainerTask_4a949a6869/logs/pack_release_file.log\n"
     ]
    }
   ],
   "source": [
    "bash.run(f\"\"\"\n",
    "find {slc_path}/.build_output/jobs/*/outputs -type f -name '*log' | tail\n",
    "\"\"\")"
   ]
  },
  {
   "cell_type": "markdown",
   "metadata": {},
   "source": [
    "## Customizing Script-Language Containers"
   ]
  },
  {
   "cell_type": "markdown",
   "metadata": {},
   "source": [
    "Sometimes you need very specific dependencies or versions of dependencies in the Exasol UDFs. In such case you can customize a Script-Language Container."
   ]
  },
  {
   "cell_type": "markdown",
   "metadata": {},
   "source": [
    "### Flavor Definition"
   ]
  },
  {
   "cell_type": "markdown",
   "metadata": {},
   "source": [
    "To customize a flavor, you need to change the flavor definition. A flavor consists of several build steps. The [exaslct documentation](https://github.com/exasol/script-languages/blob/2588f3f80eb5646c88ef412bd57ed468145d5fcc/exaslct_src/README.md#build-steps-and-their-dependencies) gives you an idea about how these build steps are connected with each other.\n",
    "\n",
    "The `flavor_customization` build step contains everything you need to add or update dependencies. The remaining build steps should be only changed with care, but sometimes some dependencies are defined in other build steps because the script client depends on them. Here you see the structure of the flavor definition for our example flavor `flavors/python3-ds-EXASOL-6.1.0`."
   ]
  },
  {
   "cell_type": "code",
   "execution_count": 8,
   "metadata": {},
   "outputs": [
    {
     "name": "stdout",
     "output_type": "stream",
     "text": [
      "script-languages-release/flavors/python3-ds-EXASOL-6.1.0\n",
      "script-languages-release/flavors/python3-ds-EXASOL-6.1.0/flavor_customization\n",
      "script-languages-release/flavors/python3-ds-EXASOL-6.1.0/flavor_customization/Dockerfile\n",
      "script-languages-release/flavors/python3-ds-EXASOL-6.1.0/flavor_customization/packages\n",
      "script-languages-release/flavors/python3-ds-EXASOL-6.1.0/flavor_base\n",
      "script-languages-release/flavors/python3-ds-EXASOL-6.1.0/flavor_base/base_test_build_run\n",
      "script-languages-release/flavors/python3-ds-EXASOL-6.1.0/flavor_base/release\n",
      "script-languages-release/flavors/python3-ds-EXASOL-6.1.0/flavor_base/testconfig\n",
      "script-languages-release/flavors/python3-ds-EXASOL-6.1.0/flavor_base/flavor_test_build_run\n",
      "script-languages-release/flavors/python3-ds-EXASOL-6.1.0/flavor_base/base_test_deps\n",
      "script-languages-release/flavors/python3-ds-EXASOL-6.1.0/flavor_base/language_definition\n",
      "script-languages-release/flavors/python3-ds-EXASOL-6.1.0/flavor_base/build_run\n",
      "script-languages-release/flavors/python3-ds-EXASOL-6.1.0/flavor_base/flavor_base_deps\n",
      "script-languages-release/flavors/python3-ds-EXASOL-6.1.0/flavor_base/build_deps\n",
      "script-languages-release/flavors/python3-ds-EXASOL-6.1.0/flavor_base/language_deps\n",
      "script-languages-release/flavors/python3-ds-EXASOL-6.1.0/flavor_base/build_steps.py\n",
      "script-languages-release/flavors/python3-ds-EXASOL-6.1.0/flavor_base/udfclient_deps\n",
      "script-languages-release/flavors/python3-ds-EXASOL-6.1.0/FLAVOR_DESCRIPTION.md\n"
     ]
    }
   ],
   "source": [
    "bash.run(f\"\"\" \n",
    "find -L {slc_path}/flavors/python3-ds-EXASOL-6.1.0 -maxdepth 2\n",
    "\"\"\")"
   ]
  },
  {
   "cell_type": "markdown",
   "metadata": {},
   "source": [
    "### Flavor Customization Build Step"
   ]
  },
  {
   "cell_type": "markdown",
   "metadata": {},
   "source": [
    "The `flavor_customization` build step consists of a Dockerfile and several package lists which can be modified. We recommend to use the package lists to add new packages to the flavor and only modify the Dockerfile if you need very specific changes, like adding additional resources."
   ]
  },
  {
   "cell_type": "code",
   "execution_count": 9,
   "metadata": {},
   "outputs": [
    {
     "name": "stdout",
     "output_type": "stream",
     "text": [
      "script-languages-release/flavors/python3-ds-EXASOL-6.1.0/flavor_customization/Dockerfile\n",
      "script-languages-release/flavors/python3-ds-EXASOL-6.1.0/flavor_customization/packages/python3_pip_packages\n",
      "script-languages-release/flavors/python3-ds-EXASOL-6.1.0/flavor_customization/packages/apt_get_packages\n"
     ]
    }
   ],
   "source": [
    "bash.run(f\"\"\" \n",
    "find -L {slc_path}/flavors/python3-ds-EXASOL-6.1.0/flavor_customization -type f\n",
    "\"\"\")"
   ]
  },
  {
   "cell_type": "markdown",
   "metadata": {},
   "source": [
    "#### Dockerfile"
   ]
  },
  {
   "cell_type": "markdown",
   "metadata": {},
   "source": [
    "The Dockerfile consists of two parts. The first part installs the packages from the package list and should only be change with care. The second part is free for your changes. Read the description in the Dockerfile carefully to find out what you can and shouldn't do."
   ]
  },
  {
   "cell_type": "code",
   "execution_count": 10,
   "metadata": {},
   "outputs": [
    {
     "name": "stdout",
     "output_type": "stream",
     "text": [
      "############################################################################################\n",
      "############################################################################################\n",
      "# This Dockerfile allows you to extend this flavor by installing packages or adding files. \n",
      "# IF you didn't change the lines below, you can add packages and their version to the  \n",
      "# files in ./packages and they get automatically installed.                                \n",
      "############################################################################################\n",
      "############################################################################################\n",
      "\n",
      "#######################################################################\n",
      "#######################################################################\n",
      "# Do not change the following lines unless you know what you are doing \n",
      "#######################################################################\n",
      "#######################################################################\n",
      "\n",
      "FROM {{flavor_base_deps}}\n",
      "\n",
      "RUN mkdir -p /build_info/packages/flavor_customization\n",
      "\n",
      "COPY flavor_customization/packages/apt_get_packages /build_info/packages/flavor_customization\n",
      "RUN /scripts/install_scripts/install_via_apt.pl --file /build_info/packages/flavor_customization/apt_get_packages --with-versions --allow-no-version\n",
      "\n",
      "COPY flavor_customization/packages/python3_pip_packages /build_info/packages/flavor_customization\n",
      "RUN /scripts/install_scripts/install_via_pip.pl --file /build_info/packages/flavor_customization/python3_pip_packages --python-binary python3 --with-versions --allow-no-version\n",
      "\n",
      "\n",
      "##########################################################################\n",
      "##########################################################################\n",
      "# Below this text you can add any Dockerfile commands except of FROM.            \n",
      "# However only commands which change the filesystem will be              \n",
      "# reflected to the final script-language container.                      \n",
      "# We recommend to use only RUN, COPY and ADD. For example, WORKDIR, USER \n",
      "# and ENV will be not carried over into the final container. For more \n",
      "# information about Dockerfile commands, please check the reference \n",
      "# https://docs.docker.com/engine/reference/builder/#dockerfile-reference \n",
      "##########################################################################\n",
      "##########################################################################\n",
      "\n",
      "\n",
      "###########\n",
      "###########\n",
      "# Examples:\n",
      "###########\n",
      "###########\n",
      "\n",
      "#################################################\n",
      "# Execute a command during the build of the image\n",
      "#################################################\n",
      "\n",
      "# With RUN you can excute any command you usally would run in a bash shell.\n",
      "# It usually is a good idea to cleanup downloaded files or packages \n",
      "# caches in the same in the same RUN statement to keep the image size\n",
      "# small. You can execute multiple shell commands in one RUN statement\n",
      "# by combine them with \n",
      "# - `&&` (only execute if the previous command was successfull), \n",
      "# - `||` (only execute if the previous command was unsuccesfull)\n",
      "# - `;` (execute regardless of the success of the previous command)\n",
      "# To format multiple command per RUN statement you can add a line break with `\\`.\n",
      "# If you need to execute complex sequences of commands you should execute\n",
      "# scripts which you can copy into the image.\n",
      "# -------------------------------------------------------------------------------\n",
      "\n",
      "# RUN git clone https://github.com/exasol/data-science-examples\n",
      "# RUN curl -o data-science-examples.zip https://codeload.github.com/exasol/data-science-examples/zip/master && \\\n",
      "#     unzip data-science-examples.zip && \\\n",
      "#     rm data-science-examples.zip\n",
      "\n",
      "#####################################\n",
      "# Copy a file from ./ into the image. \n",
      "#####################################\n",
      "\n",
      "# In case of exaslct it is important to prefix source files or directories with `flavor_customization`\n",
      "# if you want to copy files or directories located in the same directory as this Dockerfile\n",
      "# -----------------------------------------------------------------------------------------------------\n",
      "\n",
      "# COPY flavor_customization/packages/pip3_packages /build_info/packages/flavor_base_deps\n",
      "# ADD flavor_customization/code.tar.gz /code\n",
      "\n"
     ]
    }
   ],
   "source": [
    "bash.run(f\"\"\" \n",
    "cat {slc_path}/flavors/python3-ds-EXASOL-6.1.0/flavor_customization/Dockerfile\n",
    "\"\"\")"
   ]
  },
  {
   "cell_type": "markdown",
   "metadata": {},
   "source": [
    "#### Package Lists"
   ]
  },
  {
   "cell_type": "markdown",
   "metadata": {},
   "source": [
    "The package lists have a unified format. Each line consists of the package name and the package version separated by \"|\", e.g `xgboost|1.3.3`. You can comment out a whole line by adding\"#\" at the beginning. You can also add a trailing comment to a package definition by adding a \"#\" after the package definition. We usually recommend to pin the version, such that there are no surprises for which version gets installed."
   ]
  },
  {
   "cell_type": "code",
   "execution_count": 11,
   "metadata": {},
   "outputs": [
    {
     "name": "stdout",
     "output_type": "stream",
     "text": [
      "# This file specifies the package list which gets installed via pip for python3.\n",
      "# You must specify the the package and its version separated by a |.\n",
      "# We recommend here the usage of package versions, to ensure that the container \n",
      "# builds are reproducible. However, we allow also packages without version.\n",
      "# As you can see, this file can contain comments which start with #.\n",
      "# If a line starts with # the whole line is a comment, however you can\n",
      "# also start a comment after the package definition.\n",
      "\n",
      "#tensorflow-probability|0.9.0\n"
     ]
    }
   ],
   "source": [
    "bash.run(f\"\"\" \n",
    "cat {slc_path}/flavors/python3-ds-EXASOL-6.1.0/flavor_customization/packages/python3_pip_packages\n",
    "\"\"\")"
   ]
  },
  {
   "cell_type": "markdown",
   "metadata": {},
   "source": [
    "We are now going to append the new \"xgboost\" Python package to one of the package lists by adding `\"xgboost|1.3.3\"` to the `flavor_customization/packages/python3_pip_packages` file."
   ]
  },
  {
   "cell_type": "code",
   "execution_count": 7,
   "metadata": {},
   "outputs": [],
   "source": [
    "bash.run(f\"\"\" \n",
    "echo \"git+https://github.com/exasol/data-science-utils-python.git@model_utils|\" > {slc_path}/flavors/python-3.6-data-science-EXASOL-6.2.0/flavor_customization/packages/python3_pip_packages\n",
    "\"\"\")"
   ]
  },
  {
   "cell_type": "markdown",
   "metadata": {},
   "source": [
    "As you can see below, we now added a new line to our package list."
   ]
  },
  {
   "cell_type": "code",
   "execution_count": 8,
   "metadata": {},
   "outputs": [
    {
     "name": "stdout",
     "output_type": "stream",
     "text": [
      "git+https://github.com/exasol/data-science-utils-python.git@model_utils|\n"
     ]
    }
   ],
   "source": [
    "bash.run(f\"\"\" \n",
    "cat {slc_path}/flavors/python-3.6-data-science-EXASOL-6.2.0/flavor_customization/packages/python3_pip_packages\n",
    "\"\"\")"
   ]
  },
  {
   "cell_type": "markdown",
   "metadata": {},
   "source": [
    "#### Rebuilding the customized Flavor"
   ]
  },
  {
   "cell_type": "markdown",
   "metadata": {},
   "source": [
    "After changing the flavor you need to rebuild it. You can do it by running `./exaslsct export --flavor-path <flavor-path>` again. Exaslct automatically recognizes that the flavor has changed and builds a new version of the container."
   ]
  },
  {
   "cell_type": "code",
   "execution_count": 9,
   "metadata": {},
   "outputs": [
    {
     "name": "stdout",
     "output_type": "stream",
     "text": [
      "~/data-science-examples_slc/tutorials/script-languages/script-languages-release ~/data-science-examples_slc/tutorials/script-languages\n",
      "Using following pipenv executable: /opt/conda/bin/pipenv\n",
      "Using existing virtual environment\n",
      "Installing dependencies\n",
      "\u001b[31m\u001b[22mVirtualenv already exists!\u001b[39m\u001b[22m\n",
      "\u001b[39m\u001b[1mRemoving existing virtualenv...\u001b[39m\u001b[22m\n",
      "\u001b[39m\u001b[1mCreating a virtualenv for this project...\u001b[39m\u001b[22m\n",
      "Pipfile: \u001b[33m\u001b[1m/home/jupyter/data-science-examples_slc/tutorials/script-languages/script-languages-release/script-languages/Pipfile\u001b[39m\u001b[22m\n",
      "\u001b[39m\u001b[1mUsing\u001b[39m\u001b[22m \u001b[33m\u001b[1m/opt/conda/bin/python3.7m\u001b[39m\u001b[22m \u001b[32m\u001b[22m(3.7.9)\u001b[39m\u001b[22m \u001b[39m\u001b[1mto create virtualenv...\u001b[39m\u001b[22m\n",
      "⠹\u001b[0m Creating virtual environment...\u001b[K\u001b[36m\u001b[22mcreated virtual environment CPython3.7.9.final.0-64 in 684ms\n",
      "  creator CPython3Posix(dest=/home/jupyter/.local/share/virtualenvs/script-languages-3qhPNKNr, clear=False, no_vcs_ignore=False, global=False)\n",
      "  seeder FromAppData(download=False, pip=bundle, setuptools=bundle, wheel=bundle, via=copy, app_data_dir=/home/jupyter/.local/share/virtualenv)\n",
      "    added seed packages: pip==21.0.1, setuptools==53.0.0, wheel==0.36.2\n",
      "  activators BashActivator,CShellActivator,FishActivator,PowerShellActivator,PythonActivator,XonshActivator\n",
      "\u001b[39m\u001b[22m\n",
      "\u001b[K\u001b[?25h\u001b[32m\u001b[22m✔ Successfully created virtual environment!\u001b[39m\u001b[22m\u001b[0m \n",
      "Virtualenv location: \u001b[32m\u001b[22m/home/jupyter/.local/share/virtualenvs/script-languages-3qhPNKNr\u001b[39m\u001b[22m\n",
      "\u001b[33m\u001b[1mPipfile.lock (cde3dd) out of date, updating to (65fd89)...\u001b[39m\u001b[22m\n",
      "\u001b[39m\u001b[22mLocking\u001b[39m\u001b[22m \u001b[33m\u001b[22m[dev-packages]\u001b[39m\u001b[22m \u001b[39m\u001b[22mdependencies...\u001b[39m\u001b[22m\n",
      "\u001b[39m\u001b[22mLocking\u001b[39m\u001b[22m \u001b[33m\u001b[22m[packages]\u001b[39m\u001b[22m \u001b[39m\u001b[22mdependencies...\u001b[39m\u001b[22m\n",
      "\u001b[KBuilding requirements...\n",
      "\u001b[KResolving dependencies...\n",
      "\u001b[K\u001b[?25h\u001b[32m\u001b[22m✔ Success!\u001b[39m\u001b[22m\u001b[0m \n",
      "\u001b[39m\u001b[1mUpdated Pipfile.lock (65fd89)!\u001b[39m\u001b[22m\n",
      "\u001b[39m\u001b[1mInstalling dependencies from Pipfile.lock (65fd89)...\u001b[39m\u001b[22m\n",
      "  🐍   \u001b[32m\u001b[1m▉\u001b[39m\u001b[22m\u001b[32m\u001b[1m▉\u001b[39m\u001b[22m\u001b[32m\u001b[1m▉\u001b[39m\u001b[22m\u001b[32m\u001b[1m▉\u001b[39m\u001b[22m\u001b[32m\u001b[1m▉\u001b[39m\u001b[22m\u001b[32m\u001b[1m▉\u001b[39m\u001b[22m\u001b[32m\u001b[1m▉\u001b[39m\u001b[22m\u001b[32m\u001b[1m▉\u001b[39m\u001b[22m\u001b[32m\u001b[1m▉\u001b[39m\u001b[22m\u001b[32m\u001b[1m▉\u001b[39m\u001b[22m\u001b[32m\u001b[1m▉\u001b[39m\u001b[22m\u001b[32m\u001b[1m▉\u001b[39m\u001b[22m\u001b[32m\u001b[1m▉\u001b[39m\u001b[22m\u001b[32m\u001b[1m▉\u001b[39m\u001b[22m\u001b[32m\u001b[1m▉\u001b[39m\u001b[22m\u001b[32m\u001b[1m▉\u001b[39m\u001b[22m\u001b[32m\u001b[1m▉\u001b[39m\u001b[22m\u001b[32m\u001b[1m▉\u001b[39m\u001b[22m\u001b[32m\u001b[1m▉\u001b[39m\u001b[22m\u001b[32m\u001b[1m▉\u001b[39m\u001b[22m\u001b[32m\u001b[1m▉\u001b[39m\u001b[22m\u001b[32m\u001b[1m▉\u001b[39m\u001b[22m\u001b[32m\u001b[1m▉\u001b[39m\u001b[22m\u001b[32m\u001b[1m▉\u001b[39m\u001b[22m\u001b[32m\u001b[1m▉\u001b[39m\u001b[22m\u001b[32m\u001b[1m▉\u001b[39m\u001b[22m\u001b[32m\u001b[1m▉\u001b[39m\u001b[22m\u001b[32m\u001b[1m▉\u001b[39m\u001b[22m\u001b[32m\u001b[1m▉\u001b[39m\u001b[22m\u001b[32m\u001b[1m▉\u001b[39m\u001b[22m\u001b[32m\u001b[1m▉\u001b[39m\u001b[22m\u001b[32m\u001b[1m▉\u001b[39m\u001b[22m 30/30 — \u001b[30m\u001b[22m00:00:16\u001b[39m\u001b[22m2mmmmmmmmmmmmmmm2mmmmmmmmmmmmmm\n",
      "To activate this project's virtualenv, run \u001b[33m\u001b[22mpipenv shell\u001b[39m\u001b[22m.\n",
      "Alternatively, run a command inside the virtualenv with \u001b[33m\u001b[22mpipenv run\u001b[39m\u001b[22m.\n",
      "\u001b[0mINFO: Informed scheduler that task   ExportContainers_07dfbf8323   has status   PENDING\n",
      "INFO: Informed scheduler that task   ExportFlavorContainer_b371239e2e   has status   PENDING\n",
      "INFO: Informed scheduler that task   AnalyzeRelease_e418fb2b1f   has status   PENDING\n",
      "INFO: Informed scheduler that task   AnalyzeLanguageDeps_e418fb2b1f   has status   PENDING\n",
      "INFO: Informed scheduler that task   AnalyzeUDFClientDeps_e418fb2b1f   has status   PENDING\n",
      "INFO: Informed scheduler that task   AnalyzeBuildRun_e418fb2b1f   has status   PENDING\n",
      "INFO: Informed scheduler that task   AnalyzeBuildDeps_e418fb2b1f   has status   PENDING\n",
      "INFO: Informed scheduler that task   AnalyzeFlavorCustomization_e418fb2b1f   has status   PENDING\n",
      "INFO: Informed scheduler that task   AnalyzeFlavorBaseDeps_e418fb2b1f   has status   PENDING\n",
      "INFO: Done scheduling tasks\n",
      "INFO: Running Worker with 5 processes\n",
      "INFO: [pid 3500] Worker Worker(salt=427909220, workers=5, host=test-statsmodels, username=jupyter, pid=3491) running   AnalyzeUDFClientDeps_e418fb2b1f(flavor_path=flavors/python-3.6-data-science-EXASOL-6.2.0)\n",
      "INFO: [pid 3501] Worker Worker(salt=427909220, workers=5, host=test-statsmodels, username=jupyter, pid=3491) running   AnalyzeBuildDeps_e418fb2b1f(flavor_path=flavors/python-3.6-data-science-EXASOL-6.2.0)\n",
      "INFO: AnalyzeUDFClientDeps_e418fb2b1f(flavor_path=flavors/python-3.6-data-science-EXASOL-6.2.0): Checking if image exasol/script-language-container:python-3.6-data-science-EXASOL-6.2.0-udfclient_deps_DZJHR4RJJ4JGSORITJTVZAA2KUNVEWVLKVAOK55BFP5CQBJMR4IQ is locally available, result False\n",
      "INFO: AnalyzeBuildDeps_e418fb2b1f(flavor_path=flavors/python-3.6-data-science-EXASOL-6.2.0): Checking if image exasol/script-language-container:python-3.6-data-science-EXASOL-6.2.0-build_deps_RZDLKULZIZWHB3IC5GQT7D237E6NVGWSTEYIC5HL6CNVET5SNZOA is locally available, result False\n",
      "INFO: AnalyzeUDFClientDeps_e418fb2b1f(flavor_path=flavors/python-3.6-data-science-EXASOL-6.2.0): Checking if image exasol/script-language-container:python-3.6-data-science-EXASOL-6.2.0-udfclient_deps_DZJHR4RJJ4JGSORITJTVZAA2KUNVEWVLKVAOK55BFP5CQBJMR4IQ is locally available, result False\n",
      "INFO: AnalyzeBuildDeps_e418fb2b1f(flavor_path=flavors/python-3.6-data-science-EXASOL-6.2.0): Checking if image exasol/script-language-container:python-3.6-data-science-EXASOL-6.2.0-build_deps_RZDLKULZIZWHB3IC5GQT7D237E6NVGWSTEYIC5HL6CNVET5SNZOA is locally available, result False\n",
      "INFO: AnalyzeBuildDeps_e418fb2b1f(flavor_path=flavors/python-3.6-data-science-EXASOL-6.2.0): Checking if image archive exasol/script-language-container:python-3.6-data-science-EXASOL-6.2.0-build_deps_RZDLKULZIZWHB3IC5GQT7D237E6NVGWSTEYIC5HL6CNVET5SNZOA.tar is available in cache directory, result False\n",
      "INFO: AnalyzeUDFClientDeps_e418fb2b1f(flavor_path=flavors/python-3.6-data-science-EXASOL-6.2.0): Checking if image archive exasol/script-language-container:python-3.6-data-science-EXASOL-6.2.0-udfclient_deps_DZJHR4RJJ4JGSORITJTVZAA2KUNVEWVLKVAOK55BFP5CQBJMR4IQ.tar is available in cache directory, result False\n",
      "INFO: AnalyzeBuildDeps_e418fb2b1f(flavor_path=flavors/python-3.6-data-science-EXASOL-6.2.0): Try to find image exasol/script-language-container:python-3.6-data-science-EXASOL-6.2.0-build_deps_RZDLKULZIZWHB3IC5GQT7D237E6NVGWSTEYIC5HL6CNVET5SNZOA in registry\n",
      "INFO: AnalyzeUDFClientDeps_e418fb2b1f(flavor_path=flavors/python-3.6-data-science-EXASOL-6.2.0): Try to find image exasol/script-language-container:python-3.6-data-science-EXASOL-6.2.0-udfclient_deps_DZJHR4RJJ4JGSORITJTVZAA2KUNVEWVLKVAOK55BFP5CQBJMR4IQ in registry\n",
      "INFO: AnalyzeBuildDeps_e418fb2b1f(flavor_path=flavors/python-3.6-data-science-EXASOL-6.2.0): Found image exasol/script-language-container:python-3.6-data-science-EXASOL-6.2.0-build_deps_RZDLKULZIZWHB3IC5GQT7D237E6NVGWSTEYIC5HL6CNVET5SNZOA in registry\n",
      "INFO: AnalyzeBuildDeps_e418fb2b1f(flavor_path=flavors/python-3.6-data-science-EXASOL-6.2.0): Write complete_target\n",
      "INFO: AnalyzeBuildDeps_e418fb2b1f(flavor_path=flavors/python-3.6-data-science-EXASOL-6.2.0): Time since first_run 1.226202 s\n",
      "INFO: AnalyzeBuildDeps_e418fb2b1f(flavor_path=flavors/python-3.6-data-science-EXASOL-6.2.0): Time since creation 1.53025 s\n",
      "INFO: AnalyzeBuildDeps_e418fb2b1f(flavor_path=flavors/python-3.6-data-science-EXASOL-6.2.0): Total runtime of run method 1.225858 s\n",
      "INFO: [pid 3501] Worker Worker(salt=427909220, workers=5, host=test-statsmodels, username=jupyter, pid=3491) done      AnalyzeBuildDeps_e418fb2b1f(flavor_path=flavors/python-3.6-data-science-EXASOL-6.2.0)\n",
      "INFO: Informed scheduler that task   AnalyzeBuildDeps_e418fb2b1f   has status   DONE\n",
      "INFO: AnalyzeUDFClientDeps_e418fb2b1f(flavor_path=flavors/python-3.6-data-science-EXASOL-6.2.0): Found image exasol/script-language-container:python-3.6-data-science-EXASOL-6.2.0-udfclient_deps_DZJHR4RJJ4JGSORITJTVZAA2KUNVEWVLKVAOK55BFP5CQBJMR4IQ in registry\n",
      "INFO: AnalyzeUDFClientDeps_e418fb2b1f(flavor_path=flavors/python-3.6-data-science-EXASOL-6.2.0): Write complete_target\n",
      "INFO: AnalyzeUDFClientDeps_e418fb2b1f(flavor_path=flavors/python-3.6-data-science-EXASOL-6.2.0): Time since first_run 1.256556 s\n",
      "INFO: AnalyzeUDFClientDeps_e418fb2b1f(flavor_path=flavors/python-3.6-data-science-EXASOL-6.2.0): Time since creation 1.579588 s\n",
      "INFO: AnalyzeUDFClientDeps_e418fb2b1f(flavor_path=flavors/python-3.6-data-science-EXASOL-6.2.0): Total runtime of run method 1.256194 s\n",
      "INFO: [pid 3500] Worker Worker(salt=427909220, workers=5, host=test-statsmodels, username=jupyter, pid=3491) done      AnalyzeUDFClientDeps_e418fb2b1f(flavor_path=flavors/python-3.6-data-science-EXASOL-6.2.0)\n",
      "INFO: Informed scheduler that task   AnalyzeUDFClientDeps_e418fb2b1f   has status   DONE\n",
      "INFO: [pid 3526] Worker Worker(salt=427909220, workers=5, host=test-statsmodels, username=jupyter, pid=3491) running   AnalyzeLanguageDeps_e418fb2b1f(flavor_path=flavors/python-3.6-data-science-EXASOL-6.2.0)\n",
      "INFO: AnalyzeLanguageDeps_e418fb2b1f(flavor_path=flavors/python-3.6-data-science-EXASOL-6.2.0): Checking if image exasol/script-language-container:python-3.6-data-science-EXASOL-6.2.0-language_deps_TSWZTTPAP4CNHKC6JSOMIZHMFKELDM4U6FVMLCJTJNYUXXWLDHBQ is locally available, result False\n",
      "INFO: AnalyzeLanguageDeps_e418fb2b1f(flavor_path=flavors/python-3.6-data-science-EXASOL-6.2.0): Checking if image exasol/script-language-container:python-3.6-data-science-EXASOL-6.2.0-language_deps_TSWZTTPAP4CNHKC6JSOMIZHMFKELDM4U6FVMLCJTJNYUXXWLDHBQ is locally available, result False\n",
      "INFO: AnalyzeLanguageDeps_e418fb2b1f(flavor_path=flavors/python-3.6-data-science-EXASOL-6.2.0): Checking if image archive exasol/script-language-container:python-3.6-data-science-EXASOL-6.2.0-language_deps_TSWZTTPAP4CNHKC6JSOMIZHMFKELDM4U6FVMLCJTJNYUXXWLDHBQ.tar is available in cache directory, result False\n",
      "INFO: AnalyzeLanguageDeps_e418fb2b1f(flavor_path=flavors/python-3.6-data-science-EXASOL-6.2.0): Try to find image exasol/script-language-container:python-3.6-data-science-EXASOL-6.2.0-language_deps_TSWZTTPAP4CNHKC6JSOMIZHMFKELDM4U6FVMLCJTJNYUXXWLDHBQ in registry\n",
      "INFO: AnalyzeLanguageDeps_e418fb2b1f(flavor_path=flavors/python-3.6-data-science-EXASOL-6.2.0): Found image exasol/script-language-container:python-3.6-data-science-EXASOL-6.2.0-language_deps_TSWZTTPAP4CNHKC6JSOMIZHMFKELDM4U6FVMLCJTJNYUXXWLDHBQ in registry\n",
      "INFO: AnalyzeLanguageDeps_e418fb2b1f(flavor_path=flavors/python-3.6-data-science-EXASOL-6.2.0): Write complete_target\n",
      "INFO: AnalyzeLanguageDeps_e418fb2b1f(flavor_path=flavors/python-3.6-data-science-EXASOL-6.2.0): Time since first_run 1.248423 s\n",
      "INFO: AnalyzeLanguageDeps_e418fb2b1f(flavor_path=flavors/python-3.6-data-science-EXASOL-6.2.0): Time since creation 2.832753 s\n",
      "INFO: AnalyzeLanguageDeps_e418fb2b1f(flavor_path=flavors/python-3.6-data-science-EXASOL-6.2.0): Total runtime of run method 1.248071 s\n",
      "INFO: [pid 3526] Worker Worker(salt=427909220, workers=5, host=test-statsmodels, username=jupyter, pid=3491) done      AnalyzeLanguageDeps_e418fb2b1f(flavor_path=flavors/python-3.6-data-science-EXASOL-6.2.0)\n",
      "INFO: Informed scheduler that task   AnalyzeLanguageDeps_e418fb2b1f   has status   DONE\n",
      "INFO: [pid 3546] Worker Worker(salt=427909220, workers=5, host=test-statsmodels, username=jupyter, pid=3491) running   AnalyzeBuildRun_e418fb2b1f(flavor_path=flavors/python-3.6-data-science-EXASOL-6.2.0)\n",
      "INFO: [pid 3547] Worker Worker(salt=427909220, workers=5, host=test-statsmodels, username=jupyter, pid=3491) running   AnalyzeFlavorBaseDeps_e418fb2b1f(flavor_path=flavors/python-3.6-data-science-EXASOL-6.2.0)\n",
      "INFO: AnalyzeFlavorBaseDeps_e418fb2b1f(flavor_path=flavors/python-3.6-data-science-EXASOL-6.2.0): Checking if image exasol/script-language-container:python-3.6-data-science-EXASOL-6.2.0-flavor_base_deps_X4X7DYMUBW5WVE7V7N6A3NJZZUWYDIYZBBS5T5GOWTBR7O6G5ULA is locally available, result False\n",
      "INFO: AnalyzeFlavorBaseDeps_e418fb2b1f(flavor_path=flavors/python-3.6-data-science-EXASOL-6.2.0): Checking if image exasol/script-language-container:python-3.6-data-science-EXASOL-6.2.0-flavor_base_deps_X4X7DYMUBW5WVE7V7N6A3NJZZUWYDIYZBBS5T5GOWTBR7O6G5ULA is locally available, result False\n",
      "INFO: AnalyzeFlavorBaseDeps_e418fb2b1f(flavor_path=flavors/python-3.6-data-science-EXASOL-6.2.0): Checking if image archive exasol/script-language-container:python-3.6-data-science-EXASOL-6.2.0-flavor_base_deps_X4X7DYMUBW5WVE7V7N6A3NJZZUWYDIYZBBS5T5GOWTBR7O6G5ULA.tar is available in cache directory, result False\n",
      "INFO: AnalyzeFlavorBaseDeps_e418fb2b1f(flavor_path=flavors/python-3.6-data-science-EXASOL-6.2.0): Try to find image exasol/script-language-container:python-3.6-data-science-EXASOL-6.2.0-flavor_base_deps_X4X7DYMUBW5WVE7V7N6A3NJZZUWYDIYZBBS5T5GOWTBR7O6G5ULA in registry\n",
      "INFO: AnalyzeBuildRun_e418fb2b1f(flavor_path=flavors/python-3.6-data-science-EXASOL-6.2.0): Checking if image exasol/script-language-container:python-3.6-data-science-EXASOL-6.2.0-build_run_KTM77FS5AIUKR7FCMQBT7ROQ2RKSPUF66R46SUSJXCP67VKOHQJQ is locally available, result False\n",
      "INFO: AnalyzeBuildRun_e418fb2b1f(flavor_path=flavors/python-3.6-data-science-EXASOL-6.2.0): Checking if image exasol/script-language-container:python-3.6-data-science-EXASOL-6.2.0-build_run_KTM77FS5AIUKR7FCMQBT7ROQ2RKSPUF66R46SUSJXCP67VKOHQJQ is locally available, result False\n",
      "INFO: AnalyzeBuildRun_e418fb2b1f(flavor_path=flavors/python-3.6-data-science-EXASOL-6.2.0): Checking if image archive exasol/script-language-container:python-3.6-data-science-EXASOL-6.2.0-build_run_KTM77FS5AIUKR7FCMQBT7ROQ2RKSPUF66R46SUSJXCP67VKOHQJQ.tar is available in cache directory, result False\n",
      "INFO: AnalyzeBuildRun_e418fb2b1f(flavor_path=flavors/python-3.6-data-science-EXASOL-6.2.0): Try to find image exasol/script-language-container:python-3.6-data-science-EXASOL-6.2.0-build_run_KTM77FS5AIUKR7FCMQBT7ROQ2RKSPUF66R46SUSJXCP67VKOHQJQ in registry\n",
      "INFO: AnalyzeFlavorBaseDeps_e418fb2b1f(flavor_path=flavors/python-3.6-data-science-EXASOL-6.2.0): Found image exasol/script-language-container:python-3.6-data-science-EXASOL-6.2.0-flavor_base_deps_X4X7DYMUBW5WVE7V7N6A3NJZZUWYDIYZBBS5T5GOWTBR7O6G5ULA in registry\n",
      "INFO: AnalyzeFlavorBaseDeps_e418fb2b1f(flavor_path=flavors/python-3.6-data-science-EXASOL-6.2.0): Write complete_target\n",
      "INFO: AnalyzeFlavorBaseDeps_e418fb2b1f(flavor_path=flavors/python-3.6-data-science-EXASOL-6.2.0): Time since first_run 1.297213 s\n",
      "INFO: AnalyzeFlavorBaseDeps_e418fb2b1f(flavor_path=flavors/python-3.6-data-science-EXASOL-6.2.0): Time since creation 4.050961 s\n",
      "INFO: AnalyzeFlavorBaseDeps_e418fb2b1f(flavor_path=flavors/python-3.6-data-science-EXASOL-6.2.0): Total runtime of run method 1.296875 s\n",
      "INFO: [pid 3547] Worker Worker(salt=427909220, workers=5, host=test-statsmodels, username=jupyter, pid=3491) done      AnalyzeFlavorBaseDeps_e418fb2b1f(flavor_path=flavors/python-3.6-data-science-EXASOL-6.2.0)\n",
      "INFO: Informed scheduler that task   AnalyzeFlavorBaseDeps_e418fb2b1f   has status   DONE\n",
      "INFO: [pid 3568] Worker Worker(salt=427909220, workers=5, host=test-statsmodels, username=jupyter, pid=3491) running   AnalyzeFlavorCustomization_e418fb2b1f(flavor_path=flavors/python-3.6-data-science-EXASOL-6.2.0)\n",
      "INFO: AnalyzeFlavorCustomization_e418fb2b1f(flavor_path=flavors/python-3.6-data-science-EXASOL-6.2.0): Write complete_target\n",
      "INFO: AnalyzeFlavorCustomization_e418fb2b1f(flavor_path=flavors/python-3.6-data-science-EXASOL-6.2.0): Time since first_run 0.027455 s\n",
      "INFO: AnalyzeFlavorCustomization_e418fb2b1f(flavor_path=flavors/python-3.6-data-science-EXASOL-6.2.0): Time since creation 4.069328 s\n",
      "INFO: AnalyzeFlavorCustomization_e418fb2b1f(flavor_path=flavors/python-3.6-data-science-EXASOL-6.2.0): Total runtime of run method 0.027073 s\n",
      "INFO: [pid 3568] Worker Worker(salt=427909220, workers=5, host=test-statsmodels, username=jupyter, pid=3491) done      AnalyzeFlavorCustomization_e418fb2b1f(flavor_path=flavors/python-3.6-data-science-EXASOL-6.2.0)\n",
      "INFO: Informed scheduler that task   AnalyzeFlavorCustomization_e418fb2b1f   has status   DONE\n",
      "INFO: AnalyzeBuildRun_e418fb2b1f(flavor_path=flavors/python-3.6-data-science-EXASOL-6.2.0): Found image exasol/script-language-container:python-3.6-data-science-EXASOL-6.2.0-build_run_KTM77FS5AIUKR7FCMQBT7ROQ2RKSPUF66R46SUSJXCP67VKOHQJQ in registry\n",
      "INFO: AnalyzeBuildRun_e418fb2b1f(flavor_path=flavors/python-3.6-data-science-EXASOL-6.2.0): Write complete_target\n",
      "INFO: AnalyzeBuildRun_e418fb2b1f(flavor_path=flavors/python-3.6-data-science-EXASOL-6.2.0): Time since first_run 1.398555 s\n",
      "INFO: AnalyzeBuildRun_e418fb2b1f(flavor_path=flavors/python-3.6-data-science-EXASOL-6.2.0): Time since creation 4.215603 s\n",
      "INFO: AnalyzeBuildRun_e418fb2b1f(flavor_path=flavors/python-3.6-data-science-EXASOL-6.2.0): Total runtime of run method 1.398213 s\n",
      "INFO: [pid 3546] Worker Worker(salt=427909220, workers=5, host=test-statsmodels, username=jupyter, pid=3491) done      AnalyzeBuildRun_e418fb2b1f(flavor_path=flavors/python-3.6-data-science-EXASOL-6.2.0)\n",
      "INFO: Informed scheduler that task   AnalyzeBuildRun_e418fb2b1f   has status   DONE\n",
      "INFO: [pid 3580] Worker Worker(salt=427909220, workers=5, host=test-statsmodels, username=jupyter, pid=3491) running   AnalyzeRelease_e418fb2b1f(flavor_path=flavors/python-3.6-data-science-EXASOL-6.2.0)\n",
      "INFO: AnalyzeRelease_e418fb2b1f(flavor_path=flavors/python-3.6-data-science-EXASOL-6.2.0): Checking if image exasol/script-language-container:python-3.6-data-science-EXASOL-6.2.0-release_JFWKRAIGPBEQQLCP6Z5YDXK4J4NUNMNQZEDDRUAQOH6SR7IRK6DQ is locally available, result False\n",
      "INFO: AnalyzeRelease_e418fb2b1f(flavor_path=flavors/python-3.6-data-science-EXASOL-6.2.0): Checking if image exasol/script-language-container:python-3.6-data-science-EXASOL-6.2.0-release_JFWKRAIGPBEQQLCP6Z5YDXK4J4NUNMNQZEDDRUAQOH6SR7IRK6DQ is locally available, result False\n",
      "INFO: AnalyzeRelease_e418fb2b1f(flavor_path=flavors/python-3.6-data-science-EXASOL-6.2.0): Checking if image archive exasol/script-language-container:python-3.6-data-science-EXASOL-6.2.0-release_JFWKRAIGPBEQQLCP6Z5YDXK4J4NUNMNQZEDDRUAQOH6SR7IRK6DQ.tar is available in cache directory, result False\n",
      "INFO: AnalyzeRelease_e418fb2b1f(flavor_path=flavors/python-3.6-data-science-EXASOL-6.2.0): Try to find image exasol/script-language-container:python-3.6-data-science-EXASOL-6.2.0-release_JFWKRAIGPBEQQLCP6Z5YDXK4J4NUNMNQZEDDRUAQOH6SR7IRK6DQ in registry\n",
      "WARNING: AnalyzeRelease_e418fb2b1f(flavor_path=flavors/python-3.6-data-science-EXASOL-6.2.0): Image exasol/script-language-container:python-3.6-data-science-EXASOL-6.2.0-release_JFWKRAIGPBEQQLCP6Z5YDXK4J4NUNMNQZEDDRUAQOH6SR7IRK6DQ not in registry, got exception 404 Client Error: Not Found (\"manifest for exasol/script-language-container:python-3.6-data-science-EXASOL-6.2.0-release_JFWKRAIGPBEQQLCP6Z5YDXK4J4NUNMNQZEDDRUAQOH6SR7IRK6DQ not found: manifest unknown: manifest unknown\")\n",
      "INFO: AnalyzeRelease_e418fb2b1f(flavor_path=flavors/python-3.6-data-science-EXASOL-6.2.0): Write complete_target\n",
      "INFO: AnalyzeRelease_e418fb2b1f(flavor_path=flavors/python-3.6-data-science-EXASOL-6.2.0): Time since first_run 1.150494 s\n",
      "INFO: AnalyzeRelease_e418fb2b1f(flavor_path=flavors/python-3.6-data-science-EXASOL-6.2.0): Time since creation 5.155445 s\n",
      "INFO: AnalyzeRelease_e418fb2b1f(flavor_path=flavors/python-3.6-data-science-EXASOL-6.2.0): Total runtime of run method 1.150129 s\n",
      "INFO: [pid 3580] Worker Worker(salt=427909220, workers=5, host=test-statsmodels, username=jupyter, pid=3491) done      AnalyzeRelease_e418fb2b1f(flavor_path=flavors/python-3.6-data-science-EXASOL-6.2.0)\n",
      "INFO: Informed scheduler that task   AnalyzeRelease_e418fb2b1f   has status   DONE\n",
      "INFO: [pid 3596] Worker Worker(salt=427909220, workers=5, host=test-statsmodels, username=jupyter, pid=3491) running   ExportFlavorContainer_b371239e2e(flavor_path=flavors/python-3.6-data-science-EXASOL-6.2.0, release_goals=[\"release\"], export_path=containers, release_name=)\n",
      "INFO: [pid 3596] Worker Worker(salt=427909220, workers=5, host=test-statsmodels, username=jupyter, pid=3491) new requirements      ExportFlavorContainer_b371239e2e(flavor_path=flavors/python-3.6-data-science-EXASOL-6.2.0, release_goals=[\"release\"], export_path=containers, release_name=)\n",
      "INFO: Informed scheduler that task   ExportContainerTask_77cbcc894e   has status   PENDING\n",
      "INFO: Informed scheduler that task   DockerCreateImageTaskWithDeps_67920224e6   has status   PENDING\n",
      "INFO: Informed scheduler that task   DockerCreateImageTaskWithDeps_5e322967b3   has status   PENDING\n",
      "INFO: Informed scheduler that task   DockerCreateImageTask_662d1f7833   has status   PENDING\n",
      "INFO: Informed scheduler that task   DockerCreateImageTaskWithDeps_37c7c7e86a   has status   PENDING\n",
      "INFO: Informed scheduler that task   DockerCreateImageTaskWithDeps_c283e2a486   has status   PENDING\n",
      "INFO: Informed scheduler that task   DockerCreateImageTaskWithDeps_d58704d844   has status   PENDING\n",
      "INFO: Informed scheduler that task   DockerCreateImageTask_d2c64732c5   has status   PENDING\n",
      "INFO: Informed scheduler that task   CreateExportDirectory_58f4aa9fc8   has status   PENDING\n",
      "INFO: Informed scheduler that task   ExportFlavorContainer_b371239e2e   has status   PENDING\n",
      "INFO: [pid 3598] Worker Worker(salt=427909220, workers=5, host=test-statsmodels, username=jupyter, pid=3491) running   CreateExportDirectory_58f4aa9fc8()\n",
      "INFO: [pid 3599] Worker Worker(salt=427909220, workers=5, host=test-statsmodels, username=jupyter, pid=3491) running   DockerCreateImageTask_662d1f7833(image_name=exasol/script-language-container:python-3.6-data-science-EXASOL-6.2.0-udfclient_deps)\n",
      "INFO: [pid 3600] Worker Worker(salt=427909220, workers=5, host=test-statsmodels, username=jupyter, pid=3491) running   DockerCreateImageTask_d2c64732c5(image_name=exasol/script-language-container:python-3.6-data-science-EXASOL-6.2.0-build_deps)\n",
      "INFO: CreateExportDirectory_58f4aa9fc8(): Write complete_target\n",
      "INFO: CreateExportDirectory_58f4aa9fc8(): Time since first_run 0.00768 s\n",
      "INFO: CreateExportDirectory_58f4aa9fc8(): Time since creation 0.140444 s\n",
      "INFO: CreateExportDirectory_58f4aa9fc8(): Total runtime of run method 0.007477 s\n",
      "INFO: [pid 3598] Worker Worker(salt=427909220, workers=5, host=test-statsmodels, username=jupyter, pid=3491) done      CreateExportDirectory_58f4aa9fc8()\n",
      "INFO: [pid 3600] Worker Worker(salt=427909220, workers=5, host=test-statsmodels, username=jupyter, pid=3491) new requirements      DockerCreateImageTask_d2c64732c5(image_name=exasol/script-language-container:python-3.6-data-science-EXASOL-6.2.0-build_deps)\n",
      "INFO: [pid 3599] Worker Worker(salt=427909220, workers=5, host=test-statsmodels, username=jupyter, pid=3491) new requirements      DockerCreateImageTask_662d1f7833(image_name=exasol/script-language-container:python-3.6-data-science-EXASOL-6.2.0-udfclient_deps)\n",
      "INFO: Informed scheduler that task   DockerPullImageTask_d2c64732c5   has status   PENDING\n",
      "INFO: Informed scheduler that task   DockerCreateImageTask_d2c64732c5   has status   PENDING\n",
      "INFO: Informed scheduler that task   CreateExportDirectory_58f4aa9fc8   has status   DONE\n",
      "INFO: [pid 3604] Worker Worker(salt=427909220, workers=5, host=test-statsmodels, username=jupyter, pid=3491) running   DockerPullImageTask_d2c64732c5(image_name=exasol/script-language-container:python-3.6-data-science-EXASOL-6.2.0-build_deps)\n",
      "INFO: DockerPullImageTask_d2c64732c5(image_name=exasol/script-language-container:python-3.6-data-science-EXASOL-6.2.0-build_deps): Try to pull docker image exasol/script-language-container:python-3.6-data-science-EXASOL-6.2.0-build_deps_RZDLKULZIZWHB3IC5GQT7D237E6NVGWSTEYIC5HL6CNVET5SNZOA\n",
      "INFO: Informed scheduler that task   DockerPullImageTask_662d1f7833   has status   PENDING\n",
      "INFO: Informed scheduler that task   DockerCreateImageTask_662d1f7833   has status   PENDING\n",
      "INFO: [pid 3605] Worker Worker(salt=427909220, workers=5, host=test-statsmodels, username=jupyter, pid=3491) running   DockerPullImageTask_662d1f7833(image_name=exasol/script-language-container:python-3.6-data-science-EXASOL-6.2.0-udfclient_deps)\n",
      "INFO: DockerPullImageTask_662d1f7833(image_name=exasol/script-language-container:python-3.6-data-science-EXASOL-6.2.0-udfclient_deps): Try to pull docker image exasol/script-language-container:python-3.6-data-science-EXASOL-6.2.0-udfclient_deps_DZJHR4RJJ4JGSORITJTVZAA2KUNVEWVLKVAOK55BFP5CQBJMR4IQ\n",
      "INFO: DockerPullImageTask_662d1f7833(image_name=exasol/script-language-container:python-3.6-data-science-EXASOL-6.2.0-udfclient_deps): Write complete_target\n",
      "INFO: DockerPullImageTask_662d1f7833(image_name=exasol/script-language-container:python-3.6-data-science-EXASOL-6.2.0-udfclient_deps): Time since first_run 10.913605 s\n",
      "INFO: DockerPullImageTask_662d1f7833(image_name=exasol/script-language-container:python-3.6-data-science-EXASOL-6.2.0-udfclient_deps): Time since creation 10.95518 s\n",
      "INFO: DockerPullImageTask_662d1f7833(image_name=exasol/script-language-container:python-3.6-data-science-EXASOL-6.2.0-udfclient_deps): Total runtime of run method 10.913322 s\n",
      "INFO: [pid 3605] Worker Worker(salt=427909220, workers=5, host=test-statsmodels, username=jupyter, pid=3491) done      DockerPullImageTask_662d1f7833(image_name=exasol/script-language-container:python-3.6-data-science-EXASOL-6.2.0-udfclient_deps)\n",
      "INFO: Informed scheduler that task   DockerPullImageTask_662d1f7833   has status   DONE\n",
      "INFO: [pid 3868] Worker Worker(salt=427909220, workers=5, host=test-statsmodels, username=jupyter, pid=3491) running   DockerCreateImageTask_662d1f7833(image_name=exasol/script-language-container:python-3.6-data-science-EXASOL-6.2.0-udfclient_deps)\n",
      "INFO: DockerCreateImageTask_662d1f7833(image_name=exasol/script-language-container:python-3.6-data-science-EXASOL-6.2.0-udfclient_deps): Write complete_target\n",
      "INFO: DockerCreateImageTask_662d1f7833(image_name=exasol/script-language-container:python-3.6-data-science-EXASOL-6.2.0-udfclient_deps): Time since first_run 11.006455 s\n",
      "INFO: DockerCreateImageTask_662d1f7833(image_name=exasol/script-language-container:python-3.6-data-science-EXASOL-6.2.0-udfclient_deps): Time since creation 11.217744 s\n",
      "INFO: DockerCreateImageTask_662d1f7833(image_name=exasol/script-language-container:python-3.6-data-science-EXASOL-6.2.0-udfclient_deps): Total runtime of run method 0.033913 s\n",
      "INFO: [pid 3868] Worker Worker(salt=427909220, workers=5, host=test-statsmodels, username=jupyter, pid=3491) done      DockerCreateImageTask_662d1f7833(image_name=exasol/script-language-container:python-3.6-data-science-EXASOL-6.2.0-udfclient_deps)\n",
      "INFO: Informed scheduler that task   DockerCreateImageTask_662d1f7833   has status   DONE\n",
      "INFO: [pid 3873] Worker Worker(salt=427909220, workers=5, host=test-statsmodels, username=jupyter, pid=3491) running   DockerCreateImageTaskWithDeps_5e322967b3(image_name=exasol/script-language-container:python-3.6-data-science-EXASOL-6.2.0-language_deps)\n",
      "INFO: [pid 3873] Worker Worker(salt=427909220, workers=5, host=test-statsmodels, username=jupyter, pid=3491) new requirements      DockerCreateImageTaskWithDeps_5e322967b3(image_name=exasol/script-language-container:python-3.6-data-science-EXASOL-6.2.0-language_deps)\n",
      "INFO: Informed scheduler that task   DockerPullImageTask_dcfbbc5623   has status   PENDING\n",
      "INFO: Informed scheduler that task   DockerCreateImageTaskWithDeps_5e322967b3   has status   PENDING\n",
      "INFO: [pid 3875] Worker Worker(salt=427909220, workers=5, host=test-statsmodels, username=jupyter, pid=3491) running   DockerPullImageTask_dcfbbc5623(image_name=exasol/script-language-container:python-3.6-data-science-EXASOL-6.2.0-language_deps)\n",
      "INFO: DockerPullImageTask_dcfbbc5623(image_name=exasol/script-language-container:python-3.6-data-science-EXASOL-6.2.0-language_deps): Try to pull docker image exasol/script-language-container:python-3.6-data-science-EXASOL-6.2.0-language_deps_TSWZTTPAP4CNHKC6JSOMIZHMFKELDM4U6FVMLCJTJNYUXXWLDHBQ\n",
      "INFO: DockerPullImageTask_dcfbbc5623(image_name=exasol/script-language-container:python-3.6-data-science-EXASOL-6.2.0-language_deps): Write complete_target\n",
      "INFO: DockerPullImageTask_dcfbbc5623(image_name=exasol/script-language-container:python-3.6-data-science-EXASOL-6.2.0-language_deps): Time since first_run 5.404332 s\n",
      "INFO: DockerPullImageTask_dcfbbc5623(image_name=exasol/script-language-container:python-3.6-data-science-EXASOL-6.2.0-language_deps): Time since creation 5.439624 s\n",
      "INFO: DockerPullImageTask_dcfbbc5623(image_name=exasol/script-language-container:python-3.6-data-science-EXASOL-6.2.0-language_deps): Total runtime of run method 5.404157 s\n",
      "INFO: [pid 3875] Worker Worker(salt=427909220, workers=5, host=test-statsmodels, username=jupyter, pid=3491) done      DockerPullImageTask_dcfbbc5623(image_name=exasol/script-language-container:python-3.6-data-science-EXASOL-6.2.0-language_deps)\n",
      "INFO: Informed scheduler that task   DockerPullImageTask_dcfbbc5623   has status   DONE\n",
      "INFO: [pid 3973] Worker Worker(salt=427909220, workers=5, host=test-statsmodels, username=jupyter, pid=3491) running   DockerCreateImageTaskWithDeps_5e322967b3(image_name=exasol/script-language-container:python-3.6-data-science-EXASOL-6.2.0-language_deps)\n",
      "INFO: DockerCreateImageTaskWithDeps_5e322967b3(image_name=exasol/script-language-container:python-3.6-data-science-EXASOL-6.2.0-language_deps): Write complete_target\n",
      "INFO: DockerCreateImageTaskWithDeps_5e322967b3(image_name=exasol/script-language-container:python-3.6-data-science-EXASOL-6.2.0-language_deps): Time since first_run 5.485908 s\n",
      "INFO: DockerCreateImageTaskWithDeps_5e322967b3(image_name=exasol/script-language-container:python-3.6-data-science-EXASOL-6.2.0-language_deps): Time since creation 16.724798 s\n",
      "INFO: DockerCreateImageTaskWithDeps_5e322967b3(image_name=exasol/script-language-container:python-3.6-data-science-EXASOL-6.2.0-language_deps): Total runtime of run method 0.033723 s\n",
      "INFO: [pid 3973] Worker Worker(salt=427909220, workers=5, host=test-statsmodels, username=jupyter, pid=3491) done      DockerCreateImageTaskWithDeps_5e322967b3(image_name=exasol/script-language-container:python-3.6-data-science-EXASOL-6.2.0-language_deps)\n",
      "INFO: Informed scheduler that task   DockerCreateImageTaskWithDeps_5e322967b3   has status   DONE\n",
      "INFO: [pid 3975] Worker Worker(salt=427909220, workers=5, host=test-statsmodels, username=jupyter, pid=3491) running   DockerCreateImageTaskWithDeps_c283e2a486(image_name=exasol/script-language-container:python-3.6-data-science-EXASOL-6.2.0-flavor_base_deps)\n",
      "INFO: [pid 3975] Worker Worker(salt=427909220, workers=5, host=test-statsmodels, username=jupyter, pid=3491) new requirements      DockerCreateImageTaskWithDeps_c283e2a486(image_name=exasol/script-language-container:python-3.6-data-science-EXASOL-6.2.0-flavor_base_deps)\n",
      "INFO: Informed scheduler that task   DockerPullImageTask_549af6b8e4   has status   PENDING\n",
      "INFO: Informed scheduler that task   DockerCreateImageTaskWithDeps_c283e2a486   has status   PENDING\n",
      "INFO: [pid 3977] Worker Worker(salt=427909220, workers=5, host=test-statsmodels, username=jupyter, pid=3491) running   DockerPullImageTask_549af6b8e4(image_name=exasol/script-language-container:python-3.6-data-science-EXASOL-6.2.0-flavor_base_deps)\n",
      "INFO: DockerPullImageTask_549af6b8e4(image_name=exasol/script-language-container:python-3.6-data-science-EXASOL-6.2.0-flavor_base_deps): Try to pull docker image exasol/script-language-container:python-3.6-data-science-EXASOL-6.2.0-flavor_base_deps_X4X7DYMUBW5WVE7V7N6A3NJZZUWYDIYZBBS5T5GOWTBR7O6G5ULA\n",
      "INFO: DockerPullImageTask_d2c64732c5(image_name=exasol/script-language-container:python-3.6-data-science-EXASOL-6.2.0-build_deps): Write complete_target\n",
      "INFO: DockerPullImageTask_d2c64732c5(image_name=exasol/script-language-container:python-3.6-data-science-EXASOL-6.2.0-build_deps): Time since first_run 34.866616 s\n",
      "INFO: DockerPullImageTask_d2c64732c5(image_name=exasol/script-language-container:python-3.6-data-science-EXASOL-6.2.0-build_deps): Time since creation 34.893078 s\n",
      "INFO: DockerPullImageTask_d2c64732c5(image_name=exasol/script-language-container:python-3.6-data-science-EXASOL-6.2.0-build_deps): Total runtime of run method 34.866377 s\n",
      "INFO: [pid 3604] Worker Worker(salt=427909220, workers=5, host=test-statsmodels, username=jupyter, pid=3491) done      DockerPullImageTask_d2c64732c5(image_name=exasol/script-language-container:python-3.6-data-science-EXASOL-6.2.0-build_deps)\n",
      "INFO: Informed scheduler that task   DockerPullImageTask_d2c64732c5   has status   DONE\n",
      "INFO: [pid 4177] Worker Worker(salt=427909220, workers=5, host=test-statsmodels, username=jupyter, pid=3491) running   DockerCreateImageTask_d2c64732c5(image_name=exasol/script-language-container:python-3.6-data-science-EXASOL-6.2.0-build_deps)\n",
      "INFO: DockerCreateImageTask_d2c64732c5(image_name=exasol/script-language-container:python-3.6-data-science-EXASOL-6.2.0-build_deps): Write complete_target\n",
      "INFO: DockerCreateImageTask_d2c64732c5(image_name=exasol/script-language-container:python-3.6-data-science-EXASOL-6.2.0-build_deps): Time since first_run 34.943356 s\n",
      "INFO: DockerCreateImageTask_d2c64732c5(image_name=exasol/script-language-container:python-3.6-data-science-EXASOL-6.2.0-build_deps): Time since creation 35.132149 s\n",
      "INFO: DockerCreateImageTask_d2c64732c5(image_name=exasol/script-language-container:python-3.6-data-science-EXASOL-6.2.0-build_deps): Total runtime of run method 0.030862999999999998 s\n",
      "INFO: [pid 4177] Worker Worker(salt=427909220, workers=5, host=test-statsmodels, username=jupyter, pid=3491) done      DockerCreateImageTask_d2c64732c5(image_name=exasol/script-language-container:python-3.6-data-science-EXASOL-6.2.0-build_deps)\n",
      "INFO: Informed scheduler that task   DockerCreateImageTask_d2c64732c5   has status   DONE\n",
      "INFO: [pid 4179] Worker Worker(salt=427909220, workers=5, host=test-statsmodels, username=jupyter, pid=3491) running   DockerCreateImageTaskWithDeps_d58704d844(image_name=exasol/script-language-container:python-3.6-data-science-EXASOL-6.2.0-build_run)\n",
      "INFO: [pid 4179] Worker Worker(salt=427909220, workers=5, host=test-statsmodels, username=jupyter, pid=3491) new requirements      DockerCreateImageTaskWithDeps_d58704d844(image_name=exasol/script-language-container:python-3.6-data-science-EXASOL-6.2.0-build_run)\n",
      "INFO: Informed scheduler that task   DockerPullImageTask_64315ca903   has status   PENDING\n",
      "INFO: Informed scheduler that task   DockerCreateImageTaskWithDeps_d58704d844   has status   PENDING\n",
      "INFO: [pid 4181] Worker Worker(salt=427909220, workers=5, host=test-statsmodels, username=jupyter, pid=3491) running   DockerPullImageTask_64315ca903(image_name=exasol/script-language-container:python-3.6-data-science-EXASOL-6.2.0-build_run)\n",
      "INFO: DockerPullImageTask_64315ca903(image_name=exasol/script-language-container:python-3.6-data-science-EXASOL-6.2.0-build_run): Try to pull docker image exasol/script-language-container:python-3.6-data-science-EXASOL-6.2.0-build_run_KTM77FS5AIUKR7FCMQBT7ROQ2RKSPUF66R46SUSJXCP67VKOHQJQ\n",
      "INFO: DockerPullImageTask_549af6b8e4(image_name=exasol/script-language-container:python-3.6-data-science-EXASOL-6.2.0-flavor_base_deps): Write complete_target\n",
      "INFO: DockerPullImageTask_549af6b8e4(image_name=exasol/script-language-container:python-3.6-data-science-EXASOL-6.2.0-flavor_base_deps): Time since first_run 23.777768 s\n",
      "INFO: DockerPullImageTask_549af6b8e4(image_name=exasol/script-language-container:python-3.6-data-science-EXASOL-6.2.0-flavor_base_deps): Time since creation 23.804992 s\n",
      "INFO: DockerPullImageTask_549af6b8e4(image_name=exasol/script-language-container:python-3.6-data-science-EXASOL-6.2.0-flavor_base_deps): Total runtime of run method 23.77759 s\n",
      "INFO: [pid 3977] Worker Worker(salt=427909220, workers=5, host=test-statsmodels, username=jupyter, pid=3491) done      DockerPullImageTask_549af6b8e4(image_name=exasol/script-language-container:python-3.6-data-science-EXASOL-6.2.0-flavor_base_deps)\n",
      "INFO: Informed scheduler that task   DockerPullImageTask_549af6b8e4   has status   DONE\n",
      "INFO: [pid 4220] Worker Worker(salt=427909220, workers=5, host=test-statsmodels, username=jupyter, pid=3491) running   DockerCreateImageTaskWithDeps_c283e2a486(image_name=exasol/script-language-container:python-3.6-data-science-EXASOL-6.2.0-flavor_base_deps)\n",
      "INFO: DockerCreateImageTaskWithDeps_c283e2a486(image_name=exasol/script-language-container:python-3.6-data-science-EXASOL-6.2.0-flavor_base_deps): Write complete_target\n",
      "INFO: DockerCreateImageTaskWithDeps_c283e2a486(image_name=exasol/script-language-container:python-3.6-data-science-EXASOL-6.2.0-flavor_base_deps): Time since first_run 23.859128 s\n",
      "INFO: DockerCreateImageTaskWithDeps_c283e2a486(image_name=exasol/script-language-container:python-3.6-data-science-EXASOL-6.2.0-flavor_base_deps): Time since creation 40.598291 s\n",
      "INFO: DockerCreateImageTaskWithDeps_c283e2a486(image_name=exasol/script-language-container:python-3.6-data-science-EXASOL-6.2.0-flavor_base_deps): Total runtime of run method 0.032608 s\n",
      "INFO: [pid 4220] Worker Worker(salt=427909220, workers=5, host=test-statsmodels, username=jupyter, pid=3491) done      DockerCreateImageTaskWithDeps_c283e2a486(image_name=exasol/script-language-container:python-3.6-data-science-EXASOL-6.2.0-flavor_base_deps)\n",
      "INFO: Informed scheduler that task   DockerCreateImageTaskWithDeps_c283e2a486   has status   DONE\n",
      "INFO: [pid 4222] Worker Worker(salt=427909220, workers=5, host=test-statsmodels, username=jupyter, pid=3491) running   DockerCreateImageTaskWithDeps_37c7c7e86a(image_name=exasol/script-language-container:python-3.6-data-science-EXASOL-6.2.0-flavor_customization)\n",
      "INFO: [pid 4222] Worker Worker(salt=427909220, workers=5, host=test-statsmodels, username=jupyter, pid=3491) new requirements      DockerCreateImageTaskWithDeps_37c7c7e86a(image_name=exasol/script-language-container:python-3.6-data-science-EXASOL-6.2.0-flavor_customization)\n",
      "INFO: Informed scheduler that task   DockerBuildImageTask_44318ecc0c   has status   PENDING\n",
      "INFO: Informed scheduler that task   DockerCreateImageTaskWithDeps_37c7c7e86a   has status   PENDING\n",
      "INFO: [pid 4224] Worker Worker(salt=427909220, workers=5, host=test-statsmodels, username=jupyter, pid=3491) running   DockerBuildImageTask_44318ecc0c(image_name=exasol/script-language-container:python-3.6-data-science-EXASOL-6.2.0-flavor_customization)\n",
      "INFO: DockerBuildImageTask_44318ecc0c(image_name=exasol/script-language-container:python-3.6-data-science-EXASOL-6.2.0-flavor_customization): Build docker image exasol/script-language-container:python-3.6-data-science-EXASOL-6.2.0-flavor_customization_TFERW6HQWAITOWZVOSKWITDFA7VAK2UZI74LDSKRCZKUQCXSHPZA, log file can be found here .build_output/jobs/2021_03_31_14_56_35_ExportContainers/outputs/ExportContainers_07dfbf8323/ExportFlavorContainer_b371239e2e/DockerCreateImageTaskWithDeps_37c7c7e86a/DockerBuildImageTask_44318ecc0c/logs\n",
      "INFO: DockerPullImageTask_64315ca903(image_name=exasol/script-language-container:python-3.6-data-science-EXASOL-6.2.0-build_run): Write complete_target\n",
      "INFO: DockerPullImageTask_64315ca903(image_name=exasol/script-language-container:python-3.6-data-science-EXASOL-6.2.0-build_run): Time since first_run 35.871263 s\n",
      "INFO: DockerPullImageTask_64315ca903(image_name=exasol/script-language-container:python-3.6-data-science-EXASOL-6.2.0-build_run): Time since creation 35.910115 s\n",
      "INFO: DockerPullImageTask_64315ca903(image_name=exasol/script-language-container:python-3.6-data-science-EXASOL-6.2.0-build_run): Total runtime of run method 35.871087 s\n",
      "INFO: [pid 4181] Worker Worker(salt=427909220, workers=5, host=test-statsmodels, username=jupyter, pid=3491) done      DockerPullImageTask_64315ca903(image_name=exasol/script-language-container:python-3.6-data-science-EXASOL-6.2.0-build_run)\n",
      "INFO: Informed scheduler that task   DockerPullImageTask_64315ca903   has status   DONE\n",
      "INFO: [pid 4826] Worker Worker(salt=427909220, workers=5, host=test-statsmodels, username=jupyter, pid=3491) running   DockerCreateImageTaskWithDeps_d58704d844(image_name=exasol/script-language-container:python-3.6-data-science-EXASOL-6.2.0-build_run)\n",
      "INFO: DockerCreateImageTaskWithDeps_d58704d844(image_name=exasol/script-language-container:python-3.6-data-science-EXASOL-6.2.0-build_run): Write complete_target\n",
      "INFO: DockerCreateImageTaskWithDeps_d58704d844(image_name=exasol/script-language-container:python-3.6-data-science-EXASOL-6.2.0-build_run): Time since first_run 35.960893 s\n",
      "INFO: DockerCreateImageTaskWithDeps_d58704d844(image_name=exasol/script-language-container:python-3.6-data-science-EXASOL-6.2.0-build_run): Time since creation 71.096707 s\n",
      "INFO: DockerCreateImageTaskWithDeps_d58704d844(image_name=exasol/script-language-container:python-3.6-data-science-EXASOL-6.2.0-build_run): Total runtime of run method 0.037076 s\n",
      "INFO: [pid 4826] Worker Worker(salt=427909220, workers=5, host=test-statsmodels, username=jupyter, pid=3491) done      DockerCreateImageTaskWithDeps_d58704d844(image_name=exasol/script-language-container:python-3.6-data-science-EXASOL-6.2.0-build_run)\n",
      "INFO: Informed scheduler that task   DockerCreateImageTaskWithDeps_d58704d844   has status   DONE\n",
      "INFO: DockerBuildImageTask_44318ecc0c(image_name=exasol/script-language-container:python-3.6-data-science-EXASOL-6.2.0-flavor_customization): Still running build image exasol/script-language-container:python-3.6-data-science-EXASOL-6.2.0-flavor_customization_TFERW6HQWAITOWZVOSKWITDFA7VAK2UZI74LDSKRCZKUQCXSHPZA.\n",
      "INFO: DockerBuildImageTask_44318ecc0c(image_name=exasol/script-language-container:python-3.6-data-science-EXASOL-6.2.0-flavor_customization): Write complete_target\n",
      "INFO: DockerBuildImageTask_44318ecc0c(image_name=exasol/script-language-container:python-3.6-data-science-EXASOL-6.2.0-flavor_customization): Time since first_run 78.878747 s\n",
      "INFO: DockerBuildImageTask_44318ecc0c(image_name=exasol/script-language-container:python-3.6-data-science-EXASOL-6.2.0-flavor_customization): Time since creation 78.915325 s\n",
      "INFO: DockerBuildImageTask_44318ecc0c(image_name=exasol/script-language-container:python-3.6-data-science-EXASOL-6.2.0-flavor_customization): Total runtime of run method 78.878522 s\n",
      "INFO: [pid 4224] Worker Worker(salt=427909220, workers=5, host=test-statsmodels, username=jupyter, pid=3491) done      DockerBuildImageTask_44318ecc0c(image_name=exasol/script-language-container:python-3.6-data-science-EXASOL-6.2.0-flavor_customization)\n",
      "INFO: Informed scheduler that task   DockerBuildImageTask_44318ecc0c   has status   DONE\n",
      "INFO: [pid 5318] Worker Worker(salt=427909220, workers=5, host=test-statsmodels, username=jupyter, pid=3491) running   DockerCreateImageTaskWithDeps_37c7c7e86a(image_name=exasol/script-language-container:python-3.6-data-science-EXASOL-6.2.0-flavor_customization)\n",
      "INFO: DockerCreateImageTaskWithDeps_37c7c7e86a(image_name=exasol/script-language-container:python-3.6-data-science-EXASOL-6.2.0-flavor_customization): Write complete_target\n",
      "INFO: DockerCreateImageTaskWithDeps_37c7c7e86a(image_name=exasol/script-language-container:python-3.6-data-science-EXASOL-6.2.0-flavor_customization): Time since first_run 78.957949 s\n",
      "INFO: DockerCreateImageTaskWithDeps_37c7c7e86a(image_name=exasol/script-language-container:python-3.6-data-science-EXASOL-6.2.0-flavor_customization): Time since creation 119.570636 s\n",
      "INFO: DockerCreateImageTaskWithDeps_37c7c7e86a(image_name=exasol/script-language-container:python-3.6-data-science-EXASOL-6.2.0-flavor_customization): Total runtime of run method 0.029858 s\n",
      "INFO: [pid 5318] Worker Worker(salt=427909220, workers=5, host=test-statsmodels, username=jupyter, pid=3491) done      DockerCreateImageTaskWithDeps_37c7c7e86a(image_name=exasol/script-language-container:python-3.6-data-science-EXASOL-6.2.0-flavor_customization)\n",
      "INFO: Informed scheduler that task   DockerCreateImageTaskWithDeps_37c7c7e86a   has status   DONE\n",
      "INFO: [pid 5320] Worker Worker(salt=427909220, workers=5, host=test-statsmodels, username=jupyter, pid=3491) running   DockerCreateImageTaskWithDeps_67920224e6(image_name=exasol/script-language-container:python-3.6-data-science-EXASOL-6.2.0-release)\n",
      "INFO: [pid 5320] Worker Worker(salt=427909220, workers=5, host=test-statsmodels, username=jupyter, pid=3491) new requirements      DockerCreateImageTaskWithDeps_67920224e6(image_name=exasol/script-language-container:python-3.6-data-science-EXASOL-6.2.0-release)\n",
      "INFO: Informed scheduler that task   DockerBuildImageTask_ff037a4818   has status   PENDING\n",
      "INFO: Informed scheduler that task   DockerCreateImageTaskWithDeps_67920224e6   has status   PENDING\n",
      "INFO: [pid 5322] Worker Worker(salt=427909220, workers=5, host=test-statsmodels, username=jupyter, pid=3491) running   DockerBuildImageTask_ff037a4818(image_name=exasol/script-language-container:python-3.6-data-science-EXASOL-6.2.0-release)\n",
      "INFO: DockerBuildImageTask_ff037a4818(image_name=exasol/script-language-container:python-3.6-data-science-EXASOL-6.2.0-release): Build docker image exasol/script-language-container:python-3.6-data-science-EXASOL-6.2.0-release_JFWKRAIGPBEQQLCP6Z5YDXK4J4NUNMNQZEDDRUAQOH6SR7IRK6DQ, log file can be found here .build_output/jobs/2021_03_31_14_56_35_ExportContainers/outputs/ExportContainers_07dfbf8323/ExportFlavorContainer_b371239e2e/DockerCreateImageTaskWithDeps_67920224e6/DockerBuildImageTask_ff037a4818/logs\n",
      "INFO: DockerBuildImageTask_ff037a4818(image_name=exasol/script-language-container:python-3.6-data-science-EXASOL-6.2.0-release): Still running build image exasol/script-language-container:python-3.6-data-science-EXASOL-6.2.0-release_JFWKRAIGPBEQQLCP6Z5YDXK4J4NUNMNQZEDDRUAQOH6SR7IRK6DQ.\n",
      "INFO: DockerBuildImageTask_ff037a4818(image_name=exasol/script-language-container:python-3.6-data-science-EXASOL-6.2.0-release): Write complete_target\n",
      "INFO: DockerBuildImageTask_ff037a4818(image_name=exasol/script-language-container:python-3.6-data-science-EXASOL-6.2.0-release): Time since first_run 92.583462 s\n",
      "INFO: DockerBuildImageTask_ff037a4818(image_name=exasol/script-language-container:python-3.6-data-science-EXASOL-6.2.0-release): Time since creation 92.618133 s\n",
      "INFO: DockerBuildImageTask_ff037a4818(image_name=exasol/script-language-container:python-3.6-data-science-EXASOL-6.2.0-release): Total runtime of run method 92.583238 s\n",
      "INFO: [pid 5322] Worker Worker(salt=427909220, workers=5, host=test-statsmodels, username=jupyter, pid=3491) done      DockerBuildImageTask_ff037a4818(image_name=exasol/script-language-container:python-3.6-data-science-EXASOL-6.2.0-release)\n",
      "INFO: Informed scheduler that task   DockerBuildImageTask_ff037a4818   has status   DONE\n",
      "INFO: [pid 6436] Worker Worker(salt=427909220, workers=5, host=test-statsmodels, username=jupyter, pid=3491) running   DockerCreateImageTaskWithDeps_67920224e6(image_name=exasol/script-language-container:python-3.6-data-science-EXASOL-6.2.0-release)\n",
      "INFO: DockerCreateImageTaskWithDeps_67920224e6(image_name=exasol/script-language-container:python-3.6-data-science-EXASOL-6.2.0-release): Write complete_target\n",
      "INFO: DockerCreateImageTaskWithDeps_67920224e6(image_name=exasol/script-language-container:python-3.6-data-science-EXASOL-6.2.0-release): Time since first_run 92.66774 s\n",
      "INFO: DockerCreateImageTaskWithDeps_67920224e6(image_name=exasol/script-language-container:python-3.6-data-science-EXASOL-6.2.0-release): Time since creation 212.212644 s\n",
      "INFO: DockerCreateImageTaskWithDeps_67920224e6(image_name=exasol/script-language-container:python-3.6-data-science-EXASOL-6.2.0-release): Total runtime of run method 0.034538 s\n",
      "INFO: [pid 6436] Worker Worker(salt=427909220, workers=5, host=test-statsmodels, username=jupyter, pid=3491) done      DockerCreateImageTaskWithDeps_67920224e6(image_name=exasol/script-language-container:python-3.6-data-science-EXASOL-6.2.0-release)\n",
      "INFO: Informed scheduler that task   DockerCreateImageTaskWithDeps_67920224e6   has status   DONE\n",
      "INFO: [pid 6438] Worker Worker(salt=427909220, workers=5, host=test-statsmodels, username=jupyter, pid=3491) running   ExportContainerTask_77cbcc894e(flavor_path=flavors/python-3.6-data-science-EXASOL-6.2.0, export_path=containers, release_name=, release_goal=release)\n",
      "INFO: ExportContainerTask_77cbcc894e(flavor_path=flavors/python-3.6-data-science-EXASOL-6.2.0, export_path=containers, release_name=, release_goal=release): Create container file /home/jupyter/data-science-examples_slc/tutorials/script-languages/script-languages-release/.build_output/cache/exports/python-3.6-data-science-EXASOL-6.2.0-release-JFWKRAIGPBEQQLCP6Z5YDXK4J4NUNMNQZEDDRUAQOH6SR7IRK6DQ.tar.gz\n",
      "INFO: ExportContainerTask_77cbcc894e(flavor_path=flavors/python-3.6-data-science-EXASOL-6.2.0, export_path=containers, release_name=, release_goal=release): Export container exasol/script-language-container:python-3.6-data-science-EXASOL-6.2.0-release_JFWKRAIGPBEQQLCP6Z5YDXK4J4NUNMNQZEDDRUAQOH6SR7IRK6DQ\n",
      "INFO: ExportContainerTask_77cbcc894e(flavor_path=flavors/python-3.6-data-science-EXASOL-6.2.0, export_path=containers, release_name=, release_goal=release): Extract exported file /tmp/release_archive_cbel7aq8/export.tar\n",
      "INFO: ExportContainerTask_77cbcc894e(flavor_path=flavors/python-3.6-data-science-EXASOL-6.2.0, export_path=containers, release_name=, release_goal=release): Pack container file /home/jupyter/data-science-examples_slc/tutorials/script-languages/script-languages-release/.build_output/cache/exports/python-3.6-data-science-EXASOL-6.2.0-release-JFWKRAIGPBEQQLCP6Z5YDXK4J4NUNMNQZEDDRUAQOH6SR7IRK6DQ.tar.gz\n",
      "INFO: ExportContainerTask_77cbcc894e(flavor_path=flavors/python-3.6-data-science-EXASOL-6.2.0, export_path=containers, release_name=, release_goal=release): Still running packing container file /home/jupyter/data-science-examples_slc/tutorials/script-languages/script-languages-release/.build_output/cache/exports/python-3.6-data-science-EXASOL-6.2.0-release-JFWKRAIGPBEQQLCP6Z5YDXK4J4NUNMNQZEDDRUAQOH6SR7IRK6DQ.tar.gz.\n",
      "INFO: ExportContainerTask_77cbcc894e(flavor_path=flavors/python-3.6-data-science-EXASOL-6.2.0, export_path=containers, release_name=, release_goal=release): Compute checksum for container file /home/jupyter/data-science-examples_slc/tutorials/script-languages/script-languages-release/.build_output/cache/exports/python-3.6-data-science-EXASOL-6.2.0-release-JFWKRAIGPBEQQLCP6Z5YDXK4J4NUNMNQZEDDRUAQOH6SR7IRK6DQ.tar.gz\n",
      "INFO: ExportContainerTask_77cbcc894e(flavor_path=flavors/python-3.6-data-science-EXASOL-6.2.0, export_path=containers, release_name=, release_goal=release): Write complete_target\n",
      "INFO: ExportContainerTask_77cbcc894e(flavor_path=flavors/python-3.6-data-science-EXASOL-6.2.0, export_path=containers, release_name=, release_goal=release): Time since first_run 96.202414 s\n",
      "INFO: ExportContainerTask_77cbcc894e(flavor_path=flavors/python-3.6-data-science-EXASOL-6.2.0, export_path=containers, release_name=, release_goal=release): Time since creation 308.423016 s\n",
      "INFO: ExportContainerTask_77cbcc894e(flavor_path=flavors/python-3.6-data-science-EXASOL-6.2.0, export_path=containers, release_name=, release_goal=release): Total runtime of run method 96.202145 s\n",
      "INFO: [pid 6438] Worker Worker(salt=427909220, workers=5, host=test-statsmodels, username=jupyter, pid=3491) done      ExportContainerTask_77cbcc894e(flavor_path=flavors/python-3.6-data-science-EXASOL-6.2.0, export_path=containers, release_name=, release_goal=release)\n",
      "INFO: Informed scheduler that task   ExportContainerTask_77cbcc894e   has status   DONE\n",
      "INFO: [pid 6628] Worker Worker(salt=427909220, workers=5, host=test-statsmodels, username=jupyter, pid=3491) running   ExportFlavorContainer_b371239e2e(flavor_path=flavors/python-3.6-data-science-EXASOL-6.2.0, release_goals=[\"release\"], export_path=containers, release_name=)\n",
      "INFO: ExportFlavorContainer_b371239e2e(flavor_path=flavors/python-3.6-data-science-EXASOL-6.2.0, release_goals=[\"release\"], export_path=containers, release_name=): Write complete_target\n",
      "INFO: ExportFlavorContainer_b371239e2e(flavor_path=flavors/python-3.6-data-science-EXASOL-6.2.0, release_goals=[\"release\"], export_path=containers, release_name=): Time since first_run 308.612724 s\n",
      "INFO: ExportFlavorContainer_b371239e2e(flavor_path=flavors/python-3.6-data-science-EXASOL-6.2.0, release_goals=[\"release\"], export_path=containers, release_name=): Time since creation 313.782086 s\n",
      "INFO: ExportFlavorContainer_b371239e2e(flavor_path=flavors/python-3.6-data-science-EXASOL-6.2.0, release_goals=[\"release\"], export_path=containers, release_name=): Total runtime of run method 0.174548 s\n",
      "INFO: [pid 6628] Worker Worker(salt=427909220, workers=5, host=test-statsmodels, username=jupyter, pid=3491) done      ExportFlavorContainer_b371239e2e(flavor_path=flavors/python-3.6-data-science-EXASOL-6.2.0, release_goals=[\"release\"], export_path=containers, release_name=)\n",
      "INFO: Informed scheduler that task   ExportFlavorContainer_b371239e2e   has status   DONE\n",
      "INFO: [pid 6630] Worker Worker(salt=427909220, workers=5, host=test-statsmodels, username=jupyter, pid=3491) running   ExportContainers_07dfbf8323(flavor_paths=[\"flavors/python-3.6-data-science-EXASOL-6.2.0\"], release_goals=[\"release\"], export_path=containers, release_name=)\n",
      "INFO: ExportContainers_07dfbf8323(flavor_paths=[\"flavors/python-3.6-data-science-EXASOL-6.2.0\"], release_goals=[\"release\"], export_path=containers, release_name=): Write complete_target\n",
      "INFO: ExportContainers_07dfbf8323(flavor_paths=[\"flavors/python-3.6-data-science-EXASOL-6.2.0\"], release_goals=[\"release\"], export_path=containers, release_name=): Time since first_run 0.004622 s\n",
      "INFO: ExportContainers_07dfbf8323(flavor_paths=[\"flavors/python-3.6-data-science-EXASOL-6.2.0\"], release_goals=[\"release\"], export_path=containers, release_name=): Time since creation 313.802734 s\n",
      "INFO: ExportContainers_07dfbf8323(flavor_paths=[\"flavors/python-3.6-data-science-EXASOL-6.2.0\"], release_goals=[\"release\"], export_path=containers, release_name=): Total runtime of run method 0.00445 s\n",
      "INFO: [pid 6630] Worker Worker(salt=427909220, workers=5, host=test-statsmodels, username=jupyter, pid=3491) done      ExportContainers_07dfbf8323(flavor_paths=[\"flavors/python-3.6-data-science-EXASOL-6.2.0\"], release_goals=[\"release\"], export_path=containers, release_name=)\n",
      "INFO: Informed scheduler that task   ExportContainers_07dfbf8323   has status   DONE\n",
      "INFO: Worker Worker(salt=427909220, workers=5, host=test-statsmodels, username=jupyter, pid=3491) was stopped. Shutting down Keep-Alive thread\n",
      "INFO: \n",
      "===== Luigi Execution Summary =====\n",
      "\n",
      "Scheduled 25 tasks of which:\n",
      "* 25 ran successfully:\n",
      "    - 1 AnalyzeBuildDeps_e418fb2b1f(flavor_path=flavors/python-3.6-data-science-EXASOL-6.2.0)\n",
      "    - 1 AnalyzeBuildRun_e418fb2b1f(flavor_path=flavors/python-3.6-data-science-EXASOL-6.2.0)\n",
      "    - 1 AnalyzeFlavorBaseDeps_e418fb2b1f(flavor_path=flavors/python-3.6-data-science-EXASOL-6.2.0)\n",
      "    - 1 AnalyzeFlavorCustomization_e418fb2b1f(flavor_path=flavors/python-3.6-data-science-EXASOL-6.2.0)\n",
      "    - 1 AnalyzeLanguageDeps_e418fb2b1f(flavor_path=flavors/python-3.6-data-science-EXASOL-6.2.0)\n",
      "    ...\n",
      "\n",
      "This progress looks :) because there were no failed tasks or missing dependencies\n",
      "\n",
      "===== Luigi Execution Summary =====\n",
      "\n",
      "The command took 314.130361 s\n",
      "\n",
      "Cached container under /home/jupyter/data-science-examples_slc/tutorials/script-languages/script-languages-release/.build_output/cache/exports/python-3.6-data-science-EXASOL-6.2.0-release-JFWKRAIGPBEQQLCP6Z5YDXK4J4NUNMNQZEDDRUAQOH6SR7IRK6DQ.tar.gz\n",
      "\n",
      "Copied container to containers/python-3.6-data-science-EXASOL-6.2.0_release.tar.gz\n",
      "\n",
      "=================================================\n",
      "\n"
     ]
    }
   ],
   "source": [
    "bash.run(f\"\"\"\n",
    "pushd {slc_path}\n",
    "./exaslct export --flavor-path flavors/python-3.6-data-science-EXASOL-6.2.0 --export-path containers --force-rebuild --force-rebuild-from flavor_customization\n",
    "\"\"\")"
   ]
  },
  {
   "cell_type": "code",
   "execution_count": null,
   "metadata": {},
   "outputs": [],
   "source": [
    "!cat {slc_path}/exaslct.log"
   ]
  },
  {
   "cell_type": "code",
   "execution_count": null,
   "metadata": {},
   "outputs": [],
   "source": []
  },
  {
   "cell_type": "markdown",
   "metadata": {},
   "source": [
    "**Node:** Your old container doesn't get lost, because when you change a flavor your container gets a new hash code. If you revert your changes the system automatically uses the existing cached container. Below you can see the content of the cache directory for the containers."
   ]
  },
  {
   "cell_type": "code",
   "execution_count": 8,
   "metadata": {},
   "outputs": [
    {
     "name": "stdout",
     "output_type": "stream",
     "text": [
      "total 452M\n",
      "452M python3-ds-EXASOL-6.1.0-release-7TIV5K3JCG4VE2JS4HM6EKI33EBH7WPMNCKDOO5NRTOGFRTL3KVA.tar.gz\n",
      "4.0K python3-ds-EXASOL-6.1.0-release-7TIV5K3JCG4VE2JS4HM6EKI33EBH7WPMNCKDOO5NRTOGFRTL3KVA.tar.gz.sha512sum\n"
     ]
    }
   ],
   "source": [
    "bash.run(f\"\"\"\n",
    "ls -sh {slc_path}/.build_output/cache/exports\n",
    "\"\"\")"
   ]
  },
  {
   "cell_type": "markdown",
   "metadata": {},
   "source": [
    "## Testing the new Script-Language Container"
   ]
  },
  {
   "cell_type": "markdown",
   "metadata": {},
   "source": [
    "Now, that we have an updated container, we need to check if our changes were successful. For that we are going to upload the container to an Exasol Database and have a look into it. In this example, we are going to use a local Docker-DB started by `exaslct`, which uses our [integration-test-docker-environment](https://github.com/exasol/integration-test-docker-environment) in the background. \n",
    "\n",
    "**Note:** You could also use your own Exasol Database by changing the variables below. However, this Notebook must be able to access the BucketFS of your Exasol Database or you need to manually upload the container. "
   ]
  },
  {
   "cell_type": "code",
   "execution_count": 11,
   "metadata": {},
   "outputs": [],
   "source": [
    "DATABASE_HOST=\"localhost\"\n",
    "DATABASE_PORT=8888\n",
    "DATABASE_USER=\"sys\"\n",
    "DATABASE_PASSWORD=\"exasol\"\n",
    "BUCKETFS_PORT=6666\n",
    "BUCKETFS_USER=\"w\"\n",
    "BUCKETFS_PASSWORD=\"write\"\n",
    "BUCKETFS_NAME=\"bfsdefault\"\n",
    "BUCKET_NAME=\"default\"\n",
    "PATH_IN_BUCKET=\"container\""
   ]
  },
  {
   "cell_type": "markdown",
   "metadata": {},
   "source": [
    "### Starting a local Docker-DB for Testing"
   ]
  },
  {
   "cell_type": "markdown",
   "metadata": {},
   "source": [
    "#### Start the environment and forward the database and bucketfs ports to the specified host ports. \n",
    "\n",
    "**Note:** The Exasol Integration-Test-Docker-Environment requires Docker with privileged mode\n",
    "\n",
    "**Note:** Starting the environment can take between 3-5 min."
   ]
  },
  {
   "cell_type": "code",
   "execution_count": 12,
   "metadata": {},
   "outputs": [
    {
     "name": "stdout",
     "output_type": "stream",
     "text": [
      "~/data-science-examples_slc/tutorials/script-languages/script-languages-release ~/data-science-examples_slc/tutorials/script-languages\n",
      "    - 1 DockerBuildImageTask_f396c9943e(image_name=exasol/script-language-container:db-test-container)\n",
      "    - 1 DockerCreateImageTask_f396c9943e(image_name=exasol/script-language-container:db-test-container)\n",
      "    - 1 DockerTestContainerBuild(caller_output_path=[])\n",
      "    ...\n",
      "\n",
      "This progress looks :) because there were no failed tasks or missing dependencies\n",
      "\n",
      "===== Luigi Execution Summary =====\n",
      "\n",
      "The command took 304.32851 s\n"
     ]
    }
   ],
   "source": [
    "bash.run(f\"\"\"\n",
    "pushd {slc_path}\n",
    "./exaslct spawn-test-environment --environment-name test --database-port-forward {DATABASE_PORT} --bucketfs-port-forward {BUCKETFS_PORT} --db-mem-size 8GB --db-disk-size 8GB &> integration-test-docker-environment.log\n",
    "tail integration-test-docker-environment.log\n",
    "\"\"\")"
   ]
  },
  {
   "cell_type": "markdown",
   "metadata": {},
   "source": [
    "### Upload the Container to the Database"
   ]
  },
  {
   "cell_type": "markdown",
   "metadata": {},
   "source": [
    "To use our container we need to upload it to the BucketFS . If the build machine has access to the BucketFS we can do it with the `exaslct upload` command, otherwise you need to export the container and transfer it to a machine that has access to the BucketFS and upload it via `curl`, as described in our [documentation](https://docs.exasol.com/database_concepts/udf_scripts/adding_new_packages_script_languages.htm)."
   ]
  },
  {
   "cell_type": "code",
   "execution_count": 15,
   "metadata": {},
   "outputs": [
    {
     "name": "stdout",
     "output_type": "stream",
     "text": [
      "~/data-science-examples_slc/tutorials/script-languages/script-languages-release ~/data-science-examples_slc/tutorials/script-languages\n",
      "    - 1 AnalyzeFlavorBaseDeps_2e96c57cff(flavor_path=flavors/python-3.6-data-science-EXASOL-6.2.0)\n",
      "    - 1 AnalyzeFlavorCustomization_2e96c57cff(flavor_path=flavors/python-3.6-data-science-EXASOL-6.2.0)\n",
      "    - 1 AnalyzeLanguageDeps_2e96c57cff(flavor_path=flavors/python-3.6-data-science-EXASOL-6.2.0)\n",
      "    ...\n",
      "\n",
      "This progress looks :) because there were no failed tasks or missing dependencies\n",
      "\n",
      "===== Luigi Execution Summary =====\n",
      "\n",
      "The command took 61.712743 s\n",
      "\n",
      "Uploaded .build_output/cache/exports/python-3.6-data-science-EXASOL-6.2.0-release-JFWKRAIGPBEQQLCP6Z5YDXK4J4NUNMNQZEDDRUAQOH6SR7IRK6DQ.tar.gz to\n",
      "http://localhost:6666/default/container/python-3.6-data-science-EXASOL-6.2.0-release-current.tar.gz\n",
      "\n",
      "\n",
      "In SQL, you can activate the languages supported by the python-3.6-data-science-EXASOL-6.2.0\n",
      "flavor by using the following statements:\n",
      "\n",
      "\n",
      "To activate the flavor only for the current session:\n",
      "\n",
      "ALTER SESSION SET SCRIPT_LANGUAGES='PYTHON3=localzmq+protobuf:///bfsdefault/default/container/python-3.6-data-science-EXASOL-6.2.0-release-current?lang=python#buckets/bfsdefault/default/container/python-3.6-data-science-EXASOL-6.2.0-release-current/exaudf/exaudfclient_py3';\n",
      "\n",
      "\n",
      "To activate the flavor on the system:\n",
      "\n",
      "ALTER SYSTEM SET SCRIPT_LANGUAGES='PYTHON3=localzmq+protobuf:///bfsdefault/default/container/python-3.6-data-science-EXASOL-6.2.0-release-current?lang=python#buckets/bfsdefault/default/container/python-3.6-data-science-EXASOL-6.2.0-release-current/exaudf/exaudfclient_py3';\n",
      "\n",
      "=================================================\n",
      "\n"
     ]
    }
   ],
   "source": [
    "bash.run(f\"\"\"\n",
    "pushd {slc_path}\n",
    "./exaslct upload \\\n",
    "    --flavor-path flavors/python-3.6-data-science-EXASOL-6.2.0 \\\n",
    "    --database-host {DATABASE_HOST}\\\n",
    "    --bucketfs-port {BUCKETFS_PORT} \\\n",
    "    --bucketfs-username {BUCKETFS_USER} \\\n",
    "    --bucketfs-password {BUCKETFS_PASSWORD} \\\n",
    "    --bucketfs-name {BUCKETFS_NAME} \\\n",
    "    --bucket-name {BUCKET_NAME} \\\n",
    "    --path-in-bucket {PATH_IN_BUCKET} \\\n",
    "    --release-name current &> upload.log\n",
    "tail -n 30 upload.log\n",
    "\"\"\")"
   ]
  },
  {
   "cell_type": "markdown",
   "metadata": {},
   "source": [
    "### Getting the language container activation statement without upload"
   ]
  },
  {
   "cell_type": "markdown",
   "metadata": {},
   "source": [
    "Sometimes you can't use the `upload` command to upload your container to the BucketFS. To get the language activation statement regardless of that, you can use the `generate-language-activation` command."
   ]
  },
  {
   "cell_type": "code",
   "execution_count": 16,
   "metadata": {},
   "outputs": [
    {
     "name": "stdout",
     "output_type": "stream",
     "text": [
      "~/data-science-examples_slc/tutorials/script-languages/script-languages-release ~/data-science-examples_slc/tutorials/script-languages\n",
      "⠸ Creating virtual environment...created virtual environment CPython3.7.9.final.0-64 in 809ms\n",
      "  creator CPython3Posix(dest=/home/jupyter/.local/share/virtualenvs/script-languages-3qhPNKNr, clear=False, no_vcs_ignore=False, global=False)\n",
      "  seeder FromAppData(download=False, pip=bundle, setuptools=bundle, wheel=bundle, via=copy, app_data_dir=/home/jupyter/.local/share/virtualenv)\n",
      "    added seed packages: pip==20.3.1, setuptools==51.0.0, wheel==0.36.1\n",
      "  activators BashActivator,CShellActivator,FishActivator,PowerShellActivator,PythonActivator,XonshActivator\n",
      "\n",
      "\b✔ Successfully created virtual environment! \n",
      "Virtualenv location: /home/jupyter/.local/share/virtualenvs/script-languages-3qhPNKNr\n",
      "Installing dependencies from Pipfile.lock (65fd89)...\n",
      "To activate this project's virtualenv, run pipenv shell.\n",
      "Alternatively, run a command inside the virtualenv with pipenv run.\n",
      "Usage: exaslct.py generate-language-activation [OPTIONS]\n",
      "Try 'exaslct.py generate-language-activation --help' for help.\n",
      "\n",
      "Error: Invalid value for '--flavor-path': Directory 'flavors/python3-ds-EXASOL-6.1.0' does not exist.\n"
     ]
    }
   ],
   "source": [
    "bash.run(f\"\"\"\n",
    "pushd {slc_path}\n",
    "./exaslct generate-language-activation \\\n",
    "    --flavor-path flavors/python3-ds-EXASOL-6.1.0 \\\n",
    "    --bucketfs-name {BUCKETFS_NAME} \\\n",
    "    --bucket-name {BUCKET_NAME} \\\n",
    "    --path-in-bucket {PATH_IN_BUCKET} \\\n",
    "    --container-name current  2>&1 | tail -n 15\n",
    "\"\"\")"
   ]
  },
  {
   "cell_type": "markdown",
   "metadata": {},
   "source": [
    "### Connecting to the database and activate the container"
   ]
  },
  {
   "cell_type": "markdown",
   "metadata": {},
   "source": [
    "Once we have a connection to the database we run the `ALTER SESSION` statement or `ALTER SYSTEM` statement (if you want to activate the container permanently and globally) we got from the upload."
   ]
  },
  {
   "cell_type": "code",
   "execution_count": 13,
   "metadata": {},
   "outputs": [],
   "source": [
    "def connect():\n",
    "    con=pyexasol.connect(dsn=f\"{DATABASE_HOST}:{DATABASE_PORT}\",user=DATABASE_USER,password=DATABASE_PASSWORD)\n",
    "    con.execute(\"ALTER SESSION SET SCRIPT_LANGUAGES='PYTHON3=builtin_python3 PYTHON3_DS=localzmq+protobuf:///bfsdefault/default/container/python3-ds-EXASOL-6.1.0-release-current?lang=python#buckets/bfsdefault/default/container/python3-ds-EXASOL-6.1.0-release-current/exaudf/exaudfclient_py3';\")\n",
    "    con.execute(\"OPEN SCHEMA TEST\")\n",
    "    return con"
   ]
  },
  {
   "cell_type": "markdown",
   "metadata": {},
   "source": [
    "### Check if your customization did work"
   ]
  },
  {
   "cell_type": "markdown",
   "metadata": {},
   "source": [
    "We first create a helper UDF which allows us to run arbitrary shell commands inside of a UDF instance. With that we can easily inspect the container."
   ]
  },
  {
   "cell_type": "code",
   "execution_count": 14,
   "metadata": {},
   "outputs": [
    {
     "data": {
      "text/plain": [
       "<ExaStatement session_id=1692017727030951936 stmt_idx=3>"
      ]
     },
     "execution_count": 14,
     "metadata": {},
     "output_type": "execute_result"
    }
   ],
   "source": [
    "con = connect()\n",
    "\n",
    "con.execute(textwrap.dedent(\"\"\"\n",
    "CREATE OR REPLACE PYTHON3_DS SCALAR SCRIPT execute_shell_command_py3(command VARCHAR(2000000), split_output boolean)\n",
    "EMITS (lines VARCHAR(2000000)) AS\n",
    "import subprocess\n",
    "\n",
    "def run(ctx):\n",
    "    try:\n",
    "        p = subprocess.Popen(ctx.command,\n",
    "                             stdout    = subprocess.PIPE,\n",
    "                             stderr    = subprocess.STDOUT,\n",
    "                             close_fds = True,\n",
    "                             shell     = True)\n",
    "        out, err = p.communicate()\n",
    "        if isinstance(out,bytes):\n",
    "            out=out.decode('utf8')\n",
    "        if ctx.split_output:\n",
    "            for line in out.strip().split('\\\\n'):\n",
    "                ctx.emit(line)\n",
    "        else:\n",
    "            ctx.emit(out)\n",
    "    finally:\n",
    "        if p is not None:\n",
    "            try: p.kill()\n",
    "            except: pass\n",
    "/\n",
    "\"\"\"))"
   ]
  },
  {
   "cell_type": "markdown",
   "metadata": {},
   "source": [
    "#### Check with \"pip list\" if the  \"xgboost\" package is installed"
   ]
  },
  {
   "cell_type": "markdown",
   "metadata": {},
   "source": [
    "We use our helper UDF to run `python3 -m pip list` directly in the container and get the list of currently avaiable python3 packages."
   ]
  },
  {
   "cell_type": "code",
   "execution_count": 31,
   "metadata": {},
   "outputs": [
    {
     "name": "stdout",
     "output_type": "stream",
     "text": [
      "Package                          Version\n",
      "-------------------------------- ---------------\n",
      "absl-py                          0.11.0\n",
      "astor                            0.8.1\n",
      "autograd                         1.3\n",
      "autograd-gamma                   0.5.0\n",
      "cached-property                  1.5.2\n",
      "certifi                          2020.12.5\n",
      "chardet                          4.0.0\n",
      "click                            7.1.2\n",
      "cycler                           0.10.0\n",
      "exasol-bucketfs-utils-python     0.1.0\n",
      "exasol-data-science-utils-python 0.1.0\n",
      "formulaic                        0.2.3\n",
      "future                           0.18.2\n",
      "gast                             0.4.0\n",
      "gensim                           3.8.3\n",
      "grpcio                           1.35.0\n",
      "h5py                             3.1.0\n",
      "idna                             2.10\n",
      "imbalanced-learn                 0.7.0\n",
      "importlib-metadata               3.4.0\n",
      "interface-meta                   1.2.2\n",
      "joblib                           1.0.1\n",
      "jsonpickle                       2.0.0\n",
      "Keras                            2.3.1\n",
      "Keras-Applications               1.0.8\n",
      "Keras-Preprocessing              1.1.2\n",
      "kiwisolver                       1.3.1\n",
      "kmodes                           0.11.0\n",
      "lifelines                        0.25.9\n",
      "lxml                             4.6.2\n",
      "Markdown                         3.3.3\n",
      "matplotlib                       3.3.4\n",
      "mlxtend                          0.18.0\n",
      "mock                             4.0.3\n",
      "nltk                             3.5\n",
      "numpy                            1.19.5\n",
      "pandas                           1.1.5\n",
      "patsy                            0.5.1\n",
      "Pillow                           8.1.0\n",
      "pip                              20.3.4\n",
      "protobuf                         3.14.0\n",
      "pyasn1                           0.4.8\n",
      "pycurl                           7.43.0.6\n",
      "pyexasol                         0.18.0\n",
      "pygobject                        3.26.1\n",
      "pyparsing                        2.4.7\n",
      "python-apt                       1.6.5+ubuntu0.5\n",
      "python-dateutil                  2.8.1\n",
      "pytz                             2021.1\n",
      "PyYAML                           5.4.1\n",
      "regex                            2020.11.13\n",
      "requests                         2.25.1\n",
      "rsa                              4.7.1\n",
      "scikit-learn                     0.24.1\n",
      "scipy                            1.5.4\n",
      "seaborn                          0.11.1\n",
      "setuptools                       53.0.0\n",
      "simplejson                       3.17.2\n",
      "six                              1.15.0\n",
      "smart-open                       4.2.0\n",
      "statsmodels                      0.12.2\n",
      "tensorboard                      1.13.1\n",
      "tensorflow                       1.13.1\n",
      "tensorflow-estimator             1.13.0\n",
      "tensorflow-hub                   0.4.0\n",
      "termcolor                        1.1.0\n",
      "threadpoolctl                    2.1.0\n",
      "tqdm                             4.57.0\n",
      "typing-extensions                3.7.4.3\n",
      "ujson                            4.0.2\n",
      "urllib3                          1.26.3\n",
      "websocket-client                 0.57.0\n",
      "Werkzeug                         1.0.1\n",
      "wheel                            0.36.2\n",
      "wrapt                            1.12.1\n",
      "zipp                             3.4.0\n"
     ]
    }
   ],
   "source": [
    "con = connect()\n",
    "rs=con.execute(\"\"\"select execute_shell_command_py3('python3 -m pip list', true)\"\"\")\n",
    "for r in rs: \n",
    "    print(r[0])"
   ]
  },
  {
   "cell_type": "markdown",
   "metadata": {},
   "source": [
    "By running `pip list` directly in the container, we see what is currently available in the container. However, sometimes this might not be what we expected. For these cases, `exaslct` stores information about the flavor the container was build from within the container."
   ]
  },
  {
   "cell_type": "markdown",
   "metadata": {},
   "source": [
    "#### Embedded Build Information of the Container"
   ]
  },
  {
   "cell_type": "markdown",
   "metadata": {},
   "source": [
    "Here we see an overview about the build information which `exaslct` embedded into the container. `Exaslct` stores all packages lists (as defined in the flavor and what actually got installed), the final Dockerfiles and the image info. The image info describes how the underlying Docker images of the container got built. The build information is stored in the `/build_info` directory in the container. We can use again our helper UDF to inspect the build information."
   ]
  },
  {
   "cell_type": "code",
   "execution_count": 23,
   "metadata": {},
   "outputs": [
    {
     "name": "stdout",
     "output_type": "stream",
     "text": [
      "/build_info\n",
      "/build_info/image_info\n",
      "/build_info/image_info/python3-ds-EXASOL-6.1.0-language_deps\n",
      "/build_info/image_info/python3-ds-EXASOL-6.1.0-build_deps\n",
      "/build_info/image_info/python3-ds-EXASOL-6.1.0-udfclient_deps\n",
      "/build_info/image_info/python3-ds-EXASOL-6.1.0-release\n",
      "/build_info/image_info/python3-ds-EXASOL-6.1.0-flavor_base_deps\n",
      "/build_info/image_info/python3-ds-EXASOL-6.1.0-build_run\n",
      "/build_info/image_info/python3-ds-EXASOL-6.1.0-flavor_customization\n",
      "/build_info/dockerfiles\n",
      "/build_info/dockerfiles/python3-ds-EXASOL-6.1.0-language_deps\n",
      "/build_info/dockerfiles/python3-ds-EXASOL-6.1.0-build_deps\n",
      "/build_info/dockerfiles/python3-ds-EXASOL-6.1.0-udfclient_deps\n",
      "/build_info/dockerfiles/python3-ds-EXASOL-6.1.0-release\n",
      "/build_info/dockerfiles/python3-ds-EXASOL-6.1.0-flavor_base_deps\n",
      "/build_info/dockerfiles/python3-ds-EXASOL-6.1.0-build_run\n",
      "/build_info/dockerfiles/python3-ds-EXASOL-6.1.0-flavor_customization\n",
      "/build_info/actual_installed_packages\n",
      "/build_info/actual_installed_packages/release\n",
      "/build_info/actual_installed_packages/release/apt_get_packages\n",
      "/build_info/actual_installed_packages/release/python3_pip_packages\n",
      "/build_info/packages\n",
      "/build_info/packages/flavor_customization\n",
      "/build_info/packages/flavor_customization/apt_get_packages\n",
      "/build_info/packages/flavor_customization/python3_pip_packages\n",
      "/build_info/packages/udfclient_deps\n",
      "/build_info/packages/udfclient_deps/apt_get_packages\n",
      "/build_info/packages/language_deps\n",
      "/build_info/packages/language_deps/apt_get_packages\n",
      "/build_info/packages/language_deps/pip3_packages\n",
      "/build_info/packages/flavor_base_deps\n",
      "/build_info/packages/flavor_base_deps/apt_get_packages\n",
      "/build_info/packages/flavor_base_deps/pip3_packages\n",
      "/build_info/packages/build_deps\n",
      "/build_info/packages/build_deps/apt_get_packages\n"
     ]
    }
   ],
   "source": [
    "con = connect()\n",
    "rs=con.execute(\"\"\"select execute_shell_command_py3('find /build_info', true)\"\"\")\n",
    "for r in rs: \n",
    "    print(r[0])"
   ]
  },
  {
   "cell_type": "markdown",
   "metadata": {},
   "source": [
    "The following command shows for example, which python3 package pip found directly after the build of the container image."
   ]
  },
  {
   "cell_type": "code",
   "execution_count": 24,
   "metadata": {},
   "outputs": [
    {
     "name": "stdout",
     "output_type": "stream",
     "text": [
      "absl-py|0.11.0\n",
      "astor|0.8.1\n",
      "autograd|1.3\n",
      "autograd-gamma|0.5.0\n",
      "cached-property|1.5.2\n",
      "click|7.1.2\n",
      "cycler|0.10.0\n",
      "formulaic|0.2.3\n",
      "future|0.18.2\n",
      "gast|0.4.0\n",
      "gensim|3.8.3\n",
      "grpcio|1.35.0\n",
      "h5py|3.1.0\n",
      "imbalanced-learn|0.7.0\n",
      "importlib-metadata|3.4.0\n",
      "interface-meta|1.2.2\n",
      "joblib|1.0.1\n",
      "Keras|2.3.1\n",
      "Keras-Applications|1.0.8\n",
      "Keras-Preprocessing|1.1.2\n",
      "kiwisolver|1.3.1\n",
      "kmodes|0.10.2\n",
      "lifelines|0.25.9\n",
      "lxml|4.6.2\n",
      "Markdown|3.3.3\n",
      "matplotlib|3.3.4\n",
      "mock|4.0.3\n",
      "nltk|3.5\n",
      "numpy|1.19.5\n",
      "pandas|1.1.5\n",
      "patsy|0.5.1\n",
      "Pillow|8.1.0\n",
      "pip|20.3.4\n",
      "protobuf|3.14.0\n",
      "pyasn1|0.4.8\n",
      "pycurl|7.43.0.6\n",
      "pyexasol|0.17.0\n",
      "pygobject|3.26.1\n",
      "pyparsing|2.4.7\n",
      "python-apt|1.6.5+ubuntu0.5\n",
      "python-dateutil|2.8.1\n",
      "pytz|2021.1\n",
      "PyYAML|5.4.1\n",
      "regex|2020.11.13\n",
      "rsa|4.7\n",
      "scikit-learn|0.24.1\n",
      "scipy|1.5.4\n",
      "seaborn|0.11.1\n",
      "setuptools|53.0.0\n",
      "six|1.15.0\n",
      "smart-open|4.1.2\n",
      "statsmodels|0.12.2\n",
      "tensorboard|1.13.1\n",
      "tensorflow|1.13.1\n",
      "tensorflow-estimator|1.13.0\n",
      "tensorflow-hub|0.4.0\n",
      "termcolor|1.1.0\n",
      "threadpoolctl|2.1.0\n",
      "tqdm|4.56.1\n",
      "typing-extensions|3.7.4.3\n",
      "ujson|4.0.2\n",
      "websocket-client|0.57.0\n",
      "Werkzeug|1.0.1\n",
      "wheel|0.36.2\n",
      "wrapt|1.12.1\n",
      "xgboost|1.3.3\n",
      "zipp|3.4.0\n"
     ]
    }
   ],
   "source": [
    "con = connect()\n",
    "rs=con.execute(\"\"\"select execute_shell_command_py3('cat /build_info/actual_installed_packages/release/python3_pip_packages', true)\"\"\")\n",
    "for r in rs: \n",
    "    print(r[0])"
   ]
  },
  {
   "cell_type": "markdown",
   "metadata": {},
   "source": [
    "You could for example compare this to the package list of the `flavor-customization` build step and check if all your requested packages got installed."
   ]
  },
  {
   "cell_type": "code",
   "execution_count": 25,
   "metadata": {},
   "outputs": [
    {
     "name": "stdout",
     "output_type": "stream",
     "text": [
      "# This file specifies the package list which gets installed via pip for python3.\n",
      "# You must specify the the package and its version separated by a |.\n",
      "# We recommend here the usage of package versions, to ensure that the container \n",
      "# builds are reproducible. However, we allow also packages without version.\n",
      "# As you can see, this file can contain comments which start with #.\n",
      "# If a line starts with # the whole line is a comment, however you can\n",
      "# also start a comment after the package definition.\n",
      "None\n",
      "#tensorflow-probability|0.9.0\n",
      "xgboost|1.3.3\n"
     ]
    }
   ],
   "source": [
    "con = connect()\n",
    "rs=con.execute(\"\"\"select execute_shell_command_py3('cat /build_info/packages/flavor_customization/python3_pip_packages', true)\"\"\")\n",
    "for r in rs: \n",
    "    print(r[0])"
   ]
  },
  {
   "cell_type": "markdown",
   "metadata": {},
   "source": [
    "### Testing the new package"
   ]
  },
  {
   "cell_type": "markdown",
   "metadata": {},
   "source": [
    "After we made sure that the required packages are installed, we need to try importing and using it. Importing is usually a good first test if a package got successfully installed, because often you might already get errors at this step. However, sometimes you only will recognize errors when using the package. We recommend to have a test suite for each new package to check if it works properly before you start your UDF development. It is usually easier to debug problems if you have very narrow tests."
   ]
  },
  {
   "cell_type": "code",
   "execution_count": 26,
   "metadata": {},
   "outputs": [
    {
     "data": {
      "text/plain": [
       "[('finish',)]"
      ]
     },
     "execution_count": 26,
     "metadata": {},
     "output_type": "execute_result"
    }
   ],
   "source": [
    "con = connect()\n",
    "\n",
    "con.execute(textwrap.dedent(\"\"\"\n",
    "CREATE OR REPLACE PYTHON3_DS SET SCRIPT test_xgboost(i integer)\n",
    "EMITS (o VARCHAR(2000000)) AS\n",
    "\n",
    "def run(ctx):\n",
    "    import xgboost as xgb\n",
    "    \n",
    "    ctx.emit(\"finish\")\n",
    "/\n",
    "\"\"\"))\n",
    "\n",
    "rs = con.execute(\"select test_xgboost(1)\")\n",
    "rs.fetchall()"
   ]
  }
 ],
 "metadata": {
  "environment": {
   "name": "common-cpu.m61",
   "type": "gcloud",
   "uri": "gcr.io/deeplearning-platform-release/base-cpu:m61"
  },
  "kernelspec": {
   "display_name": "Python [conda env:root] *",
   "language": "python",
   "name": "conda-root-py"
  },
  "language_info": {
   "codemirror_mode": {
    "name": "ipython",
    "version": 3
   },
   "file_extension": ".py",
   "mimetype": "text/x-python",
   "name": "python",
   "nbconvert_exporter": "python",
   "pygments_lexer": "ipython3",
   "version": "3.7.9"
  }
 },
 "nbformat": 4,
 "nbformat_minor": 4
}
