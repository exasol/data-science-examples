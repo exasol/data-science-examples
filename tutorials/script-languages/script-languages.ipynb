{
 "cells": [
  {
   "cell_type": "markdown",
   "metadata": {},
   "source": [
    "# Using the Script-Language Container"
   ]
  },
  {
   "cell_type": "markdown",
   "metadata": {},
   "source": [
    "A [Script-Language Container](https://github.com/exasol/script-languages-release) for the Exasol database consists of a Linux container with a complete Linux distribution and all required libraries, such as a script client. The script client is responsible for the communication with the database and for executing the script code. It allows to also include user specific libraries which can then be used from within the UDF's."
   ]
  },
  {
   "cell_type": "markdown",
   "metadata": {},
   "source": [
    "## Prerequisites"
   ]
  },
  {
   "cell_type": "markdown",
   "metadata": {},
   "source": [
    "To run this Notebook you need:\n",
    "- Jupyter with Python3.6+ Kernel\n",
    "- Docker 17.05+\n",
    "- git\n",
    "- Your Notebook user needs permissions to run Docker"
   ]
  },
  {
   "cell_type": "markdown",
   "metadata": {},
   "source": [
    "## Preparing the Notebook"
   ]
  },
  {
   "cell_type": "markdown",
   "metadata": {},
   "source": [
    "First we need to install and import a few Python packages required in the course of this Notebook."
   ]
  },
  {
   "cell_type": "code",
   "execution_count": 3,
   "metadata": {},
   "outputs": [
    {
     "name": "stdout",
     "output_type": "stream",
     "text": [
      "Requirement already satisfied: pexpect==4.8.0 in /home/ubuntu/.local/lib/python3.8/site-packages (from -r requirements.txt (line 1)) (4.8.0)\n",
      "Requirement already satisfied: pyexasol==0.16.1 in /home/ubuntu/.local/lib/python3.8/site-packages (from -r requirements.txt (line 2)) (0.16.1)\n",
      "Requirement already satisfied: ptyprocess>=0.5 in /home/ubuntu/.local/lib/python3.8/site-packages (from pexpect==4.8.0->-r requirements.txt (line 1)) (0.7.0)\n",
      "Requirement already satisfied: websocket-client>=0.47.0 in /home/ubuntu/.local/lib/python3.8/site-packages (from pyexasol==0.16.1->-r requirements.txt (line 2)) (1.4.1)\n",
      "Requirement already satisfied: rsa in /home/ubuntu/.local/lib/python3.8/site-packages (from pyexasol==0.16.1->-r requirements.txt (line 2)) (4.9)\n",
      "Requirement already satisfied: pyasn1>=0.1.3 in /usr/lib/python3/dist-packages (from rsa->pyexasol==0.16.1->-r requirements.txt (line 2)) (0.4.2)\n"
     ]
    }
   ],
   "source": [
    "!pip install -r requirements.txt"
   ]
  },
  {
   "cell_type": "code",
   "execution_count": 6,
   "metadata": {},
   "outputs": [],
   "source": [
    "import bash_runner as bash # A helper to run bash with interactive output from python\n",
    "import importlib\n",
    "from pathlib import Path\n",
    "import pyexasol\n",
    "import requests\n",
    "import textwrap"
   ]
  },
  {
   "cell_type": "markdown",
   "metadata": {},
   "source": [
    "## Cloning the Git Repository"
   ]
  },
  {
   "cell_type": "markdown",
   "metadata": {},
   "source": [
    "To use the [Script-Language Container](https://github.com/exasol/script-languages-release) we need to clone the Git Repository with\n",
    "\n",
    "```\n",
    "git clone https://github.com/exasol/script-languages-release --recursive\n",
    "```\n",
    "\n",
    "We need to use `--recursive` to also clone the sub-modules of the repository.\n",
    "\n",
    "**Note:**You can use the following code snippet, that either clones the repository if it isn't already cloned or resets it to the current origin/master branch, such that we have always a defined state for the remaining Notebook."
   ]
  },
  {
   "cell_type": "code",
   "execution_count": 7,
   "metadata": {},
   "outputs": [
    {
     "name": "stdout",
     "output_type": "stream",
     "text": [
      "Cloning into 'script-languages-release'...\n",
      "remote: Enumerating objects: 7350, done.\u001b[K\n",
      "remote: Counting objects: 100% (1346/1346), done.\u001b[K\n",
      "remote: Compressing objects: 100% (761/761), done.\u001b[K\n",
      "remote: Total 7350 (delta 696), reused 1178 (delta 562), pack-reused 6004\u001b[K\n",
      "Receiving objects: 100% (7350/7350), 1.12 MiB | 22.00 MiB/s, done.\n",
      "Resolving deltas: 100% (3975/3975), done.\n",
      "Submodule 'script-languages' (https://github.com/exasol/script-languages.git) registered for path 'script-languages'\n",
      "Cloning into '/home/ubuntu/notebooks/script-languages-release/script-languages'...\n",
      "remote: Enumerating objects: 8453, done.        \n",
      "remote: Counting objects: 100% (1014/1014), done.        \n",
      "remote: Compressing objects: 100% (527/527), done.        \n",
      "remote: Total 8453 (delta 516), reused 835 (delta 446), pack-reused 7439        \n",
      "Receiving objects: 100% (8453/8453), 19.25 MiB | 22.40 MiB/s, done.\n",
      "Resolving deltas: 100% (4790/4790), done.\n",
      "Submodule path 'script-languages': checked out '0bd87605635d5417ab9d0aeeb7fd0deabe4ef6d4'\n"
     ]
    }
   ],
   "source": [
    "slc_path=\"script-languages-release\"\n",
    "if not Path(slc_path).exists():\n",
    "    bash.run(\"\"\"\n",
    "    git clone https://github.com/exasol/script-languages-release --recursive\n",
    "    \"\"\")\n",
    "else:\n",
    "    bash.run(f\"\"\"\n",
    "    cd {slc_path}\n",
    "    git fetch\n",
    "    git reset --hard origin/master \n",
    "    git submodule foreach git reset --hard origin/master \n",
    "    \"\"\")"
   ]
  },
  {
   "cell_type": "markdown",
   "metadata": {},
   "source": [
    "## Buiding and Exporting a Container"
   ]
  },
  {
   "cell_type": "markdown",
   "metadata": {},
   "source": [
    "To build and export the container you can use `exaslct`. It first builds a series of Docker images and then exports the container as a `tar.gz` package. We provide several flavors of containers with different capabilities. You can find out more about the flavors in our [flavor documentation on Github.](https://github.com/exasol/script-languages-release/blob/master/flavors/README.md). Flavors are described by a flavor definition in the directory `flavors/`. Here is an overview of the available flavors:"
   ]
  },
  {
   "cell_type": "code",
   "execution_count": 8,
   "metadata": {},
   "outputs": [
    {
     "name": "stdout",
     "output_type": "stream",
     "text": [
      "script-languages-release/flavors/python-3.7-minimal-EXASOL-6.2.0\n",
      "script-languages-release/flavors/standard-EXASOL-8.0.0\n",
      "script-languages-release/flavors/standard-EXASOL-7.0.0\n",
      "script-languages-release/flavors/r-4-minimal-EXASOL-6.2.0\n",
      "script-languages-release/flavors/python-3.6-minimal-EXASOL-6.2.0\n",
      "script-languages-release/flavors/python-3.8-minimal-EXASOL-6.2.0\n",
      "script-languages-release/flavors/standard-EXASOL-7.1.0\n",
      "script-languages-release/flavors/standard-EXASOL-7.1.0-without-python2.7\n"
     ]
    }
   ],
   "source": [
    "bash.run(f\"\"\"\n",
    "find {slc_path}/flavors/  -maxdepth 1 -name '*EXASOL*'\n",
    "\"\"\")"
   ]
  },
  {
   "cell_type": "markdown",
   "metadata": {},
   "source": [
    "For this example, we use the `flavors/python-3.8-minimal-EXASOL-6.2.0` flavor and export it to the `containers` directory.\n",
    "\n",
    "A container gets built via a series of Docker images, and then it's exported into a `tar` file."
   ]
  },
  {
   "cell_type": "code",
   "execution_count": 9,
   "metadata": {},
   "outputs": [
    {
     "name": "stdout",
     "output_type": "stream",
     "text": [
      "~/notebooks/script-languages-release ~/notebooks\n",
      "container-tool-runner-0.15.0: Pulling from exasol/script-language-container\n",
      "\n",
      "\u001b[1Bec22a9e9: Pulling fs layer \n",
      "\u001b[1Bdc18882e: Pulling fs layer \n",
      "\u001b[1Bba24f29a: Pulling fs layer \n",
      "\u001b[1B888ef4ae: Pulling fs layer \n",
      "\u001b[1B38f67598: Pulling fs layer \n",
      "\u001b[1Bf06dbf7e: Pulling fs layer \n",
      "\u001b[1Bcad4f063: Pulling fs layer \n",
      "\u001b[1B9df25eb9: Pulling fs layer \n",
      "\u001b[1B9ff3892d: Pulling fs layer \n",
      "\u001b[1B8642517d: Pulling fs layer \n",
      "\u001b[1Be751e299: Pulling fs layer \n",
      "\u001b[1B5d452c69: Pulling fs layer \n",
      "\u001b[1BDigest: sha256:b623e78bd3784908965c3dfe14351d0a8c3c9741f4edd8110174f926281341c2\n",
      "Status: Downloaded newer image for exasol/script-language-container:container-tool-runner-0.15.0\n",
      "docker.io/exasol/script-language-container:container-tool-runner-0.15.0\n",
      "The command took 105.041045 s\n",
      "\n",
      "Cached container under /home/ubuntu/notebooks/script-languages-release/.build_output/cache/exports/python-3.8-minimal-EXASOL-6.2.0-release-ZOLA663JXOLQ6D3BGWBRLRI3G57HAHQGGU2CUYISFNDSPMJAO23Q.tar.gz\n",
      "\n",
      "Copied container to containers/python-3.8-minimal-EXASOL-6.2.0_release.tar.gz\n",
      "\n",
      "=================================================\n",
      "\n"
     ]
    }
   ],
   "source": [
    "bash.run(f\"\"\"\n",
    "pushd {slc_path}\n",
    "./exaslct export --flavor-path flavors/python-3.8-minimal-EXASOL-6.2.0 --export-path containers\n",
    "\"\"\")"
   ]
  },
  {
   "cell_type": "markdown",
   "metadata": {},
   "source": [
    "### What to do if something doesn't work?"
   ]
  },
  {
   "cell_type": "markdown",
   "metadata": {},
   "source": [
    "During the build it can happen that external package repositories might not be available or something is wrong on your machine where you run the build. For these cases, `exaslct` stores many logs to identify the problem."
   ]
  },
  {
   "cell_type": "markdown",
   "metadata": {},
   "source": [
    "#### Exaslsct Log"
   ]
  },
  {
   "cell_type": "markdown",
   "metadata": {},
   "source": [
    "The main log for `exaslct` is stored directly as `main.log` in the build output of the job. With the following command you can find the main logs for all previous executions."
   ]
  },
  {
   "cell_type": "code",
   "execution_count": 13,
   "metadata": {},
   "outputs": [
    {
     "name": "stdout",
     "output_type": "stream",
     "text": [
      "~/notebooks/script-languages-release ~/notebooks\n",
      ".build_output/jobs/logs/main.log\n"
     ]
    }
   ],
   "source": [
    "bash.run(f\"\"\"\n",
    "pushd {slc_path}\n",
    "find .build_output -name 'main.log'\n",
    "\"\"\")"
   ]
  },
  {
   "cell_type": "markdown",
   "metadata": {},
   "source": [
    "With the following command you can show the log file from the last execution."
   ]
  },
  {
   "cell_type": "code",
   "execution_count": 14,
   "metadata": {},
   "outputs": [
    {
     "name": "stdout",
     "output_type": "stream",
     "text": [
      "~/notebooks/script-languages-release ~/notebooks\n",
      "2022-09-22 14:25:28,866 - luigi-interface.AnalyzeRelease - DEBUG - AnalyzeRelease_a35e3e0aa1(job_id=2022_09_22_14_23_43_ExportContainers, no_cache=False, flavor_path=flavors/python-3.8-minimal-EXASOL-6.2.0): Cleaning up\n",
      "2022-09-22 14:25:28,867 - luigi-interface.AnalyzeLanguageDeps - DEBUG - AnalyzeLanguageDeps_a35e3e0aa1(job_id=2022_09_22_14_23_43_ExportContainers, no_cache=False, flavor_path=flavors/python-3.8-minimal-EXASOL-6.2.0): Cleaning up\n",
      "2022-09-22 14:25:28,867 - luigi-interface.AnalyzeUDFClientDeps - DEBUG - AnalyzeUDFClientDeps_a35e3e0aa1(job_id=2022_09_22_14_23_43_ExportContainers, no_cache=False, flavor_path=flavors/python-3.8-minimal-EXASOL-6.2.0): Cleaning up\n",
      "2022-09-22 14:25:28,869 - luigi-interface.AnalyzeUDFClientDeps - DEBUG - AnalyzeUDFClientDeps_a35e3e0aa1(job_id=2022_09_22_14_23_43_ExportContainers, no_cache=False, flavor_path=flavors/python-3.8-minimal-EXASOL-6.2.0): Cleanup finished\n",
      "2022-09-22 14:25:28,870 - luigi-interface.AnalyzeLanguageDeps - DEBUG - AnalyzeLanguageDeps_a35e3e0aa1(job_id=2022_09_22_14_23_43_ExportContainers, no_cache=False, flavor_path=flavors/python-3.8-minimal-EXASOL-6.2.0): Cleanup finished\n",
      "2022-09-22 14:25:28,870 - luigi-interface.AnalyzeBuildRun - DEBUG - AnalyzeBuildRun_a35e3e0aa1(job_id=2022_09_22_14_23_43_ExportContainers, no_cache=False, flavor_path=flavors/python-3.8-minimal-EXASOL-6.2.0): Cleaning up\n",
      "2022-09-22 14:25:28,871 - luigi-interface.AnalyzeLanguageDeps - DEBUG - AnalyzeLanguageDeps_a35e3e0aa1(job_id=2022_09_22_14_23_43_ExportContainers, no_cache=False, flavor_path=flavors/python-3.8-minimal-EXASOL-6.2.0): Cleaning up\n",
      "2022-09-22 14:25:28,871 - luigi-interface.AnalyzeLanguageDeps - DEBUG - AnalyzeLanguageDeps_a35e3e0aa1(job_id=2022_09_22_14_23_43_ExportContainers, no_cache=False, flavor_path=flavors/python-3.8-minimal-EXASOL-6.2.0): Cleanup skipped\n",
      "2022-09-22 14:25:28,871 - luigi-interface.AnalyzeBuildDeps - DEBUG - AnalyzeBuildDeps_a35e3e0aa1(job_id=2022_09_22_14_23_43_ExportContainers, no_cache=False, flavor_path=flavors/python-3.8-minimal-EXASOL-6.2.0): Cleaning up\n",
      "2022-09-22 14:25:28,873 - luigi-interface.AnalyzeBuildDeps - DEBUG - AnalyzeBuildDeps_a35e3e0aa1(job_id=2022_09_22_14_23_43_ExportContainers, no_cache=False, flavor_path=flavors/python-3.8-minimal-EXASOL-6.2.0): Cleanup finished\n",
      "2022-09-22 14:25:28,874 - luigi-interface.AnalyzeBuildRun - DEBUG - AnalyzeBuildRun_a35e3e0aa1(job_id=2022_09_22_14_23_43_ExportContainers, no_cache=False, flavor_path=flavors/python-3.8-minimal-EXASOL-6.2.0): Cleanup finished\n",
      "2022-09-22 14:25:28,874 - luigi-interface.AnalyzeFlavorCustomization - DEBUG - AnalyzeFlavorCustomization_a35e3e0aa1(job_id=2022_09_22_14_23_43_ExportContainers, no_cache=False, flavor_path=flavors/python-3.8-minimal-EXASOL-6.2.0): Cleaning up\n",
      "2022-09-22 14:25:28,875 - luigi-interface.AnalyzeFlavorBaseDeps - DEBUG - AnalyzeFlavorBaseDeps_a35e3e0aa1(job_id=2022_09_22_14_23_43_ExportContainers, no_cache=False, flavor_path=flavors/python-3.8-minimal-EXASOL-6.2.0): Cleaning up\n",
      "2022-09-22 14:25:28,875 - luigi-interface.AnalyzeLanguageDeps - DEBUG - AnalyzeLanguageDeps_a35e3e0aa1(job_id=2022_09_22_14_23_43_ExportContainers, no_cache=False, flavor_path=flavors/python-3.8-minimal-EXASOL-6.2.0): Cleaning up\n",
      "2022-09-22 14:25:28,875 - luigi-interface.AnalyzeLanguageDeps - DEBUG - AnalyzeLanguageDeps_a35e3e0aa1(job_id=2022_09_22_14_23_43_ExportContainers, no_cache=False, flavor_path=flavors/python-3.8-minimal-EXASOL-6.2.0): Cleanup skipped\n",
      "2022-09-22 14:25:28,877 - luigi-interface.AnalyzeFlavorBaseDeps - DEBUG - AnalyzeFlavorBaseDeps_a35e3e0aa1(job_id=2022_09_22_14_23_43_ExportContainers, no_cache=False, flavor_path=flavors/python-3.8-minimal-EXASOL-6.2.0): Cleanup finished\n",
      "2022-09-22 14:25:28,878 - luigi-interface.AnalyzeFlavorCustomization - DEBUG - AnalyzeFlavorCustomization_a35e3e0aa1(job_id=2022_09_22_14_23_43_ExportContainers, no_cache=False, flavor_path=flavors/python-3.8-minimal-EXASOL-6.2.0): Cleanup finished\n",
      "2022-09-22 14:25:28,879 - luigi-interface.AnalyzeRelease - DEBUG - AnalyzeRelease_a35e3e0aa1(job_id=2022_09_22_14_23_43_ExportContainers, no_cache=False, flavor_path=flavors/python-3.8-minimal-EXASOL-6.2.0): Cleanup finished\n",
      "2022-09-22 14:25:28,881 - luigi-interface.ExportFlavorContainer - DEBUG - ExportFlavorContainer_ce7a119768(job_id=2022_09_22_14_23_43_ExportContainers, no_cache=False, flavor_path=flavors/python-3.8-minimal-EXASOL-6.2.0, release_goals=[\"release\"], export_path=containers, release_name=): Cleanup finished\n",
      "2022-09-22 14:25:28,882 - luigi-interface.ExportContainers - DEBUG - ExportContainers_e31c9ee4d3(job_id=2022_09_22_14_23_43_ExportContainers, flavor_paths=[\"flavors/python-3.8-minimal-EXASOL-6.2.0\"], release_goals=[\"release\"], export_path=containers, release_name=): Cleanup finished\n"
     ]
    }
   ],
   "source": [
    "bash.run(f\"\"\"\n",
    "pushd {slc_path}\n",
    "LAST_LOG=\"$(find .build_output -name 'main.log' | sort |tail -n 1)\"\n",
    "cat $LAST_LOG | tail -n 20\n",
    "\"\"\")"
   ]
  },
  {
   "cell_type": "markdown",
   "metadata": {},
   "source": [
    "#### Build Output Directory"
   ]
  },
  {
   "cell_type": "markdown",
   "metadata": {},
   "source": [
    "More detailed information about the build or other operations can be found in the `.build_output/jobs/*/outputs` directory. Here each run of `exaslct` creates its own directory under `.build_output/jobs`. The `outputs` directory stores the outputs and log files (if any) that each executed task of `exaslct` produces. Especially, the Docker tasks such as build, pull and push store the logs returned by the Docker API. This can be helpful for finding problems during the build."
   ]
  },
  {
   "cell_type": "code",
   "execution_count": 15,
   "metadata": {},
   "outputs": [
    {
     "name": "stdout",
     "output_type": "stream",
     "text": [
      "~/notebooks/script-languages-release ~/notebooks\n",
      ".build_output/jobs/2022_09_22_14_23_43_ExportContainers/outputs/ExportContainers_e31c9ee4d3/ExportFlavorContainer_ce7a119768/ExportContainerTask_17ac1632df/logs/extract_release_file.log\n",
      ".build_output/jobs/2022_09_22_14_23_43_ExportContainers/outputs/ExportContainers_e31c9ee4d3/ExportFlavorContainer_ce7a119768/ExportContainerTask_17ac1632df/logs/pack_release_file.log\n",
      ".build_output/jobs/2022_09_22_14_23_43_ExportContainers/outputs/ExportContainers_e31c9ee4d3/ExportFlavorContainer_ce7a119768/DockerCreateImageTask_0062081224/DockerPullImageTask_0062081224/logs/pull_docker_db_image.log\n"
     ]
    }
   ],
   "source": [
    "bash.run(f\"\"\"\n",
    "pushd {slc_path}\n",
    "find .build_output/jobs/*/outputs -type f -name '*log' | tail\n",
    "\"\"\")"
   ]
  },
  {
   "cell_type": "markdown",
   "metadata": {},
   "source": [
    "## Customizing Script-Language Containers"
   ]
  },
  {
   "cell_type": "markdown",
   "metadata": {},
   "source": [
    "Sometimes you need very specific dependencies or versions of dependencies in the Exasol UDFs. In such case you can customize a Script-Language Container."
   ]
  },
  {
   "cell_type": "markdown",
   "metadata": {},
   "source": [
    "### Flavor Definition"
   ]
  },
  {
   "cell_type": "markdown",
   "metadata": {},
   "source": [
    "To customize a flavor, you need to change the flavor definition. A flavor consists of several build steps. The following images gives you an idea about how these build steps are connected with each other.\n",
    "\n",
    "![Flavor Structure](slc_main_build_steps.svg)\n",
    "\n",
    "For customizing a flavor usually the `flavor_customization` build step is most important. It contains everything you need to add dependencies. The remaining build steps should be only changed with care, but sometimes some dependencies are defined in other build steps because the script client depends on them. Here you see the directory structure of the flavor definition for our example flavor `flavors/python-3.8-minimal-EXASOL-6.2.0`."
   ]
  },
  {
   "cell_type": "code",
   "execution_count": 16,
   "metadata": {},
   "outputs": [
    {
     "name": "stdout",
     "output_type": "stream",
     "text": [
      "~/notebooks/script-languages-release ~/notebooks\n",
      "flavors/python-3.8-minimal-EXASOL-6.2.0\n",
      "flavors/python-3.8-minimal-EXASOL-6.2.0/flavor_customization\n",
      "flavors/python-3.8-minimal-EXASOL-6.2.0/flavor_customization/Dockerfile\n",
      "flavors/python-3.8-minimal-EXASOL-6.2.0/flavor_customization/packages\n",
      "flavors/python-3.8-minimal-EXASOL-6.2.0/FLAVOR_DESCRIPTION.md\n",
      "flavors/python-3.8-minimal-EXASOL-6.2.0/flavor_base\n",
      "flavors/python-3.8-minimal-EXASOL-6.2.0/flavor_base/base_test_deps\n",
      "flavors/python-3.8-minimal-EXASOL-6.2.0/flavor_base/build_run\n",
      "flavors/python-3.8-minimal-EXASOL-6.2.0/flavor_base/build_steps.py\n",
      "flavors/python-3.8-minimal-EXASOL-6.2.0/flavor_base/__pycache__\n",
      "flavors/python-3.8-minimal-EXASOL-6.2.0/flavor_base/release\n",
      "flavors/python-3.8-minimal-EXASOL-6.2.0/flavor_base/build_deps\n",
      "flavors/python-3.8-minimal-EXASOL-6.2.0/flavor_base/base_test_build_run\n",
      "flavors/python-3.8-minimal-EXASOL-6.2.0/flavor_base/security_scan\n",
      "flavors/python-3.8-minimal-EXASOL-6.2.0/flavor_base/flavor_base_deps\n",
      "flavors/python-3.8-minimal-EXASOL-6.2.0/flavor_base/language_definition\n",
      "flavors/python-3.8-minimal-EXASOL-6.2.0/flavor_base/udfclient_deps\n",
      "flavors/python-3.8-minimal-EXASOL-6.2.0/flavor_base/flavor_test_build_run\n",
      "flavors/python-3.8-minimal-EXASOL-6.2.0/flavor_base/testconfig\n",
      "flavors/python-3.8-minimal-EXASOL-6.2.0/flavor_base/language_deps\n"
     ]
    }
   ],
   "source": [
    "bash.run(f\"\"\" \n",
    "pushd {slc_path}\n",
    "find -L flavors/python-3.8-minimal-EXASOL-6.2.0 -maxdepth 2\n",
    "\"\"\")"
   ]
  },
  {
   "cell_type": "markdown",
   "metadata": {},
   "source": [
    "### Flavor Customization Build Step"
   ]
  },
  {
   "cell_type": "markdown",
   "metadata": {},
   "source": [
    "The `flavor_customization` build step consists of a Dockerfile and several package lists which can be modified. We recommend to use the package lists to add new packages to the flavor and only modify the Dockerfile if you need very specific changes, like adding additional resources."
   ]
  },
  {
   "cell_type": "code",
   "execution_count": 17,
   "metadata": {},
   "outputs": [
    {
     "name": "stdout",
     "output_type": "stream",
     "text": [
      "~/notebooks/script-languages-release ~/notebooks\n",
      "flavors/python-3.8-minimal-EXASOL-6.2.0/flavor_customization/Dockerfile\n",
      "flavors/python-3.8-minimal-EXASOL-6.2.0/flavor_customization/packages/python3_pip_packages\n",
      "flavors/python-3.8-minimal-EXASOL-6.2.0/flavor_customization/packages/apt_get_packages\n"
     ]
    }
   ],
   "source": [
    "bash.run(f\"\"\" \n",
    "pushd {slc_path}\n",
    "find -L flavors/python-3.8-minimal-EXASOL-6.2.0/flavor_customization -type f\n",
    "\"\"\")"
   ]
  },
  {
   "cell_type": "markdown",
   "metadata": {},
   "source": [
    "#### Dockerfile"
   ]
  },
  {
   "cell_type": "markdown",
   "metadata": {},
   "source": [
    "The Dockerfile consists of two parts. The first part installs the packages from the package list and should only be change with care. The second part is free for your changes. Read the description in the Dockerfile carefully to find out what you can and shouldn't do."
   ]
  },
  {
   "cell_type": "code",
   "execution_count": 18,
   "metadata": {},
   "outputs": [
    {
     "name": "stdout",
     "output_type": "stream",
     "text": [
      "~/notebooks/script-languages-release ~/notebooks\n",
      "############################################################################################\n",
      "############################################################################################\n",
      "# This Dockerfile allows you to extend this flavor by installing packages or adding files. \n",
      "# IF you didn't change the lines below, you can add packages and their version to the  \n",
      "# files in ./packages and they get automatically installed.                                \n",
      "############################################################################################\n",
      "############################################################################################\n",
      "\n",
      "#######################################################################\n",
      "#######################################################################\n",
      "# Do not change the following lines unless you know what you are doing \n",
      "#######################################################################\n",
      "#######################################################################\n",
      "\n",
      "FROM {{flavor_base_deps}}\n",
      "\n",
      "RUN mkdir -p /build_info/packages/flavor_customization\n",
      "\n",
      "COPY flavor_customization/packages/apt_get_packages /build_info/packages/flavor_customization\n",
      "RUN /scripts/install_scripts/install_via_apt.pl --file /build_info/packages/flavor_customization/apt_get_packages --with-versions\n",
      "\n",
      "COPY flavor_customization/packages/python3_pip_packages /build_info/packages/flavor_customization\n",
      "RUN /scripts/install_scripts/install_via_pip.pl --file /build_info/packages/flavor_customization/python3_pip_packages --python-binary python3 --with-versions --allow-no-version\n",
      "\n",
      "\n",
      "##########################################################################\n",
      "##########################################################################\n",
      "# Below this text you can add any Dockerfile commands except of FROM.            \n",
      "# However only commands which change the filesystem will be              \n",
      "# reflected to the final script-language container.                      \n",
      "# We recommend to use only RUN, COPY and ADD. For example, WORKDIR, USER \n",
      "# and ENV will be not carried over into the final container. For more \n",
      "# information about Dockerfile commands, please check the reference \n",
      "# https://docs.docker.com/engine/reference/builder/#dockerfile-reference \n",
      "##########################################################################\n",
      "##########################################################################\n",
      "\n",
      "\n",
      "###########\n",
      "###########\n",
      "# Examples:\n",
      "###########\n",
      "###########\n",
      "\n",
      "#################################################\n",
      "# Execute a command during the build of the image\n",
      "#################################################\n",
      "\n",
      "# With RUN you can excute any command you usally would run in a bash shell.\n",
      "# It usually is a good idea to cleanup downloaded files or packages \n",
      "# caches in the same in the same RUN statement to keep the image size\n",
      "# small. You can execute multiple shell commands in one RUN statement\n",
      "# by combine them with \n",
      "# - `&&` (only execute if the previous command was successfull), \n",
      "# - `||` (only execute if the previous command was unsuccesfull)\n",
      "# - `;` (execute regardless of the success of the previous command)\n",
      "# To format multiple command per RUN statement you can add a line break with `\\`.\n",
      "# If you need to execute complex sequences of commands you should execute\n",
      "# scripts which you can copy into the image.\n",
      "# -------------------------------------------------------------------------------\n",
      "\n",
      "# RUN git clone https://github.com/exasol/data-science-examples\n",
      "# RUN curl -o data-science-examples.zip https://codeload.github.com/exasol/data-science-examples/zip/master && \\\n",
      "#     unzip data-science-examples.zip && \\\n",
      "#     rm data-science-examples.zip\n",
      "\n",
      "#####################################\n",
      "# Copy a file from ./ into the image. \n",
      "#####################################\n",
      "\n",
      "# In case of exaslct it is important to prefix source files or directories with `flavor_customization`\n",
      "# if you want to copy files or directories located in the same directory as this Dockerfile\n",
      "# -----------------------------------------------------------------------------------------------------\n",
      "\n",
      "# COPY flavor_customization/packages/python3_pip_packages /build_info/packages/flavor_customization\n",
      "# ADD flavor_customization/code.tar.gz /code\n",
      "\n"
     ]
    }
   ],
   "source": [
    "bash.run(f\"\"\" \n",
    "pushd {slc_path}\n",
    "cat flavors/python-3.8-minimal-EXASOL-6.2.0/flavor_customization/Dockerfile\n",
    "\"\"\")"
   ]
  },
  {
   "cell_type": "markdown",
   "metadata": {},
   "source": [
    "#### Package Lists"
   ]
  },
  {
   "cell_type": "markdown",
   "metadata": {},
   "source": [
    "The package lists have a unified format. Each line consists of the package name and the package version separated by \"|\", e.g `xgboost|1.3.3`. You can comment out a whole line by adding\"#\" at the beginning. You can also add a trailing comment to a package definition by adding a \"#\" after the package definition. We usually recommend to pin the version, such that there are no surprises for which version gets installed."
   ]
  },
  {
   "cell_type": "code",
   "execution_count": 19,
   "metadata": {},
   "outputs": [
    {
     "name": "stdout",
     "output_type": "stream",
     "text": [
      "~/notebooks/script-languages-release ~/notebooks\n",
      "# This file specifies the package list which gets installed via pip for python3.\n",
      "# You must specify the the package and its version separated by a |.\n",
      "# We recommend here the usage of package versions, to ensure that the container \n",
      "# builds are reproducible. However, we allow also packages without version.\n",
      "# As you can see, this file can contain comments which start with #.\n",
      "# If a line starts with # the whole line is a comment, however you can\n",
      "# also start a comment after the package definition.\n",
      "\n",
      "#tensorflow-probability|0.9.0\n"
     ]
    }
   ],
   "source": [
    "bash.run(f\"\"\" \n",
    "pushd {slc_path}\n",
    "cat flavors/python-3.8-minimal-EXASOL-6.2.0/flavor_customization/packages/python3_pip_packages\n",
    "\"\"\")"
   ]
  },
  {
   "cell_type": "markdown",
   "metadata": {},
   "source": [
    "We are now going to append the \"xgboost\" Python package to one of the package lists by adding `\"xgboost|1.3.3\"` and `scikit-learn|0.24.2` to the `flavor_customization/packages/python3_pip_packages` file."
   ]
  },
  {
   "cell_type": "code",
   "execution_count": 20,
   "metadata": {},
   "outputs": [
    {
     "name": "stdout",
     "output_type": "stream",
     "text": [
      "~/notebooks/script-languages-release ~/notebooks\n"
     ]
    }
   ],
   "source": [
    "bash.run(f\"\"\" \n",
    "pushd {slc_path}\n",
    "echo \"xgboost|1.3.3\" > flavors/python-3.8-minimal-EXASOL-6.2.0/flavor_customization/packages/python3_pip_packages\n",
    "echo \"scikit-learn|0.24.2\" >> flavors/python-3.8-minimal-EXASOL-6.2.0/flavor_customization/packages/python3_pip_packages\n",
    "\"\"\")"
   ]
  },
  {
   "cell_type": "markdown",
   "metadata": {},
   "source": [
    "As you can see below, we now added a new line to our package list."
   ]
  },
  {
   "cell_type": "code",
   "execution_count": 21,
   "metadata": {},
   "outputs": [
    {
     "name": "stdout",
     "output_type": "stream",
     "text": [
      "~/notebooks/script-languages-release ~/notebooks\n",
      "xgboost|1.3.3\n",
      "scikit-learn|0.24.2\n"
     ]
    }
   ],
   "source": [
    "bash.run(f\"\"\" \n",
    "pushd {slc_path}\n",
    "cat flavors/python-3.8-minimal-EXASOL-6.2.0/flavor_customization/packages/python3_pip_packages\n",
    "\"\"\")"
   ]
  },
  {
   "cell_type": "markdown",
   "metadata": {},
   "source": [
    "#### Rebuilding the customized Flavor"
   ]
  },
  {
   "cell_type": "markdown",
   "metadata": {},
   "source": [
    "After changing the flavor you need to rebuild it. You can do it by running `./exaslsct export --flavor-path <flavor-path>` again. Exaslct automatically recognizes that the flavor has changed and builds a new version of the container."
   ]
  },
  {
   "cell_type": "code",
   "execution_count": 22,
   "metadata": {},
   "outputs": [
    {
     "name": "stdout",
     "output_type": "stream",
     "text": [
      "~/notebooks/script-languages-release ~/notebooks\n",
      "WARNING - AnalyzeFlavorCustomization_96aa0fe2f5(job_id=2022_09_22_14_39_44_ExportContainers, no_cache=False, flavor_path=flavors/python-3.8-minimal-EXASOL-6.2.0): Image exasol/script-language-container:python-3.8-minimal-EXASOL-6.2.0-flavor_customization_KKTMMDEYGMN4BRMA6IICTIWXFGIIHWN3RUU3N4DJOL5P3OU6O5NQ not in registry, got exception 404 Client Error for http+docker://localhost/v1.41/images/create?tag=python-3.8-minimal-EXASOL-6.2.0-flavor_customization_KKTMMDEYGMN4BRMA6IICTIWXFGIIHWN3RUU3N4DJOL5P3OU6O5NQ&fromImage=exasol%2Fscript-language-container: Not Found (\"manifest for exasol/script-language-container:python-3.8-minimal-EXASOL-6.2.0-flavor_customization_KKTMMDEYGMN4BRMA6IICTIWXFGIIHWN3RUU3N4DJOL5P3OU6O5NQ not found: manifest unknown: manifest unknown\")\n",
      "WARNING - AnalyzeRelease_96aa0fe2f5(job_id=2022_09_22_14_39_44_ExportContainers, no_cache=False, flavor_path=flavors/python-3.8-minimal-EXASOL-6.2.0): Image exasol/script-language-container:python-3.8-minimal-EXASOL-6.2.0-release_3WFA2GJTKANDAEI5T44F5ON7EWWJX2JPWMRZ3NGD4D7QBU3EKGXQ not in registry, got exception 404 Client Error for http+docker://localhost/v1.41/images/create?tag=python-3.8-minimal-EXASOL-6.2.0-release_3WFA2GJTKANDAEI5T44F5ON7EWWJX2JPWMRZ3NGD4D7QBU3EKGXQ&fromImage=exasol%2Fscript-language-container: Not Found (\"manifest for exasol/script-language-container:python-3.8-minimal-EXASOL-6.2.0-release_3WFA2GJTKANDAEI5T44F5ON7EWWJX2JPWMRZ3NGD4D7QBU3EKGXQ not found: manifest unknown: manifest unknown\")\n",
      "The command took 365.435002 s\n",
      "\n",
      "Cached container under /home/ubuntu/notebooks/script-languages-release/.build_output/cache/exports/python-3.8-minimal-EXASOL-6.2.0-release-3WFA2GJTKANDAEI5T44F5ON7EWWJX2JPWMRZ3NGD4D7QBU3EKGXQ.tar.gz\n",
      "\n",
      "Copied container to containers/python-3.8-minimal-EXASOL-6.2.0_release.tar.gz\n",
      "\n",
      "=================================================\n",
      "\n"
     ]
    }
   ],
   "source": [
    "bash.run(f\"\"\"\n",
    "pushd {slc_path}\n",
    "./exaslct export --flavor-path flavors/python-3.8-minimal-EXASOL-6.2.0 --export-path containers\n",
    "\"\"\")"
   ]
  },
  {
   "cell_type": "markdown",
   "metadata": {},
   "source": [
    "**Note:** Your old container doesn't get lost, because when you change a flavor your container gets a new hash code. If you revert your changes the system automatically uses the existing cached container. Below you can see the content of the cache directory for the containers."
   ]
  },
  {
   "cell_type": "code",
   "execution_count": 23,
   "metadata": {},
   "outputs": [
    {
     "name": "stdout",
     "output_type": "stream",
     "text": [
      "~/notebooks/script-languages-release ~/notebooks\n",
      "total 611M\n",
      "417M \u001b[0m\u001b[01;31mpython-3.8-minimal-EXASOL-6.2.0-release-3WFA2GJTKANDAEI5T44F5ON7EWWJX2JPWMRZ3NGD4D7QBU3EKGXQ.tar.gz\u001b[0m\u001b[K\n",
      "4.0K python-3.8-minimal-EXASOL-6.2.0-release-3WFA2GJTKANDAEI5T44F5ON7EWWJX2JPWMRZ3NGD4D7QBU3EKGXQ.tar.gz.sha512sum\n",
      "195M \u001b[01;31mpython-3.8-minimal-EXASOL-6.2.0-release-ZOLA663JXOLQ6D3BGWBRLRI3G57HAHQGGU2CUYISFNDSPMJAO23Q.tar.gz\u001b[0m\u001b[K\n",
      "4.0K python-3.8-minimal-EXASOL-6.2.0-release-ZOLA663JXOLQ6D3BGWBRLRI3G57HAHQGGU2CUYISFNDSPMJAO23Q.tar.gz.sha512sum\n"
     ]
    }
   ],
   "source": [
    "bash.run(f\"\"\"\n",
    "pushd {slc_path}\n",
    "ls -sh .build_output/cache/exports\n",
    "\"\"\")"
   ]
  },
  {
   "cell_type": "markdown",
   "metadata": {},
   "source": [
    "## Testing the new Script-Language Container"
   ]
  },
  {
   "cell_type": "markdown",
   "metadata": {},
   "source": [
    "Now, that we have an updated container, we need to check if our changes were successful. For that we are going to upload the container to an Exasol Database and have a look into it. In this example, we are going to use a local Docker-DB started by `exaslct`, which uses our [integration-test-docker-environment](https://github.com/exasol/integration-test-docker-environment) in the background. \n",
    "\n",
    "**Note:** You could also use your own Exasol Database by changing the variables below. However, this Notebook must be able to access the BucketFS of your Exasol Database or you need to manually upload the container. "
   ]
  },
  {
   "cell_type": "code",
   "execution_count": 26,
   "metadata": {},
   "outputs": [],
   "source": [
    "DATABASE_HOST=\"localhost\"\n",
    "DATABASE_PORT=8886\n",
    "DATABASE_USER=\"sys\"\n",
    "DATABASE_PASSWORD=\"exasol\"\n",
    "BUCKETFS_PORT=6666\n",
    "BUCKETFS_USER=\"w\"\n",
    "BUCKETFS_PASSWORD=\"write\"\n",
    "BUCKETFS_NAME=\"bfsdefault\"\n",
    "BUCKET_NAME=\"default\"\n",
    "PATH_IN_BUCKET=\"container\""
   ]
  },
  {
   "cell_type": "markdown",
   "metadata": {},
   "source": [
    "### Starting a local Docker-DB for Testing"
   ]
  },
  {
   "cell_type": "markdown",
   "metadata": {},
   "source": [
    "The exaslct command also allows us to create rapidly a test environment where we can test the new container!\n",
    "\n",
    "#### Start the environment and forward the database and bucketfs ports to the specified host ports.\n",
    "\n",
    "**Note:** The Exasol Integration-Test-Docker-Environment requires Docker with privileged mode\n",
    "\n",
    "**Note:** Starting the environment can take between 3-5 min."
   ]
  },
  {
   "cell_type": "code",
   "execution_count": 27,
   "metadata": {},
   "outputs": [
    {
     "name": "stdout",
     "output_type": "stream",
     "text": [
      "~/notebooks/script-languages-release ~/notebooks\n",
      "WARNING - SpawnTestContainer_203f5cf295(job_id=2022_09_22_15_03_54_SpawnTestEnvironmentWithDockerDB, no_cache=False, environment_name=test, test_container_name=test_container_test, attempt=0): Copy tests in test container test_container_test.\n",
      "WARNING - PopulateEngineSmallTestDataToDatabase_8816acdffe(job_id=2022_09_22_15_03_54_SpawnTestEnvironmentWithDockerDB, no_cache=False, db_user=sys, environment_name=test): Uploading data\n",
      "The command took 235.088755 s\n"
     ]
    }
   ],
   "source": [
    "bash.run(f\"\"\"\n",
    "pushd {slc_path}\n",
    "./exaslct spawn-test-environment --environment-name test --database-port-forward {DATABASE_PORT} --bucketfs-port-forward {BUCKETFS_PORT}\n",
    "\"\"\")"
   ]
  },
  {
   "cell_type": "markdown",
   "metadata": {},
   "source": [
    "### Upload the Container to the Database"
   ]
  },
  {
   "cell_type": "markdown",
   "metadata": {},
   "source": [
    "To use our container we need to upload it to the BucketFS . If the build machine has access to the BucketFS we can do it with the `exaslct upload` command, otherwise you need to export the container and transfer it to a machine that has access to the BucketFS and upload it via `curl`, as described in our [documentation](https://docs.exasol.com/database_concepts/udf_scripts/adding_new_packages_script_languages.htm).\n",
    "\n",
    "With the following command we upload the new script language container to the previously created test environment."
   ]
  },
  {
   "cell_type": "code",
   "execution_count": 28,
   "metadata": {},
   "outputs": [
    {
     "name": "stdout",
     "output_type": "stream",
     "text": [
      "~/notebooks/script-languages-release ~/notebooks\n",
      "The command took 84.778999 s\n",
      "\n",
      "Uploaded .build_output/cache/exports/python-3.8-minimal-EXASOL-6.2.0-release-3WFA2GJTKANDAEI5T44F5ON7EWWJX2JPWMRZ3NGD4D7QBU3EKGXQ.tar.gz to\n",
      "http://localhost:6666/default/container/python-3.8-minimal-EXASOL-6.2.0-release-current.tar.gz\n",
      "\n",
      "\n",
      "In SQL, you can activate the languages supported by the python-3.8-minimal-EXASOL-6.2.0\n",
      "flavor by using the following statements:\n",
      "\n",
      "\n",
      "To activate the flavor only for the current session:\n",
      "\n",
      "ALTER SESSION SET SCRIPT_LANGUAGES='PYTHON3=localzmq+protobuf:///bfsdefault/default/container/python-3.8-minimal-EXASOL-6.2.0-release-current?lang=python#buckets/bfsdefault/default/container/python-3.8-minimal-EXASOL-6.2.0-release-current/exaudf/exaudfclient_py3';\n",
      "\n",
      "\n",
      "To activate the flavor on the system:\n",
      "\n",
      "ALTER SYSTEM SET SCRIPT_LANGUAGES='PYTHON3=localzmq+protobuf:///bfsdefault/default/container/python-3.8-minimal-EXASOL-6.2.0-release-current?lang=python#buckets/bfsdefault/default/container/python-3.8-minimal-EXASOL-6.2.0-release-current/exaudf/exaudfclient_py3';\n",
      "\n",
      "=================================================\n",
      "\n"
     ]
    }
   ],
   "source": [
    "bash.run(f\"\"\"\n",
    "pushd {slc_path}\n",
    "./exaslct upload \\\n",
    "    --flavor-path flavors/python-3.8-minimal-EXASOL-6.2.0 \\\n",
    "    --database-host {DATABASE_HOST}\\\n",
    "    --bucketfs-port {BUCKETFS_PORT} \\\n",
    "    --bucketfs-username {BUCKETFS_USER} \\\n",
    "    --bucketfs-password {BUCKETFS_PASSWORD} \\\n",
    "    --bucketfs-name {BUCKETFS_NAME} \\\n",
    "    --bucket-name {BUCKET_NAME} \\\n",
    "    --path-in-bucket {PATH_IN_BUCKET} \\\n",
    "    --release-name current\n",
    "\"\"\")"
   ]
  },
  {
   "cell_type": "markdown",
   "metadata": {},
   "source": [
    "### Getting the language container activation statement without upload"
   ]
  },
  {
   "cell_type": "markdown",
   "metadata": {},
   "source": [
    "Sometimes you can't use the `upload` command to upload your container to the BucketFS. To get the language activation statement regardless of that, you can use the `generate-language-activation` command."
   ]
  },
  {
   "cell_type": "code",
   "execution_count": 29,
   "metadata": {},
   "outputs": [
    {
     "name": "stdout",
     "output_type": "stream",
     "text": [
      "~/notebooks/script-languages-release ~/notebooks\n",
      "\n",
      "\n",
      "In SQL, you can activate the languages supported by the python-3.8-minimal-EXASOL-6.2.0\n",
      "flavor by using the following statements:\n",
      "\n",
      "\n",
      "To activate the flavor only for the current session:\n",
      "\n",
      "ALTER SESSION SET SCRIPT_LANGUAGES='PYTHON3=localzmq+protobuf:///bfsdefault/default/container/python-3.8-minimal-EXASOL-6.2.0-current?lang=python#buckets/bfsdefault/default/container/python-3.8-minimal-EXASOL-6.2.0-current/exaudf/exaudfclient_py3';\n",
      "\n",
      "\n",
      "To activate the flavor on the system:\n",
      "\n",
      "ALTER SYSTEM SET SCRIPT_LANGUAGES='PYTHON3=localzmq+protobuf:///bfsdefault/default/container/python-3.8-minimal-EXASOL-6.2.0-current?lang=python#buckets/bfsdefault/default/container/python-3.8-minimal-EXASOL-6.2.0-current/exaudf/exaudfclient_py3';\n",
      "\n"
     ]
    }
   ],
   "source": [
    "bash.run(f\"\"\"\n",
    "pushd {slc_path}\n",
    "./exaslct generate-language-activation \\\n",
    "    --flavor-path flavors/python-3.8-minimal-EXASOL-6.2.0 \\\n",
    "    --bucketfs-name {BUCKETFS_NAME} \\\n",
    "    --bucket-name {BUCKET_NAME} \\\n",
    "    --path-in-bucket {PATH_IN_BUCKET} \\\n",
    "    --container-name python-3.8-minimal-EXASOL-6.2.0-current  2>&1 | tail -n 15\n",
    "\"\"\")"
   ]
  },
  {
   "cell_type": "markdown",
   "metadata": {},
   "source": [
    "### Connecting to the database and activate the container"
   ]
  },
  {
   "cell_type": "markdown",
   "metadata": {},
   "source": [
    "Once we have a connection to the database we run the `ALTER SESSION` statement or `ALTER SYSTEM` statement (if you want to activate the container permanently and globally) we got from the upload."
   ]
  },
  {
   "cell_type": "code",
   "execution_count": 30,
   "metadata": {},
   "outputs": [],
   "source": [
    "def connect():\n",
    "    con=pyexasol.connect(dsn=f\"{DATABASE_HOST}:{DATABASE_PORT}\",user=DATABASE_USER,password=DATABASE_PASSWORD)\n",
    "    con.execute(\"ALTER SESSION SET SCRIPT_LANGUAGES='PYTHON3=builtin_python3 PYTHON3_DS=localzmq+protobuf:///bfsdefault/default/container/python-3.8-minimal-EXASOL-6.2.0-release-current?lang=python#buckets/bfsdefault/default/container/python-3.8-minimal-EXASOL-6.2.0-release-current/exaudf/exaudfclient_py3';\")\n",
    "    con.execute(\"OPEN SCHEMA TEST\")\n",
    "    return con"
   ]
  },
  {
   "cell_type": "markdown",
   "metadata": {},
   "source": [
    "### Check if your customization did work"
   ]
  },
  {
   "cell_type": "markdown",
   "metadata": {},
   "source": [
    "We first create a helper UDF which allows us to run arbitrary shell commands inside of a UDF instance. With that we can easily inspect the container."
   ]
  },
  {
   "cell_type": "code",
   "execution_count": 31,
   "metadata": {},
   "outputs": [
    {
     "data": {
      "text/plain": [
       "<ExaStatement session_id=1744683306169139200 stmt_idx=3>"
      ]
     },
     "execution_count": 31,
     "metadata": {},
     "output_type": "execute_result"
    }
   ],
   "source": [
    "con = connect()\n",
    "\n",
    "con.execute(textwrap.dedent(\"\"\"\n",
    "CREATE OR REPLACE PYTHON3_DS SCALAR SCRIPT execute_shell_command_py3(command VARCHAR(2000000), split_output boolean)\n",
    "EMITS (lines VARCHAR(2000000)) AS\n",
    "import subprocess\n",
    "\n",
    "def run(ctx):\n",
    "    try:\n",
    "        p = subprocess.Popen(ctx.command,\n",
    "                             stdout    = subprocess.PIPE,\n",
    "                             stderr    = subprocess.STDOUT,\n",
    "                             close_fds = True,\n",
    "                             shell     = True)\n",
    "        out, err = p.communicate()\n",
    "        if isinstance(out,bytes):\n",
    "            out=out.decode('utf8')\n",
    "        if ctx.split_output:\n",
    "            for line in out.strip().split('\\\\n'):\n",
    "                ctx.emit(line)\n",
    "        else:\n",
    "            ctx.emit(out)\n",
    "    finally:\n",
    "        if p is not None:\n",
    "            try: p.kill()\n",
    "            except: pass\n",
    "/\n",
    "\"\"\"))"
   ]
  },
  {
   "cell_type": "markdown",
   "metadata": {},
   "source": [
    "#### Check with \"pip list\" if the  \"xgboost\" package is installed"
   ]
  },
  {
   "cell_type": "markdown",
   "metadata": {},
   "source": [
    "We use our helper UDF to run `python3 -m pip list` directly in the container and get the list of currently avaiable python3 packages."
   ]
  },
  {
   "cell_type": "code",
   "execution_count": 32,
   "metadata": {},
   "outputs": [
    {
     "name": "stdout",
     "output_type": "stream",
     "text": [
      "Package         Version\n",
      "--------------- --------\n",
      "joblib          1.2.0\n",
      "numpy           1.21.3\n",
      "pandas          1.3.4\n",
      "pip             21.3.1\n",
      "python-dateutil 2.8.2\n",
      "pytz            2022.2.1\n",
      "scikit-learn    0.24.2\n",
      "scipy           1.9.1\n",
      "setuptools      65.3.0\n",
      "six             1.16.0\n",
      "threadpoolctl   3.1.0\n",
      "wheel           0.37.1\n",
      "xgboost         1.3.3\n"
     ]
    }
   ],
   "source": [
    "con = connect()\n",
    "rs=con.execute(\"\"\"select execute_shell_command_py3('python3 -m pip list', true)\"\"\")\n",
    "for r in rs: \n",
    "    print(r[0])"
   ]
  },
  {
   "cell_type": "markdown",
   "metadata": {},
   "source": [
    "By running `pip list` directly in the container, we see what is currently available in the container. However, sometimes this might not be what we expected. For these cases, `exaslct` stores information about the flavor the container was build from within the container."
   ]
  },
  {
   "cell_type": "markdown",
   "metadata": {},
   "source": [
    "#### Embedded Build Information of the Container"
   ]
  },
  {
   "cell_type": "markdown",
   "metadata": {},
   "source": [
    "Here we see an overview about the build information which `exaslct` embedded into the container. `Exaslct` stores all packages lists (as defined in the flavor and what actually got installed), the final Dockerfiles and the image info. The image info describes how the underlying Docker images of the container got built. The build information is stored in the `/build_info` directory in the container. We can use again our helper UDF to inspect the build information."
   ]
  },
  {
   "cell_type": "code",
   "execution_count": 33,
   "metadata": {},
   "outputs": [
    {
     "name": "stdout",
     "output_type": "stream",
     "text": [
      "/build_info\n",
      "/build_info/packages\n",
      "/build_info/packages/flavor_customization\n",
      "/build_info/packages/flavor_customization/python3_pip_packages\n",
      "/build_info/packages/flavor_customization/apt_get_packages\n",
      "/build_info/packages/build_deps\n",
      "/build_info/packages/build_deps/apt_get_packages\n",
      "/build_info/packages/flavor_base_deps\n",
      "/build_info/packages/flavor_base_deps/python3_pip_packages\n",
      "/build_info/packages/flavor_base_deps/apt_get_packages\n",
      "/build_info/packages/udfclient_deps\n",
      "/build_info/packages/udfclient_deps/apt_get_packages\n",
      "/build_info/packages/language_deps\n",
      "/build_info/packages/language_deps/python3_pip_packages\n",
      "/build_info/packages/language_deps/apt_get_packages\n",
      "/build_info/actual_installed_packages\n",
      "/build_info/actual_installed_packages/release\n",
      "/build_info/actual_installed_packages/release/python3_pip_packages\n",
      "/build_info/actual_installed_packages/release/apt_get_packages\n",
      "/build_info/image_info\n",
      "/build_info/image_info/python-3.8-minimal-EXASOL-6.2.0-language_deps\n",
      "/build_info/image_info/python-3.8-minimal-EXASOL-6.2.0-flavor_customization\n",
      "/build_info/image_info/python-3.8-minimal-EXASOL-6.2.0-udfclient_deps\n",
      "/build_info/image_info/python-3.8-minimal-EXASOL-6.2.0-build_run\n",
      "/build_info/image_info/python-3.8-minimal-EXASOL-6.2.0-release\n",
      "/build_info/image_info/python-3.8-minimal-EXASOL-6.2.0-flavor_base_deps\n",
      "/build_info/image_info/python-3.8-minimal-EXASOL-6.2.0-build_deps\n",
      "/build_info/dockerfiles\n",
      "/build_info/dockerfiles/python-3.8-minimal-EXASOL-6.2.0-language_deps\n",
      "/build_info/dockerfiles/python-3.8-minimal-EXASOL-6.2.0-flavor_customization\n",
      "/build_info/dockerfiles/python-3.8-minimal-EXASOL-6.2.0-udfclient_deps\n",
      "/build_info/dockerfiles/python-3.8-minimal-EXASOL-6.2.0-build_run\n",
      "/build_info/dockerfiles/python-3.8-minimal-EXASOL-6.2.0-release\n",
      "/build_info/dockerfiles/python-3.8-minimal-EXASOL-6.2.0-flavor_base_deps\n",
      "/build_info/dockerfiles/python-3.8-minimal-EXASOL-6.2.0-build_deps\n"
     ]
    }
   ],
   "source": [
    "con = connect()\n",
    "rs=con.execute(\"\"\"select execute_shell_command_py3('find /build_info', true)\"\"\")\n",
    "for r in rs: \n",
    "    print(r[0])"
   ]
  },
  {
   "cell_type": "markdown",
   "metadata": {},
   "source": [
    "The following command shows for example, which python3 package pip found directly after the build of the container image."
   ]
  },
  {
   "cell_type": "code",
   "execution_count": 34,
   "metadata": {},
   "outputs": [
    {
     "name": "stdout",
     "output_type": "stream",
     "text": [
      "joblib|1.2.0\n",
      "numpy|1.21.3\n",
      "pandas|1.3.4\n",
      "pip|21.3.1\n",
      "python-dateutil|2.8.2\n",
      "pytz|2022.2.1\n",
      "scikit-learn|0.24.2\n",
      "scipy|1.9.1\n",
      "setuptools|65.3.0\n",
      "six|1.16.0\n",
      "threadpoolctl|3.1.0\n",
      "wheel|0.37.1\n",
      "xgboost|1.3.3\n"
     ]
    }
   ],
   "source": [
    "con = connect()\n",
    "rs=con.execute(\"\"\"select execute_shell_command_py3('cat /build_info/actual_installed_packages/release/python3_pip_packages', true)\"\"\")\n",
    "for r in rs: \n",
    "    print(r[0])"
   ]
  },
  {
   "cell_type": "markdown",
   "metadata": {},
   "source": [
    "You could for example compare this to the package list of the `flavor-customization` build step and check if all your requested packages got installed."
   ]
  },
  {
   "cell_type": "code",
   "execution_count": 35,
   "metadata": {},
   "outputs": [
    {
     "name": "stdout",
     "output_type": "stream",
     "text": [
      "xgboost|1.3.3\n",
      "scikit-learn|0.24.2\n"
     ]
    }
   ],
   "source": [
    "con = connect()\n",
    "rs=con.execute(\"\"\"select execute_shell_command_py3('cat /build_info/packages/flavor_customization/python3_pip_packages', true)\"\"\")\n",
    "for r in rs:\n",
    "    if r[0] is None:\n",
    "        print()\n",
    "    else:\n",
    "        print(r[0])"
   ]
  },
  {
   "cell_type": "markdown",
   "metadata": {},
   "source": [
    "### Testing the new package"
   ]
  },
  {
   "cell_type": "markdown",
   "metadata": {},
   "source": [
    "After we made sure that the required packages are installed, we need to try importing and using it. Importing is usually a good first test if a package got successfully installed, because often you might already get errors at this step. However, sometimes you only will recognize errors when using the package. We recommend to have a test suite for each new package to check if it works properly before you start your UDF development. It is usually easier to debug problems if you have very narrow tests."
   ]
  },
  {
   "cell_type": "code",
   "execution_count": 36,
   "metadata": {},
   "outputs": [
    {
     "data": {
      "text/plain": [
       "[('success',)]"
      ]
     },
     "execution_count": 36,
     "metadata": {},
     "output_type": "execute_result"
    }
   ],
   "source": [
    "con = connect()\n",
    "\n",
    "con.execute(textwrap.dedent(\"\"\"\n",
    "CREATE OR REPLACE PYTHON3_DS SET SCRIPT test_xgboost(i integer)\n",
    "EMITS (o VARCHAR(2000000)) AS\n",
    "\n",
    "def run(ctx):\n",
    "    import xgboost\n",
    "    import sklearn \n",
    "    \n",
    "    ctx.emit(\"success\")\n",
    "/\n",
    "\"\"\"))\n",
    "\n",
    "rs = con.execute(\"select test_xgboost(1)\")\n",
    "rs.fetchall()"
   ]
  },
  {
   "cell_type": "code",
   "execution_count": 37,
   "metadata": {},
   "outputs": [
    {
     "data": {
      "text/html": [
       "<div>\n",
       "<style scoped>\n",
       "    .dataframe tbody tr th:only-of-type {\n",
       "        vertical-align: middle;\n",
       "    }\n",
       "\n",
       "    .dataframe tbody tr th {\n",
       "        vertical-align: top;\n",
       "    }\n",
       "\n",
       "    .dataframe thead th {\n",
       "        text-align: right;\n",
       "    }\n",
       "</style>\n",
       "<table border=\"1\" class=\"dataframe\">\n",
       "  <thead>\n",
       "    <tr style=\"text-align: right;\">\n",
       "      <th></th>\n",
       "      <th>O1</th>\n",
       "      <th>O2</th>\n",
       "      <th>O3</th>\n",
       "    </tr>\n",
       "  </thead>\n",
       "  <tbody>\n",
       "    <tr>\n",
       "      <th>0</th>\n",
       "      <td>0.005638</td>\n",
       "      <td>0.977552</td>\n",
       "      <td>0.016810</td>\n",
       "    </tr>\n",
       "    <tr>\n",
       "      <th>1</th>\n",
       "      <td>0.982547</td>\n",
       "      <td>0.013958</td>\n",
       "      <td>0.003495</td>\n",
       "    </tr>\n",
       "    <tr>\n",
       "      <th>2</th>\n",
       "      <td>0.003637</td>\n",
       "      <td>0.006152</td>\n",
       "      <td>0.990210</td>\n",
       "    </tr>\n",
       "    <tr>\n",
       "      <th>3</th>\n",
       "      <td>0.005647</td>\n",
       "      <td>0.979170</td>\n",
       "      <td>0.015182</td>\n",
       "    </tr>\n",
       "    <tr>\n",
       "      <th>4</th>\n",
       "      <td>0.005401</td>\n",
       "      <td>0.936409</td>\n",
       "      <td>0.058190</td>\n",
       "    </tr>\n",
       "    <tr>\n",
       "      <th>5</th>\n",
       "      <td>0.986080</td>\n",
       "      <td>0.010413</td>\n",
       "      <td>0.003508</td>\n",
       "    </tr>\n",
       "    <tr>\n",
       "      <th>6</th>\n",
       "      <td>0.004390</td>\n",
       "      <td>0.990413</td>\n",
       "      <td>0.005198</td>\n",
       "    </tr>\n",
       "    <tr>\n",
       "      <th>7</th>\n",
       "      <td>0.015695</td>\n",
       "      <td>0.066531</td>\n",
       "      <td>0.917774</td>\n",
       "    </tr>\n",
       "    <tr>\n",
       "      <th>8</th>\n",
       "      <td>0.006338</td>\n",
       "      <td>0.948772</td>\n",
       "      <td>0.044891</td>\n",
       "    </tr>\n",
       "    <tr>\n",
       "      <th>9</th>\n",
       "      <td>0.004390</td>\n",
       "      <td>0.990413</td>\n",
       "      <td>0.005198</td>\n",
       "    </tr>\n",
       "    <tr>\n",
       "      <th>10</th>\n",
       "      <td>0.017850</td>\n",
       "      <td>0.075666</td>\n",
       "      <td>0.906483</td>\n",
       "    </tr>\n",
       "    <tr>\n",
       "      <th>11</th>\n",
       "      <td>0.990542</td>\n",
       "      <td>0.005619</td>\n",
       "      <td>0.003840</td>\n",
       "    </tr>\n",
       "    <tr>\n",
       "      <th>12</th>\n",
       "      <td>0.982547</td>\n",
       "      <td>0.013958</td>\n",
       "      <td>0.003495</td>\n",
       "    </tr>\n",
       "    <tr>\n",
       "      <th>13</th>\n",
       "      <td>0.990855</td>\n",
       "      <td>0.005620</td>\n",
       "      <td>0.003525</td>\n",
       "    </tr>\n",
       "    <tr>\n",
       "      <th>14</th>\n",
       "      <td>0.990855</td>\n",
       "      <td>0.005620</td>\n",
       "      <td>0.003525</td>\n",
       "    </tr>\n",
       "    <tr>\n",
       "      <th>15</th>\n",
       "      <td>0.004357</td>\n",
       "      <td>0.986381</td>\n",
       "      <td>0.009262</td>\n",
       "    </tr>\n",
       "    <tr>\n",
       "      <th>16</th>\n",
       "      <td>0.002835</td>\n",
       "      <td>0.005457</td>\n",
       "      <td>0.991708</td>\n",
       "    </tr>\n",
       "    <tr>\n",
       "      <th>17</th>\n",
       "      <td>0.005069</td>\n",
       "      <td>0.987532</td>\n",
       "      <td>0.007398</td>\n",
       "    </tr>\n",
       "    <tr>\n",
       "      <th>18</th>\n",
       "      <td>0.004355</td>\n",
       "      <td>0.982659</td>\n",
       "      <td>0.012985</td>\n",
       "    </tr>\n",
       "    <tr>\n",
       "      <th>19</th>\n",
       "      <td>0.002837</td>\n",
       "      <td>0.004848</td>\n",
       "      <td>0.992315</td>\n",
       "    </tr>\n",
       "    <tr>\n",
       "      <th>20</th>\n",
       "      <td>0.990855</td>\n",
       "      <td>0.005620</td>\n",
       "      <td>0.003525</td>\n",
       "    </tr>\n",
       "    <tr>\n",
       "      <th>21</th>\n",
       "      <td>0.011775</td>\n",
       "      <td>0.085463</td>\n",
       "      <td>0.902761</td>\n",
       "    </tr>\n",
       "    <tr>\n",
       "      <th>22</th>\n",
       "      <td>0.990855</td>\n",
       "      <td>0.005620</td>\n",
       "      <td>0.003525</td>\n",
       "    </tr>\n",
       "    <tr>\n",
       "      <th>23</th>\n",
       "      <td>0.002837</td>\n",
       "      <td>0.004848</td>\n",
       "      <td>0.992315</td>\n",
       "    </tr>\n",
       "    <tr>\n",
       "      <th>24</th>\n",
       "      <td>0.005617</td>\n",
       "      <td>0.010812</td>\n",
       "      <td>0.983570</td>\n",
       "    </tr>\n",
       "    <tr>\n",
       "      <th>25</th>\n",
       "      <td>0.003634</td>\n",
       "      <td>0.006995</td>\n",
       "      <td>0.989370</td>\n",
       "    </tr>\n",
       "    <tr>\n",
       "      <th>26</th>\n",
       "      <td>0.003637</td>\n",
       "      <td>0.006152</td>\n",
       "      <td>0.990210</td>\n",
       "    </tr>\n",
       "    <tr>\n",
       "      <th>27</th>\n",
       "      <td>0.005617</td>\n",
       "      <td>0.010812</td>\n",
       "      <td>0.983570</td>\n",
       "    </tr>\n",
       "    <tr>\n",
       "      <th>28</th>\n",
       "      <td>0.990542</td>\n",
       "      <td>0.005619</td>\n",
       "      <td>0.003840</td>\n",
       "    </tr>\n",
       "    <tr>\n",
       "      <th>29</th>\n",
       "      <td>0.990855</td>\n",
       "      <td>0.005620</td>\n",
       "      <td>0.003525</td>\n",
       "    </tr>\n",
       "  </tbody>\n",
       "</table>\n",
       "</div>"
      ],
      "text/plain": [
       "          O1        O2        O3\n",
       "0   0.005638  0.977552  0.016810\n",
       "1   0.982547  0.013958  0.003495\n",
       "2   0.003637  0.006152  0.990210\n",
       "3   0.005647  0.979170  0.015182\n",
       "4   0.005401  0.936409  0.058190\n",
       "5   0.986080  0.010413  0.003508\n",
       "6   0.004390  0.990413  0.005198\n",
       "7   0.015695  0.066531  0.917774\n",
       "8   0.006338  0.948772  0.044891\n",
       "9   0.004390  0.990413  0.005198\n",
       "10  0.017850  0.075666  0.906483\n",
       "11  0.990542  0.005619  0.003840\n",
       "12  0.982547  0.013958  0.003495\n",
       "13  0.990855  0.005620  0.003525\n",
       "14  0.990855  0.005620  0.003525\n",
       "15  0.004357  0.986381  0.009262\n",
       "16  0.002835  0.005457  0.991708\n",
       "17  0.005069  0.987532  0.007398\n",
       "18  0.004355  0.982659  0.012985\n",
       "19  0.002837  0.004848  0.992315\n",
       "20  0.990855  0.005620  0.003525\n",
       "21  0.011775  0.085463  0.902761\n",
       "22  0.990855  0.005620  0.003525\n",
       "23  0.002837  0.004848  0.992315\n",
       "24  0.005617  0.010812  0.983570\n",
       "25  0.003634  0.006995  0.989370\n",
       "26  0.003637  0.006152  0.990210\n",
       "27  0.005617  0.010812  0.983570\n",
       "28  0.990542  0.005619  0.003840\n",
       "29  0.990855  0.005620  0.003525"
      ]
     },
     "execution_count": 37,
     "metadata": {},
     "output_type": "execute_result"
    }
   ],
   "source": [
    "con = connect()\n",
    "\n",
    "con.execute(textwrap.dedent(\"\"\"\n",
    "CREATE OR REPLACE PYTHON3_DS SET SCRIPT test_xgboost(i integer)\n",
    "EMITS (o1 DOUbLE, o2 DOUbLE, o3 DOUbLE) AS\n",
    "\n",
    "def run(ctx):\n",
    "    import pandas as pd\n",
    "    import xgboost as xgb\n",
    "    from sklearn import datasets\n",
    "    from sklearn.model_selection import train_test_split\n",
    "    \n",
    "    iris = datasets.load_iris()\n",
    "    X = iris.data\n",
    "    y = iris.target\n",
    "    \n",
    "    X_train, X_test, y_train, y_test = train_test_split(X, y, test_size=0.2, random_state=42)\n",
    "    \n",
    "    dtrain = xgb.DMatrix(X_train, label=y_train)\n",
    "    dtest = xgb.DMatrix(X_test, label=y_test)\n",
    "    param = {\n",
    "        'max_depth': 3,  # the maximum depth of each tree\n",
    "        'eta': 0.3,  # the training step for each iteration\n",
    "        'silent': 1,  # logging mode - quiet\n",
    "        'objective': 'multi:softprob',  # error evaluation for multiclass training\n",
    "        'num_class': 3  # the number of classes that exist in this datset\n",
    "        }\n",
    "    num_round = 20  # the number of training iterations\n",
    "    bst = xgb.train(param, dtrain, num_round)\n",
    "    preds = bst.predict(dtest)\n",
    "    \n",
    "    ctx.emit(pd.DataFrame(preds))\n",
    "/\n",
    "\"\"\"))\n",
    "\n",
    "con.export_to_pandas(\"select test_xgboost(1)\")"
   ]
  },
  {
   "cell_type": "code",
   "execution_count": null,
   "metadata": {},
   "outputs": [],
   "source": []
  }
 ],
 "metadata": {
  "environment": {
   "name": "common-cpu.m61",
   "type": "gcloud",
   "uri": "gcr.io/deeplearning-platform-release/base-cpu:m61"
  },
  "kernelspec": {
   "display_name": "Python 3 (ipykernel)",
   "language": "python",
   "name": "python3"
  },
  "language_info": {
   "codemirror_mode": {
    "name": "ipython",
    "version": 3
   },
   "file_extension": ".py",
   "mimetype": "text/x-python",
   "name": "python",
   "nbconvert_exporter": "python",
   "pygments_lexer": "ipython3",
   "version": "3.8.10"
  }
 },
 "nbformat": 4,
 "nbformat_minor": 4
}
