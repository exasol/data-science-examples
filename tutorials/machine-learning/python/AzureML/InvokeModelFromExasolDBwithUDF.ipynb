{
 "cells": [
  {
   "cell_type": "markdown",
   "metadata": {
    "collapsed": true,
    "pycharm": {
     "name": "#%% md\n"
    }
   },
   "source": [
    "- use model to predict in azureml from exasol? return result single/table as input\n",
    "- \"set up and deploy a web service.. You can then use the API URL and Key of the BES Post URL found on the Batch Exaction Help page. (https://github.com/toddkitta/azure-content/blob/master/articles/machine-learning/machine-learning-walkthrough-5-publish-web-service.md)\" necessary?\n",
    "- \"Click on Submit Request to expand the section displaying the JSON strings for Execution request and ExecutionResults.\" in azureML? add these to exasol to create data structures?"
   ]
  }
 ],
 "metadata": {
  "kernelspec": {
   "display_name": "Python 3",
   "language": "python",
   "name": "python3"
  },
  "language_info": {
   "codemirror_mode": {
    "name": "ipython",
    "version": 2
   },
   "file_extension": ".py",
   "mimetype": "text/x-python",
   "name": "python",
   "nbconvert_exporter": "python",
   "pygments_lexer": "ipython2",
   "version": "2.7.6"
  }
 },
 "nbformat": 4,
 "nbformat_minor": 0
}