{
 "cells": [
  {
   "cell_type": "markdown",
   "metadata": {
    "collapsed": true,
    "pycharm": {
     "name": "#%% md\n"
    }
   },
   "source": [
    "- In this Turtorial You will ..\n",
    "- Prerequisites:\n",
    "- load data into azureml (y)\n",
    "\n",
    "    - get from there to azure ml\n",
    "    - multiple ways?\n",
    "    - \t explain why blobstorage neccessary\n",
    "    - (word on data duplication?)\n",
    "    - set up azureml tldr:\n",
    "        - make rsource group, workspace, launch  azML studio, + compute instance + notebook(on compute instance)\n",
    "        - \"Storage Blob Data Reader grants read access only. This allows loading data from files staged in the storage account.\n",
    "Storage Blob Data Contributor\"\n",
    "    - exasol -> blobstorage -> azureML\n",
    "    -\n",
    "\n",
    "azurml:\n",
    "    - create\n",
    "    - compute (link to tut)\n",
    "    - notebook (link to tut)\n",
    "    - in compute find public ip\n",
    "    add to exasol saas like local above\n",
    "\n",
    "\n",
    "\n",
    "https://learn.microsoft.com/en-us/azure/machine-learning/v1/how-to-data-ingest-adf\n",
    "\"The Data Factory pipeline saves the prepared data to your cloud storage (such as Azure Blob or Azure Data Lake).\n",
    "Consume your prepared data in Azure Machine Learning by,\n",
    "\n",
    "    Invoking an Azure Machine Learning pipeline from your Data Factory pipeline.\n",
    "    OR\n",
    "    Creating an Azure Machine Learning datastore.\n",
    "\""
   ]
  }
 ],
 "metadata": {
  "kernelspec": {
   "display_name": "Python 3",
   "language": "python",
   "name": "python3"
  },
  "language_info": {
   "codemirror_mode": {
    "name": "ipython",
    "version": 2
   },
   "file_extension": ".py",
   "mimetype": "text/x-python",
   "name": "python",
   "nbconvert_exporter": "python",
   "pygments_lexer": "ipython2",
   "version": "2.7.6"
  }
 },
 "nbformat": 4,
 "nbformat_minor": 0
}