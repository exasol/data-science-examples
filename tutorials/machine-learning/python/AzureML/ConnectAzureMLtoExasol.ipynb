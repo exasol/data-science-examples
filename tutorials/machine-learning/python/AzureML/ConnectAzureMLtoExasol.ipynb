{
 "cells": [
  {
   "cell_type": "markdown",
   "source": [
    "# Connect to Exasol from AzureML"
   ],
   "metadata": {
    "collapsed": false
   }
  },
  {
   "cell_type": "markdown",
   "source": [
    "In this Tutorial we will:\n",
    " - create blob storage\n",
    " - connect to Exasol SaaS\n",
    " - load tables in AzureML\n",
    " - save tables to blob storage as csv files\n"
   ],
   "metadata": {
    "collapsed": false
   }
  },
  {
   "cell_type": "markdown",
   "source": [
    "## Prerequisites\n",
    "\n",
    "You will need:\n",
    " - your running Exasol Saas Cluster wih your data loaded into it\n",
    " - an AzureML account and Azure Storage account\n",
    " - authentication info for your Exasol Saas Cluster\n",
    " (..)"
   ],
   "metadata": {
    "collapsed": false
   }
  },
  {
   "cell_type": "markdown",
   "source": [
    "## Why blob storage is necessary\n",
    "(explanation)\n",
    "(word on data duplication?)"
   ],
   "metadata": {
    "collapsed": false
   }
  },
  {
   "cell_type": "markdown",
   "source": [
    "## AzureML setup\n",
    "\n",
    "\n",
    "    - create\n",
    "        - resource group,\n",
    "        - workspace,\n",
    "        - launch  azML studio\n",
    "        - compute instance\n",
    "        - notebook (this notebook) link your compute\n",
    "    - in compute find public ip (if load data was run from inside azurML skip this)\n",
    "    add to exasol saas like local above\n",
    "\n",
    "\"When you create a workspace, an Azure blob container and an Azure file share are automatically registered as datastores to the workspace. They're named workspaceblobstore and workspacefilestore, respectively. \"\"https://docs.microsoft.com/en-us/azure/machine-learning/how-to-access-data\"\n",
    "can find in data in azureml and in azure portal storage account in container as \"azureml-blobstore-someID\"\n",
    "\n",
    "if you do not want to use default blobstore\n",
    "   - create blob storage:\n",
    "    - in azure portal of storage account:\n",
    "        -> data storage -> containers -> + container -> in menu on left enter name -> create\n",
    "\n",
    "        while here:     -> navigate security & networking -> access keys : remember access key and storage account name\n",
    "\n",
    "\n",
    "\n",
    "create datastore in azureML :(this step might be moved to following tutorial or removed)\n",
    "    - go to assets -> data  on th left -> datastores -> create\n",
    "    menu opens on right. ender:\n",
    "        - datastore name\n",
    "        - datastore type (we use blob storage because the offered SQL databases are not compatible with exasol atm.)\n",
    "        - subscription if needed\n",
    "        - your storage account from dropdown ( from step before) pic\n",
    "        - newly created blob storage/blob container from step above\n",
    "        - authentication info (key from step before)\n",
    "            pic\n",
    "\n",
    "\n"
   ],
   "metadata": {
    "collapsed": false
   }
  },
  {
   "cell_type": "markdown",
   "source": [
    "We are going to use the [PyExasol](https://docs.exasol.com/db/latest/connect_exasol/drivers/python/pyexasol.htm) package in order to connect to the Exasol database and read the data. Fist we need to install PyExasol."
   ],
   "metadata": {
    "collapsed": false
   }
  },
  {
   "cell_type": "code",
   "execution_count": null,
   "outputs": [],
   "source": [
    "!pip install pyexasol"
   ],
   "metadata": {
    "collapsed": false,
    "pycharm": {
     "name": "#%%\n"
    }
   }
  },
  {
   "cell_type": "markdown",
   "source": [
    "Then we need to tell pyexasol where to find our Exasol Saas Cluster with the data. Change these values to reflect your Cluster.\n",
    "We ask for 10 lines of our \"IDA.TEST\" table to check if our connection is working."
   ],
   "metadata": {
    "collapsed": false
   }
  },
  {
   "cell_type": "code",
   "execution_count": null,
   "outputs": [],
   "source": [
    "import pyexasol\n",
    "import pandas\n",
    "EXASOL_HOST = \"<your>.clusters.exasol.com\" # change\n",
    "EXASOL_PORT = \"8563\" # change if needed\n",
    "EXASOL_USER = \"<your-exasol-user>\" # change if needed\n",
    "EXASOL_PASSWORD = \"exa_pat_<your_password>\" #change\n",
    "EXASOL_SCHEMA = \"IDA\" # change if needed\n",
    "EXASOL_CONNECTION = \"{host}:{port}\".format(host=EXASOL_HOST, port=EXASOL_PORT)\n",
    "exasol = pyexasol.connect(dsn=EXASOL_CONNECTION, user=EXASOL_USER, password=EXASOL_PASSWORD, compression=True)\n",
    "\n",
    "# check if the connection is working\n",
    "data = exasol.export_to_pandas(\"SELECT * FROM TABLE IDA.TEST LIMIT 10\")\n",
    "print(data)"
   ],
   "metadata": {
    "collapsed": false,
    "pycharm": {
     "name": "#%%\n"
    }
   }
  },
  {
   "cell_type": "markdown",
   "source": [
    "Next, we need to access our Azure Blob Storage Container. "
   ],
   "metadata": {
    "collapsed": false
   }
  },
  {
   "cell_type": "code",
   "execution_count": null,
   "outputs": [],
   "source": [
    "from azure.ai.ml.entities import AccountKeyConfiguration\n",
    "\n",
    "my_storage_account_name = \"your_storage_account_name\"\n",
    "credentials= AccountKeyConfiguration(\n",
    "        account_key=\"your_storage_account_key\"\n",
    "    )"
   ],
   "metadata": {
    "collapsed": false,
    "pycharm": {
     "name": "#%%\n"
    }
   }
  },
  {
   "cell_type": "markdown",
   "source": [
    "explanation\n",
    "mention small table size in example"
   ],
   "metadata": {
    "collapsed": false
   }
  },
  {
   "cell_type": "code",
   "execution_count": null,
   "outputs": [],
   "source": [
    "for table in [\"TEST\", \"TRAIN\"]:\n",
    "    sql_export = f\"EXPORT TABLE IDA.{table} INTO CSV AT CLOUD AZURE BLOBSTORAGE 'DefaultEndpointsProtocol=https;EndpointSuffix=core.windows.net'\"\\\n",
    "                f\"USER '{my_storage_account_name}' IDENTIFIED BY '{credentials.account_key}' FILE 'azureml-tutorial/ida/{table}'\"\n",
    "    exasol.execute(sql_export)\n"
   ],
   "metadata": {
    "collapsed": false,
    "pycharm": {
     "name": "#%%\n"
    }
   }
  },
  {
   "cell_type": "markdown",
   "source": [
    "- Success!\n",
    "- pic of show tables in AzureML storage"
   ],
   "metadata": {
    "collapsed": false
   }
  }
 ],
 "metadata": {
  "kernelspec": {
   "display_name": "Python 3",
   "language": "python",
   "name": "python3"
  },
  "language_info": {
   "codemirror_mode": {
    "name": "ipython",
    "version": 2
   },
   "file_extension": ".py",
   "mimetype": "text/x-python",
   "name": "python",
   "nbconvert_exporter": "python",
   "pygments_lexer": "ipython2",
   "version": "2.7.6"
  }
 },
 "nbformat": 4,
 "nbformat_minor": 0
}