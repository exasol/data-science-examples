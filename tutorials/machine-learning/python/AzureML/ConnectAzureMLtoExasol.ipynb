{
 "cells": [
  {
   "cell_type": "markdown",
   "source": [
    "# Connect to Exasol from AzureML"
   ],
   "metadata": {
    "collapsed": false
   }
  },
  {
   "cell_type": "markdown",
   "source": [
    "In this Tutorial we will:\n",
    " - Connect to Exasol SaaS from AzureML\n",
    " - Export Exasol tables to an Azure Blobstore Container\n",
    " - Create a Datastore\n"
   ],
   "metadata": {
    "collapsed": false
   }
  },
  {
   "cell_type": "markdown",
   "source": [
    "## Prerequisites\n",
    "\n",
    "You will need:\n",
    " - your running Exasol Saas Cluster with your data loaded into it\n",
    " - authentication info for your Exasol Saas Cluster\n",
    " - an AzureML account and Azure Storage account\n",
    " - AzureML set up with a:\n",
    "    - workspace\n",
    "    - compute instance\n"
   ],
   "metadata": {
    "collapsed": false
   }
  },
  {
   "cell_type": "markdown",
   "source": [
    "## Why using Azure blobstorage is necessary\n",
    "\n",
    "In this tutorial we copy the data from an Exasol Saas database into an Azure Blobstorage Container. This is necessary because while AzureML hase functionality to import directly from SQL databases, the Exasol SQL dialect is not supported by AzureML at the moment of writing.\n"
   ],
   "metadata": {
    "collapsed": false
   }
  },
  {
   "cell_type": "markdown",
   "source": [
    "## AzureML setup\n",
    "\n",
    "If you do not know how to set up your AzureML studio, please refer to the [AzureML documentation](https://learn.microsoft.com/en-us/azure/machine-learning/quickstart-create-resources).\n",
    "Once you are set up with a workspace and compute instance, you can copy this notebook into your notebook files. Open it and Select your compute instance in the drop-down menu at the top of your notebook. Now we can get started with connecting to the Exasol Saas cluster.\n"
   ],
   "metadata": {
    "collapsed": false
   }
  },
  {
   "cell_type": "markdown",
   "source": [
    "### Connect to Exasol Saas\n",
    "\n",
    "\n",
    "We are going to use the [PyExasol](https://docs.exasol.com/db/latest/connect_exasol/drivers/python/pyexasol.htm) package in order to connect to the Exasol database and read the data. Fist we need to install PyExasol.\n",
    "Execute these steps inside your AzureML Compute."
   ],
   "metadata": {
    "collapsed": false
   }
  },
  {
   "cell_type": "code",
   "execution_count": null,
   "outputs": [],
   "source": [
    "!pip install pyexasol"
   ],
   "metadata": {
    "collapsed": false,
    "pycharm": {
     "name": "#%%\n"
    }
   }
  },
  {
   "cell_type": "markdown",
   "source": [
    "Then we need to connect with PyExasol to our Exasol Saas Cluster with the data. Change these values to reflect your Cluster.\n",
    "We ask for 10 lines of our \"IDA.TEST\" table from the [Scania Trucks](https://archive.ics.uci.edu/ml/datasets/IDA2016Challenge) to check if our connection is working."
   ],
   "metadata": {
    "collapsed": false
   }
  },
  {
   "cell_type": "code",
   "execution_count": null,
   "outputs": [],
   "source": [
    "import pyexasol\n",
    "import pandas\n",
    "\n",
    "EXASOL_HOST = \"<your>.clusters.exasol.com\"      # change\n",
    "EXASOL_PORT = \"8563\"                            # change if needed\n",
    "EXASOL_USER = \"<your-exasol-user>\"              # change\n",
    "EXASOL_PASSWORD = \"exa_pat_<your_password>\"     # change\n",
    "EXASOL_SCHEMA = \"IDA\"                           # change if needed\n",
    "\n",
    "# get the connection\n",
    "EXASOL_CONNECTION = \"{host}:{port}\".format(host=EXASOL_HOST, port=EXASOL_PORT)\n",
    "exasol = pyexasol.connect(dsn=EXASOL_CONNECTION, user=EXASOL_USER, password=EXASOL_PASSWORD, compression=True)\n",
    "\n",
    "# check if the connection is working\n",
    "data = exasol.export_to_pandas(\"SELECT * FROM TABLE IDA.TEST LIMIT 10\")\n",
    "print(data)"
   ],
   "metadata": {
    "collapsed": false,
    "pycharm": {
     "name": "#%%\n"
    }
   }
  },
  {
   "cell_type": "markdown",
   "source": [
    "\n",
    "### Load data into AzureML Blobstore\n",
    "\n",
    "\n",
    "For this step, we need to access the Azure Storage Account. For that you need to insert your Azure storage account name and access key. To find your access key, in the Azure portal navigate to your storage account, and click on \"Access Keys\" under \"Security + networking\" and copy one of your access Keys.\n",
    "\n",
    "![](img_src/access_key_azure.png)\n"
   ],
   "metadata": {
    "collapsed": false
   }
  },
  {
   "cell_type": "code",
   "execution_count": null,
   "outputs": [],
   "source": [
    "from azure.ai.ml.entities import AccountKeyConfiguration\n",
    "\n",
    "my_storage_account_name = \"your_storage_account_name\"   # change\n",
    "credentials= AccountKeyConfiguration(\n",
    "        account_key=\"your_storage_account_key\"          # change\n",
    "    )"
   ],
   "metadata": {
    "collapsed": false,
    "pycharm": {
     "name": "#%%\n"
    }
   }
  },
  {
   "cell_type": "markdown",
   "source": [
    "Lastly we use an \"EXPORT TABLE\" command for each of our data tabled to export them  into a csv file in our Blobstorage using \"INTO CSV AT CLOUD AZURE BLOBSTORAGE\". You can find [the domumentation for this export command](https://docs.exasol.com/db/latest/sql/export.htm) in the Exasol documentation.\n",
    "If you choose an existing \"azure_storage_container_name\", this command will save your files in this container. Otherwise, an azure storage container with that name will be created automatically.\n",
    "When you created your AzureML workspace, an Azure blob container was [created automatically](https://docs.microsoft.com/en-us/azure/machine-learning/how-to-access-data) and added as a Datastore named \"workspaceblobstore\" to your workspace. You can use it here and then scip the \"Create a Datastore\" step below if you want. For this you would need to find its name (\"azureml-blobstore-some-ID\") in the datastore info and insert it here."
   ],
   "metadata": {
    "collapsed": false
   }
  },
  {
   "cell_type": "code",
   "execution_count": null,
   "outputs": [],
   "source": [
    "azure_storage_container_name = \"your-container-name\"   # change, remember to you might need to remove the \"_datastore\" suffix\n",
    "\n",
    "for table in [\"TEST\", \"TRAIN\"]:\n",
    "    save_path = f'{azure_storage_container_name}/ida/{table}'\n",
    "    sql_export = f\"EXPORT TABLE IDA.{table} INTO CSV AT CLOUD AZURE BLOBSTORAGE 'DefaultEndpointsProtocol=https;EndpointSuffix=core.windows.net'\"\\\n",
    "                f\"USER '{my_storage_account_name}' IDENTIFIED BY '{credentials.account_key}' FILE '{save_path}'\"\n",
    "    exasol.execute(sql_export)\n",
    "    print(f\"saved {table} in file {save_path}\")\n"
   ],
   "metadata": {
    "collapsed": false,
    "pycharm": {
     "name": "#%%\n"
    }
   }
  },
  {
   "cell_type": "markdown",
   "source": [
    "You can check the success of the command by navigating to your Container in the Azure portal using your Azure storage account.\n",
    "In menu on left find \"Containers\" under \"data storage\". Find the container named \"your-container-name\" and click on it. Your files should be there.\n"
   ],
   "metadata": {
    "collapsed": false
   }
  },
  {
   "cell_type": "markdown",
   "source": [
    "### Create a Datastore\n",
    "\n",
    "We recommend you create a connection between your azure storage container and your AzureML workspace. For this, In AzureML studio enter your workspace and select \"DAta\" under \"Assets\" in the menu on the left. Now select \"Datastores\" and click on \"+Create\".\n",
    "\n",
    "![](img_src/create_datastore.png)\n",
    "\n",
    "In the view that opens you need to enter the info for your datastore. Enter a name and select the type as \"Azure Blob Storage\". Then select your Azure subscription and the blob container we loaded the data into from he drop down menu. Use Authentiovation type Account key and enter your Azure storage account access key. Click create."
   ],
   "metadata": {
    "collapsed": false
   }
  },
  {
   "cell_type": "markdown",
   "source": [
    "![](img_src/data_blobstore.png)\n",
    "\n",
    "You can now see your data directly in AzureML by navigating to Data -> Datastores -> <your_datastore_name> . If you then change into the \"Browse\" view you can open your files and have a look at them if you want.\n",
    "\n",
    "\n",
    "Great, we successfully connected to our Exasol Saas instance and loaded data from there into our Azure Blobstorage!\n",
    "\n",
    "Now we move on to [working with the data in AzureML and training a model on it](TrainModelInAzureML.ipynb)."
   ],
   "metadata": {
    "collapsed": false
   }
  }
 ],
 "metadata": {
  "kernelspec": {
   "display_name": "Python 3",
   "language": "python",
   "name": "python3"
  },
  "language_info": {
   "codemirror_mode": {
    "name": "ipython",
    "version": 2
   },
   "file_extension": ".py",
   "mimetype": "text/x-python",
   "name": "python",
   "nbconvert_exporter": "python",
   "pygments_lexer": "ipython2",
   "version": "2.7.6"
  }
 },
 "nbformat": 4,
 "nbformat_minor": 0
}