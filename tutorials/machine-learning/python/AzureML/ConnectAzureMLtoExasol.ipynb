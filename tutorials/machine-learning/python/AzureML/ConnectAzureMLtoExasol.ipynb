{
 "cells": [
  {
   "cell_type": "markdown",
   "source": [
    "# Connect to Exasol from AzureML"
   ],
   "metadata": {
    "collapsed": false
   }
  },
  {
   "cell_type": "markdown",
   "source": [
    "In this Tutorial we will:\n",
    " - create blob storage\n",
    " - connect to Exasol SaaS\n",
    " - load tables in AzureML\n",
    " - save tables to blob storage as csv files\n"
   ],
   "metadata": {
    "collapsed": false
   }
  },
  {
   "cell_type": "markdown",
   "source": [
    "## Prerequisites\n",
    " (..)"
   ],
   "metadata": {
    "collapsed": false
   }
  },
  {
   "cell_type": "markdown",
   "source": [
    "## Why blob storage is necessary\n",
    "(explanation)\n",
    "(word on data duplication?)"
   ],
   "metadata": {
    "collapsed": false
   }
  },
  {
   "cell_type": "markdown",
   "source": [
    "## AzureML setup\n",
    "\n",
    "\n",
    "    - create\n",
    "        - resource group,\n",
    "        - workspace,\n",
    "        - launch  azML studio\n",
    "        - compute instance\n",
    "        - notebook (this notebook) link your compute\n",
    "    - in compute find public ip (if load data was run from inside azurML skip this)\n",
    "    add to exasol saas like local above\n",
    "\n",
    "\"When you create a workspace, an Azure blob container and an Azure file share are automatically registered as datastores to the workspace. They're named workspaceblobstore and workspacefilestore, respectively. \"\"https://docs.microsoft.com/en-us/azure/machine-learning/how-to-access-data\"\n",
    "can find in data in azureml and in azure portal storage account in container as \"azureml-blobstore-someID\"\n",
    "\n",
    "if you do not want to use default blobstore\n",
    "   - create blob storage:\n",
    "    - in azure portal of storage account:\n",
    "        -> data storage -> containers -> + container -> in menu on left enter name -> create\n",
    "\n",
    "        while here:     -> navigate security & networking -> access keys : remember access key and storage account name\n",
    "\n",
    "\n",
    "\n",
    "create datastore in azureML :(this step might be moved to following tutorial or removed)\n",
    "    - go to assets -> data  on th left -> datastores -> create\n",
    "    menu opens on right. ender:\n",
    "        - datastore name\n",
    "        - datastore type (we use blob storage because the offered SQL databases are not compatible with exasol atm.)\n",
    "        - subscription if needed\n",
    "        - your storage account from dropdown ( from step before) pic\n",
    "        - newly created blob storage/blob container from step above\n",
    "        - authentication info (key from step before)\n",
    "            pic\n",
    "\n",
    "\n"
   ],
   "metadata": {
    "collapsed": false
   }
  },
  {
   "cell_type": "markdown",
   "source": [
    "explanation (link to pyexasol)"
   ],
   "metadata": {
    "collapsed": false
   }
  },
  {
   "cell_type": "code",
   "execution_count": null,
   "outputs": [],
   "source": [
    "!pip install pyexasol"
   ],
   "metadata": {
    "collapsed": false,
    "pycharm": {
     "name": "#%%\n"
    }
   }
  },
  {
   "cell_type": "markdown",
   "source": [
    "explanation"
   ],
   "metadata": {
    "collapsed": false
   }
  },
  {
   "cell_type": "code",
   "execution_count": null,
   "outputs": [],
   "source": [
    "import pyexasol\n",
    "EXASOL_HOST = \"your.clusters.exasol.com\" # change\n",
    "EXASOL_PORT = \"8563\" # change if needed\n",
    "EXASOL_USER = \"integration-team\" # change if needed\n",
    "EXASOL_PASSWORD = \"exa_pat_your_password\" #change\n",
    "EXASOL_SCHEMA = \"IDA\" # change if needed\n",
    "EXASOL_CONNECTION = \"{host}:{port}\".format(host=EXASOL_HOST, port=EXASOL_PORT)\n",
    "exasol = pyexasol.connect(dsn=EXASOL_CONNECTION, user=EXASOL_USER, password=EXASOL_PASSWORD, compression=True)\n",
    "\n",
    "# check if working\n",
    "data = exasol.export_to_pandas(\"SELECT * FROM TABLE IDA.TEST LIMIT 10\")\n",
    "print(data)"
   ],
   "metadata": {
    "collapsed": false,
    "pycharm": {
     "name": "#%%\n"
    }
   }
  },
  {
   "cell_type": "markdown",
   "source": [
    "explanation"
   ],
   "metadata": {
    "collapsed": false
   }
  },
  {
   "cell_type": "code",
   "execution_count": null,
   "outputs": [],
   "source": [
    "import pandas as pd\n",
    "from azure.ai.ml.entities import AccountKeyConfiguration\n",
    "from azure.storage.blob import ContainerClient\n",
    "\n",
    "my_storage_account_name = \"your_storage_account_name\"\n",
    "my_storage_account_url = \"https://{}.blob.core.windows.net/\".format(my_storage_account_name)\n",
    "\n",
    "credentials= AccountKeyConfiguration(\n",
    "        account_key=\"your_storage_account_key\"\n",
    "    )\n",
    "\n",
    "from azure.storage.blob import ContainerClient\n",
    "container_client = ContainerClient(account_url = my_storage_account_url,\n",
    "    container_name = \"azureml-tutorial\",\n",
    "    credential= credentials.account_key)"
   ],
   "metadata": {
    "collapsed": false,
    "pycharm": {
     "name": "#%%\n"
    }
   }
  },
  {
   "cell_type": "markdown",
   "source": [
    "explanation\n",
    "mention small table size in example"
   ],
   "metadata": {
    "collapsed": false
   }
  },
  {
   "cell_type": "code",
   "execution_count": null,
   "outputs": [],
   "source": [
    "for table in [\"TEST\", \"TRAIN\"]:\n",
    "\n",
    "    data = exasol.export_to_pandas(f\"SELECT * FROM TABLE IDA.{table}\")\n",
    "    data_csv = data.to_csv(index_label=\"idx\", encoding = \"utf-8\") #todo remove id?\n",
    "\n",
    "    blob_client = container_client.get_blob_client(f'ida/{table}')\n",
    "    blob_client.upload_blob(data_csv, overwrite=True)"
   ],
   "metadata": {
    "collapsed": false,
    "pycharm": {
     "name": "#%%\n"
    }
   }
  },
  {
   "cell_type": "markdown",
   "source": [
    "- Success!\n",
    "- pic of show tables in AzureML storage"
   ],
   "metadata": {
    "collapsed": false
   }
  }
 ],
 "metadata": {
  "kernelspec": {
   "display_name": "Python 3",
   "language": "python",
   "name": "python3"
  },
  "language_info": {
   "codemirror_mode": {
    "name": "ipython",
    "version": 2
   },
   "file_extension": ".py",
   "mimetype": "text/x-python",
   "name": "python",
   "nbconvert_exporter": "python",
   "pygments_lexer": "ipython2",
   "version": "2.7.6"
  }
 },
 "nbformat": 4,
 "nbformat_minor": 0
}