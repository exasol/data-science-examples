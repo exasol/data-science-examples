{
 "cells": [
  {
   "cell_type": "markdown",
   "metadata": {
    "collapsed": true,
    "pycharm": {
     "name": "#%% md\n"
    }
   },
   "source": [
    "- load data into azureml (y)\n",
    "\n",
    "    - get from there to azure ml\n",
    "    - multiple ways?\n",
    "    - \t explain why blobstorage neccessary\n",
    "    - (word on data duplication?)\n",
    "    - set up azureml tldr:\n",
    "        - make rsource group, workspace, launch  azML studio, + compute instance + notebook(on compute instance)\n",
    "        - \"Storage Blob Data Reader grants read access only. This allows loading data from files staged in the storage account.\n",
    "Storage Blob Data Contributor\"\n",
    "    - exasol -> blobstorage -> azureML\n",
    "    - \n",
    "    \n",
    "azurml:\n",
    "    - create\n",
    "    - compute (link to tut)\n",
    "    - notebook (link to tut)\n",
    "    - in compute find public ip\n",
    "    add to exasol saas like local above\n"
   ]
  }
 ],
 "metadata": {
  "kernelspec": {
   "display_name": "Python 3",
   "language": "python",
   "name": "python3"
  },
  "language_info": {
   "codemirror_mode": {
    "name": "ipython",
    "version": 2
   },
   "file_extension": ".py",
   "mimetype": "text/x-python",
   "name": "python",
   "nbconvert_exporter": "python",
   "pygments_lexer": "ipython2",
   "version": "2.7.6"
  }
 },
 "nbformat": 4,
 "nbformat_minor": 0
}