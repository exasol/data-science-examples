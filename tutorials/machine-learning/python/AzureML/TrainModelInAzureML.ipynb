{
 "cells": [
  {
   "cell_type": "markdown",
   "metadata": {
    "collapsed": true,
    "pycharm": {
     "name": "#%% md\n"
    }
   },
   "source": [
    "mltable because: \"A fast and efficient engine to materialize the data into a Pandas or Spark dataframe,\" https://learn.microsoft.com/en-us/azure/machine-learning/how-to-mltable?tabs=cli%2Cpandas%2Cadls\n",
    "\n",
    "https://learn.microsoft.com/en-us/azure/machine-learning/v1/how-to-data-ingest-adf\n",
    "\"The Data Factory pipeline saves the prepared data to your cloud storage (such as Azure Blob or Azure Data Lake).\n",
    "Consume your prepared data in Azure Machine Learning by,\n",
    "\n",
    "    Invoking an Azure Machine Learning pipeline from your Data Factory pipeline.\n",
    "    OR\n",
    "    Creating an Azure Machine Learning datastore.- In this Turtorial You will ..\n",
    "- Prerequisites:\n",
    "-\n",
    "- (re)train model (y)\n",
    "- make new model (with web service input and output modules?)\n",
    "- where to get experiment/model info (if neccesary):\n",
    "    - \t \"Click on Use Web Service to go to the Consume tab in the Menu.\"\n",
    "    - \"Copy the values of the Primary Key and the Request-Response fields and save them in a document.\"\"\n",
    "    -\n",
    " https://learn.microsoft.com/en-us/azure/machine-learning/v1/how-to-set-up-training-targets\n",
    "\n",
    "\"Trainieren und Bereitstellen eines Machine Learning-Modells in Azure Machine Learning. Verwenden Sie eines dieser drei Azure Machine Learning-Tutorials:\n",
    "\n",
    "    Option A: Code\n",
    "    Option B: Designer\n",
    "    Option C: Automatisiertes ML\n",
    "\n",
    "\" from here https://learn.microsoft.com/de-de/power-bi/connect-data/service-aml-integrate"
   ]
  }
 ],
 "metadata": {
  "kernelspec": {
   "display_name": "Python 3",
   "language": "python",
   "name": "python3"
  },
  "language_info": {
   "codemirror_mode": {
    "name": "ipython",
    "version": 2
   },
   "file_extension": ".py",
   "mimetype": "text/x-python",
   "name": "python",
   "nbconvert_exporter": "python",
   "pygments_lexer": "ipython2",
   "version": "2.7.6"
  }
 },
 "nbformat": 4,
 "nbformat_minor": 0
}