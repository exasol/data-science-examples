{
 "cells": [
  {
   "cell_type": "markdown",
   "metadata": {
    "collapsed": true,
    "pycharm": {
     "name": "#%% md\n"
    }
   },
   "source": [
    "- (re)train model (y)\n",
    "- make new model (with web service input and output modules?)\n",
    "- where to get experiment/model info (if neccesary):\n",
    "    - \t \"Click on Use Web Service to go to the Consume tab in the Menu.\"\n",
    "\t- \"Copy the values of the Primary Key and the Request-Response fields and save them in a document.\""
   ]
  }
 ],
 "metadata": {
  "kernelspec": {
   "display_name": "Python 3",
   "language": "python",
   "name": "python3"
  },
  "language_info": {
   "codemirror_mode": {
    "name": "ipython",
    "version": 2
   },
   "file_extension": ".py",
   "mimetype": "text/x-python",
   "name": "python",
   "nbconvert_exporter": "python",
   "pygments_lexer": "ipython2",
   "version": "2.7.6"
  }
 },
 "nbformat": 4,
 "nbformat_minor": 0
}