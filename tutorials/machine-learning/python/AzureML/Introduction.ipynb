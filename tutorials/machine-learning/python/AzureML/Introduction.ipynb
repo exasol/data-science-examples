{
 "cells": [
  {
   "cell_type": "markdown",
   "source": [
    "# Apply AzureML training on Exasol data"
   ],
   "metadata": {
    "collapsed": false
   }
  },
  {
   "cell_type": "markdown",
   "source": [
    "In this series of tutorials you will learn how to :\n",
    "\n",
    " - connect your Exasol (Saas) Database to AzureML\n",
    " - use your data from Exasol to train a Machine learning model in AzureML\n",
    " - Invoke your trained model from your Exasol Database and receive the results directly into your database\n",
    "\n",
    "    - (todo add links to other notebooks)"
   ],
   "metadata": {
    "collapsed": false
   }
  },
  {
   "cell_type": "markdown",
   "source": [
    "who tutorial is for:"
   ],
   "metadata": {
    "collapsed": false
   }
  },
  {
   "cell_type": "markdown",
   "source": [
    "what this tut does not cover:\n",
    " - exporting the model to exasol\n",
    " - using the exasol data in azureML directly (not supported by AzureML)\n",
    " - setting training parameters/invoking training(automatically) from exasol\n",
    " - check training/prediction progress\n",
    " - get training parameters of trained model\n",
    " - check if model is running\n",
    " - monitor azure ml node utilisation"
   ],
   "metadata": {
    "collapsed": false
   }
  },
  {
   "cell_type": "markdown",
   "source": [
    "prerequisies:\n",
    "    - exasol Saas (or other) (link)\n",
    "    - AzureML / Blobstorage (link)"
   ],
   "metadata": {
    "collapsed": false
   }
  },
  {
   "cell_type": "markdown",
   "source": [
    "## Setting up Exasol SaaS for this tutorial\n",
    "use Saas here, should work with other Exasol versions too\n",
    "\n",
    " - [sign up for Exasol Saas free trail](https://cloud.exasol.com/signup?_gl=1*l5pvjo*_ga*MTAwNTY5MzY5NC4xNjc2Mzc3NzA2*_ga_3M805TBTX9*MTY3Nzc2MDM1MC4yLjAuMTY3Nzc2MDM1MC42MC4wLjA.) if necessary, or sign in to your existing account.\n",
    " - set up exasol Saas:\n",
    "    -   create db -> new db -> choose db name, db size/price option, cluster name -> create button -> startup(takes some time)\n",
    "\n",
    " - get data:\n",
    "    - in saas:\n",
    "        - Your local IP should be listed in the allowed IP list -> running db -> cluster -> \"connect via tool\" -> enter local ip/ select \"my ip\" from dropdown ->  next -> connection info and generate personal access token\n",
    "        -  remember this ino for further steps:\n",
    "            connection string, port, user name, password\n",
    "    - now that you got connection info run [this notebook](https://github.com/exasol/data-science-examples/blob/main/tutorials/machine-learning/python/sagemaker/LoadExampleDataIntoExasol.ipynb) to load the Scania Trucks dataset into your Exasol Saas Instance. (Don't forget to change the connection info in the first cell) (can also run this from azureml.)\n",
    "\n",
    "    if want to use other tool for upload:  https://docs.exasol.com/saas/connect_exasol.htm\n"
   ],
   "metadata": {
    "collapsed": false,
    "pycharm": {
     "name": "#%% md\n"
    }
   }
  }
 ],
 "metadata": {
  "kernelspec": {
   "display_name": "Python 3",
   "language": "python",
   "name": "python3"
  },
  "language_info": {
   "codemirror_mode": {
    "name": "ipython",
    "version": 2
   },
   "file_extension": ".py",
   "mimetype": "text/x-python",
   "name": "python",
   "nbconvert_exporter": "python",
   "pygments_lexer": "ipython2",
   "version": "2.7.6"
  }
 },
 "nbformat": 4,
 "nbformat_minor": 0
}