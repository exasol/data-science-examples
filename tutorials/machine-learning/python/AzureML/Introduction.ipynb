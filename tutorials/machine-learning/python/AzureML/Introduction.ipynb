{
 "cells": [
  {
   "cell_type": "markdown",
   "source": [
    "# Apply Microsoft's AzureML training on Exasol data"
   ],
   "metadata": {
    "collapsed": false
   }
  },
  {
   "cell_type": "markdown",
   "source": [
    "In this series of tutorials you will learn how to :\n",
    "\n",
    " - Connect your Exasol (Saas) Database to AzureML ([link](ConnectAzureMLtoExasol.ipynb))\n",
    " - Use your data from Exasol to train a Machine learning model in AzureML ([link](TrainModelInAzureML.ipynb))\n",
    " - Invoke your trained model from your Exasol Database and receive the results directly into your Database ([link](InvokeModelFromExasolDBwithUDF.ipynb))\n",
    " - Export the trained model to Exasol and run it directly in the Database using UDF's ([link](InvokeModelFromExasolDBwithUDF.ipynb))\n"
   ],
   "metadata": {
    "collapsed": false
   }
  },
  {
   "cell_type": "markdown",
   "source": [
    "## Who this tutorial is for\n",
    "\n",
    "If you are an Exasol user and want to make more out of your data using Azure Machine Learning, this tutorial shows you how to get started. Or maybe you are already using Azure Machine Learning to analyze your data but are interested in hosting the data somewhere else, preferably in an analytic database to get the best out of your data. Then this tutorial might give you an insight into how easy it is to switch out your database while not having to disrupt or rebuild your Machine Learning processes."
   ],
   "metadata": {
    "collapsed": false
   }
  },
  {
   "cell_type": "markdown",
   "source": [
    "## What this tutorial does not cover\n",
    " - Using the exasol data in AzureML directly (not supported by AzureML)\n",
    " - Setting training parameters/invoking training automatically from Exasol\n",
    " - Check training/prediction progress from Exasol\n",
    " - Get training parameters of trained model from Exasol\n",
    " - Check if the model is running from Exasol\n",
    " - Monitor AzureML node utilisation from Exasol\n",
    "\n",
    "Many of these things are possible but not covered here. After finishing this tutorial you should have the necessary tools to get started implementing solutions for these tasks though, provided you know your way around Azure and AzureML."
   ],
   "metadata": {
    "collapsed": false
   }
  },
  {
   "cell_type": "markdown",
   "source": [
    "## Prerequisites\n",
    "   - For this tutorial we will use an [Exasol Saas](https://www.exasol.com/exasol-saas/) instance. Other versions of Exasol should also work as long as you are able to connect to them via PyExasol.\n",
    "   - [Microsoft AzureML Studio](https://studio.azureml.net/) access (works in conjunction with [Microsoft Azure](https://azure.microsoft.com/de-de/free/search/?&ef_id=EAIaIQobChMIkZ-J_bzg_QIVCthRCh3Uyga7EAAYASAAEgIK0PD_BwE:G:s&OCID=AIDcmmzzaokddl_SEM_EAIaIQobChMIkZ-J_bzg_QIVCthRCh3Uyga7EAAYASAAEgIK0PD_BwE:G:s&gclid=EAIaIQobChMIkZ-J_bzg_QIVCthRCh3Uyga7EAAYASAAEgIK0PD_BwE))\n",
    "   - The [PyExasol package](https://pypi.org/project/pyexasol/) ([documentation](https://docs.exasol.com/db/latest/connect_exasol/drivers/python/pyexasol.htm))"
   ],
   "metadata": {
    "collapsed": false
   }
  },
  {
   "cell_type": "markdown",
   "source": [
    "## Setting up Exasol SaaS for this tutorial\n",
    "\n",
    "Firstly, if you do not have an accounr aleady, [sign up for Exasol Saas free trail](https://cloud.exasol.com/signup?_gl=1*l5pvjo*_ga*MTAwNTY5MzY5NC4xNjc2Mzc3NzA2*_ga_3M805TBTX9*MTY3Nzc2MDM1MC4yLjAuMTY3Nzc2MDM1MC42MC4wLjA.), or sign in to your existing account.\n",
    "\n",
    "Once signed in, click the \"Add database\" button on the top left, choose a database name and your preferred region, then click \"next\" define your first database cluster by setting a cluster name and your preferred cluster size. If you are on the free trial the price for your cluster will be deducted from your free credits.\n",
    "You can also set the automatic shutoff time for your cluster in this view (or change it later).\n",
    "\n",
    "![](img_src/cluster_creation.png)\n",
    "\n",
    "We choose the smallest available cluster size (XSmall, 8 vCPU, 64 GB Memory) for this tutorial as it is sufficient.\n",
    " When you are ready click \"Add database\" and your cluster will be set up and started (this might take some time).\n"
   ],
   "metadata": {
    "collapsed": false,
    "pycharm": {
     "name": "#%% md\n"
    }
   }
  },
  {
   "cell_type": "markdown",
   "source": [
    "### Allow connection from AzureML\n",
    "\n",
    "Once you set up your Exasol database, you need to allow incoming connections from AzureML Studio. You also need to get the connection info for your cluster, so we can use it later to set up the PyExasol connection to your cluster.\n",
    "\n",
    "Firstly you need to find the public IP of your AzureML compute instance. If you do not yet have an AzureML compute instance you will need to [set one up](https://learn.microsoft.com/en-us/azure/machine-learning/quickstart-create-resources).\n",
    "To find the public IP, click the \"Compute\" entry in the menu on the left in AzureML Studio below \"Manage\". Find your compute and open it. Toward the bottom you will find the \"Public IP\".\n",
    "\n",
    "![](img_src/azureML_public_ip.png)\n",
    "\n",
    "Now you need to register the IP with your Saas Database to allow incoming requests form your AzureML compute.\n",
    "In the Saas portal, navigate to your Cluster and click on \"Connect via tools\" on the right. Enter the IP of your AzureML compute instance\n",
    "and \"Add\". Then click \"next\" two times. You will see a screen \"Connection details.\".\n",
    "\n",
    "![](img_src/connection_detail_generate.png)\n",
    "\n",
    " Click the bottom column to generate a Personal access token for your Database.\n",
    "\n",
    "![](img_src/connection_details_acess_token.png)\n",
    "\n",
    "We will use this token to connect to the database from AzureML.\n",
    "**Remember the connection string, port, user-name and access token/password.**\n",
    "If you accidentally added a wrong IP you can remove them again under \"Security\"\n",
    "\n",
    "Now that you got your connection information, run [this notebook](../sagemaker/LoadExampleDataIntoExasol.ipynb) to load the [Scania Trucks](https://archive.ics.uci.edu/ml/datasets/IDA2016Challenge) dataset into your Exasol Saas Instance (Don't forget to change the connection info in the first cell).\n",
    "You can run this from your AzureML cluster, or from your local machine(remember to add your local IP beforehand like we did the AzureML cluster IP above).\n",
    "\n",
    "If want to use other tool for your data upload multiple ways are documented [here](https://docs.exasol.com/saas/connect_exasol.htm).\n",
    "\n",
    "Now we have our Exasol Saas set up with some data to play around with, we can move on to [next part of the tutorial](ConnectAzureMLtoExasol.ipynb)."
   ],
   "metadata": {
    "collapsed": false,
    "pycharm": {
     "name": "#%% md\n"
    }
   }
  }
 ],
 "metadata": {
  "kernelspec": {
   "display_name": "Python 3",
   "language": "python",
   "name": "python3"
  },
  "language_info": {
   "codemirror_mode": {
    "name": "ipython",
    "version": 2
   },
   "file_extension": ".py",
   "mimetype": "text/x-python",
   "name": "python",
   "nbconvert_exporter": "python",
   "pygments_lexer": "ipython2",
   "version": "2.7.6"
  }
 },
 "nbformat": 4,
 "nbformat_minor": 0
}