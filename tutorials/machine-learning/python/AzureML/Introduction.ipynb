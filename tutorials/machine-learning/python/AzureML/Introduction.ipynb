{
 "cells": [
  {
   "cell_type": "markdown",
   "metadata": {
    "collapsed": true,
    "pycharm": {
     "name": "#%% md\n"
    }
   },
   "source": [
    "In this series of tutorials you will learn how to :\n",
    "    connect your Exasol (Saas) Database to AzureML\n",
    "    use the your data from Exasol to train a Machine learning model in AzureML\n",
    "    Invoke your trained model from your Exasol Database and recive the results dirtly into your database\n",
    "\n",
    "\n",
    "who tutorial is for:\n",
    "\n",
    "\n",
    "what this tut covers:\n",
    "    - setting up connection from AzureML to ExaslDB\n",
    "    - training model on data originating from exasol\n",
    "    - accessing AzureML model in Exasol\n",
    "    - todo:  (use azML to contol stuff inside EXASOL vs use azML to use data from EASOL inside azML vs use EXASOL to coontroll stuff inside azML)\n",
    "    - todo add links to other notebooks?\n",
    "\n",
    "what this tut does not cover:\n",
    "    - exporting the model to exasol\n",
    "    - using the exasol data in azureML directly (not supported by AzureML)\n",
    "    - setting training parameters/invoking traing(automatically) from exasol\n",
    "    -    check training/prediciton progress\n",
    "    -    get training parameters of trained model\n",
    "\t-    check if model is running\n",
    "\t-    monitor azure ml node utilisation\n",
    "\n",
    "\n",
    "prerequisies:\n",
    "    - exasol Saas (or other) (link)\n",
    "    - AzureML / Blobstorage (link)\n",
    "\n",
    "set up exasol Saas:\n",
    "    -   create db -> new db -> choose db name, db size/price option, cluster name -> create button -> startup(takes some time)\n",
    "\n",
    "get data:\n",
    "    - in saas:\n",
    "        - Your local IP should be listed in the allowed IP list -> running db -> cluster -> \"connect via tool\" -> enter local ip/ select \"my ip\" from dropdown ->  ext next -> conecton info and generate persolan\n",
    "        -  use this info in tut below:\n",
    "            conection string, port, user name, password -> bd-server, db port, db userid, db password -> connect\n",
    "    - dataset: https://archive.ics.uci.edu/ml/datasets/IDA2016Challenge for now (same as sagemaker tut)\n",
    "    - link to sagemaker tut load data (can also run this from azureml. mention?)\n",
    "    if want to use other tool for upload:  https://docs.exasol.com/saas/connect_exasol.htm\n",
    "\n",
    "use connection details:"
   ]
  },
  {
   "cell_type": "code",
   "execution_count": null,
   "outputs": [],
   "source": [
    "EXASOL_HOST = \"connection string\" # change\n",
    "EXASOL_PORT = \"port\" # change if needed\n",
    "EXASOL_USER = \"user name\" # change if needed\n",
    "EXASOL_PASSWORD = \"password/personal access token\" #change\n",
    "EXASOL_SCHEMA = \"IDA\""
   ],
   "metadata": {
    "collapsed": false,
    "pycharm": {
     "name": "#%%\n"
    }
   }
  },
  {
   "cell_type": "markdown",
   "source": [],
   "metadata": {
    "collapsed": false,
    "pycharm": {
     "name": "#%% md\n"
    }
   }
  }
 ],
 "metadata": {
  "kernelspec": {
   "display_name": "Python 3",
   "language": "python",
   "name": "python3"
  },
  "language_info": {
   "codemirror_mode": {
    "name": "ipython",
    "version": 2
   },
   "file_extension": ".py",
   "mimetype": "text/x-python",
   "name": "python",
   "nbconvert_exporter": "python",
   "pygments_lexer": "ipython2",
   "version": "2.7.6"
  }
 },
 "nbformat": 4,
 "nbformat_minor": 0
}