{
 "cells": [
  {
   "cell_type": "markdown",
   "metadata": {},
   "source": [
    "# Connect to Exasol from Sagemaker\n",
    "\n",
    "This example shows you how to connect from AWS Sagemaker to an Exasol database.\n",
    "\n",
    "First we install pyexasol, as a driver."
   ]
  },
  {
   "cell_type": "code",
   "execution_count": 1,
   "metadata": {},
   "outputs": [
    {
     "name": "stdout",
     "output_type": "stream",
     "text": [
      "Requirement already satisfied: pyexasol in /home/ec2-user/anaconda3/envs/python3/lib/python3.6/site-packages (0.14.3)\n",
      "Requirement already satisfied: rsa in /home/ec2-user/anaconda3/envs/python3/lib/python3.6/site-packages (from pyexasol) (4.5)\n",
      "Requirement already satisfied: websocket-client>=0.47.0 in /home/ec2-user/anaconda3/envs/python3/lib/python3.6/site-packages (from pyexasol) (0.57.0)\n",
      "Requirement already satisfied: pyasn1>=0.1.3 in /home/ec2-user/anaconda3/envs/python3/lib/python3.6/site-packages (from rsa->pyexasol) (0.4.8)\n",
      "Requirement already satisfied: six in /home/ec2-user/anaconda3/envs/python3/lib/python3.6/site-packages (from websocket-client>=0.47.0->pyexasol) (1.14.0)\n",
      "\u001B[33mWARNING: You are using pip version 20.0.2; however, version 20.3.1 is available.\n",
      "You should consider upgrading via the '/home/ec2-user/anaconda3/envs/python3/bin/python -m pip install --upgrade pip' command.\u001B[0m\n"
     ]
    }
   ],
   "source": [
    "!pip install pyexasol\n",
    "import pyexasol"
   ]
  },
  {
   "cell_type": "markdown",
   "metadata": {},
   "source": [
    "Now let's connect:"
   ]
  },
  {
   "cell_type": "code",
   "execution_count": 3,
   "metadata": {},
   "outputs": [],
   "source": [
    "import pyexasol\n",
    "EXASOL_CONNECTION = \"<database:host>:8563\" # change\n",
    "EXASOL_USER = \"sys\" # change if needed\n",
    "EXASOL_PASSWORD = \"<database_password>\" # change\n",
    "EXASOL_SCHEMA = \"IDA\" # change if needed\n",
    "exasol = pyexasol.connect(dsn=EXASOL_CONNECTION, user=EXASOL_USER, password=EXASOL_PASSWORD, compression=True)"
   ]
  },
  {
   "cell_type": "markdown",
   "metadata": {},
   "source": [
    "... and run an example query:"
   ]
  },
  {
   "cell_type": "code",
   "execution_count": 4,
   "metadata": {},
   "outputs": [
    {
     "data": {
      "text/html": [
       "<div>\n",
       "<style scoped>\n",
       "    .dataframe tbody tr th:only-of-type {\n",
       "        vertical-align: middle;\n",
       "    }\n",
       "\n",
       "    .dataframe tbody tr th {\n",
       "        vertical-align: top;\n",
       "    }\n",
       "\n",
       "    .dataframe thead th {\n",
       "        text-align: right;\n",
       "    }\n",
       "</style>\n",
       "<table border=\"1\" class=\"dataframe\">\n",
       "  <thead>\n",
       "    <tr style=\"text-align: right;\">\n",
       "      <th></th>\n",
       "      <th>USER_NAME</th>\n",
       "      <th>CREATED</th>\n",
       "      <th>USER_CONSUMER_GROUP</th>\n",
       "      <th>USER_COMMENT</th>\n",
       "    </tr>\n",
       "  </thead>\n",
       "  <tbody>\n",
       "    <tr>\n",
       "      <th>0</th>\n",
       "      <td>SYS</td>\n",
       "      <td>NaN</td>\n",
       "      <td>SYS_CONSUMER_GROUP</td>\n",
       "      <td>SYS is the system user and possesses universal...</td>\n",
       "    </tr>\n",
       "  </tbody>\n",
       "</table>\n",
       "</div>"
      ],
      "text/plain": [
       "  USER_NAME  CREATED USER_CONSUMER_GROUP  \\\n",
       "0       SYS      NaN  SYS_CONSUMER_GROUP   \n",
       "\n",
       "                                        USER_COMMENT  \n",
       "0  SYS is the system user and possesses universal...  "
      ]
     },
     "execution_count": 4,
     "metadata": {},
     "output_type": "execute_result"
    }
   ],
   "source": [
    "users = exasol.export_to_pandas(\"SELECT * FROM SYS.EXA_ALL_USERS\")\n",
    "users"
   ]
  }
 ],
 "metadata": {
  "kernelspec": {
   "display_name": "conda_python3",
   "language": "python",
   "name": "conda_python3"
  },
  "language_info": {
   "codemirror_mode": {
    "name": "ipython",
    "version": 3
   },
   "file_extension": ".py",
   "mimetype": "text/x-python",
   "name": "python",
   "nbconvert_exporter": "python",
   "pygments_lexer": "ipython3",
   "version": "3.6.10"
  }
 },
 "nbformat": 4,
 "nbformat_minor": 4
}